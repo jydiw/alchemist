{
 "cells": [
  {
   "cell_type": "markdown",
   "metadata": {},
   "source": [
    "# Standard Thermodynamic Quantities\n",
    "\n",
    "These values were taken from three sources:\n",
    "- [CHNOSZ](http://chnosz.net/vignettes/obigt.html), a chemistry and materials science package for [R](https://www.r-project.org/about.html). The dataframes were exported to csv files as-is.\n",
    "- [Principles of Modern Chemistry, 8th ed.](https://www.amazon.com/Principles-Modern-Chemistry-David-Oxtoby-ebook/dp/B00UGDPNFI) by Oxtoby et al."
   ]
  },
  {
   "cell_type": "code",
   "execution_count": 3,
   "metadata": {},
   "outputs": [],
   "source": [
    "import os                               \n",
    "import re                   \n",
    "import time                 # to stall requests (just in case)\n",
    "import itertools\n",
    "import sympy\n",
    "\n",
    "import numpy as np\n",
    "import pandas as pd \n",
    "# import pubchempy as pcp\n",
    "# import chemdataextractor as cde     # chemistry parser\n",
    "\n",
    "# from nltk.corpus import stopwords\n",
    "# from nltk.tokenize import word_tokenize, sent_tokenize\n",
    "\n",
    "from tika import parser     # the specific parser method \n",
    "\n",
    "from chempy import balance_stoichiometry\n",
    "from chempy import Substance\n",
    "from chempy import Reaction\n",
    "from chempy.util import periodic\n",
    "\n",
    "pd.set_option('display.max_colwidth', 0)    # no max column width\n",
    "pd.set_option('display.max_rows', 1000)"
   ]
  },
  {
   "cell_type": "markdown",
   "metadata": {},
   "source": [
    "## import CHNOSZ thermodynamic quantities csv"
   ]
  },
  {
   "cell_type": "code",
   "execution_count": 28,
   "metadata": {},
   "outputs": [],
   "source": [
    "chnosz = pd.read_csv('../data/external/thermo/chnosz_thermo.csv')"
   ]
  },
  {
   "cell_type": "code",
   "execution_count": 29,
   "metadata": {},
   "outputs": [
    {
     "data": {
      "text/plain": [
       "Index(['name', 'abbrv', 'formula', 'state', 'ref1', 'ref2', 'date', 'E_units',\n",
       "       'G', 'H', 'S', 'Cp', 'V', 'a1.a', 'a2.b', 'a3.c', 'a4.d', 'c1.e',\n",
       "       'c2.f', 'omega.lambda', 'z.T'],\n",
       "      dtype='object')"
      ]
     },
     "execution_count": 29,
     "metadata": {},
     "output_type": "execute_result"
    }
   ],
   "source": [
    "chnosz.columns"
   ]
  },
  {
   "cell_type": "code",
   "execution_count": 30,
   "metadata": {},
   "outputs": [
    {
     "data": {
      "text/html": [
       "<div>\n",
       "<style scoped>\n",
       "    .dataframe tbody tr th:only-of-type {\n",
       "        vertical-align: middle;\n",
       "    }\n",
       "\n",
       "    .dataframe tbody tr th {\n",
       "        vertical-align: top;\n",
       "    }\n",
       "\n",
       "    .dataframe thead th {\n",
       "        text-align: right;\n",
       "    }\n",
       "</style>\n",
       "<table border=\"1\" class=\"dataframe\">\n",
       "  <thead>\n",
       "    <tr style=\"text-align: right;\">\n",
       "      <th></th>\n",
       "      <th>name</th>\n",
       "      <th>abbrv</th>\n",
       "      <th>formula</th>\n",
       "      <th>E_units</th>\n",
       "      <th>state</th>\n",
       "      <th>G</th>\n",
       "      <th>H</th>\n",
       "      <th>S</th>\n",
       "      <th>Cp</th>\n",
       "    </tr>\n",
       "  </thead>\n",
       "  <tbody>\n",
       "    <tr>\n",
       "      <th>0</th>\n",
       "      <td>water</td>\n",
       "      <td>NaN</td>\n",
       "      <td>H2O</td>\n",
       "      <td>cal</td>\n",
       "      <td>liq</td>\n",
       "      <td>NaN</td>\n",
       "      <td>NaN</td>\n",
       "      <td>NaN</td>\n",
       "      <td>NaN</td>\n",
       "    </tr>\n",
       "    <tr>\n",
       "      <th>1</th>\n",
       "      <td>e-</td>\n",
       "      <td>NaN</td>\n",
       "      <td>(Z-1)</td>\n",
       "      <td>cal</td>\n",
       "      <td>aq</td>\n",
       "      <td>0.0</td>\n",
       "      <td>0.0</td>\n",
       "      <td>15.6166</td>\n",
       "      <td>0.00</td>\n",
       "    </tr>\n",
       "    <tr>\n",
       "      <th>2</th>\n",
       "      <td>H+</td>\n",
       "      <td>H+</td>\n",
       "      <td>H+</td>\n",
       "      <td>cal</td>\n",
       "      <td>aq</td>\n",
       "      <td>0.0</td>\n",
       "      <td>0.0</td>\n",
       "      <td>0.0000</td>\n",
       "      <td>0.00</td>\n",
       "    </tr>\n",
       "    <tr>\n",
       "      <th>3</th>\n",
       "      <td>Li+</td>\n",
       "      <td>Li+</td>\n",
       "      <td>Li+</td>\n",
       "      <td>cal</td>\n",
       "      <td>aq</td>\n",
       "      <td>-69933.0</td>\n",
       "      <td>-66552.0</td>\n",
       "      <td>2.7000</td>\n",
       "      <td>14.20</td>\n",
       "    </tr>\n",
       "    <tr>\n",
       "      <th>4</th>\n",
       "      <td>Na+</td>\n",
       "      <td>Na+</td>\n",
       "      <td>Na+</td>\n",
       "      <td>cal</td>\n",
       "      <td>aq</td>\n",
       "      <td>-62591.0</td>\n",
       "      <td>-57433.0</td>\n",
       "      <td>13.9600</td>\n",
       "      <td>9.06</td>\n",
       "    </tr>\n",
       "  </tbody>\n",
       "</table>\n",
       "</div>"
      ],
      "text/plain": [
       "    name abbrv formula E_units state        G        H        S     Cp\n",
       "0  water  NaN   H2O     cal     liq  NaN      NaN      NaN      NaN   \n",
       "1  e-     NaN   (Z-1)   cal     aq    0.0      0.0      15.6166  0.00 \n",
       "2  H+     H+    H+      cal     aq    0.0      0.0      0.0000   0.00 \n",
       "3  Li+    Li+   Li+     cal     aq   -69933.0 -66552.0  2.7000   14.20\n",
       "4  Na+    Na+   Na+     cal     aq   -62591.0 -57433.0  13.9600  9.06 "
      ]
     },
     "execution_count": 30,
     "metadata": {},
     "output_type": "execute_result"
    }
   ],
   "source": [
    "chnosz = chnosz[['name', 'abbrv', 'formula', 'E_units', 'state', 'G', 'H', 'S', 'Cp']]\n",
    "chnosz.head()"
   ]
  },
  {
   "cell_type": "code",
   "execution_count": 31,
   "metadata": {},
   "outputs": [
    {
     "data": {
      "text/plain": [
       "(3372, 9)"
      ]
     },
     "execution_count": 31,
     "metadata": {},
     "output_type": "execute_result"
    }
   ],
   "source": [
    "chnosz.shape"
   ]
  },
  {
   "cell_type": "code",
   "execution_count": 32,
   "metadata": {},
   "outputs": [
    {
     "data": {
      "text/plain": [
       "(3210, 9)"
      ]
     },
     "execution_count": 32,
     "metadata": {},
     "output_type": "execute_result"
    }
   ],
   "source": [
    "chnosz = chnosz[chnosz['name'].str[0] != '[']\n",
    "chnosz.shape"
   ]
  },
  {
   "cell_type": "code",
   "execution_count": 34,
   "metadata": {},
   "outputs": [
    {
     "data": {
      "text/plain": [
       "name       object \n",
       "abbrv      object \n",
       "formula    object \n",
       "E_units    object \n",
       "state      object \n",
       "G          float64\n",
       "H          float64\n",
       "S          float64\n",
       "Cp         float64\n",
       "dtype: object"
      ]
     },
     "execution_count": 34,
     "metadata": {},
     "output_type": "execute_result"
    }
   ],
   "source": [
    "chnosz.dtypes"
   ]
  },
  {
   "cell_type": "code",
   "execution_count": 33,
   "metadata": {},
   "outputs": [
    {
     "data": {
      "text/plain": [
       "cal    3172\n",
       "J      38  \n",
       "Name: E_units, dtype: int64"
      ]
     },
     "execution_count": 33,
     "metadata": {},
     "output_type": "execute_result"
    }
   ],
   "source": [
    "chnosz['E_units'].value_counts()"
   ]
  },
  {
   "cell_type": "code",
   "execution_count": 35,
   "metadata": {},
   "outputs": [
    {
     "data": {
      "text/html": [
       "<div>\n",
       "<style scoped>\n",
       "    .dataframe tbody tr th:only-of-type {\n",
       "        vertical-align: middle;\n",
       "    }\n",
       "\n",
       "    .dataframe tbody tr th {\n",
       "        vertical-align: top;\n",
       "    }\n",
       "\n",
       "    .dataframe thead th {\n",
       "        text-align: right;\n",
       "    }\n",
       "</style>\n",
       "<table border=\"1\" class=\"dataframe\">\n",
       "  <thead>\n",
       "    <tr style=\"text-align: right;\">\n",
       "      <th></th>\n",
       "      <th>name</th>\n",
       "      <th>abbrv</th>\n",
       "      <th>formula</th>\n",
       "      <th>state</th>\n",
       "      <th>G</th>\n",
       "      <th>H</th>\n",
       "      <th>S</th>\n",
       "      <th>Cp</th>\n",
       "    </tr>\n",
       "  </thead>\n",
       "  <tbody>\n",
       "    <tr>\n",
       "      <th>0</th>\n",
       "      <td>water</td>\n",
       "      <td>NaN</td>\n",
       "      <td>H2O</td>\n",
       "      <td>liq</td>\n",
       "      <td>NaN</td>\n",
       "      <td>NaN</td>\n",
       "      <td>NaN</td>\n",
       "      <td>NaN</td>\n",
       "    </tr>\n",
       "    <tr>\n",
       "      <th>1</th>\n",
       "      <td>e-</td>\n",
       "      <td>NaN</td>\n",
       "      <td>(Z-1)</td>\n",
       "      <td>aq</td>\n",
       "      <td>0.000</td>\n",
       "      <td>0.000</td>\n",
       "      <td>65.339854</td>\n",
       "      <td>0.00000</td>\n",
       "    </tr>\n",
       "    <tr>\n",
       "      <th>2</th>\n",
       "      <td>H+</td>\n",
       "      <td>H+</td>\n",
       "      <td>H+</td>\n",
       "      <td>aq</td>\n",
       "      <td>0.000</td>\n",
       "      <td>0.000</td>\n",
       "      <td>0.000000</td>\n",
       "      <td>0.00000</td>\n",
       "    </tr>\n",
       "    <tr>\n",
       "      <th>3</th>\n",
       "      <td>Li+</td>\n",
       "      <td>Li+</td>\n",
       "      <td>Li+</td>\n",
       "      <td>aq</td>\n",
       "      <td>-292599.672</td>\n",
       "      <td>-278453.568</td>\n",
       "      <td>11.296800</td>\n",
       "      <td>59.41280</td>\n",
       "    </tr>\n",
       "    <tr>\n",
       "      <th>4</th>\n",
       "      <td>Na+</td>\n",
       "      <td>Na+</td>\n",
       "      <td>Na+</td>\n",
       "      <td>aq</td>\n",
       "      <td>-261880.744</td>\n",
       "      <td>-240299.672</td>\n",
       "      <td>58.408640</td>\n",
       "      <td>37.90704</td>\n",
       "    </tr>\n",
       "  </tbody>\n",
       "</table>\n",
       "</div>"
      ],
      "text/plain": [
       "    name abbrv formula state           G           H          S        Cp\n",
       "0  water  NaN   H2O     liq  NaN         NaN         NaN        NaN      \n",
       "1  e-     NaN   (Z-1)   aq    0.000       0.000       65.339854  0.00000 \n",
       "2  H+     H+    H+      aq    0.000       0.000       0.000000   0.00000 \n",
       "3  Li+    Li+   Li+     aq   -292599.672 -278453.568  11.296800  59.41280\n",
       "4  Na+    Na+   Na+     aq   -261880.744 -240299.672  58.408640  37.90704"
      ]
     },
     "execution_count": 35,
     "metadata": {},
     "output_type": "execute_result"
    }
   ],
   "source": [
    "# convert to joules\n",
    "energy_columns = ['G', 'H', 'S', 'Cp']\n",
    "\n",
    "for col in energy_columns:\n",
    "    chnosz.loc[chnosz['E_units'] == 'cal', col] *= 4.184\n",
    "    \n",
    "chnosz.drop(columns='E_units', inplace=True)\n",
    "chnosz.head()"
   ]
  },
  {
   "cell_type": "code",
   "execution_count": 36,
   "metadata": {},
   "outputs": [],
   "source": [
    "chnosz.at[0, 'G'] = -237180\n",
    "chnosz.at[0, 'H'] = -285830\n",
    "chnosz.at[0, 'S'] = 69.91\n",
    "chnosz.at[0, 'Cp'] = 75.29"
   ]
  },
  {
   "cell_type": "markdown",
   "metadata": {},
   "source": [
    "just checking to make sure appropriate values are in joules"
   ]
  },
  {
   "cell_type": "code",
   "execution_count": 37,
   "metadata": {},
   "outputs": [
    {
     "data": {
      "text/plain": [
       "-261880.744"
      ]
     },
     "execution_count": 37,
     "metadata": {},
     "output_type": "execute_result"
    }
   ],
   "source": [
    "chnosz.loc[4, 'G']"
   ]
  },
  {
   "cell_type": "code",
   "execution_count": 38,
   "metadata": {},
   "outputs": [
    {
     "data": {
      "text/plain": [
       "-713730.0"
      ]
     },
     "execution_count": 38,
     "metadata": {},
     "output_type": "execute_result"
    }
   ],
   "source": [
    "chnosz.loc[779, 'G']"
   ]
  },
  {
   "cell_type": "code",
   "execution_count": 39,
   "metadata": {},
   "outputs": [
    {
     "data": {
      "text/plain": [
       "aq     1807\n",
       "cr     601 \n",
       "liq    488 \n",
       "gas    285 \n",
       "cr2    14  \n",
       "cr3    9   \n",
       "cr7    1   \n",
       "cr4    1   \n",
       "cr5    1   \n",
       "cr8    1   \n",
       "cr9    1   \n",
       "cr6    1   \n",
       "Name: state, dtype: int64"
      ]
     },
     "execution_count": 39,
     "metadata": {},
     "output_type": "execute_result"
    }
   ],
   "source": [
    "chnosz['state'].value_counts()"
   ]
  },
  {
   "cell_type": "code",
   "execution_count": 40,
   "metadata": {},
   "outputs": [],
   "source": [
    "value_dict = {\n",
    "    'aq': '(aq)',\n",
    "    'cr': '(s)',\n",
    "    'liq': '(l)',\n",
    "    'gas': '(g)',\n",
    "    'cr2': '(s, II)',\n",
    "    'cr3': '(s, III)',\n",
    "    'cr4': '(s, IV)',\n",
    "    'cr5': '(s, V)',\n",
    "    'cr6': '(s, VI)',\n",
    "    'cr7': '(s, VII)',\n",
    "    'cr8': '(s, VIII)',\n",
    "    'cr9': '(s, IX)',\n",
    "    'g': '(g)',\n",
    "}\n",
    "\n",
    "chnosz['state'].replace(value_dict, inplace=True)"
   ]
  },
  {
   "cell_type": "code",
   "execution_count": 41,
   "metadata": {},
   "outputs": [
    {
     "data": {
      "text/html": [
       "<div>\n",
       "<style scoped>\n",
       "    .dataframe tbody tr th:only-of-type {\n",
       "        vertical-align: middle;\n",
       "    }\n",
       "\n",
       "    .dataframe tbody tr th {\n",
       "        vertical-align: top;\n",
       "    }\n",
       "\n",
       "    .dataframe thead th {\n",
       "        text-align: right;\n",
       "    }\n",
       "</style>\n",
       "<table border=\"1\" class=\"dataframe\">\n",
       "  <thead>\n",
       "    <tr style=\"text-align: right;\">\n",
       "      <th></th>\n",
       "      <th>name</th>\n",
       "      <th>abbrv</th>\n",
       "      <th>formula</th>\n",
       "      <th>G</th>\n",
       "      <th>H</th>\n",
       "      <th>S</th>\n",
       "      <th>Cp</th>\n",
       "    </tr>\n",
       "  </thead>\n",
       "  <tbody>\n",
       "    <tr>\n",
       "      <th>0</th>\n",
       "      <td>water</td>\n",
       "      <td>NaN</td>\n",
       "      <td>H2O(l)</td>\n",
       "      <td>-237180.000</td>\n",
       "      <td>-285830.000</td>\n",
       "      <td>69.910000</td>\n",
       "      <td>75.29000</td>\n",
       "    </tr>\n",
       "    <tr>\n",
       "      <th>1</th>\n",
       "      <td>e-</td>\n",
       "      <td>NaN</td>\n",
       "      <td>(Z-1)(aq)</td>\n",
       "      <td>0.000</td>\n",
       "      <td>0.000</td>\n",
       "      <td>65.339854</td>\n",
       "      <td>0.00000</td>\n",
       "    </tr>\n",
       "    <tr>\n",
       "      <th>2</th>\n",
       "      <td>H+</td>\n",
       "      <td>H+</td>\n",
       "      <td>H+(aq)</td>\n",
       "      <td>0.000</td>\n",
       "      <td>0.000</td>\n",
       "      <td>0.000000</td>\n",
       "      <td>0.00000</td>\n",
       "    </tr>\n",
       "    <tr>\n",
       "      <th>3</th>\n",
       "      <td>Li+</td>\n",
       "      <td>Li+</td>\n",
       "      <td>Li+(aq)</td>\n",
       "      <td>-292599.672</td>\n",
       "      <td>-278453.568</td>\n",
       "      <td>11.296800</td>\n",
       "      <td>59.41280</td>\n",
       "    </tr>\n",
       "    <tr>\n",
       "      <th>4</th>\n",
       "      <td>Na+</td>\n",
       "      <td>Na+</td>\n",
       "      <td>Na+(aq)</td>\n",
       "      <td>-261880.744</td>\n",
       "      <td>-240299.672</td>\n",
       "      <td>58.408640</td>\n",
       "      <td>37.90704</td>\n",
       "    </tr>\n",
       "  </tbody>\n",
       "</table>\n",
       "</div>"
      ],
      "text/plain": [
       "    name abbrv    formula           G           H          S        Cp\n",
       "0  water  NaN   H2O(l)    -237180.000 -285830.000  69.910000  75.29000\n",
       "1  e-     NaN   (Z-1)(aq)  0.000       0.000       65.339854  0.00000 \n",
       "2  H+     H+    H+(aq)     0.000       0.000       0.000000   0.00000 \n",
       "3  Li+    Li+   Li+(aq)   -292599.672 -278453.568  11.296800  59.41280\n",
       "4  Na+    Na+   Na+(aq)   -261880.744 -240299.672  58.408640  37.90704"
      ]
     },
     "execution_count": 41,
     "metadata": {},
     "output_type": "execute_result"
    }
   ],
   "source": [
    "chnosz['formula'] = chnosz['formula'].astype(str) + chnosz['state'].astype(str)\n",
    "chnosz.drop(columns='state', inplace=True)\n",
    "chnosz.head()"
   ]
  },
  {
   "cell_type": "code",
   "execution_count": 42,
   "metadata": {},
   "outputs": [],
   "source": [
    "chnosz.at[1, 'formula'] = 'e-(aq)'"
   ]
  },
  {
   "cell_type": "code",
   "execution_count": 46,
   "metadata": {},
   "outputs": [
    {
     "data": {
      "text/plain": [
       "(3210, 7)"
      ]
     },
     "execution_count": 46,
     "metadata": {},
     "output_type": "execute_result"
    }
   ],
   "source": [
    "chnosz.shape"
   ]
  },
  {
   "cell_type": "code",
   "execution_count": 47,
   "metadata": {},
   "outputs": [
    {
     "data": {
      "text/plain": [
       "name       0   \n",
       "abbrv      2266\n",
       "formula    0   \n",
       "G          121 \n",
       "H          151 \n",
       "S          132 \n",
       "Cp         245 \n",
       "dtype: int64"
      ]
     },
     "execution_count": 47,
     "metadata": {},
     "output_type": "execute_result"
    }
   ],
   "source": [
    "chnosz.isna().sum()"
   ]
  },
  {
   "cell_type": "code",
   "execution_count": 48,
   "metadata": {},
   "outputs": [
    {
     "data": {
      "text/plain": [
       "(3089, 7)"
      ]
     },
     "execution_count": 48,
     "metadata": {},
     "output_type": "execute_result"
    }
   ],
   "source": [
    "chnosz = chnosz.dropna(subset=['G'])\n",
    "chnosz.shape"
   ]
  },
  {
   "cell_type": "markdown",
   "metadata": {},
   "source": [
    "## import thermodynamic quantities from other sources\n",
    "\n",
    "## NOTE TO SELF: is there a way to import from common py file?"
   ]
  },
  {
   "cell_type": "code",
   "execution_count": 19,
   "metadata": {},
   "outputs": [],
   "source": [
    "def get_text(file, sleep=0, counter=0):\n",
    "    if counter == 2:        # so we stop the recursive function\n",
    "        pass\n",
    "    # grab the raw text using parser.from_file()\n",
    "    raw = parser.from_file(file)\n",
    "    status = raw['status']          # returns the status code from tika server\n",
    "    # if things go well, return the raw text\n",
    "    if status == 200:\n",
    "        print(f\"'{file}' successfully opened!\")\n",
    "        return raw['content']\n",
    "    # if things don't go well, pause for five seconds and try again\n",
    "    # we might not need this code, but it's useful for other server calls\n",
    "    else:\n",
    "        print(f'! ! ! ! error code {status} ! ! ! !')\n",
    "        print(f'! ! ! ! trying again ! ! ! !')\n",
    "        time.sleep(5)\n",
    "        counter += 1\n",
    "        # repeats grab_text up to twice\n",
    "        return get_text(file, counter=counter)"
   ]
  },
  {
   "cell_type": "code",
   "execution_count": 20,
   "metadata": {},
   "outputs": [
    {
     "name": "stdout",
     "output_type": "stream",
     "text": [
      "'../data/external/thermo/oxtoby8a.pdf' successfully opened!\n",
      "'../data/external/thermo/oxtoby8b.pdf' successfully opened!\n"
     ]
    }
   ],
   "source": [
    "oxtobya = get_text('../data/external/thermo/oxtoby8a.pdf')\n",
    "oxtobyb = get_text('../data/external/thermo/oxtoby8b.pdf')"
   ]
  },
  {
   "cell_type": "code",
   "execution_count": 21,
   "metadata": {},
   "outputs": [],
   "source": [
    "clean = re.sub('—', 'nan', oxtobya)\n",
    "clean = re.sub('\\\\ue02c', 'l', clean)\n",
    "clean = re.sub(r'\\n\\n[I]*\\s*', r'RROOWW', clean)\n",
    "clean = re.sub(r'([\\d]+)\\n([A-Z]+)', r'\\1RROOWW\\2', clean)\n",
    "clean = re.sub(r'(nan)\\s*\\n([A-Z]+)', r'\\1RROOWW\\2', clean)\n",
    "clean = re.sub('\\\\ue031', '+', clean)\n",
    "clean = re.sub('([\\d])\\+\\(', r'+\\1(', clean)\n",
    "clean = re.sub('\\\\ue032', '-', clean)\n",
    "clean = re.sub('([\\d])\\-\\(', r'-\\1(', clean)\n",
    "clean = re.sub('\\(([aqslg]+)\\,\\s([\\w]+)', r'(\\1,\\2', clean)\n",
    "clean = re.sub('[\\s]+', ' ', clean)\n",
    "clean = re.sub(' mol-1', '', clean)\n",
    "# clean = re.sub('Substance.*mol', 'HHEEAADDEERR', clean)\n",
    "clean = re.split('RROOWW', clean)\n",
    "clean = [re.split(' ', r) for r in clean]\n",
    "clean = [r for r in clean if len(r) == 5]\n",
    "oxtobya_clean = clean"
   ]
  },
  {
   "cell_type": "code",
   "execution_count": 22,
   "metadata": {},
   "outputs": [],
   "source": [
    "clean = re.sub('—', 'nan', oxtobyb)\n",
    "clean = re.sub('\\\\ue02c', 'l', clean)\n",
    "clean = re.sub(r'\\n\\n[I]*\\s*', r'RROOWW', clean)\n",
    "clean = re.sub(r'([\\d]+)\\n([A-Z]+)', r'\\1RROOWW\\2', clean)\n",
    "clean = re.sub(r'(nan)\\s*\\n([A-Z]+)', r'\\1RROOWW\\2', clean)\n",
    "clean = re.sub('\\\\ue031', '+', clean)\n",
    "clean = re.sub('([\\d])\\+\\(', r'+\\1(', clean)\n",
    "clean = re.sub('\\\\ue032', '-', clean)\n",
    "clean = re.sub('([\\d])\\-\\(', r'-\\1(', clean)\n",
    "clean = re.sub('\\(([aqslg]+)\\,\\s([\\w]+)', r'(\\1,\\2', clean)\n",
    "clean = re.sub('[\\s]+', ' ', clean)\n",
    "clean = re.sub(' mol-1', '', clean)\n",
    "# clean = re.sub('Substance.*mol', 'HHEEAADDEERR', clean)\n",
    "clean = re.split('RROOWW', clean)\n",
    "clean = [re.split(' ', r) for r in clean]\n",
    "clean = [r for r in clean if len(r) == 5]\n",
    "oxtobyb_clean = clean"
   ]
  },
  {
   "cell_type": "code",
   "execution_count": 23,
   "metadata": {},
   "outputs": [
    {
     "data": {
      "text/plain": [
       "[['H(g)', '217.96', '114.60', '203.26', '20.78'],\n",
       " ['H2(g)', '0', '130.57', '0', '28.82'],\n",
       " ['H+(aq)', '0', '0', '0', '0'],\n",
       " ['H3O+(aq)', '-285.83', '69.91', '-237.18', '75.29'],\n",
       " ['Li(s)', '0', '29.12', '0', '24.77'],\n",
       " ['Li(g)', '159.37', '138.66', '126.69', '20.79'],\n",
       " ['Li+(aq)', '-278.49', '13.4', '-293.31', '68.6'],\n",
       " ['LiH(s)', '-90.54', '20.01', '-68.37', '27.87'],\n",
       " ['Li2O(s)', '-597.94', '37.57', '-561.20', '54.10'],\n",
       " ['LiF(s)', '-615.97', '35.65', '-587.73', '41.59'],\n",
       " ['LiCl(s)', '-408.61', '59.33', '-384.39', '47.99'],\n",
       " ['LiBr(s)', '-351.21', '74.27', '-342.00', 'nan'],\n",
       " ['LiI(s)', '-270.41', '86.78', '-270.29', '51.04'],\n",
       " ['Na(s)', '0', '51.21', '0', '28.24'],\n",
       " ['Na(g)', '107.32', '153.60', '76.79', '20.79'],\n",
       " ['Na+(aq)', '-240.12', '59.0', '-261.90', '46.4'],\n",
       " ['Na2O(s)', '-414.22', '75.06', '-375.48', '69.12'],\n",
       " ['NaOH(s)', '-425.61', '64.46', '-379.53', '59.54'],\n",
       " ['NaF(s)', '-573.65', '51.46', '-543.51', '48.86'],\n",
       " ['NaCl(s)', '-411.15', '72.13', '-384.15', '50.50']]"
      ]
     },
     "execution_count": 23,
     "metadata": {},
     "output_type": "execute_result"
    }
   ],
   "source": [
    "oxtoby = oxtobya_clean + oxtobyb_clean\n",
    "oxtoby[:20]"
   ]
  },
  {
   "cell_type": "code",
   "execution_count": 24,
   "metadata": {},
   "outputs": [
    {
     "data": {
      "text/html": [
       "<div>\n",
       "<style scoped>\n",
       "    .dataframe tbody tr th:only-of-type {\n",
       "        vertical-align: middle;\n",
       "    }\n",
       "\n",
       "    .dataframe tbody tr th {\n",
       "        vertical-align: top;\n",
       "    }\n",
       "\n",
       "    .dataframe thead th {\n",
       "        text-align: right;\n",
       "    }\n",
       "</style>\n",
       "<table border=\"1\" class=\"dataframe\">\n",
       "  <thead>\n",
       "    <tr style=\"text-align: right;\">\n",
       "      <th></th>\n",
       "      <th>formula</th>\n",
       "      <th>H</th>\n",
       "      <th>S</th>\n",
       "      <th>G</th>\n",
       "      <th>Cp</th>\n",
       "    </tr>\n",
       "  </thead>\n",
       "  <tbody>\n",
       "    <tr>\n",
       "      <th>0</th>\n",
       "      <td>H(g)</td>\n",
       "      <td>217.96</td>\n",
       "      <td>114.60</td>\n",
       "      <td>203.26</td>\n",
       "      <td>20.78</td>\n",
       "    </tr>\n",
       "    <tr>\n",
       "      <th>1</th>\n",
       "      <td>H2(g)</td>\n",
       "      <td>0</td>\n",
       "      <td>130.57</td>\n",
       "      <td>0</td>\n",
       "      <td>28.82</td>\n",
       "    </tr>\n",
       "    <tr>\n",
       "      <th>2</th>\n",
       "      <td>H+(aq)</td>\n",
       "      <td>0</td>\n",
       "      <td>0</td>\n",
       "      <td>0</td>\n",
       "      <td>0</td>\n",
       "    </tr>\n",
       "    <tr>\n",
       "      <th>3</th>\n",
       "      <td>H3O+(aq)</td>\n",
       "      <td>-285.83</td>\n",
       "      <td>69.91</td>\n",
       "      <td>-237.18</td>\n",
       "      <td>75.29</td>\n",
       "    </tr>\n",
       "    <tr>\n",
       "      <th>4</th>\n",
       "      <td>Li(s)</td>\n",
       "      <td>0</td>\n",
       "      <td>29.12</td>\n",
       "      <td>0</td>\n",
       "      <td>24.77</td>\n",
       "    </tr>\n",
       "  </tbody>\n",
       "</table>\n",
       "</div>"
      ],
      "text/plain": [
       "    formula        H       S        G     Cp\n",
       "0  H(g)      217.96   114.60  203.26   20.78\n",
       "1  H2(g)     0        130.57  0        28.82\n",
       "2  H+(aq)    0        0       0        0    \n",
       "3  H3O+(aq)  -285.83  69.91   -237.18  75.29\n",
       "4  Li(s)     0        29.12   0        24.77"
      ]
     },
     "execution_count": 24,
     "metadata": {},
     "output_type": "execute_result"
    }
   ],
   "source": [
    "oxtoby_df = pd.DataFrame(oxtoby, columns=['formula', 'H', 'S', 'G', 'Cp'])\n",
    "oxtoby_df.head()"
   ]
  },
  {
   "cell_type": "code",
   "execution_count": 25,
   "metadata": {},
   "outputs": [
    {
     "data": {
      "text/html": [
       "<div>\n",
       "<style scoped>\n",
       "    .dataframe tbody tr th:only-of-type {\n",
       "        vertical-align: middle;\n",
       "    }\n",
       "\n",
       "    .dataframe tbody tr th {\n",
       "        vertical-align: top;\n",
       "    }\n",
       "\n",
       "    .dataframe thead th {\n",
       "        text-align: right;\n",
       "    }\n",
       "</style>\n",
       "<table border=\"1\" class=\"dataframe\">\n",
       "  <thead>\n",
       "    <tr style=\"text-align: right;\">\n",
       "      <th></th>\n",
       "      <th>formula</th>\n",
       "      <th>H</th>\n",
       "      <th>S</th>\n",
       "      <th>G</th>\n",
       "      <th>Cp</th>\n",
       "    </tr>\n",
       "  </thead>\n",
       "  <tbody>\n",
       "    <tr>\n",
       "      <th>0</th>\n",
       "      <td>H(g)</td>\n",
       "      <td>217.96</td>\n",
       "      <td>114.60</td>\n",
       "      <td>203.26</td>\n",
       "      <td>20.78</td>\n",
       "    </tr>\n",
       "    <tr>\n",
       "      <th>1</th>\n",
       "      <td>H2(g)</td>\n",
       "      <td>0.00</td>\n",
       "      <td>130.57</td>\n",
       "      <td>0.00</td>\n",
       "      <td>28.82</td>\n",
       "    </tr>\n",
       "    <tr>\n",
       "      <th>2</th>\n",
       "      <td>H+(aq)</td>\n",
       "      <td>0.00</td>\n",
       "      <td>0.00</td>\n",
       "      <td>0.00</td>\n",
       "      <td>0.00</td>\n",
       "    </tr>\n",
       "    <tr>\n",
       "      <th>3</th>\n",
       "      <td>H3O+(aq)</td>\n",
       "      <td>-285.83</td>\n",
       "      <td>69.91</td>\n",
       "      <td>-237.18</td>\n",
       "      <td>75.29</td>\n",
       "    </tr>\n",
       "    <tr>\n",
       "      <th>4</th>\n",
       "      <td>Li(s)</td>\n",
       "      <td>0.00</td>\n",
       "      <td>29.12</td>\n",
       "      <td>0.00</td>\n",
       "      <td>24.77</td>\n",
       "    </tr>\n",
       "  </tbody>\n",
       "</table>\n",
       "</div>"
      ],
      "text/plain": [
       "    formula       H       S       G     Cp\n",
       "0  H(g)      217.96  114.60  203.26  20.78\n",
       "1  H2(g)     0.00    130.57  0.00    28.82\n",
       "2  H+(aq)    0.00    0.00    0.00    0.00 \n",
       "3  H3O+(aq) -285.83  69.91  -237.18  75.29\n",
       "4  Li(s)     0.00    29.12   0.00    24.77"
      ]
     },
     "execution_count": 25,
     "metadata": {},
     "output_type": "execute_result"
    }
   ],
   "source": [
    "energy_columns = ['G', 'H', 'S', 'Cp']\n",
    "\n",
    "for col in energy_columns:\n",
    "    oxtoby_df[col] = oxtoby_df[col].astype(float)\n",
    "    \n",
    "oxtoby_df.head()"
   ]
  },
  {
   "cell_type": "code",
   "execution_count": 26,
   "metadata": {},
   "outputs": [
    {
     "data": {
      "text/html": [
       "<div>\n",
       "<style scoped>\n",
       "    .dataframe tbody tr th:only-of-type {\n",
       "        vertical-align: middle;\n",
       "    }\n",
       "\n",
       "    .dataframe tbody tr th {\n",
       "        vertical-align: top;\n",
       "    }\n",
       "\n",
       "    .dataframe thead th {\n",
       "        text-align: right;\n",
       "    }\n",
       "</style>\n",
       "<table border=\"1\" class=\"dataframe\">\n",
       "  <thead>\n",
       "    <tr style=\"text-align: right;\">\n",
       "      <th></th>\n",
       "      <th>formula</th>\n",
       "      <th>H</th>\n",
       "      <th>S</th>\n",
       "      <th>G</th>\n",
       "      <th>Cp</th>\n",
       "    </tr>\n",
       "  </thead>\n",
       "  <tbody>\n",
       "    <tr>\n",
       "      <th>0</th>\n",
       "      <td>H(g)</td>\n",
       "      <td>217960.0</td>\n",
       "      <td>114.60</td>\n",
       "      <td>203260.0</td>\n",
       "      <td>20.78</td>\n",
       "    </tr>\n",
       "    <tr>\n",
       "      <th>1</th>\n",
       "      <td>H2(g)</td>\n",
       "      <td>0.0</td>\n",
       "      <td>130.57</td>\n",
       "      <td>0.0</td>\n",
       "      <td>28.82</td>\n",
       "    </tr>\n",
       "    <tr>\n",
       "      <th>2</th>\n",
       "      <td>H+(aq)</td>\n",
       "      <td>0.0</td>\n",
       "      <td>0.00</td>\n",
       "      <td>0.0</td>\n",
       "      <td>0.00</td>\n",
       "    </tr>\n",
       "    <tr>\n",
       "      <th>3</th>\n",
       "      <td>H3O+(aq)</td>\n",
       "      <td>-285830.0</td>\n",
       "      <td>69.91</td>\n",
       "      <td>-237180.0</td>\n",
       "      <td>75.29</td>\n",
       "    </tr>\n",
       "    <tr>\n",
       "      <th>4</th>\n",
       "      <td>Li(s)</td>\n",
       "      <td>0.0</td>\n",
       "      <td>29.12</td>\n",
       "      <td>0.0</td>\n",
       "      <td>24.77</td>\n",
       "    </tr>\n",
       "  </tbody>\n",
       "</table>\n",
       "</div>"
      ],
      "text/plain": [
       "    formula         H       S         G     Cp\n",
       "0  H(g)      217960.0  114.60  203260.0  20.78\n",
       "1  H2(g)     0.0       130.57  0.0       28.82\n",
       "2  H+(aq)    0.0       0.00    0.0       0.00 \n",
       "3  H3O+(aq) -285830.0  69.91  -237180.0  75.29\n",
       "4  Li(s)     0.0       29.12   0.0       24.77"
      ]
     },
     "execution_count": 26,
     "metadata": {},
     "output_type": "execute_result"
    }
   ],
   "source": [
    "oxtoby_df.loc[:, 'H'] *= 1000\n",
    "oxtoby_df.loc[:, 'G'] *= 1000\n",
    "oxtoby_df.head()"
   ]
  },
  {
   "cell_type": "code",
   "execution_count": 27,
   "metadata": {},
   "outputs": [
    {
     "data": {
      "text/html": [
       "<div>\n",
       "<style scoped>\n",
       "    .dataframe tbody tr th:only-of-type {\n",
       "        vertical-align: middle;\n",
       "    }\n",
       "\n",
       "    .dataframe tbody tr th {\n",
       "        vertical-align: top;\n",
       "    }\n",
       "\n",
       "    .dataframe thead th {\n",
       "        text-align: right;\n",
       "    }\n",
       "</style>\n",
       "<table border=\"1\" class=\"dataframe\">\n",
       "  <thead>\n",
       "    <tr style=\"text-align: right;\">\n",
       "      <th></th>\n",
       "      <th>formula</th>\n",
       "      <th>G</th>\n",
       "      <th>H</th>\n",
       "      <th>S</th>\n",
       "      <th>Cp</th>\n",
       "    </tr>\n",
       "  </thead>\n",
       "  <tbody>\n",
       "    <tr>\n",
       "      <th>0</th>\n",
       "      <td>H(g)</td>\n",
       "      <td>203260.0</td>\n",
       "      <td>217960.0</td>\n",
       "      <td>114.60</td>\n",
       "      <td>20.78</td>\n",
       "    </tr>\n",
       "    <tr>\n",
       "      <th>1</th>\n",
       "      <td>H2(g)</td>\n",
       "      <td>0.0</td>\n",
       "      <td>0.0</td>\n",
       "      <td>130.57</td>\n",
       "      <td>28.82</td>\n",
       "    </tr>\n",
       "    <tr>\n",
       "      <th>2</th>\n",
       "      <td>H+(aq)</td>\n",
       "      <td>0.0</td>\n",
       "      <td>0.0</td>\n",
       "      <td>0.00</td>\n",
       "      <td>0.00</td>\n",
       "    </tr>\n",
       "    <tr>\n",
       "      <th>3</th>\n",
       "      <td>H3O+(aq)</td>\n",
       "      <td>-237180.0</td>\n",
       "      <td>-285830.0</td>\n",
       "      <td>69.91</td>\n",
       "      <td>75.29</td>\n",
       "    </tr>\n",
       "    <tr>\n",
       "      <th>4</th>\n",
       "      <td>Li(s)</td>\n",
       "      <td>0.0</td>\n",
       "      <td>0.0</td>\n",
       "      <td>29.12</td>\n",
       "      <td>24.77</td>\n",
       "    </tr>\n",
       "  </tbody>\n",
       "</table>\n",
       "</div>"
      ],
      "text/plain": [
       "    formula         G         H       S     Cp\n",
       "0  H(g)      203260.0  217960.0  114.60  20.78\n",
       "1  H2(g)     0.0       0.0       130.57  28.82\n",
       "2  H+(aq)    0.0       0.0       0.00    0.00 \n",
       "3  H3O+(aq) -237180.0 -285830.0  69.91   75.29\n",
       "4  Li(s)     0.0       0.0       29.12   24.77"
      ]
     },
     "execution_count": 27,
     "metadata": {},
     "output_type": "execute_result"
    }
   ],
   "source": [
    "oxtoby_df = oxtoby_df[['formula', 'G', 'H', 'S', 'Cp']]\n",
    "oxtoby_df.head()"
   ]
  },
  {
   "cell_type": "code",
   "execution_count": 43,
   "metadata": {},
   "outputs": [
    {
     "data": {
      "text/plain": [
       "formula    0 \n",
       "G          2 \n",
       "H          0 \n",
       "S          2 \n",
       "Cp         73\n",
       "dtype: int64"
      ]
     },
     "execution_count": 43,
     "metadata": {},
     "output_type": "execute_result"
    }
   ],
   "source": [
    "oxtoby_df.isna().sum()"
   ]
  },
  {
   "cell_type": "code",
   "execution_count": 49,
   "metadata": {},
   "outputs": [],
   "source": [
    "oxtoby_df = oxtoby_df.dropna(subset=['G'])"
   ]
  },
  {
   "cell_type": "code",
   "execution_count": 50,
   "metadata": {},
   "outputs": [
    {
     "name": "stderr",
     "output_type": "stream",
     "text": [
      "/Users/Jelly/anaconda3/lib/python3.7/site-packages/ipykernel_launcher.py:1: FutureWarning: Sorting because non-concatenation axis is not aligned. A future version\n",
      "of pandas will change to not sort by default.\n",
      "\n",
      "To accept the future behavior, pass 'sort=False'.\n",
      "\n",
      "To retain the current behavior and silence the warning, pass 'sort=True'.\n",
      "\n",
      "  \"\"\"Entry point for launching an IPython kernel.\n"
     ]
    },
    {
     "data": {
      "text/html": [
       "<div>\n",
       "<style scoped>\n",
       "    .dataframe tbody tr th:only-of-type {\n",
       "        vertical-align: middle;\n",
       "    }\n",
       "\n",
       "    .dataframe tbody tr th {\n",
       "        vertical-align: top;\n",
       "    }\n",
       "\n",
       "    .dataframe thead th {\n",
       "        text-align: right;\n",
       "    }\n",
       "</style>\n",
       "<table border=\"1\" class=\"dataframe\">\n",
       "  <thead>\n",
       "    <tr style=\"text-align: right;\">\n",
       "      <th></th>\n",
       "      <th>Cp</th>\n",
       "      <th>G</th>\n",
       "      <th>H</th>\n",
       "      <th>S</th>\n",
       "      <th>abbrv</th>\n",
       "      <th>formula</th>\n",
       "      <th>name</th>\n",
       "    </tr>\n",
       "  </thead>\n",
       "  <tbody>\n",
       "    <tr>\n",
       "      <th>0</th>\n",
       "      <td>75.29000</td>\n",
       "      <td>-237180.000</td>\n",
       "      <td>-285830.000</td>\n",
       "      <td>69.910000</td>\n",
       "      <td>NaN</td>\n",
       "      <td>H2O(l)</td>\n",
       "      <td>water</td>\n",
       "    </tr>\n",
       "    <tr>\n",
       "      <th>1</th>\n",
       "      <td>0.00000</td>\n",
       "      <td>0.000</td>\n",
       "      <td>0.000</td>\n",
       "      <td>65.339854</td>\n",
       "      <td>NaN</td>\n",
       "      <td>e-(aq)</td>\n",
       "      <td>e-</td>\n",
       "    </tr>\n",
       "    <tr>\n",
       "      <th>2</th>\n",
       "      <td>0.00000</td>\n",
       "      <td>0.000</td>\n",
       "      <td>0.000</td>\n",
       "      <td>0.000000</td>\n",
       "      <td>H+</td>\n",
       "      <td>H+(aq)</td>\n",
       "      <td>H+</td>\n",
       "    </tr>\n",
       "    <tr>\n",
       "      <th>3</th>\n",
       "      <td>59.41280</td>\n",
       "      <td>-292599.672</td>\n",
       "      <td>-278453.568</td>\n",
       "      <td>11.296800</td>\n",
       "      <td>Li+</td>\n",
       "      <td>Li+(aq)</td>\n",
       "      <td>Li+</td>\n",
       "    </tr>\n",
       "    <tr>\n",
       "      <th>4</th>\n",
       "      <td>37.90704</td>\n",
       "      <td>-261880.744</td>\n",
       "      <td>-240299.672</td>\n",
       "      <td>58.408640</td>\n",
       "      <td>Na+</td>\n",
       "      <td>Na+(aq)</td>\n",
       "      <td>Na+</td>\n",
       "    </tr>\n",
       "  </tbody>\n",
       "</table>\n",
       "</div>"
      ],
      "text/plain": [
       "         Cp           G           H          S abbrv  formula   name\n",
       "0  75.29000 -237180.000 -285830.000  69.910000  NaN   H2O(l)   water\n",
       "1  0.00000   0.000       0.000       65.339854  NaN   e-(aq)   e-   \n",
       "2  0.00000   0.000       0.000       0.000000   H+    H+(aq)   H+   \n",
       "3  59.41280 -292599.672 -278453.568  11.296800  Li+   Li+(aq)  Li+  \n",
       "4  37.90704 -261880.744 -240299.672  58.408640  Na+   Na+(aq)  Na+  "
      ]
     },
     "execution_count": 50,
     "metadata": {},
     "output_type": "execute_result"
    }
   ],
   "source": [
    "thermo_df = pd.concat([chnosz, oxtoby_df], ignore_index=True).fillna(np.NaN)\n",
    "thermo_df.head()"
   ]
  },
  {
   "cell_type": "code",
   "execution_count": 51,
   "metadata": {},
   "outputs": [
    {
     "data": {
      "text/html": [
       "<div>\n",
       "<style scoped>\n",
       "    .dataframe tbody tr th:only-of-type {\n",
       "        vertical-align: middle;\n",
       "    }\n",
       "\n",
       "    .dataframe tbody tr th {\n",
       "        vertical-align: top;\n",
       "    }\n",
       "\n",
       "    .dataframe thead th {\n",
       "        text-align: right;\n",
       "    }\n",
       "</style>\n",
       "<table border=\"1\" class=\"dataframe\">\n",
       "  <thead>\n",
       "    <tr style=\"text-align: right;\">\n",
       "      <th></th>\n",
       "      <th>formula</th>\n",
       "      <th>abbrv</th>\n",
       "      <th>name</th>\n",
       "      <th>G</th>\n",
       "      <th>H</th>\n",
       "      <th>S</th>\n",
       "      <th>Cp</th>\n",
       "    </tr>\n",
       "  </thead>\n",
       "  <tbody>\n",
       "    <tr>\n",
       "      <th>3444</th>\n",
       "      <td>IBr(g)</td>\n",
       "      <td>NaN</td>\n",
       "      <td>NaN</td>\n",
       "      <td>3710.0</td>\n",
       "      <td>40840.0</td>\n",
       "      <td>258.66</td>\n",
       "      <td>36.44</td>\n",
       "    </tr>\n",
       "    <tr>\n",
       "      <th>3445</th>\n",
       "      <td>Ne(g)</td>\n",
       "      <td>NaN</td>\n",
       "      <td>NaN</td>\n",
       "      <td>0.0</td>\n",
       "      <td>0.0</td>\n",
       "      <td>146.22</td>\n",
       "      <td>20.79</td>\n",
       "    </tr>\n",
       "    <tr>\n",
       "      <th>3446</th>\n",
       "      <td>Ar(g)</td>\n",
       "      <td>NaN</td>\n",
       "      <td>NaN</td>\n",
       "      <td>0.0</td>\n",
       "      <td>0.0</td>\n",
       "      <td>154.73</td>\n",
       "      <td>20.79</td>\n",
       "    </tr>\n",
       "    <tr>\n",
       "      <th>3447</th>\n",
       "      <td>Kr(g)</td>\n",
       "      <td>NaN</td>\n",
       "      <td>NaN</td>\n",
       "      <td>0.0</td>\n",
       "      <td>0.0</td>\n",
       "      <td>163.97</td>\n",
       "      <td>20.79</td>\n",
       "    </tr>\n",
       "    <tr>\n",
       "      <th>3448</th>\n",
       "      <td>Xe(g)</td>\n",
       "      <td>NaN</td>\n",
       "      <td>NaN</td>\n",
       "      <td>0.0</td>\n",
       "      <td>0.0</td>\n",
       "      <td>169.57</td>\n",
       "      <td>20.79</td>\n",
       "    </tr>\n",
       "  </tbody>\n",
       "</table>\n",
       "</div>"
      ],
      "text/plain": [
       "     formula abbrv name       G        H       S     Cp\n",
       "3444  IBr(g)  NaN   NaN  3710.0  40840.0  258.66  36.44\n",
       "3445  Ne(g)   NaN   NaN  0.0     0.0      146.22  20.79\n",
       "3446  Ar(g)   NaN   NaN  0.0     0.0      154.73  20.79\n",
       "3447  Kr(g)   NaN   NaN  0.0     0.0      163.97  20.79\n",
       "3448  Xe(g)   NaN   NaN  0.0     0.0      169.57  20.79"
      ]
     },
     "execution_count": 51,
     "metadata": {},
     "output_type": "execute_result"
    }
   ],
   "source": [
    "thermo_df = thermo_df[['formula', 'abbrv', 'name', 'G', 'H', 'S', 'Cp']]\n",
    "thermo_df.tail()"
   ]
  },
  {
   "cell_type": "code",
   "execution_count": 52,
   "metadata": {},
   "outputs": [
    {
     "data": {
      "text/plain": [
       "(3449, 7)"
      ]
     },
     "execution_count": 52,
     "metadata": {},
     "output_type": "execute_result"
    }
   ],
   "source": [
    "thermo_df.shape"
   ]
  },
  {
   "cell_type": "code",
   "execution_count": 53,
   "metadata": {},
   "outputs": [
    {
     "data": {
      "text/plain": [
       "(2837, 7)"
      ]
     },
     "execution_count": 53,
     "metadata": {},
     "output_type": "execute_result"
    }
   ],
   "source": [
    "thermo_df.drop_duplicates(subset='formula', keep='last', inplace=True)\n",
    "thermo_df.reset_index(drop=True, inplace=True)\n",
    "thermo_df.shape"
   ]
  },
  {
   "cell_type": "code",
   "execution_count": 54,
   "metadata": {},
   "outputs": [
    {
     "data": {
      "text/plain": [
       "Int64Index([1765, 1766, 1767, 1770, 1785, 1787, 2596], dtype='int64')"
      ]
     },
     "execution_count": 54,
     "metadata": {},
     "output_type": "execute_result"
    }
   ],
   "source": [
    "thermo_df[thermo_df['formula'].str.contains('\\.')].index"
   ]
  },
  {
   "cell_type": "code",
   "execution_count": 55,
   "metadata": {},
   "outputs": [
    {
     "data": {
      "text/plain": [
       "(2830, 7)"
      ]
     },
     "execution_count": 55,
     "metadata": {},
     "output_type": "execute_result"
    }
   ],
   "source": [
    "thermo_df = thermo_df.drop(index=thermo_df[thermo_df['formula'].str.contains('\\.')].index)\n",
    "thermo_df.reset_index(drop=True, inplace=True)\n",
    "thermo_df.shape"
   ]
  },
  {
   "cell_type": "code",
   "execution_count": 56,
   "metadata": {},
   "outputs": [
    {
     "data": {
      "text/html": [
       "<div>\n",
       "<style scoped>\n",
       "    .dataframe tbody tr th:only-of-type {\n",
       "        vertical-align: middle;\n",
       "    }\n",
       "\n",
       "    .dataframe tbody tr th {\n",
       "        vertical-align: top;\n",
       "    }\n",
       "\n",
       "    .dataframe thead th {\n",
       "        text-align: right;\n",
       "    }\n",
       "</style>\n",
       "<table border=\"1\" class=\"dataframe\">\n",
       "  <thead>\n",
       "    <tr style=\"text-align: right;\">\n",
       "      <th></th>\n",
       "      <th>formula</th>\n",
       "      <th>abbrv</th>\n",
       "      <th>name</th>\n",
       "      <th>G</th>\n",
       "      <th>H</th>\n",
       "      <th>S</th>\n",
       "      <th>Cp</th>\n",
       "    </tr>\n",
       "  </thead>\n",
       "  <tbody>\n",
       "    <tr>\n",
       "      <th>2825</th>\n",
       "      <td>IBr(g)</td>\n",
       "      <td>NaN</td>\n",
       "      <td>NaN</td>\n",
       "      <td>3710.0</td>\n",
       "      <td>40840.0</td>\n",
       "      <td>258.66</td>\n",
       "      <td>36.44</td>\n",
       "    </tr>\n",
       "    <tr>\n",
       "      <th>2826</th>\n",
       "      <td>Ne(g)</td>\n",
       "      <td>NaN</td>\n",
       "      <td>NaN</td>\n",
       "      <td>0.0</td>\n",
       "      <td>0.0</td>\n",
       "      <td>146.22</td>\n",
       "      <td>20.79</td>\n",
       "    </tr>\n",
       "    <tr>\n",
       "      <th>2827</th>\n",
       "      <td>Ar(g)</td>\n",
       "      <td>NaN</td>\n",
       "      <td>NaN</td>\n",
       "      <td>0.0</td>\n",
       "      <td>0.0</td>\n",
       "      <td>154.73</td>\n",
       "      <td>20.79</td>\n",
       "    </tr>\n",
       "    <tr>\n",
       "      <th>2828</th>\n",
       "      <td>Kr(g)</td>\n",
       "      <td>NaN</td>\n",
       "      <td>NaN</td>\n",
       "      <td>0.0</td>\n",
       "      <td>0.0</td>\n",
       "      <td>163.97</td>\n",
       "      <td>20.79</td>\n",
       "    </tr>\n",
       "    <tr>\n",
       "      <th>2829</th>\n",
       "      <td>Xe(g)</td>\n",
       "      <td>NaN</td>\n",
       "      <td>NaN</td>\n",
       "      <td>0.0</td>\n",
       "      <td>0.0</td>\n",
       "      <td>169.57</td>\n",
       "      <td>20.79</td>\n",
       "    </tr>\n",
       "  </tbody>\n",
       "</table>\n",
       "</div>"
      ],
      "text/plain": [
       "     formula abbrv name       G        H       S     Cp\n",
       "2825  IBr(g)  NaN   NaN  3710.0  40840.0  258.66  36.44\n",
       "2826  Ne(g)   NaN   NaN  0.0     0.0      146.22  20.79\n",
       "2827  Ar(g)   NaN   NaN  0.0     0.0      154.73  20.79\n",
       "2828  Kr(g)   NaN   NaN  0.0     0.0      163.97  20.79\n",
       "2829  Xe(g)   NaN   NaN  0.0     0.0      169.57  20.79"
      ]
     },
     "execution_count": 56,
     "metadata": {},
     "output_type": "execute_result"
    }
   ],
   "source": [
    "thermo_df.tail()"
   ]
  },
  {
   "cell_type": "markdown",
   "metadata": {},
   "source": [
    "We'll fill in some of these `abbrv` fields with just the formula."
   ]
  },
  {
   "cell_type": "code",
   "execution_count": 111,
   "metadata": {},
   "outputs": [],
   "source": [
    "def formula_state_separator(formula, keep_state=False):\n",
    "    '''\n",
    "    Separates the state from a formula string.\n",
    "    \n",
    "    --Parameters--\n",
    "    formula:        str\n",
    "        a string of a single chemical formula\n",
    "    \n",
    "    --Output--\n",
    "    tuple (str)\n",
    "        \n",
    "    --Examples--\n",
    "    >>> formula_state_separator('NaCl(aq)')\n",
    "    ('NaCl', 'aq')\n",
    "    \n",
    "    >>> formula_state_separator('NaCl')\n",
    "    'NaCl'\n",
    "    '''\n",
    "    try:\n",
    "        regex = re.search('(?<=\\()[aglsq]+', formula)\n",
    "        formula = formula[:regex.start() - 1]\n",
    "        if keep_state:\n",
    "            state = regex.group(0)\n",
    "            return formula, state\n",
    "        else:\n",
    "            return formula\n",
    "    except:\n",
    "        return formula"
   ]
  },
  {
   "cell_type": "code",
   "execution_count": 112,
   "metadata": {},
   "outputs": [
    {
     "data": {
      "text/plain": [
       "['e-', 'HCO3-', 'NO3-', 'NO2-', 'NH4+']"
      ]
     },
     "execution_count": 112,
     "metadata": {},
     "output_type": "execute_result"
    }
   ],
   "source": [
    "formulas = [formula_state_separator(f) for f in thermo_df['formula'].astype(str)]\n",
    "formulas[:5]"
   ]
  },
  {
   "cell_type": "code",
   "execution_count": 59,
   "metadata": {},
   "outputs": [
    {
     "data": {
      "text/plain": [
       "['e-',\n",
       " 'HCO3-',\n",
       " 'NO3-',\n",
       " 'NO2-',\n",
       " 'NH4+',\n",
       " 'H2PO4-',\n",
       " 'HSO3-',\n",
       " 'HSO4-',\n",
       " 'S2O3-2',\n",
       " 'S2O8-2']"
      ]
     },
     "execution_count": 59,
     "metadata": {},
     "output_type": "execute_result"
    }
   ],
   "source": [
    "new_list = []\n",
    "for a, f in zip(list(thermo_df['abbrv']), formulas):\n",
    "    if pd.isna(a):\n",
    "        new_list.append(f)\n",
    "    else:\n",
    "        new_list.append(a)\n",
    "new_list[:10]"
   ]
  },
  {
   "cell_type": "code",
   "execution_count": 60,
   "metadata": {},
   "outputs": [],
   "source": [
    "thermo_df['abbrv'] = new_list"
   ]
  },
  {
   "cell_type": "code",
   "execution_count": 61,
   "metadata": {},
   "outputs": [
    {
     "data": {
      "text/html": [
       "<div>\n",
       "<style scoped>\n",
       "    .dataframe tbody tr th:only-of-type {\n",
       "        vertical-align: middle;\n",
       "    }\n",
       "\n",
       "    .dataframe tbody tr th {\n",
       "        vertical-align: top;\n",
       "    }\n",
       "\n",
       "    .dataframe thead th {\n",
       "        text-align: right;\n",
       "    }\n",
       "</style>\n",
       "<table border=\"1\" class=\"dataframe\">\n",
       "  <thead>\n",
       "    <tr style=\"text-align: right;\">\n",
       "      <th></th>\n",
       "      <th>formula</th>\n",
       "      <th>abbrv</th>\n",
       "      <th>name</th>\n",
       "      <th>G</th>\n",
       "      <th>H</th>\n",
       "      <th>S</th>\n",
       "      <th>Cp</th>\n",
       "    </tr>\n",
       "  </thead>\n",
       "  <tbody>\n",
       "    <tr>\n",
       "      <th>0</th>\n",
       "      <td>e-(aq)</td>\n",
       "      <td>e-</td>\n",
       "      <td>e-</td>\n",
       "      <td>0.000</td>\n",
       "      <td>0.000</td>\n",
       "      <td>65.339854</td>\n",
       "      <td>0.00000</td>\n",
       "    </tr>\n",
       "    <tr>\n",
       "      <th>1</th>\n",
       "      <td>HCO3-(aq)</td>\n",
       "      <td>HCO3-</td>\n",
       "      <td>HCO3-</td>\n",
       "      <td>-586939.888</td>\n",
       "      <td>-689933.232</td>\n",
       "      <td>98.449520</td>\n",
       "      <td>-35.39664</td>\n",
       "    </tr>\n",
       "    <tr>\n",
       "      <th>2</th>\n",
       "      <td>NO3-(aq)</td>\n",
       "      <td>NO3-</td>\n",
       "      <td>NO3-</td>\n",
       "      <td>-110905.288</td>\n",
       "      <td>-206810.936</td>\n",
       "      <td>146.942080</td>\n",
       "      <td>-68.61760</td>\n",
       "    </tr>\n",
       "    <tr>\n",
       "      <th>3</th>\n",
       "      <td>NO2-(aq)</td>\n",
       "      <td>NO2-</td>\n",
       "      <td>NO2-</td>\n",
       "      <td>-32216.800</td>\n",
       "      <td>-104600.000</td>\n",
       "      <td>123.009600</td>\n",
       "      <td>-97.48720</td>\n",
       "    </tr>\n",
       "    <tr>\n",
       "      <th>4</th>\n",
       "      <td>NH4+(aq)</td>\n",
       "      <td>NH4+</td>\n",
       "      <td>NH4+</td>\n",
       "      <td>-79454.160</td>\n",
       "      <td>-133260.400</td>\n",
       "      <td>111.168880</td>\n",
       "      <td>65.85616</td>\n",
       "    </tr>\n",
       "  </tbody>\n",
       "</table>\n",
       "</div>"
      ],
      "text/plain": [
       "     formula  abbrv   name           G           H           S        Cp\n",
       "0  e-(aq)     e-     e-     0.000       0.000       65.339854   0.00000 \n",
       "1  HCO3-(aq)  HCO3-  HCO3- -586939.888 -689933.232  98.449520  -35.39664\n",
       "2  NO3-(aq)   NO3-   NO3-  -110905.288 -206810.936  146.942080 -68.61760\n",
       "3  NO2-(aq)   NO2-   NO2-  -32216.800  -104600.000  123.009600 -97.48720\n",
       "4  NH4+(aq)   NH4+   NH4+  -79454.160  -133260.400  111.168880  65.85616"
      ]
     },
     "execution_count": 61,
     "metadata": {},
     "output_type": "execute_result"
    }
   ],
   "source": [
    "thermo_df.head()"
   ]
  },
  {
   "cell_type": "code",
   "execution_count": 62,
   "metadata": {},
   "outputs": [
    {
     "data": {
      "text/html": [
       "<div>\n",
       "<style scoped>\n",
       "    .dataframe tbody tr th:only-of-type {\n",
       "        vertical-align: middle;\n",
       "    }\n",
       "\n",
       "    .dataframe tbody tr th {\n",
       "        vertical-align: top;\n",
       "    }\n",
       "\n",
       "    .dataframe thead th {\n",
       "        text-align: right;\n",
       "    }\n",
       "</style>\n",
       "<table border=\"1\" class=\"dataframe\">\n",
       "  <thead>\n",
       "    <tr style=\"text-align: right;\">\n",
       "      <th></th>\n",
       "      <th>formula</th>\n",
       "      <th>abbrv</th>\n",
       "      <th>name</th>\n",
       "      <th>G</th>\n",
       "      <th>H</th>\n",
       "      <th>S</th>\n",
       "      <th>Cp</th>\n",
       "    </tr>\n",
       "  </thead>\n",
       "  <tbody>\n",
       "    <tr>\n",
       "      <th>2825</th>\n",
       "      <td>IBr(g)</td>\n",
       "      <td>IBr</td>\n",
       "      <td>NaN</td>\n",
       "      <td>3710.0</td>\n",
       "      <td>40840.0</td>\n",
       "      <td>258.66</td>\n",
       "      <td>36.44</td>\n",
       "    </tr>\n",
       "    <tr>\n",
       "      <th>2826</th>\n",
       "      <td>Ne(g)</td>\n",
       "      <td>Ne</td>\n",
       "      <td>NaN</td>\n",
       "      <td>0.0</td>\n",
       "      <td>0.0</td>\n",
       "      <td>146.22</td>\n",
       "      <td>20.79</td>\n",
       "    </tr>\n",
       "    <tr>\n",
       "      <th>2827</th>\n",
       "      <td>Ar(g)</td>\n",
       "      <td>Ar</td>\n",
       "      <td>NaN</td>\n",
       "      <td>0.0</td>\n",
       "      <td>0.0</td>\n",
       "      <td>154.73</td>\n",
       "      <td>20.79</td>\n",
       "    </tr>\n",
       "    <tr>\n",
       "      <th>2828</th>\n",
       "      <td>Kr(g)</td>\n",
       "      <td>Kr</td>\n",
       "      <td>NaN</td>\n",
       "      <td>0.0</td>\n",
       "      <td>0.0</td>\n",
       "      <td>163.97</td>\n",
       "      <td>20.79</td>\n",
       "    </tr>\n",
       "    <tr>\n",
       "      <th>2829</th>\n",
       "      <td>Xe(g)</td>\n",
       "      <td>Xe</td>\n",
       "      <td>NaN</td>\n",
       "      <td>0.0</td>\n",
       "      <td>0.0</td>\n",
       "      <td>169.57</td>\n",
       "      <td>20.79</td>\n",
       "    </tr>\n",
       "  </tbody>\n",
       "</table>\n",
       "</div>"
      ],
      "text/plain": [
       "     formula abbrv name       G        H       S     Cp\n",
       "2825  IBr(g)  IBr   NaN  3710.0  40840.0  258.66  36.44\n",
       "2826  Ne(g)   Ne    NaN  0.0     0.0      146.22  20.79\n",
       "2827  Ar(g)   Ar    NaN  0.0     0.0      154.73  20.79\n",
       "2828  Kr(g)   Kr    NaN  0.0     0.0      163.97  20.79\n",
       "2829  Xe(g)   Xe    NaN  0.0     0.0      169.57  20.79"
      ]
     },
     "execution_count": 62,
     "metadata": {},
     "output_type": "execute_result"
    }
   ],
   "source": [
    "thermo_df.tail()"
   ]
  },
  {
   "cell_type": "code",
   "execution_count": 64,
   "metadata": {},
   "outputs": [],
   "source": [
    "thermo_df.to_csv('../data/processed/thermo_df.csv', index=False)"
   ]
  },
  {
   "cell_type": "markdown",
   "metadata": {},
   "source": [
    "## TO DO: maybe define a function to add missing substances"
   ]
  },
  {
   "cell_type": "markdown",
   "metadata": {},
   "source": [
    "## replicate CHNOSZ stoichiometry csv\n",
    "\n",
    "Originally, I had imported the `CHNOSZ` stoichiometry csv. However, I found the need to update it with whatever new entries were present in `thermo`.\n",
    "\n",
    "The stoichiometry csv is formatted so that each formula is count-vectorized by element."
   ]
  },
  {
   "cell_type": "code",
   "execution_count": 65,
   "metadata": {},
   "outputs": [
    {
     "data": {
      "text/html": [
       "<div>\n",
       "<style scoped>\n",
       "    .dataframe tbody tr th:only-of-type {\n",
       "        vertical-align: middle;\n",
       "    }\n",
       "\n",
       "    .dataframe tbody tr th {\n",
       "        vertical-align: top;\n",
       "    }\n",
       "\n",
       "    .dataframe thead th {\n",
       "        text-align: right;\n",
       "    }\n",
       "</style>\n",
       "<table border=\"1\" class=\"dataframe\">\n",
       "  <thead>\n",
       "    <tr style=\"text-align: right;\">\n",
       "      <th></th>\n",
       "      <th>Unnamed: 0</th>\n",
       "      <th>Ag</th>\n",
       "      <th>Al</th>\n",
       "      <th>Ar</th>\n",
       "      <th>As</th>\n",
       "      <th>Au</th>\n",
       "      <th>B</th>\n",
       "      <th>Ba</th>\n",
       "      <th>Be</th>\n",
       "      <th>Bi</th>\n",
       "      <th>...</th>\n",
       "      <th>Tm</th>\n",
       "      <th>U</th>\n",
       "      <th>V</th>\n",
       "      <th>W</th>\n",
       "      <th>Xe</th>\n",
       "      <th>Y</th>\n",
       "      <th>Yb</th>\n",
       "      <th>Z</th>\n",
       "      <th>Zn</th>\n",
       "      <th>Zr</th>\n",
       "    </tr>\n",
       "  </thead>\n",
       "  <tbody>\n",
       "    <tr>\n",
       "      <th>0</th>\n",
       "      <td>H2O</td>\n",
       "      <td>0</td>\n",
       "      <td>0.0</td>\n",
       "      <td>0</td>\n",
       "      <td>0</td>\n",
       "      <td>0</td>\n",
       "      <td>0</td>\n",
       "      <td>0</td>\n",
       "      <td>0</td>\n",
       "      <td>0</td>\n",
       "      <td>...</td>\n",
       "      <td>0</td>\n",
       "      <td>0</td>\n",
       "      <td>0</td>\n",
       "      <td>0</td>\n",
       "      <td>0</td>\n",
       "      <td>0</td>\n",
       "      <td>0</td>\n",
       "      <td>0</td>\n",
       "      <td>0</td>\n",
       "      <td>0</td>\n",
       "    </tr>\n",
       "    <tr>\n",
       "      <th>1</th>\n",
       "      <td>(Z-1)</td>\n",
       "      <td>0</td>\n",
       "      <td>0.0</td>\n",
       "      <td>0</td>\n",
       "      <td>0</td>\n",
       "      <td>0</td>\n",
       "      <td>0</td>\n",
       "      <td>0</td>\n",
       "      <td>0</td>\n",
       "      <td>0</td>\n",
       "      <td>...</td>\n",
       "      <td>0</td>\n",
       "      <td>0</td>\n",
       "      <td>0</td>\n",
       "      <td>0</td>\n",
       "      <td>0</td>\n",
       "      <td>0</td>\n",
       "      <td>0</td>\n",
       "      <td>-1</td>\n",
       "      <td>0</td>\n",
       "      <td>0</td>\n",
       "    </tr>\n",
       "    <tr>\n",
       "      <th>2</th>\n",
       "      <td>H+</td>\n",
       "      <td>0</td>\n",
       "      <td>0.0</td>\n",
       "      <td>0</td>\n",
       "      <td>0</td>\n",
       "      <td>0</td>\n",
       "      <td>0</td>\n",
       "      <td>0</td>\n",
       "      <td>0</td>\n",
       "      <td>0</td>\n",
       "      <td>...</td>\n",
       "      <td>0</td>\n",
       "      <td>0</td>\n",
       "      <td>0</td>\n",
       "      <td>0</td>\n",
       "      <td>0</td>\n",
       "      <td>0</td>\n",
       "      <td>0</td>\n",
       "      <td>1</td>\n",
       "      <td>0</td>\n",
       "      <td>0</td>\n",
       "    </tr>\n",
       "    <tr>\n",
       "      <th>3</th>\n",
       "      <td>Li+</td>\n",
       "      <td>0</td>\n",
       "      <td>0.0</td>\n",
       "      <td>0</td>\n",
       "      <td>0</td>\n",
       "      <td>0</td>\n",
       "      <td>0</td>\n",
       "      <td>0</td>\n",
       "      <td>0</td>\n",
       "      <td>0</td>\n",
       "      <td>...</td>\n",
       "      <td>0</td>\n",
       "      <td>0</td>\n",
       "      <td>0</td>\n",
       "      <td>0</td>\n",
       "      <td>0</td>\n",
       "      <td>0</td>\n",
       "      <td>0</td>\n",
       "      <td>1</td>\n",
       "      <td>0</td>\n",
       "      <td>0</td>\n",
       "    </tr>\n",
       "    <tr>\n",
       "      <th>4</th>\n",
       "      <td>Na+</td>\n",
       "      <td>0</td>\n",
       "      <td>0.0</td>\n",
       "      <td>0</td>\n",
       "      <td>0</td>\n",
       "      <td>0</td>\n",
       "      <td>0</td>\n",
       "      <td>0</td>\n",
       "      <td>0</td>\n",
       "      <td>0</td>\n",
       "      <td>...</td>\n",
       "      <td>0</td>\n",
       "      <td>0</td>\n",
       "      <td>0</td>\n",
       "      <td>0</td>\n",
       "      <td>0</td>\n",
       "      <td>0</td>\n",
       "      <td>0</td>\n",
       "      <td>1</td>\n",
       "      <td>0</td>\n",
       "      <td>0</td>\n",
       "    </tr>\n",
       "  </tbody>\n",
       "</table>\n",
       "<p>5 rows × 86 columns</p>\n",
       "</div>"
      ],
      "text/plain": [
       "  Unnamed: 0  Ag   Al  Ar  As  Au  B  Ba  Be  Bi  ...  Tm  U  V  W  Xe  Y  Yb  \\\n",
       "0  H2O        0   0.0  0   0   0   0  0   0   0   ...  0   0  0  0  0   0  0    \n",
       "1  (Z-1)      0   0.0  0   0   0   0  0   0   0   ...  0   0  0  0  0   0  0    \n",
       "2  H+         0   0.0  0   0   0   0  0   0   0   ...  0   0  0  0  0   0  0    \n",
       "3  Li+        0   0.0  0   0   0   0  0   0   0   ...  0   0  0  0  0   0  0    \n",
       "4  Na+        0   0.0  0   0   0   0  0   0   0   ...  0   0  0  0  0   0  0    \n",
       "\n",
       "   Z  Zn  Zr  \n",
       "0  0  0   0   \n",
       "1 -1  0   0   \n",
       "2  1  0   0   \n",
       "3  1  0   0   \n",
       "4  1  0   0   \n",
       "\n",
       "[5 rows x 86 columns]"
      ]
     },
     "execution_count": 65,
     "metadata": {},
     "output_type": "execute_result"
    }
   ],
   "source": [
    "stoich_og = pd.read_csv('../data/external/thermo/chnosz_stoich.csv')\n",
    "stoich_og.head()"
   ]
  },
  {
   "cell_type": "markdown",
   "metadata": {},
   "source": [
    "For my workflow, we will rename the columns by atomic number and have charge occupy column `0` to be in-line with how `chempy` works. We'll recreate this by scanning the formulas in `thermo` and then vectorizing the formulas."
   ]
  },
  {
   "cell_type": "code",
   "execution_count": 67,
   "metadata": {},
   "outputs": [
    {
     "data": {
      "text/plain": [
       "'ClO3-(aq)'"
      ]
     },
     "execution_count": 67,
     "metadata": {},
     "output_type": "execute_result"
    }
   ],
   "source": [
    "thermo_df.loc[10, 'formula']"
   ]
  },
  {
   "cell_type": "code",
   "execution_count": 70,
   "metadata": {},
   "outputs": [
    {
     "data": {
      "text/plain": [
       "{17: 1, 8: 3, 0: -1}"
      ]
     },
     "execution_count": 70,
     "metadata": {},
     "output_type": "execute_result"
    }
   ],
   "source": [
    "chlorate = Substance.from_formula(thermo_df.loc[10, 'formula'])\n",
    "chlorate.composition"
   ]
  },
  {
   "cell_type": "code",
   "execution_count": 71,
   "metadata": {},
   "outputs": [
    {
     "name": "stdout",
     "output_type": "stream",
     "text": [
      "17 1\n",
      "8 3\n",
      "0 -1\n"
     ]
    }
   ],
   "source": [
    "for k, v in chlorate.composition.items():\n",
    "    print (k, v)"
   ]
  },
  {
   "cell_type": "markdown",
   "metadata": {},
   "source": [
    "Using `chempy` it becomes quite simple to vectorize.\n",
    "\n",
    "From the composition dictionary:\n",
    "\n",
    "- key $\\Rightarrow$ `stoich[key]`  \n",
    "- value $\\Rightarrow$ `stoich.at[index, key]`"
   ]
  },
  {
   "cell_type": "code",
   "execution_count": 74,
   "metadata": {},
   "outputs": [],
   "source": [
    "formulas = set(thermo_df['formula'])"
   ]
  },
  {
   "cell_type": "code",
   "execution_count": 81,
   "metadata": {},
   "outputs": [
    {
     "data": {
      "text/html": [
       "<div>\n",
       "<style scoped>\n",
       "    .dataframe tbody tr th:only-of-type {\n",
       "        vertical-align: middle;\n",
       "    }\n",
       "\n",
       "    .dataframe tbody tr th {\n",
       "        vertical-align: top;\n",
       "    }\n",
       "\n",
       "    .dataframe thead th {\n",
       "        text-align: right;\n",
       "    }\n",
       "</style>\n",
       "<table border=\"1\" class=\"dataframe\">\n",
       "  <thead>\n",
       "    <tr style=\"text-align: right;\">\n",
       "      <th></th>\n",
       "      <th>0</th>\n",
       "    </tr>\n",
       "  </thead>\n",
       "  <tbody>\n",
       "    <tr>\n",
       "      <th>0</th>\n",
       "      <td>MnC6H8O4(aq)</td>\n",
       "    </tr>\n",
       "    <tr>\n",
       "      <th>1</th>\n",
       "      <td>FeF+(aq)</td>\n",
       "    </tr>\n",
       "    <tr>\n",
       "      <th>2</th>\n",
       "      <td>C18H30(g)</td>\n",
       "    </tr>\n",
       "    <tr>\n",
       "      <th>3</th>\n",
       "      <td>Al+3(aq)</td>\n",
       "    </tr>\n",
       "    <tr>\n",
       "      <th>4</th>\n",
       "      <td>DyF3(aq)</td>\n",
       "    </tr>\n",
       "  </tbody>\n",
       "</table>\n",
       "</div>"
      ],
      "text/plain": [
       "              0\n",
       "0  MnC6H8O4(aq)\n",
       "1  FeF+(aq)    \n",
       "2  C18H30(g)   \n",
       "3  Al+3(aq)    \n",
       "4  DyF3(aq)    "
      ]
     },
     "execution_count": 81,
     "metadata": {},
     "output_type": "execute_result"
    }
   ],
   "source": [
    "stoich_df = pd.DataFrame(formulas)\n",
    "stoich_df.head()"
   ]
  },
  {
   "cell_type": "code",
   "execution_count": 82,
   "metadata": {},
   "outputs": [
    {
     "data": {
      "text/html": [
       "<div>\n",
       "<style scoped>\n",
       "    .dataframe tbody tr th:only-of-type {\n",
       "        vertical-align: middle;\n",
       "    }\n",
       "\n",
       "    .dataframe tbody tr th {\n",
       "        vertical-align: top;\n",
       "    }\n",
       "\n",
       "    .dataframe thead th {\n",
       "        text-align: right;\n",
       "    }\n",
       "</style>\n",
       "<table border=\"1\" class=\"dataframe\">\n",
       "  <thead>\n",
       "    <tr style=\"text-align: right;\">\n",
       "      <th></th>\n",
       "      <th>-1</th>\n",
       "    </tr>\n",
       "  </thead>\n",
       "  <tbody>\n",
       "    <tr>\n",
       "      <th>0</th>\n",
       "      <td>MnC6H8O4(aq)</td>\n",
       "    </tr>\n",
       "    <tr>\n",
       "      <th>1</th>\n",
       "      <td>FeF+(aq)</td>\n",
       "    </tr>\n",
       "    <tr>\n",
       "      <th>2</th>\n",
       "      <td>C18H30(g)</td>\n",
       "    </tr>\n",
       "    <tr>\n",
       "      <th>3</th>\n",
       "      <td>Al+3(aq)</td>\n",
       "    </tr>\n",
       "    <tr>\n",
       "      <th>4</th>\n",
       "      <td>DyF3(aq)</td>\n",
       "    </tr>\n",
       "  </tbody>\n",
       "</table>\n",
       "</div>"
      ],
      "text/plain": [
       "             -1\n",
       "0  MnC6H8O4(aq)\n",
       "1  FeF+(aq)    \n",
       "2  C18H30(g)   \n",
       "3  Al+3(aq)    \n",
       "4  DyF3(aq)    "
      ]
     },
     "execution_count": 82,
     "metadata": {},
     "output_type": "execute_result"
    }
   ],
   "source": [
    "# naming the column -1 for now so we can sort them later\n",
    "\n",
    "stoich_df.columns = [-1]\n",
    "stoich_df.head()"
   ]
  },
  {
   "cell_type": "code",
   "execution_count": 83,
   "metadata": {},
   "outputs": [
    {
     "data": {
      "text/html": [
       "<div>\n",
       "<style scoped>\n",
       "    .dataframe tbody tr th:only-of-type {\n",
       "        vertical-align: middle;\n",
       "    }\n",
       "\n",
       "    .dataframe tbody tr th {\n",
       "        vertical-align: top;\n",
       "    }\n",
       "\n",
       "    .dataframe thead th {\n",
       "        text-align: right;\n",
       "    }\n",
       "</style>\n",
       "<table border=\"1\" class=\"dataframe\">\n",
       "  <thead>\n",
       "    <tr style=\"text-align: right;\">\n",
       "      <th></th>\n",
       "      <th>-1</th>\n",
       "      <th>25</th>\n",
       "      <th>6</th>\n",
       "      <th>1</th>\n",
       "      <th>8</th>\n",
       "      <th>26</th>\n",
       "      <th>9</th>\n",
       "      <th>0</th>\n",
       "      <th>13</th>\n",
       "      <th>66</th>\n",
       "      <th>...</th>\n",
       "      <th>18</th>\n",
       "      <th>22</th>\n",
       "      <th>2</th>\n",
       "      <th>90</th>\n",
       "      <th>75</th>\n",
       "      <th>54</th>\n",
       "      <th>86</th>\n",
       "      <th>36</th>\n",
       "      <th>43</th>\n",
       "      <th>87</th>\n",
       "    </tr>\n",
       "  </thead>\n",
       "  <tbody>\n",
       "    <tr>\n",
       "      <th>0</th>\n",
       "      <td>MnC6H8O4(aq)</td>\n",
       "      <td>1.0</td>\n",
       "      <td>6.0</td>\n",
       "      <td>8.0</td>\n",
       "      <td>4.0</td>\n",
       "      <td>NaN</td>\n",
       "      <td>NaN</td>\n",
       "      <td>NaN</td>\n",
       "      <td>NaN</td>\n",
       "      <td>NaN</td>\n",
       "      <td>...</td>\n",
       "      <td>NaN</td>\n",
       "      <td>NaN</td>\n",
       "      <td>NaN</td>\n",
       "      <td>NaN</td>\n",
       "      <td>NaN</td>\n",
       "      <td>NaN</td>\n",
       "      <td>NaN</td>\n",
       "      <td>NaN</td>\n",
       "      <td>NaN</td>\n",
       "      <td>NaN</td>\n",
       "    </tr>\n",
       "    <tr>\n",
       "      <th>1</th>\n",
       "      <td>FeF+(aq)</td>\n",
       "      <td>NaN</td>\n",
       "      <td>NaN</td>\n",
       "      <td>NaN</td>\n",
       "      <td>NaN</td>\n",
       "      <td>1.0</td>\n",
       "      <td>1.0</td>\n",
       "      <td>1.0</td>\n",
       "      <td>NaN</td>\n",
       "      <td>NaN</td>\n",
       "      <td>...</td>\n",
       "      <td>NaN</td>\n",
       "      <td>NaN</td>\n",
       "      <td>NaN</td>\n",
       "      <td>NaN</td>\n",
       "      <td>NaN</td>\n",
       "      <td>NaN</td>\n",
       "      <td>NaN</td>\n",
       "      <td>NaN</td>\n",
       "      <td>NaN</td>\n",
       "      <td>NaN</td>\n",
       "    </tr>\n",
       "    <tr>\n",
       "      <th>2</th>\n",
       "      <td>C18H30(g)</td>\n",
       "      <td>NaN</td>\n",
       "      <td>18.0</td>\n",
       "      <td>30.0</td>\n",
       "      <td>NaN</td>\n",
       "      <td>NaN</td>\n",
       "      <td>NaN</td>\n",
       "      <td>NaN</td>\n",
       "      <td>NaN</td>\n",
       "      <td>NaN</td>\n",
       "      <td>...</td>\n",
       "      <td>NaN</td>\n",
       "      <td>NaN</td>\n",
       "      <td>NaN</td>\n",
       "      <td>NaN</td>\n",
       "      <td>NaN</td>\n",
       "      <td>NaN</td>\n",
       "      <td>NaN</td>\n",
       "      <td>NaN</td>\n",
       "      <td>NaN</td>\n",
       "      <td>NaN</td>\n",
       "    </tr>\n",
       "    <tr>\n",
       "      <th>3</th>\n",
       "      <td>Al+3(aq)</td>\n",
       "      <td>NaN</td>\n",
       "      <td>NaN</td>\n",
       "      <td>NaN</td>\n",
       "      <td>NaN</td>\n",
       "      <td>NaN</td>\n",
       "      <td>NaN</td>\n",
       "      <td>3.0</td>\n",
       "      <td>1.0</td>\n",
       "      <td>NaN</td>\n",
       "      <td>...</td>\n",
       "      <td>NaN</td>\n",
       "      <td>NaN</td>\n",
       "      <td>NaN</td>\n",
       "      <td>NaN</td>\n",
       "      <td>NaN</td>\n",
       "      <td>NaN</td>\n",
       "      <td>NaN</td>\n",
       "      <td>NaN</td>\n",
       "      <td>NaN</td>\n",
       "      <td>NaN</td>\n",
       "    </tr>\n",
       "    <tr>\n",
       "      <th>4</th>\n",
       "      <td>DyF3(aq)</td>\n",
       "      <td>NaN</td>\n",
       "      <td>NaN</td>\n",
       "      <td>NaN</td>\n",
       "      <td>NaN</td>\n",
       "      <td>NaN</td>\n",
       "      <td>3.0</td>\n",
       "      <td>NaN</td>\n",
       "      <td>NaN</td>\n",
       "      <td>1.0</td>\n",
       "      <td>...</td>\n",
       "      <td>NaN</td>\n",
       "      <td>NaN</td>\n",
       "      <td>NaN</td>\n",
       "      <td>NaN</td>\n",
       "      <td>NaN</td>\n",
       "      <td>NaN</td>\n",
       "      <td>NaN</td>\n",
       "      <td>NaN</td>\n",
       "      <td>NaN</td>\n",
       "      <td>NaN</td>\n",
       "    </tr>\n",
       "  </tbody>\n",
       "</table>\n",
       "<p>5 rows × 87 columns</p>\n",
       "</div>"
      ],
      "text/plain": [
       "             -1   25     6     1    8   26    9    0   13   66  ...   18   22  \\\n",
       "0  MnC6H8O4(aq)  1.0  6.0   8.0   4.0 NaN  NaN  NaN  NaN  NaN   ... NaN  NaN    \n",
       "1  FeF+(aq)     NaN  NaN   NaN   NaN   1.0  1.0  1.0 NaN  NaN   ... NaN  NaN    \n",
       "2  C18H30(g)    NaN   18.0  30.0 NaN  NaN  NaN  NaN  NaN  NaN   ... NaN  NaN    \n",
       "3  Al+3(aq)     NaN  NaN   NaN   NaN  NaN  NaN   3.0  1.0 NaN   ... NaN  NaN    \n",
       "4  DyF3(aq)     NaN  NaN   NaN   NaN  NaN   3.0 NaN  NaN   1.0  ... NaN  NaN    \n",
       "\n",
       "    2   90   75   54   86   36   43   87  \n",
       "0 NaN NaN  NaN  NaN  NaN  NaN  NaN  NaN   \n",
       "1 NaN NaN  NaN  NaN  NaN  NaN  NaN  NaN   \n",
       "2 NaN NaN  NaN  NaN  NaN  NaN  NaN  NaN   \n",
       "3 NaN NaN  NaN  NaN  NaN  NaN  NaN  NaN   \n",
       "4 NaN NaN  NaN  NaN  NaN  NaN  NaN  NaN   \n",
       "\n",
       "[5 rows x 87 columns]"
      ]
     },
     "execution_count": 83,
     "metadata": {},
     "output_type": "execute_result"
    }
   ],
   "source": [
    "for i, f in enumerate(stoich_df[-1]):\n",
    "    try:\n",
    "        sub = Substance.from_formula(f)\n",
    "        for k, v in sub.composition.items():\n",
    "            stoich_df.at[i, k] = v\n",
    "    except:\n",
    "        pass\n",
    "        \n",
    "stoich_df.head()"
   ]
  },
  {
   "cell_type": "code",
   "execution_count": 84,
   "metadata": {},
   "outputs": [
    {
     "data": {
      "text/html": [
       "<div>\n",
       "<style scoped>\n",
       "    .dataframe tbody tr th:only-of-type {\n",
       "        vertical-align: middle;\n",
       "    }\n",
       "\n",
       "    .dataframe tbody tr th {\n",
       "        vertical-align: top;\n",
       "    }\n",
       "\n",
       "    .dataframe thead th {\n",
       "        text-align: right;\n",
       "    }\n",
       "</style>\n",
       "<table border=\"1\" class=\"dataframe\">\n",
       "  <thead>\n",
       "    <tr style=\"text-align: right;\">\n",
       "      <th></th>\n",
       "      <th>-1</th>\n",
       "      <th>0</th>\n",
       "      <th>1</th>\n",
       "      <th>2</th>\n",
       "      <th>3</th>\n",
       "      <th>4</th>\n",
       "      <th>5</th>\n",
       "      <th>6</th>\n",
       "      <th>7</th>\n",
       "      <th>8</th>\n",
       "      <th>...</th>\n",
       "      <th>80</th>\n",
       "      <th>81</th>\n",
       "      <th>82</th>\n",
       "      <th>83</th>\n",
       "      <th>86</th>\n",
       "      <th>87</th>\n",
       "      <th>88</th>\n",
       "      <th>90</th>\n",
       "      <th>91</th>\n",
       "      <th>92</th>\n",
       "    </tr>\n",
       "  </thead>\n",
       "  <tbody>\n",
       "    <tr>\n",
       "      <th>0</th>\n",
       "      <td>MnC6H8O4(aq)</td>\n",
       "      <td>NaN</td>\n",
       "      <td>8.0</td>\n",
       "      <td>NaN</td>\n",
       "      <td>NaN</td>\n",
       "      <td>NaN</td>\n",
       "      <td>NaN</td>\n",
       "      <td>6.0</td>\n",
       "      <td>NaN</td>\n",
       "      <td>4.0</td>\n",
       "      <td>...</td>\n",
       "      <td>NaN</td>\n",
       "      <td>NaN</td>\n",
       "      <td>NaN</td>\n",
       "      <td>NaN</td>\n",
       "      <td>NaN</td>\n",
       "      <td>NaN</td>\n",
       "      <td>NaN</td>\n",
       "      <td>NaN</td>\n",
       "      <td>NaN</td>\n",
       "      <td>NaN</td>\n",
       "    </tr>\n",
       "    <tr>\n",
       "      <th>1</th>\n",
       "      <td>FeF+(aq)</td>\n",
       "      <td>1.0</td>\n",
       "      <td>NaN</td>\n",
       "      <td>NaN</td>\n",
       "      <td>NaN</td>\n",
       "      <td>NaN</td>\n",
       "      <td>NaN</td>\n",
       "      <td>NaN</td>\n",
       "      <td>NaN</td>\n",
       "      <td>NaN</td>\n",
       "      <td>...</td>\n",
       "      <td>NaN</td>\n",
       "      <td>NaN</td>\n",
       "      <td>NaN</td>\n",
       "      <td>NaN</td>\n",
       "      <td>NaN</td>\n",
       "      <td>NaN</td>\n",
       "      <td>NaN</td>\n",
       "      <td>NaN</td>\n",
       "      <td>NaN</td>\n",
       "      <td>NaN</td>\n",
       "    </tr>\n",
       "    <tr>\n",
       "      <th>2</th>\n",
       "      <td>C18H30(g)</td>\n",
       "      <td>NaN</td>\n",
       "      <td>30.0</td>\n",
       "      <td>NaN</td>\n",
       "      <td>NaN</td>\n",
       "      <td>NaN</td>\n",
       "      <td>NaN</td>\n",
       "      <td>18.0</td>\n",
       "      <td>NaN</td>\n",
       "      <td>NaN</td>\n",
       "      <td>...</td>\n",
       "      <td>NaN</td>\n",
       "      <td>NaN</td>\n",
       "      <td>NaN</td>\n",
       "      <td>NaN</td>\n",
       "      <td>NaN</td>\n",
       "      <td>NaN</td>\n",
       "      <td>NaN</td>\n",
       "      <td>NaN</td>\n",
       "      <td>NaN</td>\n",
       "      <td>NaN</td>\n",
       "    </tr>\n",
       "    <tr>\n",
       "      <th>3</th>\n",
       "      <td>Al+3(aq)</td>\n",
       "      <td>3.0</td>\n",
       "      <td>NaN</td>\n",
       "      <td>NaN</td>\n",
       "      <td>NaN</td>\n",
       "      <td>NaN</td>\n",
       "      <td>NaN</td>\n",
       "      <td>NaN</td>\n",
       "      <td>NaN</td>\n",
       "      <td>NaN</td>\n",
       "      <td>...</td>\n",
       "      <td>NaN</td>\n",
       "      <td>NaN</td>\n",
       "      <td>NaN</td>\n",
       "      <td>NaN</td>\n",
       "      <td>NaN</td>\n",
       "      <td>NaN</td>\n",
       "      <td>NaN</td>\n",
       "      <td>NaN</td>\n",
       "      <td>NaN</td>\n",
       "      <td>NaN</td>\n",
       "    </tr>\n",
       "    <tr>\n",
       "      <th>4</th>\n",
       "      <td>DyF3(aq)</td>\n",
       "      <td>NaN</td>\n",
       "      <td>NaN</td>\n",
       "      <td>NaN</td>\n",
       "      <td>NaN</td>\n",
       "      <td>NaN</td>\n",
       "      <td>NaN</td>\n",
       "      <td>NaN</td>\n",
       "      <td>NaN</td>\n",
       "      <td>NaN</td>\n",
       "      <td>...</td>\n",
       "      <td>NaN</td>\n",
       "      <td>NaN</td>\n",
       "      <td>NaN</td>\n",
       "      <td>NaN</td>\n",
       "      <td>NaN</td>\n",
       "      <td>NaN</td>\n",
       "      <td>NaN</td>\n",
       "      <td>NaN</td>\n",
       "      <td>NaN</td>\n",
       "      <td>NaN</td>\n",
       "    </tr>\n",
       "  </tbody>\n",
       "</table>\n",
       "<p>5 rows × 87 columns</p>\n",
       "</div>"
      ],
      "text/plain": [
       "             -1    0     1   2   3   4   5     6   7    8  ...   80   81   82  \\\n",
       "0  MnC6H8O4(aq) NaN   8.0  NaN NaN NaN NaN  6.0  NaN  4.0  ... NaN  NaN  NaN    \n",
       "1  FeF+(aq)      1.0 NaN   NaN NaN NaN NaN NaN   NaN NaN   ... NaN  NaN  NaN    \n",
       "2  C18H30(g)    NaN   30.0 NaN NaN NaN NaN  18.0 NaN NaN   ... NaN  NaN  NaN    \n",
       "3  Al+3(aq)      3.0 NaN   NaN NaN NaN NaN NaN   NaN NaN   ... NaN  NaN  NaN    \n",
       "4  DyF3(aq)     NaN  NaN   NaN NaN NaN NaN NaN   NaN NaN   ... NaN  NaN  NaN    \n",
       "\n",
       "    83   86   87   88   90   91   92  \n",
       "0 NaN  NaN  NaN  NaN  NaN  NaN  NaN   \n",
       "1 NaN  NaN  NaN  NaN  NaN  NaN  NaN   \n",
       "2 NaN  NaN  NaN  NaN  NaN  NaN  NaN   \n",
       "3 NaN  NaN  NaN  NaN  NaN  NaN  NaN   \n",
       "4 NaN  NaN  NaN  NaN  NaN  NaN  NaN   \n",
       "\n",
       "[5 rows x 87 columns]"
      ]
     },
     "execution_count": 84,
     "metadata": {},
     "output_type": "execute_result"
    }
   ],
   "source": [
    "stoich_df = stoich_df[sorted(stoich_df.columns)]\n",
    "stoich_df.head()"
   ]
  },
  {
   "cell_type": "code",
   "execution_count": 92,
   "metadata": {},
   "outputs": [],
   "source": [
    "stoich_df.rename(columns={-1: 'formula'}, inplace=True)"
   ]
  },
  {
   "cell_type": "code",
   "execution_count": 93,
   "metadata": {},
   "outputs": [
    {
     "data": {
      "text/html": [
       "<div>\n",
       "<style scoped>\n",
       "    .dataframe tbody tr th:only-of-type {\n",
       "        vertical-align: middle;\n",
       "    }\n",
       "\n",
       "    .dataframe tbody tr th {\n",
       "        vertical-align: top;\n",
       "    }\n",
       "\n",
       "    .dataframe thead th {\n",
       "        text-align: right;\n",
       "    }\n",
       "</style>\n",
       "<table border=\"1\" class=\"dataframe\">\n",
       "  <thead>\n",
       "    <tr style=\"text-align: right;\">\n",
       "      <th></th>\n",
       "      <th>formula</th>\n",
       "      <th>0</th>\n",
       "      <th>1</th>\n",
       "      <th>2</th>\n",
       "      <th>3</th>\n",
       "      <th>4</th>\n",
       "      <th>5</th>\n",
       "      <th>6</th>\n",
       "      <th>7</th>\n",
       "      <th>8</th>\n",
       "      <th>...</th>\n",
       "      <th>80</th>\n",
       "      <th>81</th>\n",
       "      <th>82</th>\n",
       "      <th>83</th>\n",
       "      <th>86</th>\n",
       "      <th>87</th>\n",
       "      <th>88</th>\n",
       "      <th>90</th>\n",
       "      <th>91</th>\n",
       "      <th>92</th>\n",
       "    </tr>\n",
       "  </thead>\n",
       "  <tbody>\n",
       "    <tr>\n",
       "      <th>0</th>\n",
       "      <td>MnC6H8O4(aq)</td>\n",
       "      <td>0.0</td>\n",
       "      <td>8.0</td>\n",
       "      <td>0.0</td>\n",
       "      <td>0.0</td>\n",
       "      <td>0.0</td>\n",
       "      <td>0.0</td>\n",
       "      <td>6.0</td>\n",
       "      <td>0.0</td>\n",
       "      <td>4.0</td>\n",
       "      <td>...</td>\n",
       "      <td>0.0</td>\n",
       "      <td>0.0</td>\n",
       "      <td>0.0</td>\n",
       "      <td>0.0</td>\n",
       "      <td>0.0</td>\n",
       "      <td>0.0</td>\n",
       "      <td>0.0</td>\n",
       "      <td>0.0</td>\n",
       "      <td>0.0</td>\n",
       "      <td>0.0</td>\n",
       "    </tr>\n",
       "    <tr>\n",
       "      <th>1</th>\n",
       "      <td>FeF+(aq)</td>\n",
       "      <td>1.0</td>\n",
       "      <td>0.0</td>\n",
       "      <td>0.0</td>\n",
       "      <td>0.0</td>\n",
       "      <td>0.0</td>\n",
       "      <td>0.0</td>\n",
       "      <td>0.0</td>\n",
       "      <td>0.0</td>\n",
       "      <td>0.0</td>\n",
       "      <td>...</td>\n",
       "      <td>0.0</td>\n",
       "      <td>0.0</td>\n",
       "      <td>0.0</td>\n",
       "      <td>0.0</td>\n",
       "      <td>0.0</td>\n",
       "      <td>0.0</td>\n",
       "      <td>0.0</td>\n",
       "      <td>0.0</td>\n",
       "      <td>0.0</td>\n",
       "      <td>0.0</td>\n",
       "    </tr>\n",
       "    <tr>\n",
       "      <th>2</th>\n",
       "      <td>C18H30(g)</td>\n",
       "      <td>0.0</td>\n",
       "      <td>30.0</td>\n",
       "      <td>0.0</td>\n",
       "      <td>0.0</td>\n",
       "      <td>0.0</td>\n",
       "      <td>0.0</td>\n",
       "      <td>18.0</td>\n",
       "      <td>0.0</td>\n",
       "      <td>0.0</td>\n",
       "      <td>...</td>\n",
       "      <td>0.0</td>\n",
       "      <td>0.0</td>\n",
       "      <td>0.0</td>\n",
       "      <td>0.0</td>\n",
       "      <td>0.0</td>\n",
       "      <td>0.0</td>\n",
       "      <td>0.0</td>\n",
       "      <td>0.0</td>\n",
       "      <td>0.0</td>\n",
       "      <td>0.0</td>\n",
       "    </tr>\n",
       "    <tr>\n",
       "      <th>3</th>\n",
       "      <td>Al+3(aq)</td>\n",
       "      <td>3.0</td>\n",
       "      <td>0.0</td>\n",
       "      <td>0.0</td>\n",
       "      <td>0.0</td>\n",
       "      <td>0.0</td>\n",
       "      <td>0.0</td>\n",
       "      <td>0.0</td>\n",
       "      <td>0.0</td>\n",
       "      <td>0.0</td>\n",
       "      <td>...</td>\n",
       "      <td>0.0</td>\n",
       "      <td>0.0</td>\n",
       "      <td>0.0</td>\n",
       "      <td>0.0</td>\n",
       "      <td>0.0</td>\n",
       "      <td>0.0</td>\n",
       "      <td>0.0</td>\n",
       "      <td>0.0</td>\n",
       "      <td>0.0</td>\n",
       "      <td>0.0</td>\n",
       "    </tr>\n",
       "    <tr>\n",
       "      <th>4</th>\n",
       "      <td>DyF3(aq)</td>\n",
       "      <td>0.0</td>\n",
       "      <td>0.0</td>\n",
       "      <td>0.0</td>\n",
       "      <td>0.0</td>\n",
       "      <td>0.0</td>\n",
       "      <td>0.0</td>\n",
       "      <td>0.0</td>\n",
       "      <td>0.0</td>\n",
       "      <td>0.0</td>\n",
       "      <td>...</td>\n",
       "      <td>0.0</td>\n",
       "      <td>0.0</td>\n",
       "      <td>0.0</td>\n",
       "      <td>0.0</td>\n",
       "      <td>0.0</td>\n",
       "      <td>0.0</td>\n",
       "      <td>0.0</td>\n",
       "      <td>0.0</td>\n",
       "      <td>0.0</td>\n",
       "      <td>0.0</td>\n",
       "    </tr>\n",
       "  </tbody>\n",
       "</table>\n",
       "<p>5 rows × 87 columns</p>\n",
       "</div>"
      ],
      "text/plain": [
       "        formula    0     1    2    3    4    5     6    7    8  ...   80   81  \\\n",
       "0  MnC6H8O4(aq)  0.0  8.0   0.0  0.0  0.0  0.0  6.0   0.0  4.0  ...  0.0  0.0   \n",
       "1  FeF+(aq)      1.0  0.0   0.0  0.0  0.0  0.0  0.0   0.0  0.0  ...  0.0  0.0   \n",
       "2  C18H30(g)     0.0  30.0  0.0  0.0  0.0  0.0  18.0  0.0  0.0  ...  0.0  0.0   \n",
       "3  Al+3(aq)      3.0  0.0   0.0  0.0  0.0  0.0  0.0   0.0  0.0  ...  0.0  0.0   \n",
       "4  DyF3(aq)      0.0  0.0   0.0  0.0  0.0  0.0  0.0   0.0  0.0  ...  0.0  0.0   \n",
       "\n",
       "    82   83   86   87   88   90   91   92  \n",
       "0  0.0  0.0  0.0  0.0  0.0  0.0  0.0  0.0  \n",
       "1  0.0  0.0  0.0  0.0  0.0  0.0  0.0  0.0  \n",
       "2  0.0  0.0  0.0  0.0  0.0  0.0  0.0  0.0  \n",
       "3  0.0  0.0  0.0  0.0  0.0  0.0  0.0  0.0  \n",
       "4  0.0  0.0  0.0  0.0  0.0  0.0  0.0  0.0  \n",
       "\n",
       "[5 rows x 87 columns]"
      ]
     },
     "execution_count": 93,
     "metadata": {},
     "output_type": "execute_result"
    }
   ],
   "source": [
    "stoich_df.fillna(0, inplace=True)\n",
    "stoich_df.head()"
   ]
  },
  {
   "cell_type": "code",
   "execution_count": 94,
   "metadata": {},
   "outputs": [],
   "source": [
    "stoich_df.to_csv('../data/processed/stoich_df.csv', index=False)"
   ]
  },
  {
   "cell_type": "markdown",
   "metadata": {},
   "source": [
    "## playground for writing functions using thermo tables\n",
    "\n",
    "The cells below show my thought process exploring how to relate the `chempy` library with the thermodynamic tables. The goals are as follows:\n",
    "\n",
    "- The most likely chemical reaction is highly correlated with the reaction that has the greatest loss of Gibbs free energy (given by parameter 'G' in `thermo`.\n",
    "- We iterate through the different possible products so long as their combination allows for balanced stoichiometry (having the same number of each element on both sides of the equation)\n",
    "\n",
    "We will attempt to predict the following reaction:\n",
    "\n",
    "$$ 2 Na(s) + 2 H_{2}O(l) \\longrightarrow 2 NaOH(aq) + H_{2}(g) $$"
   ]
  },
  {
   "cell_type": "code",
   "execution_count": 87,
   "metadata": {},
   "outputs": [],
   "source": [
    "reactants = ['Na', 'H2O']"
   ]
  },
  {
   "cell_type": "code",
   "execution_count": 88,
   "metadata": {},
   "outputs": [
    {
     "data": {
      "text/plain": [
       "[1, 8]"
      ]
     },
     "execution_count": 88,
     "metadata": {},
     "output_type": "execute_result"
    }
   ],
   "source": [
    "water = Substance.from_formula('H2O')\n",
    "[*water.composition]"
   ]
  },
  {
   "cell_type": "markdown",
   "metadata": {},
   "source": [
    "When searching for possible products, we want to ignore all compounds that have elements outside of sodium, hydrogen, or oxygen."
   ]
  },
  {
   "cell_type": "code",
   "execution_count": 89,
   "metadata": {},
   "outputs": [
    {
     "data": {
      "text/plain": [
       "{1, 11, 8, 'formula'}"
      ]
     },
     "execution_count": 89,
     "metadata": {},
     "output_type": "execute_result"
    }
   ],
   "source": [
    "z_ignore = ['formula']\n",
    "for r in reactants:\n",
    "    s = Substance.from_formula(r)\n",
    "    z_ignore += [*s.composition]\n",
    "z_ignore = set(z_ignore)\n",
    "z_ignore"
   ]
  },
  {
   "cell_type": "code",
   "execution_count": 90,
   "metadata": {},
   "outputs": [
    {
     "name": "stdout",
     "output_type": "stream",
     "text": [
      "[0, 2, 3, 4, 5, 6, 7, 9, 10, 12, 13, 14, 15, 16, 17, 18, 19, 20, 21, 22, 23, 24, 25, 26, 27, 28, 29, 30, 31, 32, 33, 34, 35, 36, 37, 38, 39, 40, 41, 42, 43, 44, 45, 46, 47, 48, 49, 50, 51, 53, 54, 55, 56, 57, 58, 59, 60, 61, 62, 63, 64, 65, 66, 67, 68, 69, 70, 71, 72, 74, 75, 78, 79, 80, 81, 82, 83, 86, 87, 88, 90, 91, 92]\n"
     ]
    }
   ],
   "source": [
    "column_mask = [col for col in stoich.columns if col not in z_ignore]\n",
    "print(column_mask)"
   ]
  },
  {
   "cell_type": "code",
   "execution_count": 113,
   "metadata": {},
   "outputs": [
    {
     "data": {
      "text/html": [
       "<div>\n",
       "<style scoped>\n",
       "    .dataframe tbody tr th:only-of-type {\n",
       "        vertical-align: middle;\n",
       "    }\n",
       "\n",
       "    .dataframe tbody tr th {\n",
       "        vertical-align: top;\n",
       "    }\n",
       "\n",
       "    .dataframe thead th {\n",
       "        text-align: right;\n",
       "    }\n",
       "</style>\n",
       "<table border=\"1\" class=\"dataframe\">\n",
       "  <thead>\n",
       "    <tr style=\"text-align: right;\">\n",
       "      <th></th>\n",
       "      <th>8</th>\n",
       "      <th>1</th>\n",
       "      <th>11</th>\n",
       "      <th>formula</th>\n",
       "    </tr>\n",
       "  </thead>\n",
       "  <tbody>\n",
       "    <tr>\n",
       "      <th>49</th>\n",
       "      <td>1.0</td>\n",
       "      <td>2.0</td>\n",
       "      <td>0.0</td>\n",
       "      <td>H2O(g)</td>\n",
       "    </tr>\n",
       "    <tr>\n",
       "      <th>61</th>\n",
       "      <td>1.0</td>\n",
       "      <td>0.0</td>\n",
       "      <td>2.0</td>\n",
       "      <td>Na2O(s)</td>\n",
       "    </tr>\n",
       "    <tr>\n",
       "      <th>172</th>\n",
       "      <td>0.0</td>\n",
       "      <td>0.0</td>\n",
       "      <td>1.0</td>\n",
       "      <td>Na(g)</td>\n",
       "    </tr>\n",
       "    <tr>\n",
       "      <th>289</th>\n",
       "      <td>1.0</td>\n",
       "      <td>2.0</td>\n",
       "      <td>0.0</td>\n",
       "      <td>H2O(s, VIII)</td>\n",
       "    </tr>\n",
       "    <tr>\n",
       "      <th>569</th>\n",
       "      <td>1.0</td>\n",
       "      <td>2.0</td>\n",
       "      <td>0.0</td>\n",
       "      <td>H2O(s)</td>\n",
       "    </tr>\n",
       "    <tr>\n",
       "      <th>576</th>\n",
       "      <td>2.0</td>\n",
       "      <td>0.0</td>\n",
       "      <td>0.0</td>\n",
       "      <td>O2(g)</td>\n",
       "    </tr>\n",
       "    <tr>\n",
       "      <th>604</th>\n",
       "      <td>1.0</td>\n",
       "      <td>0.0</td>\n",
       "      <td>0.0</td>\n",
       "      <td>O(g)</td>\n",
       "    </tr>\n",
       "    <tr>\n",
       "      <th>854</th>\n",
       "      <td>0.0</td>\n",
       "      <td>0.0</td>\n",
       "      <td>1.0</td>\n",
       "      <td>Na(s)</td>\n",
       "    </tr>\n",
       "    <tr>\n",
       "      <th>943</th>\n",
       "      <td>2.0</td>\n",
       "      <td>2.0</td>\n",
       "      <td>0.0</td>\n",
       "      <td>H2O2(aq)</td>\n",
       "    </tr>\n",
       "    <tr>\n",
       "      <th>1006</th>\n",
       "      <td>2.0</td>\n",
       "      <td>2.0</td>\n",
       "      <td>0.0</td>\n",
       "      <td>H2O2(l)</td>\n",
       "    </tr>\n",
       "    <tr>\n",
       "      <th>1051</th>\n",
       "      <td>1.0</td>\n",
       "      <td>1.0</td>\n",
       "      <td>1.0</td>\n",
       "      <td>NaOH(s)</td>\n",
       "    </tr>\n",
       "    <tr>\n",
       "      <th>1515</th>\n",
       "      <td>0.0</td>\n",
       "      <td>2.0</td>\n",
       "      <td>0.0</td>\n",
       "      <td>H2(g)</td>\n",
       "    </tr>\n",
       "    <tr>\n",
       "      <th>1577</th>\n",
       "      <td>1.0</td>\n",
       "      <td>2.0</td>\n",
       "      <td>0.0</td>\n",
       "      <td>H2O(s, V)</td>\n",
       "    </tr>\n",
       "    <tr>\n",
       "      <th>1596</th>\n",
       "      <td>1.0</td>\n",
       "      <td>2.0</td>\n",
       "      <td>0.0</td>\n",
       "      <td>H2O(s, VI)</td>\n",
       "    </tr>\n",
       "    <tr>\n",
       "      <th>1603</th>\n",
       "      <td>3.0</td>\n",
       "      <td>0.0</td>\n",
       "      <td>0.0</td>\n",
       "      <td>O3(g)</td>\n",
       "    </tr>\n",
       "    <tr>\n",
       "      <th>1623</th>\n",
       "      <td>1.0</td>\n",
       "      <td>2.0</td>\n",
       "      <td>0.0</td>\n",
       "      <td>H2O(s, IX)</td>\n",
       "    </tr>\n",
       "    <tr>\n",
       "      <th>1852</th>\n",
       "      <td>0.0</td>\n",
       "      <td>1.0</td>\n",
       "      <td>0.0</td>\n",
       "      <td>H(g)</td>\n",
       "    </tr>\n",
       "    <tr>\n",
       "      <th>1905</th>\n",
       "      <td>1.0</td>\n",
       "      <td>2.0</td>\n",
       "      <td>0.0</td>\n",
       "      <td>H2O(l)</td>\n",
       "    </tr>\n",
       "    <tr>\n",
       "      <th>2318</th>\n",
       "      <td>1.0</td>\n",
       "      <td>2.0</td>\n",
       "      <td>0.0</td>\n",
       "      <td>H2O(s, VII)</td>\n",
       "    </tr>\n",
       "    <tr>\n",
       "      <th>2428</th>\n",
       "      <td>0.0</td>\n",
       "      <td>2.0</td>\n",
       "      <td>0.0</td>\n",
       "      <td>H2(aq)</td>\n",
       "    </tr>\n",
       "    <tr>\n",
       "      <th>2533</th>\n",
       "      <td>1.0</td>\n",
       "      <td>2.0</td>\n",
       "      <td>0.0</td>\n",
       "      <td>H2O(s, II)</td>\n",
       "    </tr>\n",
       "    <tr>\n",
       "      <th>2755</th>\n",
       "      <td>1.0</td>\n",
       "      <td>2.0</td>\n",
       "      <td>0.0</td>\n",
       "      <td>H2O(s, III)</td>\n",
       "    </tr>\n",
       "    <tr>\n",
       "      <th>2758</th>\n",
       "      <td>1.0</td>\n",
       "      <td>1.0</td>\n",
       "      <td>1.0</td>\n",
       "      <td>NaOH(aq)</td>\n",
       "    </tr>\n",
       "    <tr>\n",
       "      <th>2824</th>\n",
       "      <td>2.0</td>\n",
       "      <td>0.0</td>\n",
       "      <td>0.0</td>\n",
       "      <td>O2(aq)</td>\n",
       "    </tr>\n",
       "  </tbody>\n",
       "</table>\n",
       "</div>"
      ],
      "text/plain": [
       "        8    1   11       formula\n",
       "49    1.0  2.0  0.0  H2O(g)      \n",
       "61    1.0  0.0  2.0  Na2O(s)     \n",
       "172   0.0  0.0  1.0  Na(g)       \n",
       "289   1.0  2.0  0.0  H2O(s, VIII)\n",
       "569   1.0  2.0  0.0  H2O(s)      \n",
       "576   2.0  0.0  0.0  O2(g)       \n",
       "604   1.0  0.0  0.0  O(g)        \n",
       "854   0.0  0.0  1.0  Na(s)       \n",
       "943   2.0  2.0  0.0  H2O2(aq)    \n",
       "1006  2.0  2.0  0.0  H2O2(l)     \n",
       "1051  1.0  1.0  1.0  NaOH(s)     \n",
       "1515  0.0  2.0  0.0  H2(g)       \n",
       "1577  1.0  2.0  0.0  H2O(s, V)   \n",
       "1596  1.0  2.0  0.0  H2O(s, VI)  \n",
       "1603  3.0  0.0  0.0  O3(g)       \n",
       "1623  1.0  2.0  0.0  H2O(s, IX)  \n",
       "1852  0.0  1.0  0.0  H(g)        \n",
       "1905  1.0  2.0  0.0  H2O(l)      \n",
       "2318  1.0  2.0  0.0  H2O(s, VII) \n",
       "2428  0.0  2.0  0.0  H2(aq)      \n",
       "2533  1.0  2.0  0.0  H2O(s, II)  \n",
       "2755  1.0  2.0  0.0  H2O(s, III) \n",
       "2758  1.0  1.0  1.0  NaOH(aq)    \n",
       "2824  2.0  0.0  0.0  O2(aq)      "
      ]
     },
     "execution_count": 113,
     "metadata": {},
     "output_type": "execute_result"
    }
   ],
   "source": [
    "# https://stackoverflow.com/questions/22649693/\n",
    "\n",
    "stoich_temp = stoich_df.copy()\n",
    "\n",
    "for col in column_mask:\n",
    "    stoich_temp = stoich_temp[stoich_temp[col] == 0]\n",
    "\n",
    "stoich_temp = stoich_temp.loc[(stoich_temp.drop(columns=['formula'])!=0).any(axis=1)]\n",
    "\n",
    "stoich_temp = stoich_temp[z_ignore]\n",
    "stoich_temp"
   ]
  },
  {
   "cell_type": "code",
   "execution_count": 116,
   "metadata": {},
   "outputs": [
    {
     "data": {
      "text/plain": [
       "{'H', 'H2', 'H2O2', 'Na2O', 'NaOH', 'O', 'O2', 'O3'}"
      ]
     },
     "execution_count": 116,
     "metadata": {},
     "output_type": "execute_result"
    }
   ],
   "source": [
    "# chemical reactions don't have the same species on both sides of the arrow\n",
    "\n",
    "candidates = set([formula_state_separator(f) for f in set(stoich_temp['formula'])\\\n",
    "              if formula_state_separator(f) not in map(formula_state_separator, reactants)])\n",
    "candidates"
   ]
  },
  {
   "cell_type": "code",
   "execution_count": 117,
   "metadata": {},
   "outputs": [
    {
     "data": {
      "text/plain": [
       "[('H2',),\n",
       " ('O3',),\n",
       " ('H2O2',),\n",
       " ('O',),\n",
       " ('Na2O',),\n",
       " ('NaOH',),\n",
       " ('H',),\n",
       " ('O2',),\n",
       " ('H2', 'O3'),\n",
       " ('H2', 'H2O2'),\n",
       " ('H2', 'O'),\n",
       " ('H2', 'Na2O'),\n",
       " ('H2', 'NaOH'),\n",
       " ('H2', 'H'),\n",
       " ('H2', 'O2'),\n",
       " ('O3', 'H2O2'),\n",
       " ('O3', 'O'),\n",
       " ('O3', 'Na2O'),\n",
       " ('O3', 'NaOH'),\n",
       " ('O3', 'H'),\n",
       " ('O3', 'O2'),\n",
       " ('H2O2', 'O'),\n",
       " ('H2O2', 'Na2O'),\n",
       " ('H2O2', 'NaOH'),\n",
       " ('H2O2', 'H'),\n",
       " ('H2O2', 'O2'),\n",
       " ('O', 'Na2O'),\n",
       " ('O', 'NaOH'),\n",
       " ('O', 'H'),\n",
       " ('O', 'O2'),\n",
       " ('Na2O', 'NaOH'),\n",
       " ('Na2O', 'H'),\n",
       " ('Na2O', 'O2'),\n",
       " ('NaOH', 'H'),\n",
       " ('NaOH', 'O2'),\n",
       " ('H', 'O2'),\n",
       " ('H2', 'O3', 'H2O2'),\n",
       " ('H2', 'O3', 'O'),\n",
       " ('H2', 'O3', 'Na2O'),\n",
       " ('H2', 'O3', 'NaOH'),\n",
       " ('H2', 'O3', 'H'),\n",
       " ('H2', 'O3', 'O2'),\n",
       " ('H2', 'H2O2', 'O'),\n",
       " ('H2', 'H2O2', 'Na2O'),\n",
       " ('H2', 'H2O2', 'NaOH'),\n",
       " ('H2', 'H2O2', 'H'),\n",
       " ('H2', 'H2O2', 'O2'),\n",
       " ('H2', 'O', 'Na2O'),\n",
       " ('H2', 'O', 'NaOH'),\n",
       " ('H2', 'O', 'H'),\n",
       " ('H2', 'O', 'O2'),\n",
       " ('H2', 'Na2O', 'NaOH'),\n",
       " ('H2', 'Na2O', 'H'),\n",
       " ('H2', 'Na2O', 'O2'),\n",
       " ('H2', 'NaOH', 'H'),\n",
       " ('H2', 'NaOH', 'O2'),\n",
       " ('H2', 'H', 'O2'),\n",
       " ('O3', 'H2O2', 'O'),\n",
       " ('O3', 'H2O2', 'Na2O'),\n",
       " ('O3', 'H2O2', 'NaOH'),\n",
       " ('O3', 'H2O2', 'H'),\n",
       " ('O3', 'H2O2', 'O2'),\n",
       " ('O3', 'O', 'Na2O'),\n",
       " ('O3', 'O', 'NaOH'),\n",
       " ('O3', 'O', 'H'),\n",
       " ('O3', 'O', 'O2'),\n",
       " ('O3', 'Na2O', 'NaOH'),\n",
       " ('O3', 'Na2O', 'H'),\n",
       " ('O3', 'Na2O', 'O2'),\n",
       " ('O3', 'NaOH', 'H'),\n",
       " ('O3', 'NaOH', 'O2'),\n",
       " ('O3', 'H', 'O2'),\n",
       " ('H2O2', 'O', 'Na2O'),\n",
       " ('H2O2', 'O', 'NaOH'),\n",
       " ('H2O2', 'O', 'H'),\n",
       " ('H2O2', 'O', 'O2'),\n",
       " ('H2O2', 'Na2O', 'NaOH'),\n",
       " ('H2O2', 'Na2O', 'H'),\n",
       " ('H2O2', 'Na2O', 'O2'),\n",
       " ('H2O2', 'NaOH', 'H'),\n",
       " ('H2O2', 'NaOH', 'O2'),\n",
       " ('H2O2', 'H', 'O2'),\n",
       " ('O', 'Na2O', 'NaOH'),\n",
       " ('O', 'Na2O', 'H'),\n",
       " ('O', 'Na2O', 'O2'),\n",
       " ('O', 'NaOH', 'H'),\n",
       " ('O', 'NaOH', 'O2'),\n",
       " ('O', 'H', 'O2'),\n",
       " ('Na2O', 'NaOH', 'H'),\n",
       " ('Na2O', 'NaOH', 'O2'),\n",
       " ('Na2O', 'H', 'O2'),\n",
       " ('NaOH', 'H', 'O2'),\n",
       " ('H2', 'O3', 'H2O2', 'O'),\n",
       " ('H2', 'O3', 'H2O2', 'Na2O'),\n",
       " ('H2', 'O3', 'H2O2', 'NaOH'),\n",
       " ('H2', 'O3', 'H2O2', 'H'),\n",
       " ('H2', 'O3', 'H2O2', 'O2'),\n",
       " ('H2', 'O3', 'O', 'Na2O'),\n",
       " ('H2', 'O3', 'O', 'NaOH'),\n",
       " ('H2', 'O3', 'O', 'H'),\n",
       " ('H2', 'O3', 'O', 'O2'),\n",
       " ('H2', 'O3', 'Na2O', 'NaOH'),\n",
       " ('H2', 'O3', 'Na2O', 'H'),\n",
       " ('H2', 'O3', 'Na2O', 'O2'),\n",
       " ('H2', 'O3', 'NaOH', 'H'),\n",
       " ('H2', 'O3', 'NaOH', 'O2'),\n",
       " ('H2', 'O3', 'H', 'O2'),\n",
       " ('H2', 'H2O2', 'O', 'Na2O'),\n",
       " ('H2', 'H2O2', 'O', 'NaOH'),\n",
       " ('H2', 'H2O2', 'O', 'H'),\n",
       " ('H2', 'H2O2', 'O', 'O2'),\n",
       " ('H2', 'H2O2', 'Na2O', 'NaOH'),\n",
       " ('H2', 'H2O2', 'Na2O', 'H'),\n",
       " ('H2', 'H2O2', 'Na2O', 'O2'),\n",
       " ('H2', 'H2O2', 'NaOH', 'H'),\n",
       " ('H2', 'H2O2', 'NaOH', 'O2'),\n",
       " ('H2', 'H2O2', 'H', 'O2'),\n",
       " ('H2', 'O', 'Na2O', 'NaOH'),\n",
       " ('H2', 'O', 'Na2O', 'H'),\n",
       " ('H2', 'O', 'Na2O', 'O2'),\n",
       " ('H2', 'O', 'NaOH', 'H'),\n",
       " ('H2', 'O', 'NaOH', 'O2'),\n",
       " ('H2', 'O', 'H', 'O2'),\n",
       " ('H2', 'Na2O', 'NaOH', 'H'),\n",
       " ('H2', 'Na2O', 'NaOH', 'O2'),\n",
       " ('H2', 'Na2O', 'H', 'O2'),\n",
       " ('H2', 'NaOH', 'H', 'O2'),\n",
       " ('O3', 'H2O2', 'O', 'Na2O'),\n",
       " ('O3', 'H2O2', 'O', 'NaOH'),\n",
       " ('O3', 'H2O2', 'O', 'H'),\n",
       " ('O3', 'H2O2', 'O', 'O2'),\n",
       " ('O3', 'H2O2', 'Na2O', 'NaOH'),\n",
       " ('O3', 'H2O2', 'Na2O', 'H'),\n",
       " ('O3', 'H2O2', 'Na2O', 'O2'),\n",
       " ('O3', 'H2O2', 'NaOH', 'H'),\n",
       " ('O3', 'H2O2', 'NaOH', 'O2'),\n",
       " ('O3', 'H2O2', 'H', 'O2'),\n",
       " ('O3', 'O', 'Na2O', 'NaOH'),\n",
       " ('O3', 'O', 'Na2O', 'H'),\n",
       " ('O3', 'O', 'Na2O', 'O2'),\n",
       " ('O3', 'O', 'NaOH', 'H'),\n",
       " ('O3', 'O', 'NaOH', 'O2'),\n",
       " ('O3', 'O', 'H', 'O2'),\n",
       " ('O3', 'Na2O', 'NaOH', 'H'),\n",
       " ('O3', 'Na2O', 'NaOH', 'O2'),\n",
       " ('O3', 'Na2O', 'H', 'O2'),\n",
       " ('O3', 'NaOH', 'H', 'O2'),\n",
       " ('H2O2', 'O', 'Na2O', 'NaOH'),\n",
       " ('H2O2', 'O', 'Na2O', 'H'),\n",
       " ('H2O2', 'O', 'Na2O', 'O2'),\n",
       " ('H2O2', 'O', 'NaOH', 'H'),\n",
       " ('H2O2', 'O', 'NaOH', 'O2'),\n",
       " ('H2O2', 'O', 'H', 'O2'),\n",
       " ('H2O2', 'Na2O', 'NaOH', 'H'),\n",
       " ('H2O2', 'Na2O', 'NaOH', 'O2'),\n",
       " ('H2O2', 'Na2O', 'H', 'O2'),\n",
       " ('H2O2', 'NaOH', 'H', 'O2'),\n",
       " ('O', 'Na2O', 'NaOH', 'H'),\n",
       " ('O', 'Na2O', 'NaOH', 'O2'),\n",
       " ('O', 'Na2O', 'H', 'O2'),\n",
       " ('O', 'NaOH', 'H', 'O2'),\n",
       " ('Na2O', 'NaOH', 'H', 'O2'),\n",
       " ('H2', 'O3', 'H2O2', 'O', 'Na2O'),\n",
       " ('H2', 'O3', 'H2O2', 'O', 'NaOH'),\n",
       " ('H2', 'O3', 'H2O2', 'O', 'H'),\n",
       " ('H2', 'O3', 'H2O2', 'O', 'O2'),\n",
       " ('H2', 'O3', 'H2O2', 'Na2O', 'NaOH'),\n",
       " ('H2', 'O3', 'H2O2', 'Na2O', 'H'),\n",
       " ('H2', 'O3', 'H2O2', 'Na2O', 'O2'),\n",
       " ('H2', 'O3', 'H2O2', 'NaOH', 'H'),\n",
       " ('H2', 'O3', 'H2O2', 'NaOH', 'O2'),\n",
       " ('H2', 'O3', 'H2O2', 'H', 'O2'),\n",
       " ('H2', 'O3', 'O', 'Na2O', 'NaOH'),\n",
       " ('H2', 'O3', 'O', 'Na2O', 'H'),\n",
       " ('H2', 'O3', 'O', 'Na2O', 'O2'),\n",
       " ('H2', 'O3', 'O', 'NaOH', 'H'),\n",
       " ('H2', 'O3', 'O', 'NaOH', 'O2'),\n",
       " ('H2', 'O3', 'O', 'H', 'O2'),\n",
       " ('H2', 'O3', 'Na2O', 'NaOH', 'H'),\n",
       " ('H2', 'O3', 'Na2O', 'NaOH', 'O2'),\n",
       " ('H2', 'O3', 'Na2O', 'H', 'O2'),\n",
       " ('H2', 'O3', 'NaOH', 'H', 'O2'),\n",
       " ('H2', 'H2O2', 'O', 'Na2O', 'NaOH'),\n",
       " ('H2', 'H2O2', 'O', 'Na2O', 'H'),\n",
       " ('H2', 'H2O2', 'O', 'Na2O', 'O2'),\n",
       " ('H2', 'H2O2', 'O', 'NaOH', 'H'),\n",
       " ('H2', 'H2O2', 'O', 'NaOH', 'O2'),\n",
       " ('H2', 'H2O2', 'O', 'H', 'O2'),\n",
       " ('H2', 'H2O2', 'Na2O', 'NaOH', 'H'),\n",
       " ('H2', 'H2O2', 'Na2O', 'NaOH', 'O2'),\n",
       " ('H2', 'H2O2', 'Na2O', 'H', 'O2'),\n",
       " ('H2', 'H2O2', 'NaOH', 'H', 'O2'),\n",
       " ('H2', 'O', 'Na2O', 'NaOH', 'H'),\n",
       " ('H2', 'O', 'Na2O', 'NaOH', 'O2'),\n",
       " ('H2', 'O', 'Na2O', 'H', 'O2'),\n",
       " ('H2', 'O', 'NaOH', 'H', 'O2'),\n",
       " ('H2', 'Na2O', 'NaOH', 'H', 'O2'),\n",
       " ('O3', 'H2O2', 'O', 'Na2O', 'NaOH'),\n",
       " ('O3', 'H2O2', 'O', 'Na2O', 'H'),\n",
       " ('O3', 'H2O2', 'O', 'Na2O', 'O2'),\n",
       " ('O3', 'H2O2', 'O', 'NaOH', 'H'),\n",
       " ('O3', 'H2O2', 'O', 'NaOH', 'O2'),\n",
       " ('O3', 'H2O2', 'O', 'H', 'O2'),\n",
       " ('O3', 'H2O2', 'Na2O', 'NaOH', 'H'),\n",
       " ('O3', 'H2O2', 'Na2O', 'NaOH', 'O2'),\n",
       " ('O3', 'H2O2', 'Na2O', 'H', 'O2'),\n",
       " ('O3', 'H2O2', 'NaOH', 'H', 'O2'),\n",
       " ('O3', 'O', 'Na2O', 'NaOH', 'H'),\n",
       " ('O3', 'O', 'Na2O', 'NaOH', 'O2'),\n",
       " ('O3', 'O', 'Na2O', 'H', 'O2'),\n",
       " ('O3', 'O', 'NaOH', 'H', 'O2'),\n",
       " ('O3', 'Na2O', 'NaOH', 'H', 'O2'),\n",
       " ('H2O2', 'O', 'Na2O', 'NaOH', 'H'),\n",
       " ('H2O2', 'O', 'Na2O', 'NaOH', 'O2'),\n",
       " ('H2O2', 'O', 'Na2O', 'H', 'O2'),\n",
       " ('H2O2', 'O', 'NaOH', 'H', 'O2'),\n",
       " ('H2O2', 'Na2O', 'NaOH', 'H', 'O2'),\n",
       " ('O', 'Na2O', 'NaOH', 'H', 'O2')]"
      ]
     },
     "execution_count": 117,
     "metadata": {},
     "output_type": "execute_result"
    }
   ],
   "source": [
    "# most chemical reactions don't form more than four different chemical species\n",
    "# we'll play it safe and just make the maximum number 3 + num_reactants\n",
    "\n",
    "combinations = []\n",
    "max_length = min(len(reactants) + 4, 7)\n",
    "for i in range(1, max_length):\n",
    "    combinations += list(itertools.combinations(candidates, i))\n",
    "combinations"
   ]
  },
  {
   "cell_type": "markdown",
   "metadata": {},
   "source": [
    "Let's see if any of these combinations result in a good balanced equation:"
   ]
  },
  {
   "cell_type": "code",
   "execution_count": 118,
   "metadata": {},
   "outputs": [
    {
     "name": "stdout",
     "output_type": "stream",
     "text": [
      "(OrderedDict([('Na', 2), ('H2O', 1)]), OrderedDict([('H2', 1), ('Na2O', 1)]))\n",
      "(OrderedDict([('Na', 2), ('H2O', 2)]), OrderedDict([('H2', 1), ('NaOH', 2)]))\n",
      "(OrderedDict([('Na', 6), ('H2O', 3)]), OrderedDict([('O3', -1), ('NaOH', 6)]))\n",
      "(OrderedDict([('Na', 2), ('H2O', -1)]), OrderedDict([('H2O2', -1), ('Na2O', 1)]))\n",
      "(OrderedDict([('Na', 2), ('H2O', 1)]), OrderedDict([('O', -1), ('NaOH', 2)]))\n",
      "(OrderedDict([('Na', 2), ('H2O', 1)]), OrderedDict([('Na2O', 1), ('H', 2)]))\n",
      "(OrderedDict([('Na', 1), ('H2O', 1)]), OrderedDict([('NaOH', 1), ('H', 1)]))\n",
      "(OrderedDict([('Na', -4), ('H2O', -2)]), OrderedDict([('NaOH', -4), ('O2', 1)]))\n",
      "(OrderedDict([('Na', 2*x1), ('H2O', x1 + 3)]), OrderedDict([('H2', x1 + 3), ('O3', 1), ('Na2O', x1)]))\n",
      "(OrderedDict([('Na', 2*x1), ('H2O', 2*x1 + 6)]), OrderedDict([('H2', x1 + 6), ('O3', 2), ('NaOH', 2*x1)]))\n",
      "(OrderedDict([('Na', 2*x1), ('H2O', x1 + 2)]), OrderedDict([('H2', x1 + 1), ('H2O2', 1), ('Na2O', x1)]))\n",
      "(OrderedDict([('Na', 2*x1), ('H2O', 2*x1 + 4)]), OrderedDict([('H2', x1 + 2), ('H2O2', 2), ('NaOH', 2*x1)]))\n",
      "(OrderedDict([('Na', 2*x1), ('H2O', x1 + 1)]), OrderedDict([('H2', x1 + 1), ('O', 1), ('Na2O', x1)]))\n",
      "(OrderedDict([('Na', 2*x1), ('H2O', 2*x1 + 2)]), OrderedDict([('H2', x1 + 2), ('O', 2), ('NaOH', 2*x1)]))\n",
      "(OrderedDict([('Na', 2*x1 + 4), ('H2O', 2*x1 + 2)]), OrderedDict([('H2', x1 + 2), ('Na2O', 2), ('NaOH', 2*x1)]))\n",
      "(OrderedDict([('Na', 4), ('H2O', 2)]), OrderedDict([('H2', 2 - x1), ('Na2O', 2), ('H', 2*x1)]))\n",
      "(OrderedDict([('Na', 2), ('H2O', 2*x1 + 1)]), OrderedDict([('H2', 2*x1 + 1), ('Na2O', 1), ('O2', x1)]))\n",
      "(OrderedDict([('Na', 2), ('H2O', 2)]), OrderedDict([('H2', 1 - x1), ('NaOH', 2), ('H', 2*x1)]))\n",
      "(OrderedDict([('Na', 1), ('H2O', 2*x1 + 1)]), OrderedDict([('H2', 2*x1 + 1/2), ('NaOH', 1), ('O2', x1)]))\n",
      "(OrderedDict([('Na', 6*x1), ('H2O', 3)]), OrderedDict([('O3', -x1 - 1), ('H2O2', 3), ('Na2O', 3*x1)]))\n",
      "(OrderedDict([('Na', 6*x1), ('H2O', 3*x1 + 6)]), OrderedDict([('O3', -x1 - 2), ('H2O2', 6), ('NaOH', 6*x1)]))\n",
      "(OrderedDict([('Na', 6*x1), ('H2O', 3*x1)]), OrderedDict([('O3', -x1 - 2), ('O', 6), ('NaOH', 6*x1)]))\n",
      "(OrderedDict([('Na', 6*x1 + 12), ('H2O', 3*x1)]), OrderedDict([('O3', -x1 - 2), ('Na2O', 6), ('NaOH', 6*x1)]))\n",
      "(OrderedDict([('Na', 12), ('H2O', 3*x1)]), OrderedDict([('O3', x1 - 2), ('Na2O', 6), ('H', 6*x1)]))\n",
      "(OrderedDict([('Na', 6), ('H2O', 3*x1 + 3)]), OrderedDict([('O3', x1 - 1), ('NaOH', 6), ('H', 6*x1)]))\n",
      "(OrderedDict([('Na', 3), ('H2O', 3/2)]), OrderedDict([('O3', -2*x1 - 1/2), ('NaOH', 3), ('O2', 3*x1)]))\n",
      "(OrderedDict([('Na', 2*x1), ('H2O', -x1 - 1)]), OrderedDict([('H2O2', -x1 - 1), ('O', 1), ('Na2O', x1)]))\n",
      "(OrderedDict([('Na', 2*x1), ('H2O', -2)]), OrderedDict([('H2O2', -x1 - 2), ('O', 2), ('NaOH', 2*x1)]))\n",
      "(OrderedDict([('Na', 2*x1 + 4), ('H2O', -2)]), OrderedDict([('H2O2', -x1 - 2), ('Na2O', 2), ('NaOH', 2*x1)]))\n",
      "(OrderedDict([('Na', 4), ('H2O', 2*x1 - 2)]), OrderedDict([('H2O2', x1 - 2), ('Na2O', 2), ('H', 2*x1)]))\n",
      "(OrderedDict([('Na', 2), ('H2O', -2*x1 - 1)]), OrderedDict([('H2O2', -2*x1 - 1), ('Na2O', 1), ('O2', x1)]))\n",
      "(OrderedDict([('Na', 2), ('H2O', 2*x1)]), OrderedDict([('H2O2', x1 - 1), ('NaOH', 2), ('H', 2*x1)]))\n",
      "(OrderedDict([('Na', 1), ('H2O', -2*x1)]), OrderedDict([('H2O2', -2*x1 - 1/2), ('NaOH', 1), ('O2', x1)]))\n",
      "(OrderedDict([('Na', 2*x1 + 4), ('H2O', x1)]), OrderedDict([('O', -x1 - 2), ('Na2O', 2), ('NaOH', 2*x1)]))\n",
      "(OrderedDict([('Na', 4), ('H2O', x1)]), OrderedDict([('O', x1 - 2), ('Na2O', 2), ('H', 2*x1)]))\n",
      "(OrderedDict([('Na', 2), ('H2O', x1 + 1)]), OrderedDict([('O', x1 - 1), ('NaOH', 2), ('H', 2*x1)]))\n",
      "(OrderedDict([('Na', 1), ('H2O', 1/2)]), OrderedDict([('O', -2*x1 - 1/2), ('NaOH', 1), ('O2', x1)]))\n",
      "(OrderedDict([('Na', 2*x1), ('H2O', x1 + 1)]), OrderedDict([('Na2O', x1 - 1), ('NaOH', 2), ('H', 2*x1)]))\n",
      "(OrderedDict([('Na', -4*x1), ('H2O', 1/2)]), OrderedDict([('Na2O', -2*x1 - 1/2), ('NaOH', 1), ('O2', x1)]))\n",
      "(OrderedDict([('Na', 1 - 4*x1), ('H2O', 1/2)]), OrderedDict([('Na2O', 1/2 - 2*x1), ('H', 1), ('O2', x1)]))\n",
      "(OrderedDict([('Na', 1 - 4*x1), ('H2O', 1 - 2*x1)]), OrderedDict([('NaOH', 1 - 4*x1), ('H', 1), ('O2', x1)]))\n",
      "(OrderedDict([('Na', 2*x1), ('H2O', x1 + 2*x2 + 3)]), OrderedDict([('H2', x1 + x2 + 3), ('O3', 1), ('H2O2', x2), ('Na2O', x1)]))\n",
      "(OrderedDict([('Na', 2*x1), ('H2O', 2*x1 + 4*x2 + 6)]), OrderedDict([('H2', x1 + 2*x2 + 6), ('O3', 2), ('H2O2', 2*x2), ('NaOH', 2*x1)]))\n",
      "(OrderedDict([('Na', 2*x1), ('H2O', x1 + x2 + 3)]), OrderedDict([('H2', x1 + x2 + 3), ('O3', 1), ('O', x2), ('Na2O', x1)]))\n",
      "(OrderedDict([('Na', 2*x1), ('H2O', 2*x1 + 2*x2 + 6)]), OrderedDict([('H2', x1 + 2*x2 + 6), ('O3', 2), ('O', 2*x2), ('NaOH', 2*x1)]))\n",
      "(OrderedDict([('Na', 2*x1 + 4*x2), ('H2O', 2*x1 + 2*x2 + 6)]), OrderedDict([('H2', x1 + 2*x2 + 6), ('O3', 2), ('Na2O', 2*x2), ('NaOH', 2*x1)]))\n",
      "(OrderedDict([('Na', 4*x2), ('H2O', 2*x2 + 6)]), OrderedDict([('H2', -x1 + 2*x2 + 6), ('O3', 2), ('Na2O', 2*x2), ('H', 2*x1)]))\n",
      "(OrderedDict([('Na', 2*x2), ('H2O', 2*x1 + x2 + 3)]), OrderedDict([('H2', 2*x1 + x2 + 3), ('O3', 1), ('Na2O', x2), ('O2', x1)]))\n",
      "(OrderedDict([('Na', 2*x2), ('H2O', 2*x2 + 6)]), OrderedDict([('H2', -x1 + x2 + 6), ('O3', 2), ('NaOH', 2*x2), ('H', 2*x1)]))\n",
      "(OrderedDict([('Na', 2*x2), ('H2O', 2*x1 + 2*x2 + 3)]), OrderedDict([('H2', 2*x1 + x2 + 3), ('O3', 1), ('NaOH', 2*x2), ('O2', x1)]))\n",
      "(OrderedDict([('Na', 2*x1), ('H2O', x1 + x2 + 2)]), OrderedDict([('H2', x1 + x2 + 1), ('H2O2', 1), ('O', x2), ('Na2O', x1)]))\n",
      "(OrderedDict([('Na', 2*x1), ('H2O', 2*x1 + 2*x2 + 4)]), OrderedDict([('H2', x1 + 2*x2 + 2), ('H2O2', 2), ('O', 2*x2), ('NaOH', 2*x1)]))\n",
      "(OrderedDict([('Na', 2*x1 + 4*x2), ('H2O', 2*x1 + 2*x2 + 4)]), OrderedDict([('H2', x1 + 2*x2 + 2), ('H2O2', 2), ('Na2O', 2*x2), ('NaOH', 2*x1)]))\n",
      "(OrderedDict([('Na', 4*x2), ('H2O', 2*x2 + 4)]), OrderedDict([('H2', -x1 + 2*x2 + 2), ('H2O2', 2), ('Na2O', 2*x2), ('H', 2*x1)]))\n",
      "(OrderedDict([('Na', 2*x2), ('H2O', 2*x1 + x2 + 2)]), OrderedDict([('H2', 2*x1 + x2 + 1), ('H2O2', 1), ('Na2O', x2), ('O2', x1)]))\n",
      "(OrderedDict([('Na', 2*x2), ('H2O', 2*x2 + 4)]), OrderedDict([('H2', -x1 + x2 + 2), ('H2O2', 2), ('NaOH', 2*x2), ('H', 2*x1)]))\n",
      "(OrderedDict([('Na', 2*x2), ('H2O', 2*x1 + 2*x2 + 2)]), OrderedDict([('H2', 2*x1 + x2 + 1), ('H2O2', 1), ('NaOH', 2*x2), ('O2', x1)]))\n",
      "(OrderedDict([('Na', 2*x1 + 4*x2), ('H2O', 2*x1 + 2*x2 + 2)]), OrderedDict([('H2', x1 + 2*x2 + 2), ('O', 2), ('Na2O', 2*x2), ('NaOH', 2*x1)]))\n",
      "(OrderedDict([('Na', 4*x2), ('H2O', 2*x2 + 2)]), OrderedDict([('H2', -x1 + 2*x2 + 2), ('O', 2), ('Na2O', 2*x2), ('H', 2*x1)]))\n",
      "(OrderedDict([('Na', 2*x2), ('H2O', 2*x1 + x2 + 1)]), OrderedDict([('H2', 2*x1 + x2 + 1), ('O', 1), ('Na2O', x2), ('O2', x1)]))\n",
      "(OrderedDict([('Na', 2*x2), ('H2O', 2*x2 + 2)]), OrderedDict([('H2', -x1 + x2 + 2), ('O', 2), ('NaOH', 2*x2), ('H', 2*x1)]))\n",
      "(OrderedDict([('Na', 2*x2), ('H2O', 2*x1 + 2*x2 + 1)]), OrderedDict([('H2', 2*x1 + x2 + 1), ('O', 1), ('NaOH', 2*x2), ('O2', x1)]))\n",
      "(OrderedDict([('Na', 2*x2 + 4), ('H2O', 2*x2 + 2)]), OrderedDict([('H2', -x1 + x2 + 2), ('Na2O', 2), ('NaOH', 2*x2), ('H', 2*x1)]))\n",
      "(OrderedDict([('Na', 2*x2 + 2), ('H2O', 2*x1 + 2*x2 + 1)]), OrderedDict([('H2', 2*x1 + x2 + 1), ('Na2O', 1), ('NaOH', 2*x2), ('O2', x1)]))\n",
      "(OrderedDict([('Na', 2), ('H2O', 2*x1 + 1)]), OrderedDict([('H2', 2*x1 - x2 + 1), ('Na2O', 1), ('H', 2*x2), ('O2', x1)]))\n",
      "(OrderedDict([('Na', 1), ('H2O', 2*x1 + 1)]), OrderedDict([('H2', 2*x1 - x2 + 1/2), ('NaOH', 1), ('H', 2*x2), ('O2', x1)]))\n",
      "(OrderedDict([('Na', 6*x1), ('H2O', 3)]), OrderedDict([('O3', -x1 - x2 - 1), ('H2O2', 3), ('O', 3*x2), ('Na2O', 3*x1)]))\n",
      "(OrderedDict([('Na', 6*x1), ('H2O', 3*x1 + 6)]), OrderedDict([('O3', -x1 - 2*x2 - 2), ('H2O2', 6), ('O', 6*x2), ('NaOH', 6*x1)]))\n",
      "(OrderedDict([('Na', 6*x1 + 12*x2), ('H2O', 3*x1 + 6)]), OrderedDict([('O3', -x1 - 2*x2 - 2), ('H2O2', 6), ('Na2O', 6*x2), ('NaOH', 6*x1)]))\n",
      "(OrderedDict([('Na', 12*x2), ('H2O', 3*x1 + 6)]), OrderedDict([('O3', x1 - 2*x2 - 2), ('H2O2', 6), ('Na2O', 6*x2), ('H', 6*x1)]))\n",
      "(OrderedDict([('Na', 6*x2), ('H2O', 3)]), OrderedDict([('O3', -2*x1 - x2 - 1), ('H2O2', 3), ('Na2O', 3*x2), ('O2', 3*x1)]))\n",
      "(OrderedDict([('Na', 6*x2), ('H2O', 3*x1 + 3*x2 + 6)]), OrderedDict([('O3', x1 - x2 - 2), ('H2O2', 6), ('NaOH', 6*x2), ('H', 6*x1)]))\n",
      "(OrderedDict([('Na', 6*x2), ('H2O', 3*x2 + 3)]), OrderedDict([('O3', -2*x1 - x2 - 1), ('H2O2', 3), ('NaOH', 6*x2), ('O2', 3*x1)]))\n"
     ]
    },
    {
     "name": "stdout",
     "output_type": "stream",
     "text": [
      "(OrderedDict([('Na', 6*x1 + 12*x2), ('H2O', 3*x1)]), OrderedDict([('O3', -x1 - 2*x2 - 2), ('O', 6), ('Na2O', 6*x2), ('NaOH', 6*x1)]))\n",
      "(OrderedDict([('Na', 12*x2), ('H2O', 3*x1)]), OrderedDict([('O3', x1 - 2*x2 - 2), ('O', 6), ('Na2O', 6*x2), ('H', 6*x1)]))\n",
      "(OrderedDict([('Na', 6*x2), ('H2O', 3*x1 + 3*x2)]), OrderedDict([('O3', x1 - x2 - 2), ('O', 6), ('NaOH', 6*x2), ('H', 6*x1)]))\n",
      "(OrderedDict([('Na', 6*x2), ('H2O', 3*x2)]), OrderedDict([('O3', -2*x1 - x2 - 1), ('O', 3), ('NaOH', 6*x2), ('O2', 3*x1)]))\n",
      "(OrderedDict([('Na', 6*x2 + 12), ('H2O', 3*x1 + 3*x2)]), OrderedDict([('O3', x1 - x2 - 2), ('Na2O', 6), ('NaOH', 6*x2), ('H', 6*x1)]))\n",
      "(OrderedDict([('Na', 6*x2 + 6), ('H2O', 3*x2)]), OrderedDict([('O3', -2*x1 - x2 - 1), ('Na2O', 3), ('NaOH', 6*x2), ('O2', 3*x1)]))\n",
      "(OrderedDict([('Na', 6), ('H2O', 3*x2)]), OrderedDict([('O3', -2*x1 + x2 - 1), ('Na2O', 3), ('H', 6*x2), ('O2', 3*x1)]))\n",
      "(OrderedDict([('Na', 3), ('H2O', 3*x2 + 3/2)]), OrderedDict([('O3', -2*x1 + x2 - 1/2), ('NaOH', 3), ('H', 6*x2), ('O2', 3*x1)]))\n",
      "(OrderedDict([('Na', 2*x1 + 4*x2), ('H2O', -2*x2 - 2)]), OrderedDict([('H2O2', -x1 - 2*x2 - 2), ('O', 2), ('Na2O', 2*x2), ('NaOH', 2*x1)]))\n",
      "(OrderedDict([('Na', 4*x2), ('H2O', 2*x1 - 2*x2 - 2)]), OrderedDict([('H2O2', x1 - 2*x2 - 2), ('O', 2), ('Na2O', 2*x2), ('H', 2*x1)]))\n",
      "(OrderedDict([('Na', 2*x2), ('H2O', -2*x1 - x2 - 1)]), OrderedDict([('H2O2', -2*x1 - x2 - 1), ('O', 1), ('Na2O', x2), ('O2', x1)]))\n",
      "(OrderedDict([('Na', 2*x2), ('H2O', 2*x1 - 2)]), OrderedDict([('H2O2', x1 - x2 - 2), ('O', 2), ('NaOH', 2*x2), ('H', 2*x1)]))\n",
      "(OrderedDict([('Na', 2*x2), ('H2O', -2*x1 - 1)]), OrderedDict([('H2O2', -2*x1 - x2 - 1), ('O', 1), ('NaOH', 2*x2), ('O2', x1)]))\n",
      "(OrderedDict([('Na', 2*x2 + 4), ('H2O', 2*x1 - 2)]), OrderedDict([('H2O2', x1 - x2 - 2), ('Na2O', 2), ('NaOH', 2*x2), ('H', 2*x1)]))\n",
      "(OrderedDict([('Na', 2*x2 + 2), ('H2O', -2*x1 - 1)]), OrderedDict([('H2O2', -2*x1 - x2 - 1), ('Na2O', 1), ('NaOH', 2*x2), ('O2', x1)]))\n",
      "(OrderedDict([('Na', 2), ('H2O', -2*x1 + 2*x2 - 1)]), OrderedDict([('H2O2', -2*x1 + x2 - 1), ('Na2O', 1), ('H', 2*x2), ('O2', x1)]))\n",
      "(OrderedDict([('Na', 1), ('H2O', -2*x1 + 2*x2)]), OrderedDict([('H2O2', -2*x1 + x2 - 1/2), ('NaOH', 1), ('H', 2*x2), ('O2', x1)]))\n",
      "(OrderedDict([('Na', 2*x2 + 4), ('H2O', x1 + x2)]), OrderedDict([('O', x1 - x2 - 2), ('Na2O', 2), ('NaOH', 2*x2), ('H', 2*x1)]))\n",
      "(OrderedDict([('Na', 2*x2 + 2), ('H2O', x2)]), OrderedDict([('O', -2*x1 - x2 - 1), ('Na2O', 1), ('NaOH', 2*x2), ('O2', x1)]))\n",
      "(OrderedDict([('Na', 2), ('H2O', x2)]), OrderedDict([('O', -2*x1 + x2 - 1), ('Na2O', 1), ('H', 2*x2), ('O2', x1)]))\n",
      "(OrderedDict([('Na', 1), ('H2O', x2 + 1/2)]), OrderedDict([('O', -2*x1 + x2 - 1/2), ('NaOH', 1), ('H', 2*x2), ('O2', x1)]))\n",
      "(OrderedDict([('Na', -4*x1 + 2*x2), ('H2O', x2 + 1/2)]), OrderedDict([('Na2O', -2*x1 + x2 - 1/2), ('NaOH', 1), ('H', 2*x2), ('O2', x1)]))\n",
      "(OrderedDict([('Na', 2*x1), ('H2O', x1 + x2 + 2*x3 + 3)]), OrderedDict([('H2', x1 + x2 + x3 + 3), ('O3', 1), ('H2O2', x3), ('O', x2), ('Na2O', x1)]))\n",
      "(OrderedDict([('Na', 2*x1), ('H2O', 2*x1 + 2*x2 + 4*x3 + 6)]), OrderedDict([('H2', x1 + 2*x2 + 2*x3 + 6), ('O3', 2), ('H2O2', 2*x3), ('O', 2*x2), ('NaOH', 2*x1)]))\n",
      "(OrderedDict([('Na', 2*x1 + 4*x2), ('H2O', 2*x1 + 2*x2 + 4*x3 + 6)]), OrderedDict([('H2', x1 + 2*x2 + 2*x3 + 6), ('O3', 2), ('H2O2', 2*x3), ('Na2O', 2*x2), ('NaOH', 2*x1)]))\n",
      "(OrderedDict([('Na', 4*x2), ('H2O', 2*x2 + 4*x3 + 6)]), OrderedDict([('H2', -x1 + 2*x2 + 2*x3 + 6), ('O3', 2), ('H2O2', 2*x3), ('Na2O', 2*x2), ('H', 2*x1)]))\n",
      "(OrderedDict([('Na', 2*x2), ('H2O', 2*x1 + x2 + 2*x3 + 3)]), OrderedDict([('H2', 2*x1 + x2 + x3 + 3), ('O3', 1), ('H2O2', x3), ('Na2O', x2), ('O2', x1)]))\n",
      "(OrderedDict([('Na', 2*x2), ('H2O', 2*x2 + 4*x3 + 6)]), OrderedDict([('H2', -x1 + x2 + 2*x3 + 6), ('O3', 2), ('H2O2', 2*x3), ('NaOH', 2*x2), ('H', 2*x1)]))\n",
      "(OrderedDict([('Na', 2*x2), ('H2O', 2*x1 + 2*x2 + 2*x3 + 3)]), OrderedDict([('H2', 2*x1 + x2 + x3 + 3), ('O3', 1), ('H2O2', x3), ('NaOH', 2*x2), ('O2', x1)]))\n",
      "(OrderedDict([('Na', 2*x1 + 4*x2), ('H2O', 2*x1 + 2*x2 + 2*x3 + 6)]), OrderedDict([('H2', x1 + 2*x2 + 2*x3 + 6), ('O3', 2), ('O', 2*x3), ('Na2O', 2*x2), ('NaOH', 2*x1)]))\n",
      "(OrderedDict([('Na', 4*x2), ('H2O', 2*x2 + 2*x3 + 6)]), OrderedDict([('H2', -x1 + 2*x2 + 2*x3 + 6), ('O3', 2), ('O', 2*x3), ('Na2O', 2*x2), ('H', 2*x1)]))\n",
      "(OrderedDict([('Na', 2*x2), ('H2O', 2*x1 + x2 + x3 + 3)]), OrderedDict([('H2', 2*x1 + x2 + x3 + 3), ('O3', 1), ('O', x3), ('Na2O', x2), ('O2', x1)]))\n",
      "(OrderedDict([('Na', 2*x2), ('H2O', 2*x2 + 2*x3 + 6)]), OrderedDict([('H2', -x1 + x2 + 2*x3 + 6), ('O3', 2), ('O', 2*x3), ('NaOH', 2*x2), ('H', 2*x1)]))\n",
      "(OrderedDict([('Na', 2*x2), ('H2O', 2*x1 + 2*x2 + x3 + 3)]), OrderedDict([('H2', 2*x1 + x2 + x3 + 3), ('O3', 1), ('O', x3), ('NaOH', 2*x2), ('O2', x1)]))\n",
      "(OrderedDict([('Na', 2*x2 + 4*x3), ('H2O', 2*x2 + 2*x3 + 6)]), OrderedDict([('H2', -x1 + x2 + 2*x3 + 6), ('O3', 2), ('Na2O', 2*x3), ('NaOH', 2*x2), ('H', 2*x1)]))\n",
      "(OrderedDict([('Na', 2*x2 + 2*x3), ('H2O', 2*x1 + 2*x2 + x3 + 3)]), OrderedDict([('H2', 2*x1 + x2 + x3 + 3), ('O3', 1), ('Na2O', x3), ('NaOH', 2*x2), ('O2', x1)]))\n",
      "(OrderedDict([('Na', 2*x3), ('H2O', 2*x1 + x3 + 3)]), OrderedDict([('H2', 2*x1 - x2 + x3 + 3), ('O3', 1), ('Na2O', x3), ('H', 2*x2), ('O2', x1)]))\n",
      "(OrderedDict([('Na', 2*x3), ('H2O', 2*x1 + 2*x3 + 3)]), OrderedDict([('H2', 2*x1 - x2 + x3 + 3), ('O3', 1), ('NaOH', 2*x3), ('H', 2*x2), ('O2', x1)]))\n",
      "(OrderedDict([('Na', 2*x1 + 4*x2), ('H2O', 2*x1 + 2*x2 + 2*x3 + 4)]), OrderedDict([('H2', x1 + 2*x2 + 2*x3 + 2), ('H2O2', 2), ('O', 2*x3), ('Na2O', 2*x2), ('NaOH', 2*x1)]))\n",
      "(OrderedDict([('Na', 4*x2), ('H2O', 2*x2 + 2*x3 + 4)]), OrderedDict([('H2', -x1 + 2*x2 + 2*x3 + 2), ('H2O2', 2), ('O', 2*x3), ('Na2O', 2*x2), ('H', 2*x1)]))\n",
      "(OrderedDict([('Na', 2*x2), ('H2O', 2*x1 + x2 + x3 + 2)]), OrderedDict([('H2', 2*x1 + x2 + x3 + 1), ('H2O2', 1), ('O', x3), ('Na2O', x2), ('O2', x1)]))\n",
      "(OrderedDict([('Na', 2*x2), ('H2O', 2*x2 + 2*x3 + 4)]), OrderedDict([('H2', -x1 + x2 + 2*x3 + 2), ('H2O2', 2), ('O', 2*x3), ('NaOH', 2*x2), ('H', 2*x1)]))\n",
      "(OrderedDict([('Na', 2*x2), ('H2O', 2*x1 + 2*x2 + x3 + 2)]), OrderedDict([('H2', 2*x1 + x2 + x3 + 1), ('H2O2', 1), ('O', x3), ('NaOH', 2*x2), ('O2', x1)]))\n",
      "(OrderedDict([('Na', 2*x2 + 4*x3), ('H2O', 2*x2 + 2*x3 + 4)]), OrderedDict([('H2', -x1 + x2 + 2*x3 + 2), ('H2O2', 2), ('Na2O', 2*x3), ('NaOH', 2*x2), ('H', 2*x1)]))\n",
      "(OrderedDict([('Na', 2*x2 + 2*x3), ('H2O', 2*x1 + 2*x2 + x3 + 2)]), OrderedDict([('H2', 2*x1 + x2 + x3 + 1), ('H2O2', 1), ('Na2O', x3), ('NaOH', 2*x2), ('O2', x1)]))\n",
      "(OrderedDict([('Na', 2*x3), ('H2O', 2*x1 + x3 + 2)]), OrderedDict([('H2', 2*x1 - x2 + x3 + 1), ('H2O2', 1), ('Na2O', x3), ('H', 2*x2), ('O2', x1)]))\n",
      "(OrderedDict([('Na', 2*x3), ('H2O', 2*x1 + 2*x3 + 2)]), OrderedDict([('H2', 2*x1 - x2 + x3 + 1), ('H2O2', 1), ('NaOH', 2*x3), ('H', 2*x2), ('O2', x1)]))\n",
      "(OrderedDict([('Na', 2*x2 + 4*x3), ('H2O', 2*x2 + 2*x3 + 2)]), OrderedDict([('H2', -x1 + x2 + 2*x3 + 2), ('O', 2), ('Na2O', 2*x3), ('NaOH', 2*x2), ('H', 2*x1)]))\n",
      "(OrderedDict([('Na', 2*x2 + 2*x3), ('H2O', 2*x1 + 2*x2 + x3 + 1)]), OrderedDict([('H2', 2*x1 + x2 + x3 + 1), ('O', 1), ('Na2O', x3), ('NaOH', 2*x2), ('O2', x1)]))\n",
      "(OrderedDict([('Na', 2*x3), ('H2O', 2*x1 + x3 + 1)]), OrderedDict([('H2', 2*x1 - x2 + x3 + 1), ('O', 1), ('Na2O', x3), ('H', 2*x2), ('O2', x1)]))\n",
      "(OrderedDict([('Na', 2*x3), ('H2O', 2*x1 + 2*x3 + 1)]), OrderedDict([('H2', 2*x1 - x2 + x3 + 1), ('O', 1), ('NaOH', 2*x3), ('H', 2*x2), ('O2', x1)]))\n",
      "(OrderedDict([('Na', 2*x3 + 2), ('H2O', 2*x1 + 2*x3 + 1)]), OrderedDict([('H2', 2*x1 - x2 + x3 + 1), ('Na2O', 1), ('NaOH', 2*x3), ('H', 2*x2), ('O2', x1)]))\n",
      "(OrderedDict([('Na', 6*x1 + 12*x2), ('H2O', 3*x1 + 6)]), OrderedDict([('O3', -x1 - 2*x2 - 2*x3 - 2), ('H2O2', 6), ('O', 6*x3), ('Na2O', 6*x2), ('NaOH', 6*x1)]))\n",
      "(OrderedDict([('Na', 12*x2), ('H2O', 3*x1 + 6)]), OrderedDict([('O3', x1 - 2*x2 - 2*x3 - 2), ('H2O2', 6), ('O', 6*x3), ('Na2O', 6*x2), ('H', 6*x1)]))\n",
      "(OrderedDict([('Na', 6*x2), ('H2O', 3)]), OrderedDict([('O3', -2*x1 - x2 - x3 - 1), ('H2O2', 3), ('O', 3*x3), ('Na2O', 3*x2), ('O2', 3*x1)]))\n",
      "(OrderedDict([('Na', 6*x2), ('H2O', 3*x1 + 3*x2 + 6)]), OrderedDict([('O3', x1 - x2 - 2*x3 - 2), ('H2O2', 6), ('O', 6*x3), ('NaOH', 6*x2), ('H', 6*x1)]))\n",
      "(OrderedDict([('Na', 6*x2), ('H2O', 3*x2 + 3)]), OrderedDict([('O3', -2*x1 - x2 - x3 - 1), ('H2O2', 3), ('O', 3*x3), ('NaOH', 6*x2), ('O2', 3*x1)]))\n",
      "(OrderedDict([('Na', 6*x2 + 12*x3), ('H2O', 3*x1 + 3*x2 + 6)]), OrderedDict([('O3', x1 - x2 - 2*x3 - 2), ('H2O2', 6), ('Na2O', 6*x3), ('NaOH', 6*x2), ('H', 6*x1)]))\n",
      "(OrderedDict([('Na', 6*x2 + 6*x3), ('H2O', 3*x2 + 3)]), OrderedDict([('O3', -2*x1 - x2 - x3 - 1), ('H2O2', 3), ('Na2O', 3*x3), ('NaOH', 6*x2), ('O2', 3*x1)]))\n"
     ]
    },
    {
     "name": "stdout",
     "output_type": "stream",
     "text": [
      "(OrderedDict([('Na', 6*x3), ('H2O', 3*x2 + 3)]), OrderedDict([('O3', -2*x1 + x2 - x3 - 1), ('H2O2', 3), ('Na2O', 3*x3), ('H', 6*x2), ('O2', 3*x1)]))\n",
      "(OrderedDict([('Na', 6*x3), ('H2O', 3*x2 + 3*x3 + 3)]), OrderedDict([('O3', -2*x1 + x2 - x3 - 1), ('H2O2', 3), ('NaOH', 6*x3), ('H', 6*x2), ('O2', 3*x1)]))\n",
      "(OrderedDict([('Na', 6*x2 + 12*x3), ('H2O', 3*x1 + 3*x2)]), OrderedDict([('O3', x1 - x2 - 2*x3 - 2), ('O', 6), ('Na2O', 6*x3), ('NaOH', 6*x2), ('H', 6*x1)]))\n",
      "(OrderedDict([('Na', 6*x2 + 6*x3), ('H2O', 3*x2)]), OrderedDict([('O3', -2*x1 - x2 - x3 - 1), ('O', 3), ('Na2O', 3*x3), ('NaOH', 6*x2), ('O2', 3*x1)]))\n",
      "(OrderedDict([('Na', 6*x3), ('H2O', 3*x2)]), OrderedDict([('O3', -2*x1 + x2 - x3 - 1), ('O', 3), ('Na2O', 3*x3), ('H', 6*x2), ('O2', 3*x1)]))\n",
      "(OrderedDict([('Na', 6*x3), ('H2O', 3*x2 + 3*x3)]), OrderedDict([('O3', -2*x1 + x2 - x3 - 1), ('O', 3), ('NaOH', 6*x3), ('H', 6*x2), ('O2', 3*x1)]))\n",
      "(OrderedDict([('Na', 6*x3 + 6), ('H2O', 3*x2 + 3*x3)]), OrderedDict([('O3', -2*x1 + x2 - x3 - 1), ('Na2O', 3), ('NaOH', 6*x3), ('H', 6*x2), ('O2', 3*x1)]))\n",
      "(OrderedDict([('Na', 2*x2 + 4*x3), ('H2O', 2*x1 - 2*x3 - 2)]), OrderedDict([('H2O2', x1 - x2 - 2*x3 - 2), ('O', 2), ('Na2O', 2*x3), ('NaOH', 2*x2), ('H', 2*x1)]))\n",
      "(OrderedDict([('Na', 2*x2 + 2*x3), ('H2O', -2*x1 - x3 - 1)]), OrderedDict([('H2O2', -2*x1 - x2 - x3 - 1), ('O', 1), ('Na2O', x3), ('NaOH', 2*x2), ('O2', x1)]))\n",
      "(OrderedDict([('Na', 2*x3), ('H2O', -2*x1 + 2*x2 - x3 - 1)]), OrderedDict([('H2O2', -2*x1 + x2 - x3 - 1), ('O', 1), ('Na2O', x3), ('H', 2*x2), ('O2', x1)]))\n",
      "(OrderedDict([('Na', 2*x3), ('H2O', -2*x1 + 2*x2 - 1)]), OrderedDict([('H2O2', -2*x1 + x2 - x3 - 1), ('O', 1), ('NaOH', 2*x3), ('H', 2*x2), ('O2', x1)]))\n",
      "(OrderedDict([('Na', 2*x3 + 2), ('H2O', -2*x1 + 2*x2 - 1)]), OrderedDict([('H2O2', -2*x1 + x2 - x3 - 1), ('Na2O', 1), ('NaOH', 2*x3), ('H', 2*x2), ('O2', x1)]))\n",
      "(OrderedDict([('Na', 2*x3 + 2), ('H2O', x2 + x3)]), OrderedDict([('O', -2*x1 + x2 - x3 - 1), ('Na2O', 1), ('NaOH', 2*x3), ('H', 2*x2), ('O2', x1)]))\n"
     ]
    }
   ],
   "source": [
    "for comb in combinations:    \n",
    "    try:\n",
    "        print(balance_stoichiometry(reactants, comb))\n",
    "    except:\n",
    "        pass"
   ]
  },
  {
   "cell_type": "markdown",
   "metadata": {},
   "source": [
    "In order for an equation to be properly balanced, each coefficient (dictionary values here) must be a positive number, and oftentimes we balance so that every coefficient is a whole number. We have to filter out the balanced instances where we get negative coefficients (such as the equation with `H2O2` and `Na2O` as products).\n",
    "\n",
    "Notice also that `sympy` has relative coefficients listed (meaning the equation would be balanced for any whole number `x1`, for example). We will want to filter these out too, but may consider including them for a reach goal."
   ]
  },
  {
   "cell_type": "code",
   "execution_count": 119,
   "metadata": {},
   "outputs": [
    {
     "data": {
      "text/plain": [
       "array([ True, False])"
      ]
     },
     "execution_count": 119,
     "metadata": {},
     "output_type": "execute_result"
    }
   ],
   "source": [
    "np.array(list(balance_stoichiometry(reactants, ('H2O2', 'Na2O'))[0].values())) >= 1"
   ]
  },
  {
   "cell_type": "code",
   "execution_count": 120,
   "metadata": {},
   "outputs": [
    {
     "data": {
      "text/plain": [
       "0.0"
      ]
     },
     "execution_count": 120,
     "metadata": {},
     "output_type": "execute_result"
    }
   ],
   "source": [
    "# there might be a more elegant way of doing this. round down to zero if any instance is false.\n",
    "\n",
    "np.floor((np.array(list(balance_stoichiometry(reactants, ('H2O2', 'Na2O'))[0].values())) >= 1).mean())"
   ]
  },
  {
   "cell_type": "code",
   "execution_count": 121,
   "metadata": {},
   "outputs": [
    {
     "data": {
      "text/plain": [
       "array([2*x1, 2*x1 + 4], dtype=object)"
      ]
     },
     "execution_count": 121,
     "metadata": {},
     "output_type": "execute_result"
    }
   ],
   "source": [
    "np.array(list(balance_stoichiometry(reactants, ('H2', 'O2', 'NaOH'))[0].values()))"
   ]
  },
  {
   "cell_type": "code",
   "execution_count": 122,
   "metadata": {},
   "outputs": [
    {
     "data": {
      "text/plain": [
       "array([False, False])"
      ]
     },
     "execution_count": 122,
     "metadata": {},
     "output_type": "execute_result"
    }
   ],
   "source": [
    "np.array([isinstance(i, sympy.numbers.Number) for i in list(balance_stoichiometry(reactants, ('H2', 'O2', 'NaOH'))[0].values())])"
   ]
  },
  {
   "cell_type": "markdown",
   "metadata": {},
   "source": [
    "## functions\n",
    "\n",
    "The above code has been condensed into several functions:\n",
    "\n",
    "- `Z_unique`: returns a list of unique atomic numbers present in a list of substances\n",
    "- `stoich_filter`: filters the `stoich` dataframe to return formulas that only have the elements described by `Z_unique`\n",
    "- `check_coefficients`: checks if all coefficients are positive and non-relational once an equation has been balanced\n",
    "- `formula_state_separator`: in the case that a formula is formatted with its corresponding state (eg: `NaCl(s)`), return a tuple of the formula and the state.\n",
    "- `get_gibbs`: from the results of `formula_state_separator`, find the exact free energy value for the substance specified. If state is not specified, find the lowest free energy value for formulas that have multiple entries (since that is the most likely state under standard conditions.\n",
    "- `possibility_reducer`: sometimes we get too many results from `stoich_filter`. In general, substances with lower $\\Delta G$ values are more likely to be products. However, very large, complex molecules with low $\\Delta G$ values are still not very likely, so one (imperfect) way to normalize for that is to divide by the mass of the compound. The jury is still out if this is a good way to filter.\n",
    "- `standard_gibbs_free_energy`: calculates the overall $\\Delta G$ change under standard conditions.\n",
    "- `reaction_predictor`: takes a list of reactants, iterates through the different possibilities (using `stoich_filter`, takes valid combinations using `check_coefficients`, and calculates $\\Delta G$ values using `thermo`. Returns the reaction with the lowest $\\Delta G$ value."
   ]
  },
  {
   "cell_type": "code",
   "execution_count": 123,
   "metadata": {},
   "outputs": [],
   "source": [
    "def Z_unique(substances):\n",
    "    '''\n",
    "    Returns a set representing unique atomic numbers present within a list of\n",
    "    chemical formulas.\n",
    "    \n",
    "    --Parameters--\n",
    "    substances:     iterable (str)\n",
    "        any iterable containing strings with valid chemical formulas\n",
    "    \n",
    "    --Output--\n",
    "    set (int)\n",
    "        atomic numbers of each unique element present in substances\n",
    "        \n",
    "    --Example--\n",
    "    >>> Z_unique(['CH4', 'H2O'])\n",
    "    {1, 6, 8}\n",
    "    '''\n",
    "    composition = []\n",
    "    for s in substances:\n",
    "        sub = Substance.from_formula(s)\n",
    "        composition += [*sub.composition]\n",
    "    return set(composition)"
   ]
  },
  {
   "cell_type": "code",
   "execution_count": 126,
   "metadata": {},
   "outputs": [
    {
     "data": {
      "text/plain": [
       "{1, 8, 11}"
      ]
     },
     "execution_count": 126,
     "metadata": {},
     "output_type": "execute_result"
    }
   ],
   "source": [
    "Z_unique(reactants)"
   ]
  },
  {
   "cell_type": "code",
   "execution_count": 184,
   "metadata": {},
   "outputs": [],
   "source": [
    "def stoich_filter(substances, df=False, thorough=False):\n",
    "    '''\n",
    "    Returns a masked copy of the stoich dataframe containing elements that\n",
    "    only contain the elements present in substances. \n",
    "    \n",
    "    --Parameters--\n",
    "    substances:     iterable (str)\n",
    "        any iterable containing strings with valid chemical formulas\n",
    "    \n",
    "    --Output--\n",
    "    DataFrame\n",
    "    '''\n",
    "    stoich_temp = stoich.copy()\n",
    "    \n",
    "    # mask to keep the charge and formula columns in final dataframe\n",
    "    z_keep = [0, 'formula'] + list(Z_unique(substances))\n",
    "    \n",
    "    # get all other columns\n",
    "    column_mask = [col for col in stoich.columns if col not in z_keep]\n",
    "    for col in column_mask:\n",
    "        # return the dataframe where these columns are all 0\n",
    "        stoich_temp = stoich_temp[stoich_temp[col] == 0]\n",
    "    \n",
    "    # keep the columns where it's not all zero\n",
    "    stoich_temp = stoich_temp.loc[(stoich_temp.drop(columns=['formula'])!=0).any(axis=1)]\n",
    "    \n",
    "    # return the dataframe with the columns we want to keep\n",
    "    if df:\n",
    "        return stoich_temp[z_keep]\n",
    "    else:\n",
    "        stoich_list = list(stoich_temp['formula'])\n",
    "        if thorough:\n",
    "            return set([f for f in stoich_list if f not in substances])\n",
    "        else:\n",
    "            stoich_list = [formula_state_separator(f) for f in stoich_list]\n",
    "            substances = [formula_state_separator(s) for s in substances]\n",
    "            return set([state_predictor(f) for f in stoich_list if f not in substances])\n",
    "        \n",
    "        "
   ]
  },
  {
   "cell_type": "code",
   "execution_count": 185,
   "metadata": {
    "scrolled": true
   },
   "outputs": [
    {
     "data": {
      "text/plain": [
       "{'H(g)',\n",
       " 'H+(aq)',\n",
       " 'H2(g)',\n",
       " 'H2O2(aq)',\n",
       " 'H3O+(aq)',\n",
       " 'HO2-(aq)',\n",
       " 'Na+(aq)',\n",
       " 'Na2O(s)',\n",
       " 'NaOH(aq)',\n",
       " 'O(g)',\n",
       " 'O2(g)',\n",
       " 'O3(g)',\n",
       " 'OH-(aq)',\n",
       " 'e-(aq)'}"
      ]
     },
     "execution_count": 185,
     "metadata": {},
     "output_type": "execute_result"
    }
   ],
   "source": [
    "stoich_filter(reactants)"
   ]
  },
  {
   "cell_type": "code",
   "execution_count": 148,
   "metadata": {},
   "outputs": [],
   "source": [
    "def check_coefficients(reactants, products):\n",
    "    '''\n",
    "    Checks whether a possible reactant/product combination would result in a\n",
    "    valid balanced chemical equation.\n",
    "    \n",
    "    --Parameters--\n",
    "    reactants:      iterable (str)\n",
    "    products:       iterable (str)\n",
    "        any iterable containing strings with valid chemical formulas\n",
    "    \n",
    "    --Output--\n",
    "    bool\n",
    "        \n",
    "    --Examples--\n",
    "    >>> check_coefficients(['CH4', 'H2O'], ['CO', 'H2'])\n",
    "    True\n",
    "    \n",
    "    >>> check_coefficients(['CH4', 'H2O'], ['CO2', 'H2O2'])\n",
    "    False\n",
    "    \n",
    "    >>> check_coefficients(['CH4', 'H2O'], ['NaOH'])\n",
    "    False\n",
    "    '''\n",
    "    try:\n",
    "        balance = balance_stoichiometry(reactants, products)\n",
    "        \n",
    "        # list all the coefficients out\n",
    "        reac_coef = list(balance[0].values()) + list(balance[1].values())\n",
    "        \n",
    "        # rounds to zero if any of the coefficients are less than 1\n",
    "        is_positive = np.floor((np.array(reac_coef) >= 1).mean()).astype(bool)\n",
    "        \n",
    "        # rounds to zero if any of the coefficients are sympy relational class\n",
    "        is_definite = np.floor(np.array([isinstance(i, sympy.numbers.Number) for i in reac_coef])\\\n",
    "                               .mean()).astype(bool)\n",
    "        \n",
    "        return is_positive and is_definite\n",
    "    except:\n",
    "        return False   "
   ]
  },
  {
   "cell_type": "code",
   "execution_count": 174,
   "metadata": {},
   "outputs": [
    {
     "data": {
      "text/plain": [
       "False"
      ]
     },
     "execution_count": 174,
     "metadata": {},
     "output_type": "execute_result"
    }
   ],
   "source": [
    "check_coefficients(reactants, ['Na2O', 'H2O2'])"
   ]
  },
  {
   "cell_type": "code",
   "execution_count": 159,
   "metadata": {},
   "outputs": [],
   "source": [
    "def get_gibbs(formula, df=False):     \n",
    "    '''\n",
    "    Retrieves the free energy value, in J, of a single substance\n",
    "    \n",
    "    --Parameters--\n",
    "    formula:        str\n",
    "        a string of a single chemical formula\n",
    "    \n",
    "    --Output--\n",
    "    list (float)    \n",
    "        \n",
    "    --Examples--\n",
    "    >>> get_gibbs('NaCl(aq)')\n",
    "    array([-388735.44])\n",
    "    '''\n",
    "    if (thermo_df['formula'] == formula).max():\n",
    "        matches = thermo_df[thermo_df['formula'] == formula]\n",
    "    else:\n",
    "        matches = thermo_df[thermo_df['formula'].map(\n",
    "            lambda x: x[:len(formula)] == formula)]\n",
    "        matches = matches[matches['formula'].map(\n",
    "            formula_state_separator) == formula]\n",
    "        \n",
    "    if df:\n",
    "        return matches\n",
    "    else:\n",
    "        return list(matches['G'])"
   ]
  },
  {
   "cell_type": "code",
   "execution_count": 156,
   "metadata": {},
   "outputs": [
    {
     "data": {
      "text/html": [
       "<div>\n",
       "<style scoped>\n",
       "    .dataframe tbody tr th:only-of-type {\n",
       "        vertical-align: middle;\n",
       "    }\n",
       "\n",
       "    .dataframe tbody tr th {\n",
       "        vertical-align: top;\n",
       "    }\n",
       "\n",
       "    .dataframe thead th {\n",
       "        text-align: right;\n",
       "    }\n",
       "</style>\n",
       "<table border=\"1\" class=\"dataframe\">\n",
       "  <thead>\n",
       "    <tr style=\"text-align: right;\">\n",
       "      <th></th>\n",
       "      <th>formula</th>\n",
       "      <th>abbrv</th>\n",
       "      <th>name</th>\n",
       "      <th>G</th>\n",
       "      <th>H</th>\n",
       "      <th>S</th>\n",
       "      <th>Cp</th>\n",
       "    </tr>\n",
       "  </thead>\n",
       "  <tbody>\n",
       "    <tr>\n",
       "      <th>432</th>\n",
       "      <td>HNO3(aq)</td>\n",
       "      <td>HNO3</td>\n",
       "      <td>HNO3</td>\n",
       "      <td>-103470.32</td>\n",
       "      <td>-189995.44</td>\n",
       "      <td>178.6568</td>\n",
       "      <td>75.312</td>\n",
       "    </tr>\n",
       "    <tr>\n",
       "      <th>2744</th>\n",
       "      <td>HNO3(l)</td>\n",
       "      <td>HNO3</td>\n",
       "      <td>NaN</td>\n",
       "      <td>-80760.00</td>\n",
       "      <td>-174100.00</td>\n",
       "      <td>155.4900</td>\n",
       "      <td>109.870</td>\n",
       "    </tr>\n",
       "  </tbody>\n",
       "</table>\n",
       "</div>"
      ],
      "text/plain": [
       "       formula abbrv  name          G          H         S       Cp\n",
       "432   HNO3(aq)  HNO3  HNO3 -103470.32 -189995.44  178.6568  75.312 \n",
       "2744  HNO3(l)   HNO3  NaN  -80760.00  -174100.00  155.4900  109.870"
      ]
     },
     "execution_count": 156,
     "metadata": {},
     "output_type": "execute_result"
    }
   ],
   "source": [
    "get_gibbs('HNO3', df=True)"
   ]
  },
  {
   "cell_type": "code",
   "execution_count": 152,
   "metadata": {},
   "outputs": [],
   "source": [
    "def state_predictor(formula):\n",
    "    df = get_gibbs(formula, df=True)\n",
    "    return list(df.sort_values(by='G')['formula'])[0]"
   ]
  },
  {
   "cell_type": "code",
   "execution_count": 158,
   "metadata": {},
   "outputs": [
    {
     "data": {
      "text/plain": [
       "'HNO3(aq)'"
      ]
     },
     "execution_count": 158,
     "metadata": {},
     "output_type": "execute_result"
    }
   ],
   "source": [
    "state_predictor('HNO3')"
   ]
  },
  {
   "cell_type": "code",
   "execution_count": 181,
   "metadata": {},
   "outputs": [],
   "source": [
    "# https://stackoverflow.com/questions/6618515/\n",
    "\n",
    "def possibility_reducer(possibilities, length=12, offset=0):\n",
    "    '''\n",
    "    Limits the list of possible substances to a specified length based on \n",
    "    free energy 'density'\n",
    "    \n",
    "    --Parameters--\n",
    "    possibilities:      iterable (str)\n",
    "        any iterable containing strings with valid chemical formulas\n",
    "    \n",
    "    --Output--\n",
    "    tuple (str)\n",
    "        \n",
    "    --Examples--\n",
    "\n",
    "    '''\n",
    "    # just in case. might be redundant\n",
    "    possibilities = np.array(list(possibilities))\n",
    "    energies = np.array([min(get_gibbs(s)) / Substance.from_formula(s).mass for s in possibilities])\n",
    "    indices = energies.argsort()\n",
    "    sorted_possibilities = possibilities[indices]\n",
    "    \n",
    "    max_length = min(len(sorted_possibilities), (length + offset))\n",
    "    \n",
    "    return sorted_possibilities[offset:(max_length)]"
   ]
  },
  {
   "cell_type": "code",
   "execution_count": 186,
   "metadata": {},
   "outputs": [],
   "source": [
    "def standard_gibbs_free_energy(reactants, products, kJ=True):\n",
    "    '''\n",
    "    Returns the overall delG of a reaction under standard conditions. \n",
    "    \n",
    "    --Parameters--\n",
    "    reactants:      \n",
    "    products:\n",
    "    \n",
    "    --Output--\n",
    "    float\n",
    "        \n",
    "    --Examples--\n",
    "    >>> equation = balance_stoichiometry(['Na', 'H2O'], ['NaH', 'O2'])\n",
    "    >>> standard_gibbs_free_energy(equation)\n",
    "    340.36\n",
    "    '''\n",
    "    products = [state_predictor(p) for p in products]\n",
    "    reactants = [state_predictor(r) for r in reactants]\n",
    "    equation = balance_stoichiometry(reactants, products)\n",
    "    \n",
    "    # each side is a formula, coefficient tuple\n",
    "    prod = list(equation[1].items())\n",
    "    reac = list(equation[0].items())\n",
    "    \n",
    "    delG = 0\n",
    "        \n",
    "    # s[0] is the formula, with or without state\n",
    "    # s[1] is the coefficient\n",
    "    \n",
    "    def gibbs_sum(side):\n",
    "        interim_delG = 0\n",
    "        for s in side:\n",
    "            interim_delG += min(get_gibbs(s[0])) * s[1]\n",
    "        return interim_delG\n",
    "    \n",
    "    delG = gibbs_sum(prod) - gibbs_sum(reac)\n",
    "    \n",
    "    return delG / (1 + 999*kJ)"
   ]
  },
  {
   "cell_type": "code",
   "execution_count": 187,
   "metadata": {},
   "outputs": [
    {
     "data": {
      "text/latex": [
       "$\\displaystyle -361.6032$"
      ],
      "text/plain": [
       "-361.603200000000"
      ]
     },
     "execution_count": 187,
     "metadata": {},
     "output_type": "execute_result"
    }
   ],
   "source": [
    "standard_gibbs_free_energy(['Na', 'H2O'], ['NaOH', 'H2'])"
   ]
  },
  {
   "cell_type": "code",
   "execution_count": 203,
   "metadata": {},
   "outputs": [],
   "source": [
    "def reaction_predictor(reactants):\n",
    "    '''\n",
    "    Returns the balanced chemical equation of the predicted reaction based on\n",
    "    minimizing overall delG values.\n",
    "    \n",
    "    --Parameters--\n",
    "    reactants:      iterable(str)\n",
    "        any iterable containing strings with valid chemical formulas\n",
    "    \n",
    "    --Output--\n",
    "    chempy.chemistry.Reaction\n",
    "        \n",
    "    --Examples--\n",
    "    >>> reaction_predictor(['Al', 'O2'])\n",
    "    4 Al + 3 O2 → 2 Al2O3\n",
    "    '''\n",
    "    reactants = [state_predictor(r) for r in reactants]\n",
    "    possibilities = stoich_filter(reactants)\n",
    "    \n",
    "    print('scoping possibilities...')\n",
    "    if len(possibilities) > 12:\n",
    "        possibilities = possibility_reducer(possibilities)\n",
    "    \n",
    "    print('  optimizing combinations...')\n",
    "    combinations = []\n",
    "    comb_length = min(6, len(possibilities))\n",
    "    for i in range(1, comb_length):\n",
    "        combinations += list(itertools.combinations(possibilities, i))\n",
    "    combinations = [c for c in combinations if Z_unique(c) == Z_unique(reactants)]\n",
    "    \n",
    "    print('    deriving equations...')\n",
    "    good_combinations = []\n",
    "    for i, comb in enumerate(combinations):    \n",
    "        if check_coefficients(reactants, comb):\n",
    "            good_combinations.append(comb)\n",
    "    \n",
    "    print('      calculating energies...')\n",
    "    energies = []\n",
    "    for gc in good_combinations:\n",
    "        energies.append(standard_gibbs_free_energy(reactants, gc))\n",
    "    \n",
    "    best_energy = min(energies)\n",
    "    best_index = energies.index(best_energy)\n",
    "    best_reaction = Reaction(*balance_stoichiometry(\n",
    "        reactants, good_combinations[best_index]))\n",
    "    \n",
    "    print(best_reaction)\n",
    "    print(f'delG = {best_energy:.4} kJ mol-1')\n",
    "    \n",
    "    return best_reaction"
   ]
  },
  {
   "cell_type": "code",
   "execution_count": 205,
   "metadata": {},
   "outputs": [
    {
     "name": "stdout",
     "output_type": "stream",
     "text": [
      "scoping possibilities...\n",
      "  optimizing combinations...\n",
      "    deriving equations...\n",
      "      calculating energies...\n",
      "2 Na(s) + 2 H2O(l) -> 2 NaOH(aq) + H2(g)\n",
      "delG = -361.6 kJ mol-1\n"
     ]
    },
    {
     "data": {
      "text/html": [
       "2 Na(s) + 2 H2O(l) &rarr; 2 NaOH(aq) + H2(g)"
      ],
      "text/plain": [
       "<chempy.chemistry.Reaction at 0x1a2fd481d0>"
      ]
     },
     "execution_count": 205,
     "metadata": {},
     "output_type": "execute_result"
    }
   ],
   "source": [
    "reaction_predictor(['Na', 'H2O'])"
   ]
  },
  {
   "cell_type": "code",
   "execution_count": 204,
   "metadata": {},
   "outputs": [
    {
     "name": "stdout",
     "output_type": "stream",
     "text": [
      "scoping possibilities...\n",
      "  optimizing combinations...\n",
      "    deriving equations...\n",
      "      calculating energies...\n",
      "4 Al(s) + 3 O2(g) -> 2 Al2O3(s)\n",
      "delG = -3165 kJ mol-1\n"
     ]
    },
    {
     "data": {
      "text/html": [
       "4 Al(s) + 3 O2(g) &rarr; 2 Al2O3(s)"
      ],
      "text/plain": [
       "<chempy.chemistry.Reaction at 0x1a2ec74978>"
      ]
     },
     "execution_count": 204,
     "metadata": {},
     "output_type": "execute_result"
    }
   ],
   "source": [
    "reaction_predictor(['Al', 'O2'])"
   ]
  },
  {
   "cell_type": "code",
   "execution_count": 192,
   "metadata": {},
   "outputs": [
    {
     "name": "stdout",
     "output_type": "stream",
     "text": [
      "scoping possibilities...\n",
      "  optimizing combinations...\n",
      "    deriving equations...\n",
      "      calculating energies...\n",
      "HCl(aq) + NaOH(s) -> H2O(l) + NaCl(aq)\n",
      "-119.145816000000\n"
     ]
    },
    {
     "data": {
      "text/html": [
       "HCl(aq) + NaOH(s) &rarr; H2O(l) + NaCl(aq)"
      ],
      "text/plain": [
       "<chempy.chemistry.Reaction at 0x1a2ee5e6d8>"
      ]
     },
     "execution_count": 192,
     "metadata": {},
     "output_type": "execute_result"
    }
   ],
   "source": [
    "reaction_predictor(['HCl(aq)', 'NaOH(s)'])"
   ]
  },
  {
   "cell_type": "code",
   "execution_count": 206,
   "metadata": {},
   "outputs": [
    {
     "name": "stdout",
     "output_type": "stream",
     "text": [
      "scoping possibilities...\n",
      "  optimizing combinations...\n",
      "    deriving equations...\n",
      "      calculating energies...\n",
      "H2CO3(aq) -> H2O(l) + CO2(g)\n",
      "delG = -8.460 kJ mol-1\n"
     ]
    },
    {
     "data": {
      "text/html": [
       "H2CO3(aq) &rarr; H2O(l) + CO2(g)"
      ],
      "text/plain": [
       "<chempy.chemistry.Reaction at 0x1a2e121048>"
      ]
     },
     "execution_count": 206,
     "metadata": {},
     "output_type": "execute_result"
    }
   ],
   "source": [
    "reaction_predictor(['H2CO3'])"
   ]
  }
 ],
 "metadata": {
  "file_extension": ".py",
  "kernelspec": {
   "display_name": "Python 3",
   "language": "python",
   "name": "python3"
  },
  "language_info": {
   "codemirror_mode": {
    "name": "ipython",
    "version": 3
   },
   "file_extension": ".py",
   "mimetype": "text/x-python",
   "name": "python",
   "nbconvert_exporter": "python",
   "pygments_lexer": "ipython3",
   "version": "3.7.3"
  },
  "mimetype": "text/x-python",
  "name": "python",
  "npconvert_exporter": "python",
  "pygments_lexer": "ipython3",
  "version": 3
 },
 "nbformat": 4,
 "nbformat_minor": 2
}
