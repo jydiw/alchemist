{
 "cells": [
  {
   "cell_type": "markdown",
   "metadata": {},
   "source": [
    "# Standard Thermodynamic Quantities\n",
    "\n",
    "These values were taken from [CHNOSZ](http://chnosz.net/vignettes/obigt.html), a chemistry and materials science package for [R](https://www.r-project.org/about.html). The dataframes were exported to csv files as-is."
   ]
  },
  {
   "cell_type": "code",
   "execution_count": 352,
   "metadata": {},
   "outputs": [],
   "source": [
    "import os                               \n",
    "import re                   \n",
    "import time                 # to stall requests (just in case)\n",
    "import itertools\n",
    "import sympy\n",
    "\n",
    "import numpy as np\n",
    "import pandas as pd \n",
    "import chemdataextractor as cde     # chemistry parser\n",
    "\n",
    "from nltk.corpus import stopwords\n",
    "from nltk.tokenize import word_tokenize, sent_tokenize\n",
    "\n",
    "from tika import parser     # the specific parser method \n",
    "\n",
    "from chempy import balance_stoichiometry\n",
    "from chempy import Substance\n",
    "from chempy import Reaction\n",
    "from chempy.util import periodic\n",
    "\n",
    "pd.set_option('display.max_colwidth', 0)    # no max column width\n",
    "pd.set_option('display.max_rows', 1000)"
   ]
  },
  {
   "cell_type": "markdown",
   "metadata": {},
   "source": [
    "## import thermodynamic quantities csv"
   ]
  },
  {
   "cell_type": "code",
   "execution_count": 688,
   "metadata": {},
   "outputs": [],
   "source": [
    "thermo = pd.read_csv('../data/external/thermo/chnosz_thermo.csv')"
   ]
  },
  {
   "cell_type": "code",
   "execution_count": 689,
   "metadata": {},
   "outputs": [
    {
     "data": {
      "text/plain": [
       "Index(['name', 'abbrv', 'formula', 'state', 'ref1', 'ref2', 'date', 'E_units',\n",
       "       'G', 'H', 'S', 'Cp', 'V', 'a1.a', 'a2.b', 'a3.c', 'a4.d', 'c1.e',\n",
       "       'c2.f', 'omega.lambda', 'z.T'],\n",
       "      dtype='object')"
      ]
     },
     "execution_count": 689,
     "metadata": {},
     "output_type": "execute_result"
    }
   ],
   "source": [
    "thermo.columns"
   ]
  },
  {
   "cell_type": "code",
   "execution_count": 690,
   "metadata": {},
   "outputs": [
    {
     "data": {
      "text/html": [
       "<div>\n",
       "<style scoped>\n",
       "    .dataframe tbody tr th:only-of-type {\n",
       "        vertical-align: middle;\n",
       "    }\n",
       "\n",
       "    .dataframe tbody tr th {\n",
       "        vertical-align: top;\n",
       "    }\n",
       "\n",
       "    .dataframe thead th {\n",
       "        text-align: right;\n",
       "    }\n",
       "</style>\n",
       "<table border=\"1\" class=\"dataframe\">\n",
       "  <thead>\n",
       "    <tr style=\"text-align: right;\">\n",
       "      <th></th>\n",
       "      <th>name</th>\n",
       "      <th>abbrv</th>\n",
       "      <th>formula</th>\n",
       "      <th>E_units</th>\n",
       "      <th>state</th>\n",
       "      <th>G</th>\n",
       "      <th>H</th>\n",
       "      <th>S</th>\n",
       "      <th>Cp</th>\n",
       "    </tr>\n",
       "  </thead>\n",
       "  <tbody>\n",
       "    <tr>\n",
       "      <th>0</th>\n",
       "      <td>water</td>\n",
       "      <td>NaN</td>\n",
       "      <td>H2O</td>\n",
       "      <td>cal</td>\n",
       "      <td>liq</td>\n",
       "      <td>NaN</td>\n",
       "      <td>NaN</td>\n",
       "      <td>NaN</td>\n",
       "      <td>NaN</td>\n",
       "    </tr>\n",
       "    <tr>\n",
       "      <th>1</th>\n",
       "      <td>e-</td>\n",
       "      <td>NaN</td>\n",
       "      <td>(Z-1)</td>\n",
       "      <td>cal</td>\n",
       "      <td>aq</td>\n",
       "      <td>0.0</td>\n",
       "      <td>0.0</td>\n",
       "      <td>15.6166</td>\n",
       "      <td>0.00</td>\n",
       "    </tr>\n",
       "    <tr>\n",
       "      <th>2</th>\n",
       "      <td>H+</td>\n",
       "      <td>H+</td>\n",
       "      <td>H+</td>\n",
       "      <td>cal</td>\n",
       "      <td>aq</td>\n",
       "      <td>0.0</td>\n",
       "      <td>0.0</td>\n",
       "      <td>0.0000</td>\n",
       "      <td>0.00</td>\n",
       "    </tr>\n",
       "    <tr>\n",
       "      <th>3</th>\n",
       "      <td>Li+</td>\n",
       "      <td>Li+</td>\n",
       "      <td>Li+</td>\n",
       "      <td>cal</td>\n",
       "      <td>aq</td>\n",
       "      <td>-69933.0</td>\n",
       "      <td>-66552.0</td>\n",
       "      <td>2.7000</td>\n",
       "      <td>14.20</td>\n",
       "    </tr>\n",
       "    <tr>\n",
       "      <th>4</th>\n",
       "      <td>Na+</td>\n",
       "      <td>Na+</td>\n",
       "      <td>Na+</td>\n",
       "      <td>cal</td>\n",
       "      <td>aq</td>\n",
       "      <td>-62591.0</td>\n",
       "      <td>-57433.0</td>\n",
       "      <td>13.9600</td>\n",
       "      <td>9.06</td>\n",
       "    </tr>\n",
       "  </tbody>\n",
       "</table>\n",
       "</div>"
      ],
      "text/plain": [
       "    name abbrv formula E_units state        G        H        S     Cp\n",
       "0  water  NaN   H2O     cal     liq  NaN      NaN      NaN      NaN   \n",
       "1  e-     NaN   (Z-1)   cal     aq    0.0      0.0      15.6166  0.00 \n",
       "2  H+     H+    H+      cal     aq    0.0      0.0      0.0000   0.00 \n",
       "3  Li+    Li+   Li+     cal     aq   -69933.0 -66552.0  2.7000   14.20\n",
       "4  Na+    Na+   Na+     cal     aq   -62591.0 -57433.0  13.9600  9.06 "
      ]
     },
     "execution_count": 690,
     "metadata": {},
     "output_type": "execute_result"
    }
   ],
   "source": [
    "thermo = thermo[['name', 'abbrv', 'formula', 'E_units', 'state', 'G', 'H', 'S', 'Cp']]\n",
    "thermo.head()"
   ]
  },
  {
   "cell_type": "code",
   "execution_count": 691,
   "metadata": {},
   "outputs": [
    {
     "data": {
      "text/plain": [
       "(3372, 9)"
      ]
     },
     "execution_count": 691,
     "metadata": {},
     "output_type": "execute_result"
    }
   ],
   "source": [
    "thermo.shape"
   ]
  },
  {
   "cell_type": "code",
   "execution_count": 692,
   "metadata": {},
   "outputs": [
    {
     "data": {
      "text/plain": [
       "(3210, 9)"
      ]
     },
     "execution_count": 692,
     "metadata": {},
     "output_type": "execute_result"
    }
   ],
   "source": [
    "thermo = thermo[thermo['name'].str[0] != '[']\n",
    "thermo.shape"
   ]
  },
  {
   "cell_type": "code",
   "execution_count": 693,
   "metadata": {},
   "outputs": [],
   "source": [
    "# code for finding duplicates, not necessary after gibbs formula below\n",
    "# pd.concat(g for _, g in thermo.groupby('formula') if len(g) > 1)"
   ]
  },
  {
   "cell_type": "code",
   "execution_count": 694,
   "metadata": {},
   "outputs": [
    {
     "data": {
      "text/plain": [
       "name       object \n",
       "abbrv      object \n",
       "formula    object \n",
       "E_units    object \n",
       "state      object \n",
       "G          float64\n",
       "H          float64\n",
       "S          float64\n",
       "Cp         float64\n",
       "dtype: object"
      ]
     },
     "execution_count": 694,
     "metadata": {},
     "output_type": "execute_result"
    }
   ],
   "source": [
    "thermo.dtypes"
   ]
  },
  {
   "cell_type": "code",
   "execution_count": 695,
   "metadata": {},
   "outputs": [
    {
     "data": {
      "text/plain": [
       "aq     1807\n",
       "cr     601 \n",
       "liq    488 \n",
       "gas    285 \n",
       "cr2    14  \n",
       "cr3    9   \n",
       "cr9    1   \n",
       "cr8    1   \n",
       "cr6    1   \n",
       "cr7    1   \n",
       "cr4    1   \n",
       "cr5    1   \n",
       "Name: state, dtype: int64"
      ]
     },
     "execution_count": 695,
     "metadata": {},
     "output_type": "execute_result"
    }
   ],
   "source": [
    "thermo['state'].value_counts()"
   ]
  },
  {
   "cell_type": "code",
   "execution_count": 696,
   "metadata": {},
   "outputs": [
    {
     "data": {
      "text/plain": [
       "cal    3172\n",
       "J      38  \n",
       "Name: E_units, dtype: int64"
      ]
     },
     "execution_count": 696,
     "metadata": {},
     "output_type": "execute_result"
    }
   ],
   "source": [
    "thermo['E_units'].value_counts()"
   ]
  },
  {
   "cell_type": "code",
   "execution_count": 697,
   "metadata": {},
   "outputs": [],
   "source": [
    "# convert to joules\n",
    "energy_columns = ['G', 'H', 'S', 'Cp']\n",
    "\n",
    "for col in energy_columns:\n",
    "    thermo.loc[thermo['E_units'] == 'cal', col] *= 4.184"
   ]
  },
  {
   "cell_type": "code",
   "execution_count": 698,
   "metadata": {},
   "outputs": [],
   "source": [
    "thermo.at[0, 'G'] = -237180\n",
    "thermo.at[0, 'H'] = -285830\n",
    "thermo.at[0, 'S'] = -69.91\n",
    "thermo.at[0, 'Cp'] = -75.29"
   ]
  },
  {
   "cell_type": "code",
   "execution_count": 699,
   "metadata": {},
   "outputs": [
    {
     "data": {
      "text/plain": [
       "-261880.744"
      ]
     },
     "execution_count": 699,
     "metadata": {},
     "output_type": "execute_result"
    }
   ],
   "source": [
    "thermo.loc[4, 'G']"
   ]
  },
  {
   "cell_type": "code",
   "execution_count": 700,
   "metadata": {},
   "outputs": [
    {
     "data": {
      "text/plain": [
       "-713730.0"
      ]
     },
     "execution_count": 700,
     "metadata": {},
     "output_type": "execute_result"
    }
   ],
   "source": [
    "thermo.loc[779, 'G']"
   ]
  },
  {
   "cell_type": "markdown",
   "metadata": {},
   "source": [
    "## TO DO: maybe define a function to add missing substances"
   ]
  },
  {
   "cell_type": "code",
   "execution_count": 701,
   "metadata": {},
   "outputs": [],
   "source": [
    "sodium = {\n",
    "    'name': 'sodium',\n",
    "    'abbrv': 'Na',\n",
    "    'formula': 'Na',\n",
    "    'state': 'cr',\n",
    "    'G': 0,\n",
    "    'H': 0,\n",
    "    'S': 51.21,\n",
    "    'Cp': 28.24\n",
    "}\n",
    "\n",
    "thermo = thermo.append(sodium, ignore_index=True)"
   ]
  },
  {
   "cell_type": "code",
   "execution_count": 702,
   "metadata": {},
   "outputs": [],
   "source": [
    "oxygen = {\n",
    "    'name': 'oxygen',\n",
    "    'abbrv': 'O2',\n",
    "    'formula': 'O2',\n",
    "    'state': 'gas',\n",
    "    'G': 0,\n",
    "    'H': 0,\n",
    "    'S': 205.03,\n",
    "    'Cp': 29.36\n",
    "}\n",
    "\n",
    "thermo = thermo.append(oxygen, ignore_index=True)"
   ]
  },
  {
   "cell_type": "code",
   "execution_count": 703,
   "metadata": {},
   "outputs": [],
   "source": [
    "nah = {\n",
    "    'name': 'sodium hydride',\n",
    "    'abbrv': 'NaH',\n",
    "    'formula': 'NaH',\n",
    "    'state': 'cr',\n",
    "    'G': -33500,\n",
    "    'H': -56300,\n",
    "    'S': 40,\n",
    "    'Cp': 36.4\n",
    "}\n",
    "\n",
    "thermo = thermo.append(nah, ignore_index=True)"
   ]
  },
  {
   "cell_type": "code",
   "execution_count": 704,
   "metadata": {},
   "outputs": [],
   "source": [
    "naohs = {\n",
    "    'name': 'sodium hydroxide',\n",
    "    'abbrv': 'NaOH',\n",
    "    'formula': 'NaOH',\n",
    "    'state': 'cr',\n",
    "    'G': -379530,\n",
    "    'H': -425610,\n",
    "    'S': 64.46,\n",
    "    'Cp': 59.54\n",
    "}\n",
    "\n",
    "thermo = thermo.append(naohs, ignore_index=True)"
   ]
  },
  {
   "cell_type": "code",
   "execution_count": 705,
   "metadata": {},
   "outputs": [],
   "source": [
    "Al = {\n",
    "    'name': 'aluminum',\n",
    "    'abbrv': 'Al',\n",
    "    'formula': 'Al',\n",
    "    'state': 'cr',\n",
    "    'G': 0,\n",
    "    'H': 0,\n",
    "    'S': 28.33,\n",
    "    'Cp': 24.35\n",
    "}\n",
    "\n",
    "thermo = thermo.append(Al, ignore_index=True)"
   ]
  },
  {
   "cell_type": "code",
   "execution_count": 716,
   "metadata": {},
   "outputs": [],
   "source": [
    "H = {\n",
    "    'name': 'monoatomic hydrogen',\n",
    "    'abbrv': 'H',\n",
    "    'formula': 'H',\n",
    "    'state': 'g',\n",
    "    'G': 203250,\n",
    "    'H': 217970,\n",
    "    'S': 114.71,\n",
    "    'Cp': 20.78\n",
    "}\n",
    "\n",
    "thermo = thermo.append(H, ignore_index=True)"
   ]
  },
  {
   "cell_type": "code",
   "execution_count": 727,
   "metadata": {},
   "outputs": [],
   "source": [
    "O = {\n",
    "    'name': 'monoatomic oxygen',\n",
    "    'abbrv': 'O',\n",
    "    'formula': 'O',\n",
    "    'state': 'g',\n",
    "    'G': 231700,\n",
    "    'H': 249200,\n",
    "    'S': 161.1,\n",
    "    'Cp': 21.9\n",
    "}\n",
    "\n",
    "thermo = thermo.append(O, ignore_index=True)"
   ]
  },
  {
   "cell_type": "code",
   "execution_count": 706,
   "metadata": {},
   "outputs": [],
   "source": [
    "thermo.at[1, 'formula'] = 'e-'"
   ]
  },
  {
   "cell_type": "code",
   "execution_count": 707,
   "metadata": {},
   "outputs": [
    {
     "data": {
      "text/html": [
       "<div>\n",
       "<style scoped>\n",
       "    .dataframe tbody tr th:only-of-type {\n",
       "        vertical-align: middle;\n",
       "    }\n",
       "\n",
       "    .dataframe tbody tr th {\n",
       "        vertical-align: top;\n",
       "    }\n",
       "\n",
       "    .dataframe thead th {\n",
       "        text-align: right;\n",
       "    }\n",
       "</style>\n",
       "<table border=\"1\" class=\"dataframe\">\n",
       "  <thead>\n",
       "    <tr style=\"text-align: right;\">\n",
       "      <th></th>\n",
       "      <th>name</th>\n",
       "      <th>abbrv</th>\n",
       "      <th>formula</th>\n",
       "      <th>E_units</th>\n",
       "      <th>state</th>\n",
       "      <th>G</th>\n",
       "      <th>H</th>\n",
       "      <th>S</th>\n",
       "      <th>Cp</th>\n",
       "    </tr>\n",
       "  </thead>\n",
       "  <tbody>\n",
       "    <tr>\n",
       "      <th>0</th>\n",
       "      <td>water</td>\n",
       "      <td>NaN</td>\n",
       "      <td>H2O</td>\n",
       "      <td>cal</td>\n",
       "      <td>liq</td>\n",
       "      <td>-237180.000</td>\n",
       "      <td>-285830.000</td>\n",
       "      <td>-69.910000</td>\n",
       "      <td>-75.29000</td>\n",
       "    </tr>\n",
       "    <tr>\n",
       "      <th>1</th>\n",
       "      <td>e-</td>\n",
       "      <td>NaN</td>\n",
       "      <td>e-</td>\n",
       "      <td>cal</td>\n",
       "      <td>aq</td>\n",
       "      <td>0.000</td>\n",
       "      <td>0.000</td>\n",
       "      <td>65.339854</td>\n",
       "      <td>0.00000</td>\n",
       "    </tr>\n",
       "    <tr>\n",
       "      <th>2</th>\n",
       "      <td>H+</td>\n",
       "      <td>H+</td>\n",
       "      <td>H+</td>\n",
       "      <td>cal</td>\n",
       "      <td>aq</td>\n",
       "      <td>0.000</td>\n",
       "      <td>0.000</td>\n",
       "      <td>0.000000</td>\n",
       "      <td>0.00000</td>\n",
       "    </tr>\n",
       "    <tr>\n",
       "      <th>3</th>\n",
       "      <td>Li+</td>\n",
       "      <td>Li+</td>\n",
       "      <td>Li+</td>\n",
       "      <td>cal</td>\n",
       "      <td>aq</td>\n",
       "      <td>-292599.672</td>\n",
       "      <td>-278453.568</td>\n",
       "      <td>11.296800</td>\n",
       "      <td>59.41280</td>\n",
       "    </tr>\n",
       "    <tr>\n",
       "      <th>4</th>\n",
       "      <td>Na+</td>\n",
       "      <td>Na+</td>\n",
       "      <td>Na+</td>\n",
       "      <td>cal</td>\n",
       "      <td>aq</td>\n",
       "      <td>-261880.744</td>\n",
       "      <td>-240299.672</td>\n",
       "      <td>58.408640</td>\n",
       "      <td>37.90704</td>\n",
       "    </tr>\n",
       "  </tbody>\n",
       "</table>\n",
       "</div>"
      ],
      "text/plain": [
       "    name abbrv formula E_units state           G           H          S  \\\n",
       "0  water  NaN   H2O     cal     liq  -237180.000 -285830.000 -69.910000   \n",
       "1  e-     NaN   e-      cal     aq    0.000       0.000       65.339854   \n",
       "2  H+     H+    H+      cal     aq    0.000       0.000       0.000000    \n",
       "3  Li+    Li+   Li+     cal     aq   -292599.672 -278453.568  11.296800   \n",
       "4  Na+    Na+   Na+     cal     aq   -261880.744 -240299.672  58.408640   \n",
       "\n",
       "         Cp  \n",
       "0 -75.29000  \n",
       "1  0.00000   \n",
       "2  0.00000   \n",
       "3  59.41280  \n",
       "4  37.90704  "
      ]
     },
     "execution_count": 707,
     "metadata": {},
     "output_type": "execute_result"
    }
   ],
   "source": [
    "thermo.head()"
   ]
  },
  {
   "cell_type": "code",
   "execution_count": 708,
   "metadata": {},
   "outputs": [
    {
     "data": {
      "text/html": [
       "<div>\n",
       "<style scoped>\n",
       "    .dataframe tbody tr th:only-of-type {\n",
       "        vertical-align: middle;\n",
       "    }\n",
       "\n",
       "    .dataframe tbody tr th {\n",
       "        vertical-align: top;\n",
       "    }\n",
       "\n",
       "    .dataframe thead th {\n",
       "        text-align: right;\n",
       "    }\n",
       "</style>\n",
       "<table border=\"1\" class=\"dataframe\">\n",
       "  <thead>\n",
       "    <tr style=\"text-align: right;\">\n",
       "      <th></th>\n",
       "      <th>name</th>\n",
       "      <th>abbrv</th>\n",
       "      <th>formula</th>\n",
       "      <th>E_units</th>\n",
       "      <th>state</th>\n",
       "      <th>G</th>\n",
       "      <th>H</th>\n",
       "      <th>S</th>\n",
       "      <th>Cp</th>\n",
       "    </tr>\n",
       "  </thead>\n",
       "  <tbody>\n",
       "    <tr>\n",
       "      <th>3205</th>\n",
       "      <td>4-iodophenol</td>\n",
       "      <td>NaN</td>\n",
       "      <td>C6H5IO</td>\n",
       "      <td>cal</td>\n",
       "      <td>gas</td>\n",
       "      <td>25686.998560</td>\n",
       "      <td>-16709.000648</td>\n",
       "      <td>379.589216</td>\n",
       "      <td>122.750192</td>\n",
       "    </tr>\n",
       "    <tr>\n",
       "      <th>3206</th>\n",
       "      <td>2-iodobenzoic acid</td>\n",
       "      <td>NaN</td>\n",
       "      <td>C7H5IO2</td>\n",
       "      <td>cal</td>\n",
       "      <td>gas</td>\n",
       "      <td>-139073.001080</td>\n",
       "      <td>-202799.998792</td>\n",
       "      <td>416.358208</td>\n",
       "      <td>128.461352</td>\n",
       "    </tr>\n",
       "    <tr>\n",
       "      <th>3207</th>\n",
       "      <td>3-iodobenzoic acid</td>\n",
       "      <td>NaN</td>\n",
       "      <td>C7H5IO2</td>\n",
       "      <td>cal</td>\n",
       "      <td>gas</td>\n",
       "      <td>-160462.998168</td>\n",
       "      <td>-218999.999104</td>\n",
       "      <td>433.772016</td>\n",
       "      <td>122.101672</td>\n",
       "    </tr>\n",
       "    <tr>\n",
       "      <th>3208</th>\n",
       "      <td>4-iodobenzoic acid</td>\n",
       "      <td>NaN</td>\n",
       "      <td>C7H5IO2</td>\n",
       "      <td>cal</td>\n",
       "      <td>gas</td>\n",
       "      <td>-157064.000248</td>\n",
       "      <td>-215600.001208</td>\n",
       "      <td>433.772016</td>\n",
       "      <td>122.101672</td>\n",
       "    </tr>\n",
       "    <tr>\n",
       "      <th>3209</th>\n",
       "      <td>methyl-2-iodobenzoate</td>\n",
       "      <td>NaN</td>\n",
       "      <td>C8H7IO2</td>\n",
       "      <td>cal</td>\n",
       "      <td>gas</td>\n",
       "      <td>-79910.998408</td>\n",
       "      <td>-167660.001168</td>\n",
       "      <td>472.206240</td>\n",
       "      <td>168.071280</td>\n",
       "    </tr>\n",
       "    <tr>\n",
       "      <th>3210</th>\n",
       "      <td>sodium</td>\n",
       "      <td>Na</td>\n",
       "      <td>Na</td>\n",
       "      <td>NaN</td>\n",
       "      <td>cr</td>\n",
       "      <td>0.000000</td>\n",
       "      <td>0.000000</td>\n",
       "      <td>51.210000</td>\n",
       "      <td>28.240000</td>\n",
       "    </tr>\n",
       "    <tr>\n",
       "      <th>3211</th>\n",
       "      <td>oxygen</td>\n",
       "      <td>O2</td>\n",
       "      <td>O2</td>\n",
       "      <td>NaN</td>\n",
       "      <td>gas</td>\n",
       "      <td>0.000000</td>\n",
       "      <td>0.000000</td>\n",
       "      <td>205.030000</td>\n",
       "      <td>29.360000</td>\n",
       "    </tr>\n",
       "    <tr>\n",
       "      <th>3212</th>\n",
       "      <td>sodium hydride</td>\n",
       "      <td>NaH</td>\n",
       "      <td>NaH</td>\n",
       "      <td>NaN</td>\n",
       "      <td>cr</td>\n",
       "      <td>-33500.000000</td>\n",
       "      <td>-56300.000000</td>\n",
       "      <td>40.000000</td>\n",
       "      <td>36.400000</td>\n",
       "    </tr>\n",
       "    <tr>\n",
       "      <th>3213</th>\n",
       "      <td>sodium hydroxide</td>\n",
       "      <td>NaOH</td>\n",
       "      <td>NaOH</td>\n",
       "      <td>NaN</td>\n",
       "      <td>cr</td>\n",
       "      <td>-379530.000000</td>\n",
       "      <td>-425610.000000</td>\n",
       "      <td>64.460000</td>\n",
       "      <td>59.540000</td>\n",
       "    </tr>\n",
       "    <tr>\n",
       "      <th>3214</th>\n",
       "      <td>aluminum</td>\n",
       "      <td>Al</td>\n",
       "      <td>Al</td>\n",
       "      <td>NaN</td>\n",
       "      <td>cr</td>\n",
       "      <td>0.000000</td>\n",
       "      <td>0.000000</td>\n",
       "      <td>28.330000</td>\n",
       "      <td>24.350000</td>\n",
       "    </tr>\n",
       "  </tbody>\n",
       "</table>\n",
       "</div>"
      ],
      "text/plain": [
       "                       name abbrv  formula E_units state              G  \\\n",
       "3205  4-iodophenol           NaN   C6H5IO   cal     gas   25686.998560    \n",
       "3206  2-iodobenzoic acid     NaN   C7H5IO2  cal     gas  -139073.001080   \n",
       "3207  3-iodobenzoic acid     NaN   C7H5IO2  cal     gas  -160462.998168   \n",
       "3208  4-iodobenzoic acid     NaN   C7H5IO2  cal     gas  -157064.000248   \n",
       "3209  methyl-2-iodobenzoate  NaN   C8H7IO2  cal     gas  -79910.998408    \n",
       "3210  sodium                 Na    Na       NaN     cr    0.000000        \n",
       "3211  oxygen                 O2    O2       NaN     gas   0.000000        \n",
       "3212  sodium hydride         NaH   NaH      NaN     cr   -33500.000000    \n",
       "3213  sodium hydroxide       NaOH  NaOH     NaN     cr   -379530.000000   \n",
       "3214  aluminum               Al    Al       NaN     cr    0.000000        \n",
       "\n",
       "                  H           S          Cp  \n",
       "3205 -16709.000648   379.589216  122.750192  \n",
       "3206 -202799.998792  416.358208  128.461352  \n",
       "3207 -218999.999104  433.772016  122.101672  \n",
       "3208 -215600.001208  433.772016  122.101672  \n",
       "3209 -167660.001168  472.206240  168.071280  \n",
       "3210  0.000000       51.210000   28.240000   \n",
       "3211  0.000000       205.030000  29.360000   \n",
       "3212 -56300.000000   40.000000   36.400000   \n",
       "3213 -425610.000000  64.460000   59.540000   \n",
       "3214  0.000000       28.330000   24.350000   "
      ]
     },
     "execution_count": 708,
     "metadata": {},
     "output_type": "execute_result"
    }
   ],
   "source": [
    "thermo.tail(10)"
   ]
  },
  {
   "cell_type": "markdown",
   "metadata": {},
   "source": [
    "### save to csv"
   ]
  },
  {
   "cell_type": "code",
   "execution_count": 717,
   "metadata": {},
   "outputs": [],
   "source": [
    "# thermo.drop(columns='E_units', inplace=True)\n",
    "thermo.to_csv('../data/processed/thermo.csv', index=False)"
   ]
  },
  {
   "cell_type": "markdown",
   "metadata": {},
   "source": [
    "## import stoichiometry csv"
   ]
  },
  {
   "cell_type": "code",
   "execution_count": 241,
   "metadata": {},
   "outputs": [
    {
     "data": {
      "text/html": [
       "<div>\n",
       "<style scoped>\n",
       "    .dataframe tbody tr th:only-of-type {\n",
       "        vertical-align: middle;\n",
       "    }\n",
       "\n",
       "    .dataframe tbody tr th {\n",
       "        vertical-align: top;\n",
       "    }\n",
       "\n",
       "    .dataframe thead th {\n",
       "        text-align: right;\n",
       "    }\n",
       "</style>\n",
       "<table border=\"1\" class=\"dataframe\">\n",
       "  <thead>\n",
       "    <tr style=\"text-align: right;\">\n",
       "      <th></th>\n",
       "      <th>Unnamed: 0</th>\n",
       "      <th>Ag</th>\n",
       "      <th>Al</th>\n",
       "      <th>Ar</th>\n",
       "      <th>As</th>\n",
       "      <th>Au</th>\n",
       "      <th>B</th>\n",
       "      <th>Ba</th>\n",
       "      <th>Be</th>\n",
       "      <th>Bi</th>\n",
       "      <th>...</th>\n",
       "      <th>Tm</th>\n",
       "      <th>U</th>\n",
       "      <th>V</th>\n",
       "      <th>W</th>\n",
       "      <th>Xe</th>\n",
       "      <th>Y</th>\n",
       "      <th>Yb</th>\n",
       "      <th>Z</th>\n",
       "      <th>Zn</th>\n",
       "      <th>Zr</th>\n",
       "    </tr>\n",
       "  </thead>\n",
       "  <tbody>\n",
       "    <tr>\n",
       "      <th>0</th>\n",
       "      <td>H2O</td>\n",
       "      <td>0</td>\n",
       "      <td>0.0</td>\n",
       "      <td>0</td>\n",
       "      <td>0</td>\n",
       "      <td>0</td>\n",
       "      <td>0</td>\n",
       "      <td>0</td>\n",
       "      <td>0</td>\n",
       "      <td>0</td>\n",
       "      <td>...</td>\n",
       "      <td>0</td>\n",
       "      <td>0</td>\n",
       "      <td>0</td>\n",
       "      <td>0</td>\n",
       "      <td>0</td>\n",
       "      <td>0</td>\n",
       "      <td>0</td>\n",
       "      <td>0</td>\n",
       "      <td>0</td>\n",
       "      <td>0</td>\n",
       "    </tr>\n",
       "    <tr>\n",
       "      <th>1</th>\n",
       "      <td>(Z-1)</td>\n",
       "      <td>0</td>\n",
       "      <td>0.0</td>\n",
       "      <td>0</td>\n",
       "      <td>0</td>\n",
       "      <td>0</td>\n",
       "      <td>0</td>\n",
       "      <td>0</td>\n",
       "      <td>0</td>\n",
       "      <td>0</td>\n",
       "      <td>...</td>\n",
       "      <td>0</td>\n",
       "      <td>0</td>\n",
       "      <td>0</td>\n",
       "      <td>0</td>\n",
       "      <td>0</td>\n",
       "      <td>0</td>\n",
       "      <td>0</td>\n",
       "      <td>-1</td>\n",
       "      <td>0</td>\n",
       "      <td>0</td>\n",
       "    </tr>\n",
       "    <tr>\n",
       "      <th>2</th>\n",
       "      <td>H+</td>\n",
       "      <td>0</td>\n",
       "      <td>0.0</td>\n",
       "      <td>0</td>\n",
       "      <td>0</td>\n",
       "      <td>0</td>\n",
       "      <td>0</td>\n",
       "      <td>0</td>\n",
       "      <td>0</td>\n",
       "      <td>0</td>\n",
       "      <td>...</td>\n",
       "      <td>0</td>\n",
       "      <td>0</td>\n",
       "      <td>0</td>\n",
       "      <td>0</td>\n",
       "      <td>0</td>\n",
       "      <td>0</td>\n",
       "      <td>0</td>\n",
       "      <td>1</td>\n",
       "      <td>0</td>\n",
       "      <td>0</td>\n",
       "    </tr>\n",
       "    <tr>\n",
       "      <th>3</th>\n",
       "      <td>Li+</td>\n",
       "      <td>0</td>\n",
       "      <td>0.0</td>\n",
       "      <td>0</td>\n",
       "      <td>0</td>\n",
       "      <td>0</td>\n",
       "      <td>0</td>\n",
       "      <td>0</td>\n",
       "      <td>0</td>\n",
       "      <td>0</td>\n",
       "      <td>...</td>\n",
       "      <td>0</td>\n",
       "      <td>0</td>\n",
       "      <td>0</td>\n",
       "      <td>0</td>\n",
       "      <td>0</td>\n",
       "      <td>0</td>\n",
       "      <td>0</td>\n",
       "      <td>1</td>\n",
       "      <td>0</td>\n",
       "      <td>0</td>\n",
       "    </tr>\n",
       "    <tr>\n",
       "      <th>4</th>\n",
       "      <td>Na+</td>\n",
       "      <td>0</td>\n",
       "      <td>0.0</td>\n",
       "      <td>0</td>\n",
       "      <td>0</td>\n",
       "      <td>0</td>\n",
       "      <td>0</td>\n",
       "      <td>0</td>\n",
       "      <td>0</td>\n",
       "      <td>0</td>\n",
       "      <td>...</td>\n",
       "      <td>0</td>\n",
       "      <td>0</td>\n",
       "      <td>0</td>\n",
       "      <td>0</td>\n",
       "      <td>0</td>\n",
       "      <td>0</td>\n",
       "      <td>0</td>\n",
       "      <td>1</td>\n",
       "      <td>0</td>\n",
       "      <td>0</td>\n",
       "    </tr>\n",
       "  </tbody>\n",
       "</table>\n",
       "<p>5 rows × 86 columns</p>\n",
       "</div>"
      ],
      "text/plain": [
       "  Unnamed: 0  Ag   Al  Ar  As  Au  B  Ba  Be  Bi  ...  Tm  U  V  W  Xe  Y  Yb  \\\n",
       "0  H2O        0   0.0  0   0   0   0  0   0   0   ...  0   0  0  0  0   0  0    \n",
       "1  (Z-1)      0   0.0  0   0   0   0  0   0   0   ...  0   0  0  0  0   0  0    \n",
       "2  H+         0   0.0  0   0   0   0  0   0   0   ...  0   0  0  0  0   0  0    \n",
       "3  Li+        0   0.0  0   0   0   0  0   0   0   ...  0   0  0  0  0   0  0    \n",
       "4  Na+        0   0.0  0   0   0   0  0   0   0   ...  0   0  0  0  0   0  0    \n",
       "\n",
       "   Z  Zn  Zr  \n",
       "0  0  0   0   \n",
       "1 -1  0   0   \n",
       "2  1  0   0   \n",
       "3  1  0   0   \n",
       "4  1  0   0   \n",
       "\n",
       "[5 rows x 86 columns]"
      ]
     },
     "execution_count": 241,
     "metadata": {},
     "output_type": "execute_result"
    }
   ],
   "source": [
    "stoich = pd.read_csv('../data/external/thermo/chnosz_stoich.csv')\n",
    "stoich.head()"
   ]
  },
  {
   "cell_type": "code",
   "execution_count": 242,
   "metadata": {},
   "outputs": [
    {
     "data": {
      "text/html": [
       "<div>\n",
       "<style scoped>\n",
       "    .dataframe tbody tr th:only-of-type {\n",
       "        vertical-align: middle;\n",
       "    }\n",
       "\n",
       "    .dataframe tbody tr th {\n",
       "        vertical-align: top;\n",
       "    }\n",
       "\n",
       "    .dataframe thead th {\n",
       "        text-align: right;\n",
       "    }\n",
       "</style>\n",
       "<table border=\"1\" class=\"dataframe\">\n",
       "  <thead>\n",
       "    <tr style=\"text-align: right;\">\n",
       "      <th></th>\n",
       "      <th>-1</th>\n",
       "      <th>Ag</th>\n",
       "      <th>Al</th>\n",
       "      <th>Ar</th>\n",
       "      <th>As</th>\n",
       "      <th>Au</th>\n",
       "      <th>B</th>\n",
       "      <th>Ba</th>\n",
       "      <th>Be</th>\n",
       "      <th>Bi</th>\n",
       "      <th>...</th>\n",
       "      <th>Tm</th>\n",
       "      <th>U</th>\n",
       "      <th>V</th>\n",
       "      <th>W</th>\n",
       "      <th>Xe</th>\n",
       "      <th>Y</th>\n",
       "      <th>Yb</th>\n",
       "      <th>Z</th>\n",
       "      <th>Zn</th>\n",
       "      <th>Zr</th>\n",
       "    </tr>\n",
       "  </thead>\n",
       "  <tbody>\n",
       "    <tr>\n",
       "      <th>0</th>\n",
       "      <td>H2O</td>\n",
       "      <td>0</td>\n",
       "      <td>0.0</td>\n",
       "      <td>0</td>\n",
       "      <td>0</td>\n",
       "      <td>0</td>\n",
       "      <td>0</td>\n",
       "      <td>0</td>\n",
       "      <td>0</td>\n",
       "      <td>0</td>\n",
       "      <td>...</td>\n",
       "      <td>0</td>\n",
       "      <td>0</td>\n",
       "      <td>0</td>\n",
       "      <td>0</td>\n",
       "      <td>0</td>\n",
       "      <td>0</td>\n",
       "      <td>0</td>\n",
       "      <td>0</td>\n",
       "      <td>0</td>\n",
       "      <td>0</td>\n",
       "    </tr>\n",
       "    <tr>\n",
       "      <th>1</th>\n",
       "      <td>(Z-1)</td>\n",
       "      <td>0</td>\n",
       "      <td>0.0</td>\n",
       "      <td>0</td>\n",
       "      <td>0</td>\n",
       "      <td>0</td>\n",
       "      <td>0</td>\n",
       "      <td>0</td>\n",
       "      <td>0</td>\n",
       "      <td>0</td>\n",
       "      <td>...</td>\n",
       "      <td>0</td>\n",
       "      <td>0</td>\n",
       "      <td>0</td>\n",
       "      <td>0</td>\n",
       "      <td>0</td>\n",
       "      <td>0</td>\n",
       "      <td>0</td>\n",
       "      <td>-1</td>\n",
       "      <td>0</td>\n",
       "      <td>0</td>\n",
       "    </tr>\n",
       "    <tr>\n",
       "      <th>2</th>\n",
       "      <td>H+</td>\n",
       "      <td>0</td>\n",
       "      <td>0.0</td>\n",
       "      <td>0</td>\n",
       "      <td>0</td>\n",
       "      <td>0</td>\n",
       "      <td>0</td>\n",
       "      <td>0</td>\n",
       "      <td>0</td>\n",
       "      <td>0</td>\n",
       "      <td>...</td>\n",
       "      <td>0</td>\n",
       "      <td>0</td>\n",
       "      <td>0</td>\n",
       "      <td>0</td>\n",
       "      <td>0</td>\n",
       "      <td>0</td>\n",
       "      <td>0</td>\n",
       "      <td>1</td>\n",
       "      <td>0</td>\n",
       "      <td>0</td>\n",
       "    </tr>\n",
       "    <tr>\n",
       "      <th>3</th>\n",
       "      <td>Li+</td>\n",
       "      <td>0</td>\n",
       "      <td>0.0</td>\n",
       "      <td>0</td>\n",
       "      <td>0</td>\n",
       "      <td>0</td>\n",
       "      <td>0</td>\n",
       "      <td>0</td>\n",
       "      <td>0</td>\n",
       "      <td>0</td>\n",
       "      <td>...</td>\n",
       "      <td>0</td>\n",
       "      <td>0</td>\n",
       "      <td>0</td>\n",
       "      <td>0</td>\n",
       "      <td>0</td>\n",
       "      <td>0</td>\n",
       "      <td>0</td>\n",
       "      <td>1</td>\n",
       "      <td>0</td>\n",
       "      <td>0</td>\n",
       "    </tr>\n",
       "    <tr>\n",
       "      <th>4</th>\n",
       "      <td>Na+</td>\n",
       "      <td>0</td>\n",
       "      <td>0.0</td>\n",
       "      <td>0</td>\n",
       "      <td>0</td>\n",
       "      <td>0</td>\n",
       "      <td>0</td>\n",
       "      <td>0</td>\n",
       "      <td>0</td>\n",
       "      <td>0</td>\n",
       "      <td>...</td>\n",
       "      <td>0</td>\n",
       "      <td>0</td>\n",
       "      <td>0</td>\n",
       "      <td>0</td>\n",
       "      <td>0</td>\n",
       "      <td>0</td>\n",
       "      <td>0</td>\n",
       "      <td>1</td>\n",
       "      <td>0</td>\n",
       "      <td>0</td>\n",
       "    </tr>\n",
       "  </tbody>\n",
       "</table>\n",
       "<p>5 rows × 86 columns</p>\n",
       "</div>"
      ],
      "text/plain": [
       "      -1  Ag   Al  Ar  As  Au  B  Ba  Be  Bi  ...  Tm  U  V  W  Xe  Y  Yb  Z  \\\n",
       "0  H2O    0   0.0  0   0   0   0  0   0   0   ...  0   0  0  0  0   0  0   0   \n",
       "1  (Z-1)  0   0.0  0   0   0   0  0   0   0   ...  0   0  0  0  0   0  0  -1   \n",
       "2  H+     0   0.0  0   0   0   0  0   0   0   ...  0   0  0  0  0   0  0   1   \n",
       "3  Li+    0   0.0  0   0   0   0  0   0   0   ...  0   0  0  0  0   0  0   1   \n",
       "4  Na+    0   0.0  0   0   0   0  0   0   0   ...  0   0  0  0  0   0  0   1   \n",
       "\n",
       "   Zn  Zr  \n",
       "0  0   0   \n",
       "1  0   0   \n",
       "2  0   0   \n",
       "3  0   0   \n",
       "4  0   0   \n",
       "\n",
       "[5 rows x 86 columns]"
      ]
     },
     "execution_count": 242,
     "metadata": {},
     "output_type": "execute_result"
    }
   ],
   "source": [
    "# it's more convenient to look at if the formula column is first\n",
    "# the column names will be renamed by atomic number\n",
    "\n",
    "stoich.rename(columns={'Unnamed: 0': -1}, inplace=True)\n",
    "stoich.head()"
   ]
  },
  {
   "cell_type": "code",
   "execution_count": 246,
   "metadata": {},
   "outputs": [],
   "source": [
    "# i'm sure there's a better way to do this\n",
    "# getting symbols from periodic.py\n",
    "\n",
    "symbols = ('e-',\n",
    "    'H', 'He', 'Li', 'Be', 'B', 'C', 'N', 'O', 'F', 'Ne', 'Na', 'Mg', 'Al',\n",
    "    'Si', 'P', 'S', 'Cl', 'Ar', 'K', 'Ca', 'Sc', 'Ti', 'V', 'Cr', 'Mn', 'Fe',\n",
    "    'Co', 'Ni', 'Cu', 'Zn', 'Ga', 'Ge', 'As', 'Se', 'Br', 'Kr', 'Rb', 'Sr',\n",
    "    'Y', 'Zr', 'Nb', 'Mo', 'Tc', 'Ru', 'Rh', 'Pd', 'Ag', 'Cd', 'In', 'Sn',\n",
    "    'Sb', 'Te', 'I', 'Xe', 'Cs', 'Ba', 'La', 'Ce', 'Pr', 'Nd', 'Pm', 'Sm',\n",
    "    'Eu', 'Gd', 'Tb', 'Dy', 'Ho', 'Er', 'Tm', 'Yb', 'Lu', 'Hf', 'Ta', 'W',\n",
    "    'Re', 'Os', 'Ir', 'Pt', 'Au', 'Hg', 'Tl', 'Pb', 'Bi', 'Po', 'At', 'Rn',\n",
    "    'Fr', 'Ra', 'Ac', 'Th', 'Pa', 'U', 'Np', 'Pu', 'Am', 'Cm', 'Bk', 'Cf',\n",
    "    'Es', 'Fm', 'Md', 'No', 'Lr', 'Rf', 'Db', 'Sg', 'Bh', 'Hs', 'Mt', 'Ds',\n",
    "    'Rg', 'Cn', 'Nh', 'Fl', 'Mc', 'Lv', 'Ts', 'Og'\n",
    "    )\n",
    "\n",
    "def Z(symbol):\n",
    "    return symbols.index(symbol)"
   ]
  },
  {
   "cell_type": "code",
   "execution_count": 247,
   "metadata": {},
   "outputs": [
    {
     "data": {
      "text/html": [
       "<div>\n",
       "<style scoped>\n",
       "    .dataframe tbody tr th:only-of-type {\n",
       "        vertical-align: middle;\n",
       "    }\n",
       "\n",
       "    .dataframe tbody tr th {\n",
       "        vertical-align: top;\n",
       "    }\n",
       "\n",
       "    .dataframe thead th {\n",
       "        text-align: right;\n",
       "    }\n",
       "</style>\n",
       "<table border=\"1\" class=\"dataframe\">\n",
       "  <thead>\n",
       "    <tr style=\"text-align: right;\">\n",
       "      <th></th>\n",
       "      <th>-1</th>\n",
       "      <th>Ag</th>\n",
       "      <th>Al</th>\n",
       "      <th>Ar</th>\n",
       "      <th>As</th>\n",
       "      <th>Au</th>\n",
       "      <th>B</th>\n",
       "      <th>Ba</th>\n",
       "      <th>Be</th>\n",
       "      <th>Bi</th>\n",
       "      <th>...</th>\n",
       "      <th>Tm</th>\n",
       "      <th>U</th>\n",
       "      <th>V</th>\n",
       "      <th>W</th>\n",
       "      <th>Xe</th>\n",
       "      <th>Y</th>\n",
       "      <th>Yb</th>\n",
       "      <th>e-</th>\n",
       "      <th>Zn</th>\n",
       "      <th>Zr</th>\n",
       "    </tr>\n",
       "  </thead>\n",
       "  <tbody>\n",
       "    <tr>\n",
       "      <th>0</th>\n",
       "      <td>H2O</td>\n",
       "      <td>0</td>\n",
       "      <td>0.0</td>\n",
       "      <td>0</td>\n",
       "      <td>0</td>\n",
       "      <td>0</td>\n",
       "      <td>0</td>\n",
       "      <td>0</td>\n",
       "      <td>0</td>\n",
       "      <td>0</td>\n",
       "      <td>...</td>\n",
       "      <td>0</td>\n",
       "      <td>0</td>\n",
       "      <td>0</td>\n",
       "      <td>0</td>\n",
       "      <td>0</td>\n",
       "      <td>0</td>\n",
       "      <td>0</td>\n",
       "      <td>0</td>\n",
       "      <td>0</td>\n",
       "      <td>0</td>\n",
       "    </tr>\n",
       "    <tr>\n",
       "      <th>1</th>\n",
       "      <td>(Z-1)</td>\n",
       "      <td>0</td>\n",
       "      <td>0.0</td>\n",
       "      <td>0</td>\n",
       "      <td>0</td>\n",
       "      <td>0</td>\n",
       "      <td>0</td>\n",
       "      <td>0</td>\n",
       "      <td>0</td>\n",
       "      <td>0</td>\n",
       "      <td>...</td>\n",
       "      <td>0</td>\n",
       "      <td>0</td>\n",
       "      <td>0</td>\n",
       "      <td>0</td>\n",
       "      <td>0</td>\n",
       "      <td>0</td>\n",
       "      <td>0</td>\n",
       "      <td>-1</td>\n",
       "      <td>0</td>\n",
       "      <td>0</td>\n",
       "    </tr>\n",
       "    <tr>\n",
       "      <th>2</th>\n",
       "      <td>H+</td>\n",
       "      <td>0</td>\n",
       "      <td>0.0</td>\n",
       "      <td>0</td>\n",
       "      <td>0</td>\n",
       "      <td>0</td>\n",
       "      <td>0</td>\n",
       "      <td>0</td>\n",
       "      <td>0</td>\n",
       "      <td>0</td>\n",
       "      <td>...</td>\n",
       "      <td>0</td>\n",
       "      <td>0</td>\n",
       "      <td>0</td>\n",
       "      <td>0</td>\n",
       "      <td>0</td>\n",
       "      <td>0</td>\n",
       "      <td>0</td>\n",
       "      <td>1</td>\n",
       "      <td>0</td>\n",
       "      <td>0</td>\n",
       "    </tr>\n",
       "    <tr>\n",
       "      <th>3</th>\n",
       "      <td>Li+</td>\n",
       "      <td>0</td>\n",
       "      <td>0.0</td>\n",
       "      <td>0</td>\n",
       "      <td>0</td>\n",
       "      <td>0</td>\n",
       "      <td>0</td>\n",
       "      <td>0</td>\n",
       "      <td>0</td>\n",
       "      <td>0</td>\n",
       "      <td>...</td>\n",
       "      <td>0</td>\n",
       "      <td>0</td>\n",
       "      <td>0</td>\n",
       "      <td>0</td>\n",
       "      <td>0</td>\n",
       "      <td>0</td>\n",
       "      <td>0</td>\n",
       "      <td>1</td>\n",
       "      <td>0</td>\n",
       "      <td>0</td>\n",
       "    </tr>\n",
       "    <tr>\n",
       "      <th>4</th>\n",
       "      <td>Na+</td>\n",
       "      <td>0</td>\n",
       "      <td>0.0</td>\n",
       "      <td>0</td>\n",
       "      <td>0</td>\n",
       "      <td>0</td>\n",
       "      <td>0</td>\n",
       "      <td>0</td>\n",
       "      <td>0</td>\n",
       "      <td>0</td>\n",
       "      <td>...</td>\n",
       "      <td>0</td>\n",
       "      <td>0</td>\n",
       "      <td>0</td>\n",
       "      <td>0</td>\n",
       "      <td>0</td>\n",
       "      <td>0</td>\n",
       "      <td>0</td>\n",
       "      <td>1</td>\n",
       "      <td>0</td>\n",
       "      <td>0</td>\n",
       "    </tr>\n",
       "  </tbody>\n",
       "</table>\n",
       "<p>5 rows × 86 columns</p>\n",
       "</div>"
      ],
      "text/plain": [
       "      -1  Ag   Al  Ar  As  Au  B  Ba  Be  Bi  ...  Tm  U  V  W  Xe  Y  Yb  e-  \\\n",
       "0  H2O    0   0.0  0   0   0   0  0   0   0   ...  0   0  0  0  0   0  0   0    \n",
       "1  (Z-1)  0   0.0  0   0   0   0  0   0   0   ...  0   0  0  0  0   0  0  -1    \n",
       "2  H+     0   0.0  0   0   0   0  0   0   0   ...  0   0  0  0  0   0  0   1    \n",
       "3  Li+    0   0.0  0   0   0   0  0   0   0   ...  0   0  0  0  0   0  0   1    \n",
       "4  Na+    0   0.0  0   0   0   0  0   0   0   ...  0   0  0  0  0   0  0   1    \n",
       "\n",
       "   Zn  Zr  \n",
       "0  0   0   \n",
       "1  0   0   \n",
       "2  0   0   \n",
       "3  0   0   \n",
       "4  0   0   \n",
       "\n",
       "[5 rows x 86 columns]"
      ]
     },
     "execution_count": 247,
     "metadata": {},
     "output_type": "execute_result"
    }
   ],
   "source": [
    "stoich.rename(columns={'Z': 'e-'}, inplace=True)\n",
    "stoich.head()"
   ]
  },
  {
   "cell_type": "code",
   "execution_count": 248,
   "metadata": {},
   "outputs": [
    {
     "data": {
      "text/html": [
       "<div>\n",
       "<style scoped>\n",
       "    .dataframe tbody tr th:only-of-type {\n",
       "        vertical-align: middle;\n",
       "    }\n",
       "\n",
       "    .dataframe tbody tr th {\n",
       "        vertical-align: top;\n",
       "    }\n",
       "\n",
       "    .dataframe thead th {\n",
       "        text-align: right;\n",
       "    }\n",
       "</style>\n",
       "<table border=\"1\" class=\"dataframe\">\n",
       "  <thead>\n",
       "    <tr style=\"text-align: right;\">\n",
       "      <th></th>\n",
       "      <th>-1</th>\n",
       "      <th>47</th>\n",
       "      <th>13</th>\n",
       "      <th>18</th>\n",
       "      <th>33</th>\n",
       "      <th>79</th>\n",
       "      <th>5</th>\n",
       "      <th>56</th>\n",
       "      <th>4</th>\n",
       "      <th>83</th>\n",
       "      <th>...</th>\n",
       "      <th>69</th>\n",
       "      <th>92</th>\n",
       "      <th>23</th>\n",
       "      <th>74</th>\n",
       "      <th>54</th>\n",
       "      <th>39</th>\n",
       "      <th>70</th>\n",
       "      <th>0</th>\n",
       "      <th>30</th>\n",
       "      <th>40</th>\n",
       "    </tr>\n",
       "  </thead>\n",
       "  <tbody>\n",
       "    <tr>\n",
       "      <th>0</th>\n",
       "      <td>H2O</td>\n",
       "      <td>0</td>\n",
       "      <td>0.0</td>\n",
       "      <td>0</td>\n",
       "      <td>0</td>\n",
       "      <td>0</td>\n",
       "      <td>0</td>\n",
       "      <td>0</td>\n",
       "      <td>0</td>\n",
       "      <td>0</td>\n",
       "      <td>...</td>\n",
       "      <td>0</td>\n",
       "      <td>0</td>\n",
       "      <td>0</td>\n",
       "      <td>0</td>\n",
       "      <td>0</td>\n",
       "      <td>0</td>\n",
       "      <td>0</td>\n",
       "      <td>0</td>\n",
       "      <td>0</td>\n",
       "      <td>0</td>\n",
       "    </tr>\n",
       "    <tr>\n",
       "      <th>1</th>\n",
       "      <td>(Z-1)</td>\n",
       "      <td>0</td>\n",
       "      <td>0.0</td>\n",
       "      <td>0</td>\n",
       "      <td>0</td>\n",
       "      <td>0</td>\n",
       "      <td>0</td>\n",
       "      <td>0</td>\n",
       "      <td>0</td>\n",
       "      <td>0</td>\n",
       "      <td>...</td>\n",
       "      <td>0</td>\n",
       "      <td>0</td>\n",
       "      <td>0</td>\n",
       "      <td>0</td>\n",
       "      <td>0</td>\n",
       "      <td>0</td>\n",
       "      <td>0</td>\n",
       "      <td>-1</td>\n",
       "      <td>0</td>\n",
       "      <td>0</td>\n",
       "    </tr>\n",
       "    <tr>\n",
       "      <th>2</th>\n",
       "      <td>H+</td>\n",
       "      <td>0</td>\n",
       "      <td>0.0</td>\n",
       "      <td>0</td>\n",
       "      <td>0</td>\n",
       "      <td>0</td>\n",
       "      <td>0</td>\n",
       "      <td>0</td>\n",
       "      <td>0</td>\n",
       "      <td>0</td>\n",
       "      <td>...</td>\n",
       "      <td>0</td>\n",
       "      <td>0</td>\n",
       "      <td>0</td>\n",
       "      <td>0</td>\n",
       "      <td>0</td>\n",
       "      <td>0</td>\n",
       "      <td>0</td>\n",
       "      <td>1</td>\n",
       "      <td>0</td>\n",
       "      <td>0</td>\n",
       "    </tr>\n",
       "    <tr>\n",
       "      <th>3</th>\n",
       "      <td>Li+</td>\n",
       "      <td>0</td>\n",
       "      <td>0.0</td>\n",
       "      <td>0</td>\n",
       "      <td>0</td>\n",
       "      <td>0</td>\n",
       "      <td>0</td>\n",
       "      <td>0</td>\n",
       "      <td>0</td>\n",
       "      <td>0</td>\n",
       "      <td>...</td>\n",
       "      <td>0</td>\n",
       "      <td>0</td>\n",
       "      <td>0</td>\n",
       "      <td>0</td>\n",
       "      <td>0</td>\n",
       "      <td>0</td>\n",
       "      <td>0</td>\n",
       "      <td>1</td>\n",
       "      <td>0</td>\n",
       "      <td>0</td>\n",
       "    </tr>\n",
       "    <tr>\n",
       "      <th>4</th>\n",
       "      <td>Na+</td>\n",
       "      <td>0</td>\n",
       "      <td>0.0</td>\n",
       "      <td>0</td>\n",
       "      <td>0</td>\n",
       "      <td>0</td>\n",
       "      <td>0</td>\n",
       "      <td>0</td>\n",
       "      <td>0</td>\n",
       "      <td>0</td>\n",
       "      <td>...</td>\n",
       "      <td>0</td>\n",
       "      <td>0</td>\n",
       "      <td>0</td>\n",
       "      <td>0</td>\n",
       "      <td>0</td>\n",
       "      <td>0</td>\n",
       "      <td>0</td>\n",
       "      <td>1</td>\n",
       "      <td>0</td>\n",
       "      <td>0</td>\n",
       "    </tr>\n",
       "  </tbody>\n",
       "</table>\n",
       "<p>5 rows × 86 columns</p>\n",
       "</div>"
      ],
      "text/plain": [
       "      -1   47   13   18   33   79   5   56   4   83  ...   69   92   23   74  \\\n",
       "0  H2O    0    0.0  0    0    0    0   0    0   0    ...  0    0    0    0     \n",
       "1  (Z-1)  0    0.0  0    0    0    0   0    0   0    ...  0    0    0    0     \n",
       "2  H+     0    0.0  0    0    0    0   0    0   0    ...  0    0    0    0     \n",
       "3  Li+    0    0.0  0    0    0    0   0    0   0    ...  0    0    0    0     \n",
       "4  Na+    0    0.0  0    0    0    0   0    0   0    ...  0    0    0    0     \n",
       "\n",
       "    54   39   70   0   30   40  \n",
       "0  0    0    0    0   0    0    \n",
       "1  0    0    0   -1   0    0    \n",
       "2  0    0    0    1   0    0    \n",
       "3  0    0    0    1   0    0    \n",
       "4  0    0    0    1   0    0    \n",
       "\n",
       "[5 rows x 86 columns]"
      ]
     },
     "execution_count": 248,
     "metadata": {},
     "output_type": "execute_result"
    }
   ],
   "source": [
    "stoich.columns = [Z(col) if col != -1 else col for col in stoich.columns]\n",
    "stoich.head()"
   ]
  },
  {
   "cell_type": "code",
   "execution_count": 250,
   "metadata": {},
   "outputs": [
    {
     "data": {
      "text/html": [
       "<div>\n",
       "<style scoped>\n",
       "    .dataframe tbody tr th:only-of-type {\n",
       "        vertical-align: middle;\n",
       "    }\n",
       "\n",
       "    .dataframe tbody tr th {\n",
       "        vertical-align: top;\n",
       "    }\n",
       "\n",
       "    .dataframe thead th {\n",
       "        text-align: right;\n",
       "    }\n",
       "</style>\n",
       "<table border=\"1\" class=\"dataframe\">\n",
       "  <thead>\n",
       "    <tr style=\"text-align: right;\">\n",
       "      <th></th>\n",
       "      <th>-1</th>\n",
       "      <th>0</th>\n",
       "      <th>1</th>\n",
       "      <th>2</th>\n",
       "      <th>3</th>\n",
       "      <th>4</th>\n",
       "      <th>5</th>\n",
       "      <th>6</th>\n",
       "      <th>7</th>\n",
       "      <th>8</th>\n",
       "      <th>...</th>\n",
       "      <th>80</th>\n",
       "      <th>81</th>\n",
       "      <th>82</th>\n",
       "      <th>83</th>\n",
       "      <th>86</th>\n",
       "      <th>87</th>\n",
       "      <th>88</th>\n",
       "      <th>90</th>\n",
       "      <th>91</th>\n",
       "      <th>92</th>\n",
       "    </tr>\n",
       "  </thead>\n",
       "  <tbody>\n",
       "    <tr>\n",
       "      <th>0</th>\n",
       "      <td>H2O</td>\n",
       "      <td>0</td>\n",
       "      <td>2.0</td>\n",
       "      <td>0</td>\n",
       "      <td>0</td>\n",
       "      <td>0</td>\n",
       "      <td>0</td>\n",
       "      <td>0</td>\n",
       "      <td>0</td>\n",
       "      <td>1.0</td>\n",
       "      <td>...</td>\n",
       "      <td>0</td>\n",
       "      <td>0</td>\n",
       "      <td>0</td>\n",
       "      <td>0</td>\n",
       "      <td>0</td>\n",
       "      <td>0</td>\n",
       "      <td>0</td>\n",
       "      <td>0</td>\n",
       "      <td>0</td>\n",
       "      <td>0</td>\n",
       "    </tr>\n",
       "    <tr>\n",
       "      <th>1</th>\n",
       "      <td>(Z-1)</td>\n",
       "      <td>-1</td>\n",
       "      <td>0.0</td>\n",
       "      <td>0</td>\n",
       "      <td>0</td>\n",
       "      <td>0</td>\n",
       "      <td>0</td>\n",
       "      <td>0</td>\n",
       "      <td>0</td>\n",
       "      <td>0.0</td>\n",
       "      <td>...</td>\n",
       "      <td>0</td>\n",
       "      <td>0</td>\n",
       "      <td>0</td>\n",
       "      <td>0</td>\n",
       "      <td>0</td>\n",
       "      <td>0</td>\n",
       "      <td>0</td>\n",
       "      <td>0</td>\n",
       "      <td>0</td>\n",
       "      <td>0</td>\n",
       "    </tr>\n",
       "    <tr>\n",
       "      <th>2</th>\n",
       "      <td>H+</td>\n",
       "      <td>1</td>\n",
       "      <td>1.0</td>\n",
       "      <td>0</td>\n",
       "      <td>0</td>\n",
       "      <td>0</td>\n",
       "      <td>0</td>\n",
       "      <td>0</td>\n",
       "      <td>0</td>\n",
       "      <td>0.0</td>\n",
       "      <td>...</td>\n",
       "      <td>0</td>\n",
       "      <td>0</td>\n",
       "      <td>0</td>\n",
       "      <td>0</td>\n",
       "      <td>0</td>\n",
       "      <td>0</td>\n",
       "      <td>0</td>\n",
       "      <td>0</td>\n",
       "      <td>0</td>\n",
       "      <td>0</td>\n",
       "    </tr>\n",
       "    <tr>\n",
       "      <th>3</th>\n",
       "      <td>Li+</td>\n",
       "      <td>1</td>\n",
       "      <td>0.0</td>\n",
       "      <td>0</td>\n",
       "      <td>1</td>\n",
       "      <td>0</td>\n",
       "      <td>0</td>\n",
       "      <td>0</td>\n",
       "      <td>0</td>\n",
       "      <td>0.0</td>\n",
       "      <td>...</td>\n",
       "      <td>0</td>\n",
       "      <td>0</td>\n",
       "      <td>0</td>\n",
       "      <td>0</td>\n",
       "      <td>0</td>\n",
       "      <td>0</td>\n",
       "      <td>0</td>\n",
       "      <td>0</td>\n",
       "      <td>0</td>\n",
       "      <td>0</td>\n",
       "    </tr>\n",
       "    <tr>\n",
       "      <th>4</th>\n",
       "      <td>Na+</td>\n",
       "      <td>1</td>\n",
       "      <td>0.0</td>\n",
       "      <td>0</td>\n",
       "      <td>0</td>\n",
       "      <td>0</td>\n",
       "      <td>0</td>\n",
       "      <td>0</td>\n",
       "      <td>0</td>\n",
       "      <td>0.0</td>\n",
       "      <td>...</td>\n",
       "      <td>0</td>\n",
       "      <td>0</td>\n",
       "      <td>0</td>\n",
       "      <td>0</td>\n",
       "      <td>0</td>\n",
       "      <td>0</td>\n",
       "      <td>0</td>\n",
       "      <td>0</td>\n",
       "      <td>0</td>\n",
       "      <td>0</td>\n",
       "    </tr>\n",
       "  </tbody>\n",
       "</table>\n",
       "<p>5 rows × 86 columns</p>\n",
       "</div>"
      ],
      "text/plain": [
       "      -1   0    1   2   3   4   5   6   7    8  ...   80   81   82   83   86  \\\n",
       "0  H2O    0   2.0  0   0   0   0   0   0   1.0  ...  0    0    0    0    0     \n",
       "1  (Z-1) -1   0.0  0   0   0   0   0   0   0.0  ...  0    0    0    0    0     \n",
       "2  H+     1   1.0  0   0   0   0   0   0   0.0  ...  0    0    0    0    0     \n",
       "3  Li+    1   0.0  0   1   0   0   0   0   0.0  ...  0    0    0    0    0     \n",
       "4  Na+    1   0.0  0   0   0   0   0   0   0.0  ...  0    0    0    0    0     \n",
       "\n",
       "    87   88   90   91   92  \n",
       "0  0    0    0    0    0    \n",
       "1  0    0    0    0    0    \n",
       "2  0    0    0    0    0    \n",
       "3  0    0    0    0    0    \n",
       "4  0    0    0    0    0    \n",
       "\n",
       "[5 rows x 86 columns]"
      ]
     },
     "execution_count": 250,
     "metadata": {},
     "output_type": "execute_result"
    }
   ],
   "source": [
    "stoich = stoich[list(stoich.columns.sort_values())]\n",
    "stoich.head()"
   ]
  },
  {
   "cell_type": "code",
   "execution_count": 251,
   "metadata": {},
   "outputs": [],
   "source": [
    "stoich.rename(columns={-1: 'formula'}, inplace=True)"
   ]
  },
  {
   "cell_type": "code",
   "execution_count": 252,
   "metadata": {},
   "outputs": [
    {
     "data": {
      "text/html": [
       "<div>\n",
       "<style scoped>\n",
       "    .dataframe tbody tr th:only-of-type {\n",
       "        vertical-align: middle;\n",
       "    }\n",
       "\n",
       "    .dataframe tbody tr th {\n",
       "        vertical-align: top;\n",
       "    }\n",
       "\n",
       "    .dataframe thead th {\n",
       "        text-align: right;\n",
       "    }\n",
       "</style>\n",
       "<table border=\"1\" class=\"dataframe\">\n",
       "  <thead>\n",
       "    <tr style=\"text-align: right;\">\n",
       "      <th></th>\n",
       "      <th>formula</th>\n",
       "      <th>0</th>\n",
       "      <th>1</th>\n",
       "      <th>2</th>\n",
       "      <th>3</th>\n",
       "      <th>4</th>\n",
       "      <th>5</th>\n",
       "      <th>6</th>\n",
       "      <th>7</th>\n",
       "      <th>8</th>\n",
       "      <th>...</th>\n",
       "      <th>80</th>\n",
       "      <th>81</th>\n",
       "      <th>82</th>\n",
       "      <th>83</th>\n",
       "      <th>86</th>\n",
       "      <th>87</th>\n",
       "      <th>88</th>\n",
       "      <th>90</th>\n",
       "      <th>91</th>\n",
       "      <th>92</th>\n",
       "    </tr>\n",
       "  </thead>\n",
       "  <tbody>\n",
       "    <tr>\n",
       "      <th>0</th>\n",
       "      <td>H2O</td>\n",
       "      <td>0</td>\n",
       "      <td>2.0</td>\n",
       "      <td>0</td>\n",
       "      <td>0</td>\n",
       "      <td>0</td>\n",
       "      <td>0</td>\n",
       "      <td>0</td>\n",
       "      <td>0</td>\n",
       "      <td>1.0</td>\n",
       "      <td>...</td>\n",
       "      <td>0</td>\n",
       "      <td>0</td>\n",
       "      <td>0</td>\n",
       "      <td>0</td>\n",
       "      <td>0</td>\n",
       "      <td>0</td>\n",
       "      <td>0</td>\n",
       "      <td>0</td>\n",
       "      <td>0</td>\n",
       "      <td>0</td>\n",
       "    </tr>\n",
       "    <tr>\n",
       "      <th>1</th>\n",
       "      <td>e-</td>\n",
       "      <td>-1</td>\n",
       "      <td>0.0</td>\n",
       "      <td>0</td>\n",
       "      <td>0</td>\n",
       "      <td>0</td>\n",
       "      <td>0</td>\n",
       "      <td>0</td>\n",
       "      <td>0</td>\n",
       "      <td>0.0</td>\n",
       "      <td>...</td>\n",
       "      <td>0</td>\n",
       "      <td>0</td>\n",
       "      <td>0</td>\n",
       "      <td>0</td>\n",
       "      <td>0</td>\n",
       "      <td>0</td>\n",
       "      <td>0</td>\n",
       "      <td>0</td>\n",
       "      <td>0</td>\n",
       "      <td>0</td>\n",
       "    </tr>\n",
       "    <tr>\n",
       "      <th>2</th>\n",
       "      <td>H+</td>\n",
       "      <td>1</td>\n",
       "      <td>1.0</td>\n",
       "      <td>0</td>\n",
       "      <td>0</td>\n",
       "      <td>0</td>\n",
       "      <td>0</td>\n",
       "      <td>0</td>\n",
       "      <td>0</td>\n",
       "      <td>0.0</td>\n",
       "      <td>...</td>\n",
       "      <td>0</td>\n",
       "      <td>0</td>\n",
       "      <td>0</td>\n",
       "      <td>0</td>\n",
       "      <td>0</td>\n",
       "      <td>0</td>\n",
       "      <td>0</td>\n",
       "      <td>0</td>\n",
       "      <td>0</td>\n",
       "      <td>0</td>\n",
       "    </tr>\n",
       "    <tr>\n",
       "      <th>3</th>\n",
       "      <td>Li+</td>\n",
       "      <td>1</td>\n",
       "      <td>0.0</td>\n",
       "      <td>0</td>\n",
       "      <td>1</td>\n",
       "      <td>0</td>\n",
       "      <td>0</td>\n",
       "      <td>0</td>\n",
       "      <td>0</td>\n",
       "      <td>0.0</td>\n",
       "      <td>...</td>\n",
       "      <td>0</td>\n",
       "      <td>0</td>\n",
       "      <td>0</td>\n",
       "      <td>0</td>\n",
       "      <td>0</td>\n",
       "      <td>0</td>\n",
       "      <td>0</td>\n",
       "      <td>0</td>\n",
       "      <td>0</td>\n",
       "      <td>0</td>\n",
       "    </tr>\n",
       "    <tr>\n",
       "      <th>4</th>\n",
       "      <td>Na+</td>\n",
       "      <td>1</td>\n",
       "      <td>0.0</td>\n",
       "      <td>0</td>\n",
       "      <td>0</td>\n",
       "      <td>0</td>\n",
       "      <td>0</td>\n",
       "      <td>0</td>\n",
       "      <td>0</td>\n",
       "      <td>0.0</td>\n",
       "      <td>...</td>\n",
       "      <td>0</td>\n",
       "      <td>0</td>\n",
       "      <td>0</td>\n",
       "      <td>0</td>\n",
       "      <td>0</td>\n",
       "      <td>0</td>\n",
       "      <td>0</td>\n",
       "      <td>0</td>\n",
       "      <td>0</td>\n",
       "      <td>0</td>\n",
       "    </tr>\n",
       "  </tbody>\n",
       "</table>\n",
       "<p>5 rows × 86 columns</p>\n",
       "</div>"
      ],
      "text/plain": [
       "  formula  0    1  2  3  4  5  6  7    8  ...  80  81  82  83  86  87  88  90  \\\n",
       "0  H2O     0  2.0  0  0  0  0  0  0  1.0  ...  0   0   0   0   0   0   0   0    \n",
       "1  e-     -1  0.0  0  0  0  0  0  0  0.0  ...  0   0   0   0   0   0   0   0    \n",
       "2  H+      1  1.0  0  0  0  0  0  0  0.0  ...  0   0   0   0   0   0   0   0    \n",
       "3  Li+     1  0.0  0  1  0  0  0  0  0.0  ...  0   0   0   0   0   0   0   0    \n",
       "4  Na+     1  0.0  0  0  0  0  0  0  0.0  ...  0   0   0   0   0   0   0   0    \n",
       "\n",
       "   91  92  \n",
       "0  0   0   \n",
       "1  0   0   \n",
       "2  0   0   \n",
       "3  0   0   \n",
       "4  0   0   \n",
       "\n",
       "[5 rows x 86 columns]"
      ]
     },
     "execution_count": 252,
     "metadata": {},
     "output_type": "execute_result"
    }
   ],
   "source": [
    "stoich.at[1, 'formula'] = 'e-'\n",
    "stoich.head()"
   ]
  },
  {
   "cell_type": "code",
   "execution_count": 285,
   "metadata": {},
   "outputs": [
    {
     "data": {
      "text/plain": [
       "(3372, 86)"
      ]
     },
     "execution_count": 285,
     "metadata": {},
     "output_type": "execute_result"
    }
   ],
   "source": [
    "stoich.shape"
   ]
  },
  {
   "cell_type": "code",
   "execution_count": 286,
   "metadata": {},
   "outputs": [],
   "source": [
    "stoich_og = stoich.copy()"
   ]
  },
  {
   "cell_type": "code",
   "execution_count": 287,
   "metadata": {},
   "outputs": [],
   "source": [
    "stoich = stoich.drop_duplicates()"
   ]
  },
  {
   "cell_type": "code",
   "execution_count": 288,
   "metadata": {},
   "outputs": [],
   "source": [
    "stoich.to_csv('../data/processed/stoich.csv', index=False)"
   ]
  },
  {
   "cell_type": "code",
   "execution_count": 289,
   "metadata": {},
   "outputs": [],
   "source": [
    "stoich_og.to_csv('../data/processed/stoich_og.csv', index=False)"
   ]
  },
  {
   "cell_type": "markdown",
   "metadata": {},
   "source": [
    "# playground for writing functions using thermo tables"
   ]
  },
  {
   "cell_type": "code",
   "execution_count": 292,
   "metadata": {},
   "outputs": [
    {
     "data": {
      "text/plain": [
       "(OrderedDict([('Na', 2), ('H2O', 2)]), OrderedDict([('NaOH', 2), ('H2', 1)]))"
      ]
     },
     "execution_count": 292,
     "metadata": {},
     "output_type": "execute_result"
    }
   ],
   "source": [
    "equation = balance_stoichiometry(['Na', 'H2O'], ['NaOH', 'H2'])\n",
    "equation"
   ]
  },
  {
   "cell_type": "code",
   "execution_count": 261,
   "metadata": {},
   "outputs": [],
   "source": [
    "reactants = ['Na', 'H2O']"
   ]
  },
  {
   "cell_type": "code",
   "execution_count": 262,
   "metadata": {},
   "outputs": [],
   "source": [
    "water = Substance.from_formula('H2O')"
   ]
  },
  {
   "cell_type": "code",
   "execution_count": 263,
   "metadata": {},
   "outputs": [
    {
     "data": {
      "text/plain": [
       "[1, 8]"
      ]
     },
     "execution_count": 263,
     "metadata": {},
     "output_type": "execute_result"
    }
   ],
   "source": [
    "[*water.composition]"
   ]
  },
  {
   "cell_type": "code",
   "execution_count": 264,
   "metadata": {},
   "outputs": [
    {
     "data": {
      "text/plain": [
       "['hello', 1, 8]"
      ]
     },
     "execution_count": 264,
     "metadata": {},
     "output_type": "execute_result"
    }
   ],
   "source": [
    "['hello'] + [*water.composition]"
   ]
  },
  {
   "cell_type": "code",
   "execution_count": 275,
   "metadata": {},
   "outputs": [
    {
     "data": {
      "text/plain": [
       "{1, 11, 8, 'formula'}"
      ]
     },
     "execution_count": 275,
     "metadata": {},
     "output_type": "execute_result"
    }
   ],
   "source": [
    "z_ignore = ['formula']\n",
    "for r in reactants:\n",
    "    s = Substance.from_formula(r)\n",
    "    z_ignore += [*s.composition]\n",
    "z_ignore = set(z_ignore)\n",
    "z_ignore"
   ]
  },
  {
   "cell_type": "code",
   "execution_count": 276,
   "metadata": {},
   "outputs": [
    {
     "name": "stdout",
     "output_type": "stream",
     "text": [
      "[0, 2, 3, 4, 5, 6, 7, 9, 10, 12, 13, 14, 15, 16, 17, 18, 19, 20, 21, 22, 23, 24, 25, 26, 27, 28, 29, 30, 31, 33, 34, 35, 36, 37, 38, 39, 40, 41, 42, 43, 44, 45, 46, 47, 48, 49, 50, 51, 53, 54, 55, 56, 57, 58, 59, 60, 61, 62, 63, 64, 65, 66, 67, 68, 69, 70, 71, 72, 74, 75, 78, 79, 80, 81, 82, 83, 86, 87, 88, 90, 91, 92]\n"
     ]
    }
   ],
   "source": [
    "column_mask = [col for col in stoich.columns if col not in z_ignore]\n",
    "print(column_mask)"
   ]
  },
  {
   "cell_type": "code",
   "execution_count": 290,
   "metadata": {},
   "outputs": [
    {
     "data": {
      "text/html": [
       "<div>\n",
       "<style scoped>\n",
       "    .dataframe tbody tr th:only-of-type {\n",
       "        vertical-align: middle;\n",
       "    }\n",
       "\n",
       "    .dataframe tbody tr th {\n",
       "        vertical-align: top;\n",
       "    }\n",
       "\n",
       "    .dataframe thead th {\n",
       "        text-align: right;\n",
       "    }\n",
       "</style>\n",
       "<table border=\"1\" class=\"dataframe\">\n",
       "  <thead>\n",
       "    <tr style=\"text-align: right;\">\n",
       "      <th></th>\n",
       "      <th>8</th>\n",
       "      <th>1</th>\n",
       "      <th>11</th>\n",
       "      <th>formula</th>\n",
       "    </tr>\n",
       "  </thead>\n",
       "  <tbody>\n",
       "    <tr>\n",
       "      <th>0</th>\n",
       "      <td>1.0</td>\n",
       "      <td>2.0</td>\n",
       "      <td>0</td>\n",
       "      <td>H2O</td>\n",
       "    </tr>\n",
       "    <tr>\n",
       "      <th>61</th>\n",
       "      <td>0.0</td>\n",
       "      <td>2.0</td>\n",
       "      <td>0</td>\n",
       "      <td>H2</td>\n",
       "    </tr>\n",
       "    <tr>\n",
       "      <th>62</th>\n",
       "      <td>2.0</td>\n",
       "      <td>0.0</td>\n",
       "      <td>0</td>\n",
       "      <td>O2</td>\n",
       "    </tr>\n",
       "    <tr>\n",
       "      <th>484</th>\n",
       "      <td>2.0</td>\n",
       "      <td>2.0</td>\n",
       "      <td>0</td>\n",
       "      <td>H2O2</td>\n",
       "    </tr>\n",
       "    <tr>\n",
       "      <th>572</th>\n",
       "      <td>1.0</td>\n",
       "      <td>1.0</td>\n",
       "      <td>1</td>\n",
       "      <td>NaOH</td>\n",
       "    </tr>\n",
       "    <tr>\n",
       "      <th>1767</th>\n",
       "      <td>0.0</td>\n",
       "      <td>1.0</td>\n",
       "      <td>0</td>\n",
       "      <td>H</td>\n",
       "    </tr>\n",
       "    <tr>\n",
       "      <th>1906</th>\n",
       "      <td>1.0</td>\n",
       "      <td>0.0</td>\n",
       "      <td>2</td>\n",
       "      <td>Na2O</td>\n",
       "    </tr>\n",
       "    <tr>\n",
       "      <th>2164</th>\n",
       "      <td>1.0</td>\n",
       "      <td>0.0</td>\n",
       "      <td>0</td>\n",
       "      <td>O</td>\n",
       "    </tr>\n",
       "  </tbody>\n",
       "</table>\n",
       "</div>"
      ],
      "text/plain": [
       "        8    1  11 formula\n",
       "0     1.0  2.0  0   H2O   \n",
       "61    0.0  2.0  0   H2    \n",
       "62    2.0  0.0  0   O2    \n",
       "484   2.0  2.0  0   H2O2  \n",
       "572   1.0  1.0  1   NaOH  \n",
       "1767  0.0  1.0  0   H     \n",
       "1906  1.0  0.0  2   Na2O  \n",
       "2164  1.0  0.0  0   O     "
      ]
     },
     "execution_count": 290,
     "metadata": {},
     "output_type": "execute_result"
    }
   ],
   "source": [
    "# https://stackoverflow.com/questions/22649693/\n",
    "\n",
    "stoich_temp = stoich.copy()\n",
    "\n",
    "for col in column_mask:\n",
    "    stoich_temp = stoich_temp[stoich_temp[col] == 0]\n",
    "\n",
    "stoich_temp = stoich_temp.loc[(stoich_temp.drop(columns='formula')!=0).any(axis=1)]\n",
    "\n",
    "stoich_temp = stoich_temp[z_ignore]\n",
    "stoich_temp"
   ]
  },
  {
   "cell_type": "code",
   "execution_count": 291,
   "metadata": {},
   "outputs": [
    {
     "data": {
      "text/plain": [
       "['H2O', 'H2', 'O2', 'H2O2', 'NaOH', 'H', 'Na2O', 'O']"
      ]
     },
     "execution_count": 291,
     "metadata": {},
     "output_type": "execute_result"
    }
   ],
   "source": [
    "list(stoich_temp['formula'])"
   ]
  },
  {
   "cell_type": "code",
   "execution_count": 293,
   "metadata": {},
   "outputs": [
    {
     "data": {
      "text/plain": [
       "['H2', 'O2', 'H2O2', 'NaOH', 'H', 'Na2O', 'O']"
      ]
     },
     "execution_count": 293,
     "metadata": {},
     "output_type": "execute_result"
    }
   ],
   "source": [
    "candidates = [f for f in list(stoich_temp['formula']) if f not in reactants]\n",
    "candidates"
   ]
  },
  {
   "cell_type": "code",
   "execution_count": 304,
   "metadata": {},
   "outputs": [
    {
     "data": {
      "text/plain": [
       "[(),\n",
       " ('H2',),\n",
       " ('O2',),\n",
       " ('H2O2',),\n",
       " ('NaOH',),\n",
       " ('H',),\n",
       " ('Na2O',),\n",
       " ('O',),\n",
       " ('H2', 'O2'),\n",
       " ('H2', 'H2O2'),\n",
       " ('H2', 'NaOH'),\n",
       " ('H2', 'H'),\n",
       " ('H2', 'Na2O'),\n",
       " ('H2', 'O'),\n",
       " ('O2', 'H2O2'),\n",
       " ('O2', 'NaOH'),\n",
       " ('O2', 'H'),\n",
       " ('O2', 'Na2O'),\n",
       " ('O2', 'O'),\n",
       " ('H2O2', 'NaOH'),\n",
       " ('H2O2', 'H'),\n",
       " ('H2O2', 'Na2O'),\n",
       " ('H2O2', 'O'),\n",
       " ('NaOH', 'H'),\n",
       " ('NaOH', 'Na2O'),\n",
       " ('NaOH', 'O'),\n",
       " ('H', 'Na2O'),\n",
       " ('H', 'O'),\n",
       " ('Na2O', 'O'),\n",
       " ('H2', 'O2', 'H2O2'),\n",
       " ('H2', 'O2', 'NaOH'),\n",
       " ('H2', 'O2', 'H'),\n",
       " ('H2', 'O2', 'Na2O'),\n",
       " ('H2', 'O2', 'O'),\n",
       " ('H2', 'H2O2', 'NaOH'),\n",
       " ('H2', 'H2O2', 'H'),\n",
       " ('H2', 'H2O2', 'Na2O'),\n",
       " ('H2', 'H2O2', 'O'),\n",
       " ('H2', 'NaOH', 'H'),\n",
       " ('H2', 'NaOH', 'Na2O'),\n",
       " ('H2', 'NaOH', 'O'),\n",
       " ('H2', 'H', 'Na2O'),\n",
       " ('H2', 'H', 'O'),\n",
       " ('H2', 'Na2O', 'O'),\n",
       " ('O2', 'H2O2', 'NaOH'),\n",
       " ('O2', 'H2O2', 'H'),\n",
       " ('O2', 'H2O2', 'Na2O'),\n",
       " ('O2', 'H2O2', 'O'),\n",
       " ('O2', 'NaOH', 'H'),\n",
       " ('O2', 'NaOH', 'Na2O'),\n",
       " ('O2', 'NaOH', 'O'),\n",
       " ('O2', 'H', 'Na2O'),\n",
       " ('O2', 'H', 'O'),\n",
       " ('O2', 'Na2O', 'O'),\n",
       " ('H2O2', 'NaOH', 'H'),\n",
       " ('H2O2', 'NaOH', 'Na2O'),\n",
       " ('H2O2', 'NaOH', 'O'),\n",
       " ('H2O2', 'H', 'Na2O'),\n",
       " ('H2O2', 'H', 'O'),\n",
       " ('H2O2', 'Na2O', 'O'),\n",
       " ('NaOH', 'H', 'Na2O'),\n",
       " ('NaOH', 'H', 'O'),\n",
       " ('NaOH', 'Na2O', 'O'),\n",
       " ('H', 'Na2O', 'O'),\n",
       " ('H2', 'O2', 'H2O2', 'NaOH'),\n",
       " ('H2', 'O2', 'H2O2', 'H'),\n",
       " ('H2', 'O2', 'H2O2', 'Na2O'),\n",
       " ('H2', 'O2', 'H2O2', 'O'),\n",
       " ('H2', 'O2', 'NaOH', 'H'),\n",
       " ('H2', 'O2', 'NaOH', 'Na2O'),\n",
       " ('H2', 'O2', 'NaOH', 'O'),\n",
       " ('H2', 'O2', 'H', 'Na2O'),\n",
       " ('H2', 'O2', 'H', 'O'),\n",
       " ('H2', 'O2', 'Na2O', 'O'),\n",
       " ('H2', 'H2O2', 'NaOH', 'H'),\n",
       " ('H2', 'H2O2', 'NaOH', 'Na2O'),\n",
       " ('H2', 'H2O2', 'NaOH', 'O'),\n",
       " ('H2', 'H2O2', 'H', 'Na2O'),\n",
       " ('H2', 'H2O2', 'H', 'O'),\n",
       " ('H2', 'H2O2', 'Na2O', 'O'),\n",
       " ('H2', 'NaOH', 'H', 'Na2O'),\n",
       " ('H2', 'NaOH', 'H', 'O'),\n",
       " ('H2', 'NaOH', 'Na2O', 'O'),\n",
       " ('H2', 'H', 'Na2O', 'O'),\n",
       " ('O2', 'H2O2', 'NaOH', 'H'),\n",
       " ('O2', 'H2O2', 'NaOH', 'Na2O'),\n",
       " ('O2', 'H2O2', 'NaOH', 'O'),\n",
       " ('O2', 'H2O2', 'H', 'Na2O'),\n",
       " ('O2', 'H2O2', 'H', 'O'),\n",
       " ('O2', 'H2O2', 'Na2O', 'O'),\n",
       " ('O2', 'NaOH', 'H', 'Na2O'),\n",
       " ('O2', 'NaOH', 'H', 'O'),\n",
       " ('O2', 'NaOH', 'Na2O', 'O'),\n",
       " ('O2', 'H', 'Na2O', 'O'),\n",
       " ('H2O2', 'NaOH', 'H', 'Na2O'),\n",
       " ('H2O2', 'NaOH', 'H', 'O'),\n",
       " ('H2O2', 'NaOH', 'Na2O', 'O'),\n",
       " ('H2O2', 'H', 'Na2O', 'O'),\n",
       " ('NaOH', 'H', 'Na2O', 'O'),\n",
       " ('H2', 'O2', 'H2O2', 'NaOH', 'H'),\n",
       " ('H2', 'O2', 'H2O2', 'NaOH', 'Na2O'),\n",
       " ('H2', 'O2', 'H2O2', 'NaOH', 'O'),\n",
       " ('H2', 'O2', 'H2O2', 'H', 'Na2O'),\n",
       " ('H2', 'O2', 'H2O2', 'H', 'O'),\n",
       " ('H2', 'O2', 'H2O2', 'Na2O', 'O'),\n",
       " ('H2', 'O2', 'NaOH', 'H', 'Na2O'),\n",
       " ('H2', 'O2', 'NaOH', 'H', 'O'),\n",
       " ('H2', 'O2', 'NaOH', 'Na2O', 'O'),\n",
       " ('H2', 'O2', 'H', 'Na2O', 'O'),\n",
       " ('H2', 'H2O2', 'NaOH', 'H', 'Na2O'),\n",
       " ('H2', 'H2O2', 'NaOH', 'H', 'O'),\n",
       " ('H2', 'H2O2', 'NaOH', 'Na2O', 'O'),\n",
       " ('H2', 'H2O2', 'H', 'Na2O', 'O'),\n",
       " ('H2', 'NaOH', 'H', 'Na2O', 'O'),\n",
       " ('O2', 'H2O2', 'NaOH', 'H', 'Na2O'),\n",
       " ('O2', 'H2O2', 'NaOH', 'H', 'O'),\n",
       " ('O2', 'H2O2', 'NaOH', 'Na2O', 'O'),\n",
       " ('O2', 'H2O2', 'H', 'Na2O', 'O'),\n",
       " ('O2', 'NaOH', 'H', 'Na2O', 'O'),\n",
       " ('H2O2', 'NaOH', 'H', 'Na2O', 'O'),\n",
       " ('H2', 'O2', 'H2O2', 'NaOH', 'H', 'Na2O'),\n",
       " ('H2', 'O2', 'H2O2', 'NaOH', 'H', 'O'),\n",
       " ('H2', 'O2', 'H2O2', 'NaOH', 'Na2O', 'O'),\n",
       " ('H2', 'O2', 'H2O2', 'H', 'Na2O', 'O'),\n",
       " ('H2', 'O2', 'NaOH', 'H', 'Na2O', 'O'),\n",
       " ('H2', 'H2O2', 'NaOH', 'H', 'Na2O', 'O'),\n",
       " ('O2', 'H2O2', 'NaOH', 'H', 'Na2O', 'O')]"
      ]
     },
     "execution_count": 304,
     "metadata": {},
     "output_type": "execute_result"
    }
   ],
   "source": [
    "combinations = []\n",
    "for i in range(len(candidates)):\n",
    "    combinations += list(itertools.combinations(candidates, i))\n",
    "combinations"
   ]
  },
  {
   "cell_type": "code",
   "execution_count": 313,
   "metadata": {},
   "outputs": [
    {
     "name": "stdout",
     "output_type": "stream",
     "text": [
      "(OrderedDict([('Na', 2), ('H2O', 2)]), OrderedDict([('H2', 1), ('NaOH', 2)]))\n",
      "(OrderedDict([('Na', 2), ('H2O', 1)]), OrderedDict([('H2', 1), ('Na2O', 1)]))\n",
      "(OrderedDict([('Na', 4), ('H2O', 2)]), OrderedDict([('O2', -1), ('NaOH', 4)]))\n",
      "(OrderedDict([('Na', 2), ('H2O', -1)]), OrderedDict([('H2O2', -1), ('Na2O', 1)]))\n",
      "(OrderedDict([('Na', 1), ('H2O', 1)]), OrderedDict([('NaOH', 1), ('H', 1)]))\n",
      "(OrderedDict([('Na', -2), ('H2O', -1)]), OrderedDict([('NaOH', -2), ('O', 1)]))\n",
      "(OrderedDict([('Na', 2), ('H2O', 1)]), OrderedDict([('H', 2), ('Na2O', 1)]))\n",
      "(OrderedDict([('Na', 2*x1), ('H2O', 2*x1 + 4)]), OrderedDict([('H2', x1 + 4), ('O2', 2), ('NaOH', 2*x1)]))\n",
      "(OrderedDict([('Na', 2*x1), ('H2O', x1 + 2)]), OrderedDict([('H2', x1 + 2), ('O2', 1), ('Na2O', x1)]))\n",
      "(OrderedDict([('Na', 2*x1), ('H2O', 2*x1 + 4)]), OrderedDict([('H2', x1 + 2), ('H2O2', 2), ('NaOH', 2*x1)]))\n",
      "(OrderedDict([('Na', 2*x1), ('H2O', x1 + 2)]), OrderedDict([('H2', x1 + 1), ('H2O2', 1), ('Na2O', x1)]))\n",
      "(OrderedDict([('Na', 2), ('H2O', 2)]), OrderedDict([('H2', 1 - x1), ('NaOH', 2), ('H', 2*x1)]))\n",
      "(OrderedDict([('Na', 2*x1 + 1), ('H2O', x1 + 1)]), OrderedDict([('H2', x1 + 1/2), ('NaOH', 1), ('Na2O', x1)]))\n",
      "(OrderedDict([('Na', 1), ('H2O', x1 + 1)]), OrderedDict([('H2', x1 + 1/2), ('NaOH', 1), ('O', x1)]))\n",
      "(OrderedDict([('Na', 2*x1), ('H2O', x1)]), OrderedDict([('H2', x1 - 1/2), ('H', 1), ('Na2O', x1)]))\n",
      "(OrderedDict([('Na', 2), ('H2O', x1 + 1)]), OrderedDict([('H2', x1 + 1), ('Na2O', 1), ('O', x1)]))\n",
      "(OrderedDict([('Na', 4*x1), ('H2O', 2*x1 + 4)]), OrderedDict([('O2', -x1 - 2), ('H2O2', 4), ('NaOH', 4*x1)]))\n",
      "(OrderedDict([('Na', 4*x1), ('H2O', 2)]), OrderedDict([('O2', -x1 - 1), ('H2O2', 2), ('Na2O', 2*x1)]))\n",
      "(OrderedDict([('Na', 4), ('H2O', 2*x1 + 2)]), OrderedDict([('O2', x1 - 1), ('NaOH', 4), ('H', 4*x1)]))\n",
      "(OrderedDict([('Na', 4*x1 + 2), ('H2O', 1)]), OrderedDict([('O2', -x1 - 1/2), ('NaOH', 2), ('Na2O', 2*x1)]))\n",
      "(OrderedDict([('Na', 2), ('H2O', 1)]), OrderedDict([('O2', -x1 - 1/2), ('NaOH', 2), ('O', 2*x1)]))\n",
      "(OrderedDict([('Na', 4*x1), ('H2O', 1)]), OrderedDict([('O2', 1/2 - x1), ('H', 2), ('Na2O', 2*x1)]))\n",
      "(OrderedDict([('Na', 2), ('H2O', 2*x1)]), OrderedDict([('H2O2', x1 - 1), ('NaOH', 2), ('H', 2*x1)]))\n",
      "(OrderedDict([('Na', 2*x1 + 1), ('H2O', -x1)]), OrderedDict([('H2O2', -x1 - 1/2), ('NaOH', 1), ('Na2O', x1)]))\n",
      "(OrderedDict([('Na', 1), ('H2O', -x1)]), OrderedDict([('H2O2', -x1 - 1/2), ('NaOH', 1), ('O', x1)]))\n",
      "(OrderedDict([('Na', 2*x1), ('H2O', 1 - x1)]), OrderedDict([('H2O2', 1/2 - x1), ('H', 1), ('Na2O', x1)]))\n",
      "(OrderedDict([('Na', 2), ('H2O', -x1 - 1)]), OrderedDict([('H2O2', -x1 - 1), ('Na2O', 1), ('O', x1)]))\n",
      "(OrderedDict([('Na', 1), ('H2O', 1 - x1)]), OrderedDict([('NaOH', 1 - 2*x1), ('H', 1), ('Na2O', x1)]))\n",
      "(OrderedDict([('Na', 1 - 2*x1), ('H2O', 1 - x1)]), OrderedDict([('NaOH', 1 - 2*x1), ('H', 1), ('O', x1)]))\n",
      "(OrderedDict([('Na', -2*x1), ('H2O', -x1 - 1)]), OrderedDict([('NaOH', -2*x1 - 2), ('Na2O', 1), ('O', x1)]))\n",
      "(OrderedDict([('Na', 2), ('H2O', x1 + 1)]), OrderedDict([('H', 2*x1 + 2), ('Na2O', 1), ('O', x1)]))\n",
      "(OrderedDict([('Na', 2*x1), ('H2O', 2*x1 + 4*x2 + 4)]), OrderedDict([('H2', x1 + 2*x2 + 4), ('O2', 2), ('H2O2', 2*x2), ('NaOH', 2*x1)]))\n",
      "(OrderedDict([('Na', 2*x1), ('H2O', x1 + 2*x2 + 2)]), OrderedDict([('H2', x1 + x2 + 2), ('O2', 1), ('H2O2', x2), ('Na2O', x1)]))\n",
      "(OrderedDict([('Na', 2*x2), ('H2O', 2*x2 + 4)]), OrderedDict([('H2', -x1 + x2 + 4), ('O2', 2), ('NaOH', 2*x2), ('H', 2*x1)]))\n",
      "(OrderedDict([('Na', 2*x1 + 2*x2), ('H2O', x1 + 2*x2 + 2)]), OrderedDict([('H2', x1 + x2 + 2), ('O2', 1), ('NaOH', 2*x2), ('Na2O', x1)]))\n",
      "(OrderedDict([('Na', 2*x2), ('H2O', x1 + 2*x2 + 2)]), OrderedDict([('H2', x1 + x2 + 2), ('O2', 1), ('NaOH', 2*x2), ('O', x1)]))\n",
      "(OrderedDict([('Na', 2*x1), ('H2O', x1 + 2)]), OrderedDict([('H2', x1 - x2 + 2), ('O2', 1), ('H', 2*x2), ('Na2O', x1)]))\n",
      "(OrderedDict([('Na', 2*x2), ('H2O', x1 + x2 + 2)]), OrderedDict([('H2', x1 + x2 + 2), ('O2', 1), ('Na2O', x2), ('O', x1)]))\n",
      "(OrderedDict([('Na', 2*x2), ('H2O', 2*x2 + 4)]), OrderedDict([('H2', -x1 + x2 + 2), ('H2O2', 2), ('NaOH', 2*x2), ('H', 2*x1)]))\n",
      "(OrderedDict([('Na', 2*x1 + 2*x2), ('H2O', x1 + 2*x2 + 2)]), OrderedDict([('H2', x1 + x2 + 1), ('H2O2', 1), ('NaOH', 2*x2), ('Na2O', x1)]))\n",
      "(OrderedDict([('Na', 2*x2), ('H2O', x1 + 2*x2 + 2)]), OrderedDict([('H2', x1 + x2 + 1), ('H2O2', 1), ('NaOH', 2*x2), ('O', x1)]))\n",
      "(OrderedDict([('Na', 2*x1), ('H2O', x1 + 2)]), OrderedDict([('H2', x1 - x2 + 1), ('H2O2', 1), ('H', 2*x2), ('Na2O', x1)]))\n",
      "(OrderedDict([('Na', 2*x2), ('H2O', x1 + x2 + 2)]), OrderedDict([('H2', x1 + x2 + 1), ('H2O2', 1), ('Na2O', x2), ('O', x1)]))\n",
      "(OrderedDict([('Na', 2*x1 + 1), ('H2O', x1 + 1)]), OrderedDict([('H2', x1 - x2 + 1/2), ('NaOH', 1), ('H', 2*x2), ('Na2O', x1)]))\n",
      "(OrderedDict([('Na', 1), ('H2O', x1 + 1)]), OrderedDict([('H2', x1 - x2 + 1/2), ('NaOH', 1), ('H', 2*x2), ('O', x1)]))\n",
      "(OrderedDict([('Na', 2*x2 + 1), ('H2O', x1 + x2 + 1)]), OrderedDict([('H2', x1 + x2 + 1/2), ('NaOH', 1), ('Na2O', x2), ('O', x1)]))\n",
      "(OrderedDict([('Na', 2*x2), ('H2O', x1 + x2)]), OrderedDict([('H2', x1 + x2 - 1/2), ('H', 1), ('Na2O', x2), ('O', x1)]))\n",
      "(OrderedDict([('Na', 4*x2), ('H2O', 2*x1 + 2*x2 + 4)]), OrderedDict([('O2', x1 - x2 - 2), ('H2O2', 4), ('NaOH', 4*x2), ('H', 4*x1)]))\n",
      "(OrderedDict([('Na', 4*x1 + 4*x2), ('H2O', 2*x2 + 2)]), OrderedDict([('O2', -x1 - x2 - 1), ('H2O2', 2), ('NaOH', 4*x2), ('Na2O', 2*x1)]))\n",
      "(OrderedDict([('Na', 4*x2), ('H2O', 2*x2 + 2)]), OrderedDict([('O2', -x1 - x2 - 1), ('H2O2', 2), ('NaOH', 4*x2), ('O', 2*x1)]))\n",
      "(OrderedDict([('Na', 4*x1), ('H2O', 2*x2 + 2)]), OrderedDict([('O2', -x1 + x2 - 1), ('H2O2', 2), ('H', 4*x2), ('Na2O', 2*x1)]))\n",
      "(OrderedDict([('Na', 4*x2), ('H2O', 2)]), OrderedDict([('O2', -x1 - x2 - 1), ('H2O2', 2), ('Na2O', 2*x2), ('O', 2*x1)]))\n",
      "(OrderedDict([('Na', 4*x1 + 2), ('H2O', 2*x2 + 1)]), OrderedDict([('O2', -x1 + x2 - 1/2), ('NaOH', 2), ('H', 4*x2), ('Na2O', 2*x1)]))\n",
      "(OrderedDict([('Na', 2), ('H2O', 2*x2 + 1)]), OrderedDict([('O2', -x1 + x2 - 1/2), ('NaOH', 2), ('H', 4*x2), ('O', 2*x1)]))\n",
      "(OrderedDict([('Na', 4*x2 + 2), ('H2O', 1)]), OrderedDict([('O2', -x1 - x2 - 1/2), ('NaOH', 2), ('Na2O', 2*x2), ('O', 2*x1)]))\n",
      "(OrderedDict([('Na', 4*x2), ('H2O', 1)]), OrderedDict([('O2', -x1 - x2 + 1/2), ('H', 2), ('Na2O', 2*x2), ('O', 2*x1)]))\n",
      "(OrderedDict([('Na', 2*x1 + 1), ('H2O', -x1 + 2*x2)]), OrderedDict([('H2O2', -x1 + x2 - 1/2), ('NaOH', 1), ('H', 2*x2), ('Na2O', x1)]))\n",
      "(OrderedDict([('Na', 1), ('H2O', -x1 + 2*x2)]), OrderedDict([('H2O2', -x1 + x2 - 1/2), ('NaOH', 1), ('H', 2*x2), ('O', x1)]))\n",
      "(OrderedDict([('Na', 2*x2 + 1), ('H2O', -x1 - x2)]), OrderedDict([('H2O2', -x1 - x2 - 1/2), ('NaOH', 1), ('Na2O', x2), ('O', x1)]))\n",
      "(OrderedDict([('Na', 2*x2), ('H2O', -x1 - x2 + 1)]), OrderedDict([('H2O2', -x1 - x2 + 1/2), ('H', 1), ('Na2O', x2), ('O', x1)]))\n",
      "(OrderedDict([('Na', 1 - 2*x1), ('H2O', -x1 - x2 + 1)]), OrderedDict([('NaOH', -2*x1 - 2*x2 + 1), ('H', 1), ('Na2O', x2), ('O', x1)]))\n",
      "(OrderedDict([('Na', 2*x2), ('H2O', 2*x2 + 4*x3 + 4)]), OrderedDict([('H2', -x1 + x2 + 2*x3 + 4), ('O2', 2), ('H2O2', 2*x3), ('NaOH', 2*x2), ('H', 2*x1)]))\n",
      "(OrderedDict([('Na', 2*x1 + 2*x2), ('H2O', x1 + 2*x2 + 2*x3 + 2)]), OrderedDict([('H2', x1 + x2 + x3 + 2), ('O2', 1), ('H2O2', x3), ('NaOH', 2*x2), ('Na2O', x1)]))\n",
      "(OrderedDict([('Na', 2*x2), ('H2O', x1 + 2*x2 + 2*x3 + 2)]), OrderedDict([('H2', x1 + x2 + x3 + 2), ('O2', 1), ('H2O2', x3), ('NaOH', 2*x2), ('O', x1)]))\n",
      "(OrderedDict([('Na', 2*x1), ('H2O', x1 + 2*x3 + 2)]), OrderedDict([('H2', x1 - x2 + x3 + 2), ('O2', 1), ('H2O2', x3), ('H', 2*x2), ('Na2O', x1)]))\n",
      "(OrderedDict([('Na', 2*x2), ('H2O', x1 + x2 + 2*x3 + 2)]), OrderedDict([('H2', x1 + x2 + x3 + 2), ('O2', 1), ('H2O2', x3), ('Na2O', x2), ('O', x1)]))\n",
      "(OrderedDict([('Na', 2*x1 + 2*x3), ('H2O', x1 + 2*x3 + 2)]), OrderedDict([('H2', x1 - x2 + x3 + 2), ('O2', 1), ('NaOH', 2*x3), ('H', 2*x2), ('Na2O', x1)]))\n",
      "(OrderedDict([('Na', 2*x3), ('H2O', x1 + 2*x3 + 2)]), OrderedDict([('H2', x1 - x2 + x3 + 2), ('O2', 1), ('NaOH', 2*x3), ('H', 2*x2), ('O', x1)]))\n",
      "(OrderedDict([('Na', 2*x2 + 2*x3), ('H2O', x1 + x2 + 2*x3 + 2)]), OrderedDict([('H2', x1 + x2 + x3 + 2), ('O2', 1), ('NaOH', 2*x3), ('Na2O', x2), ('O', x1)]))\n",
      "(OrderedDict([('Na', 2*x2), ('H2O', x1 + x2 + 2)]), OrderedDict([('H2', x1 + x2 - x3 + 2), ('O2', 1), ('H', 2*x3), ('Na2O', x2), ('O', x1)]))\n",
      "(OrderedDict([('Na', 2*x1 + 2*x3), ('H2O', x1 + 2*x3 + 2)]), OrderedDict([('H2', x1 - x2 + x3 + 1), ('H2O2', 1), ('NaOH', 2*x3), ('H', 2*x2), ('Na2O', x1)]))\n",
      "(OrderedDict([('Na', 2*x3), ('H2O', x1 + 2*x3 + 2)]), OrderedDict([('H2', x1 - x2 + x3 + 1), ('H2O2', 1), ('NaOH', 2*x3), ('H', 2*x2), ('O', x1)]))\n",
      "(OrderedDict([('Na', 2*x2 + 2*x3), ('H2O', x1 + x2 + 2*x3 + 2)]), OrderedDict([('H2', x1 + x2 + x3 + 1), ('H2O2', 1), ('NaOH', 2*x3), ('Na2O', x2), ('O', x1)]))\n",
      "(OrderedDict([('Na', 2*x2), ('H2O', x1 + x2 + 2)]), OrderedDict([('H2', x1 + x2 - x3 + 1), ('H2O2', 1), ('H', 2*x3), ('Na2O', x2), ('O', x1)]))\n",
      "(OrderedDict([('Na', 2*x2 + 1), ('H2O', x1 + x2 + 1)]), OrderedDict([('H2', x1 + x2 - x3 + 1/2), ('NaOH', 1), ('H', 2*x3), ('Na2O', x2), ('O', x1)]))\n"
     ]
    },
    {
     "name": "stdout",
     "output_type": "stream",
     "text": [
      "(OrderedDict([('Na', 4*x1 + 4*x3), ('H2O', 2*x2 + 2*x3 + 2)]), OrderedDict([('O2', -x1 + x2 - x3 - 1), ('H2O2', 2), ('NaOH', 4*x3), ('H', 4*x2), ('Na2O', 2*x1)]))\n",
      "(OrderedDict([('Na', 4*x3), ('H2O', 2*x2 + 2*x3 + 2)]), OrderedDict([('O2', -x1 + x2 - x3 - 1), ('H2O2', 2), ('NaOH', 4*x3), ('H', 4*x2), ('O', 2*x1)]))\n",
      "(OrderedDict([('Na', 4*x2 + 4*x3), ('H2O', 2*x3 + 2)]), OrderedDict([('O2', -x1 - x2 - x3 - 1), ('H2O2', 2), ('NaOH', 4*x3), ('Na2O', 2*x2), ('O', 2*x1)]))\n",
      "(OrderedDict([('Na', 4*x2), ('H2O', 2*x3 + 2)]), OrderedDict([('O2', -x1 - x2 + x3 - 1), ('H2O2', 2), ('H', 4*x3), ('Na2O', 2*x2), ('O', 2*x1)]))\n",
      "(OrderedDict([('Na', 4*x2 + 2), ('H2O', 2*x3 + 1)]), OrderedDict([('O2', -x1 - x2 + x3 - 1/2), ('NaOH', 2), ('H', 4*x3), ('Na2O', 2*x2), ('O', 2*x1)]))\n",
      "(OrderedDict([('Na', 2*x2 + 1), ('H2O', -x1 - x2 + 2*x3)]), OrderedDict([('H2O2', -x1 - x2 + x3 - 1/2), ('NaOH', 1), ('H', 2*x3), ('Na2O', x2), ('O', x1)]))\n",
      "(OrderedDict([('Na', 2*x1 + 2*x3), ('H2O', x1 + 2*x3 + 2*x4 + 2)]), OrderedDict([('H2', x1 - x2 + x3 + x4 + 2), ('O2', 1), ('H2O2', x4), ('NaOH', 2*x3), ('H', 2*x2), ('Na2O', x1)]))\n",
      "(OrderedDict([('Na', 2*x3), ('H2O', x1 + 2*x3 + 2*x4 + 2)]), OrderedDict([('H2', x1 - x2 + x3 + x4 + 2), ('O2', 1), ('H2O2', x4), ('NaOH', 2*x3), ('H', 2*x2), ('O', x1)]))\n",
      "(OrderedDict([('Na', 2*x2 + 2*x3), ('H2O', x1 + x2 + 2*x3 + 2*x4 + 2)]), OrderedDict([('H2', x1 + x2 + x3 + x4 + 2), ('O2', 1), ('H2O2', x4), ('NaOH', 2*x3), ('Na2O', x2), ('O', x1)]))\n",
      "(OrderedDict([('Na', 2*x2), ('H2O', x1 + x2 + 2*x4 + 2)]), OrderedDict([('H2', x1 + x2 - x3 + x4 + 2), ('O2', 1), ('H2O2', x4), ('H', 2*x3), ('Na2O', x2), ('O', x1)]))\n",
      "(OrderedDict([('Na', 2*x2 + 2*x4), ('H2O', x1 + x2 + 2*x4 + 2)]), OrderedDict([('H2', x1 + x2 - x3 + x4 + 2), ('O2', 1), ('NaOH', 2*x4), ('H', 2*x3), ('Na2O', x2), ('O', x1)]))\n",
      "(OrderedDict([('Na', 2*x2 + 2*x4), ('H2O', x1 + x2 + 2*x4 + 2)]), OrderedDict([('H2', x1 + x2 - x3 + x4 + 1), ('H2O2', 1), ('NaOH', 2*x4), ('H', 2*x3), ('Na2O', x2), ('O', x1)]))\n",
      "(OrderedDict([('Na', 4*x2 + 4*x4), ('H2O', 2*x3 + 2*x4 + 2)]), OrderedDict([('O2', -x1 - x2 + x3 - x4 - 1), ('H2O2', 2), ('NaOH', 4*x4), ('H', 4*x3), ('Na2O', 2*x2), ('O', 2*x1)]))\n"
     ]
    }
   ],
   "source": [
    "# reach goal: see if we can figure out how to populate x1, x2 etc.\n",
    "\n",
    "for comb in combinations:    \n",
    "    try:\n",
    "        print(balance_stoichiometry(reactants, comb))\n",
    "    except:\n",
    "        pass"
   ]
  },
  {
   "cell_type": "markdown",
   "metadata": {},
   "source": [
    "things to do:\n",
    "- stretch: substitute sympy symbols with \"1\"?\n",
    "- check gibbs for "
   ]
  },
  {
   "cell_type": "code",
   "execution_count": 322,
   "metadata": {},
   "outputs": [
    {
     "data": {
      "text/plain": [
       "array([2, -1], dtype=object)"
      ]
     },
     "execution_count": 322,
     "metadata": {},
     "output_type": "execute_result"
    }
   ],
   "source": [
    "np.array(list(balance_stoichiometry(reactants, ('H2O2', 'Na2O'))[0].values()))"
   ]
  },
  {
   "cell_type": "code",
   "execution_count": 329,
   "metadata": {},
   "outputs": [
    {
     "data": {
      "text/plain": [
       "array([ True, False])"
      ]
     },
     "execution_count": 329,
     "metadata": {},
     "output_type": "execute_result"
    }
   ],
   "source": [
    "np.array(list(balance_stoichiometry(reactants, ('H2O2', 'Na2O'))[0].values())) >= 1"
   ]
  },
  {
   "cell_type": "code",
   "execution_count": 324,
   "metadata": {},
   "outputs": [
    {
     "data": {
      "text/plain": [
       "0"
      ]
     },
     "execution_count": 324,
     "metadata": {},
     "output_type": "execute_result"
    }
   ],
   "source": [
    "(np.array(list(balance_stoichiometry(reactants, ('H2O2', 'Na2O'))[0].values())) >= 1).mean().astype(int)"
   ]
  },
  {
   "cell_type": "code",
   "execution_count": 337,
   "metadata": {},
   "outputs": [
    {
     "data": {
      "text/plain": [
       "[2*x1, 2*x1 + 4]"
      ]
     },
     "execution_count": 337,
     "metadata": {},
     "output_type": "execute_result"
    }
   ],
   "source": [
    "temp_list = list(balance_stoichiometry(reactants, ('H2', 'O2', 'NaOH'))[0].values())\n",
    "temp_list"
   ]
  },
  {
   "cell_type": "code",
   "execution_count": 384,
   "metadata": {},
   "outputs": [
    {
     "data": {
      "text/plain": [
       "False"
      ]
     },
     "execution_count": 384,
     "metadata": {},
     "output_type": "execute_result"
    }
   ],
   "source": [
    "isinstance(np.array(list(balance_stoichiometry(reactants, ('H2', 'O2', 'NaOH'))[0].values())), sympy.mul.Mul)"
   ]
  },
  {
   "cell_type": "code",
   "execution_count": 378,
   "metadata": {},
   "outputs": [
    {
     "data": {
      "text/plain": [
       "True"
      ]
     },
     "execution_count": 378,
     "metadata": {},
     "output_type": "execute_result"
    }
   ],
   "source": [
    "isinstance(list(balance_stoichiometry(reactants, ('H2', 'O2', 'NaOH'))[0].values())[0], sympy.mul.Mul)"
   ]
  },
  {
   "cell_type": "code",
   "execution_count": 387,
   "metadata": {},
   "outputs": [
    {
     "data": {
      "text/plain": [
       "array([1, 1])"
      ]
     },
     "execution_count": 387,
     "metadata": {},
     "output_type": "execute_result"
    }
   ],
   "source": [
    "1 - np.array([isinstance(i, sympy.mul.Mul) for i in list(balance_stoichiometry(reactants, ('H2O2', 'Na2O'))[0].values())])"
   ]
  },
  {
   "cell_type": "code",
   "execution_count": 364,
   "metadata": {},
   "outputs": [
    {
     "data": {
      "text/plain": [
       "True"
      ]
     },
     "execution_count": 364,
     "metadata": {},
     "output_type": "execute_result"
    }
   ],
   "source": [
    "type(temp_list[0]) == sympy.mul.Mul"
   ]
  },
  {
   "cell_type": "code",
   "execution_count": 395,
   "metadata": {},
   "outputs": [
    {
     "data": {
      "text/plain": [
       "['Na', 'H2O']"
      ]
     },
     "execution_count": 395,
     "metadata": {},
     "output_type": "execute_result"
    }
   ],
   "source": [
    "reactants"
   ]
  },
  {
   "cell_type": "code",
   "execution_count": 521,
   "metadata": {},
   "outputs": [],
   "source": [
    "def check_coefficients(reactants, products):\n",
    "    try:\n",
    "        balance = balance_stoichiometry(reactants, products)\n",
    "        reac_coef = list(balance[0].values()) + list(balance[1].values())\n",
    "        is_positive = np.floor((np.array(reac_coef) >= 1).mean()).astype(bool)\n",
    "        is_definite = np.floor(np.array([isinstance(i, sympy.numbers.Number) for i in reac_coef]).mean()).astype(bool)\n",
    "        return is_positive and is_definite\n",
    "    except:\n",
    "        return False   "
   ]
  },
  {
   "cell_type": "code",
   "execution_count": 472,
   "metadata": {},
   "outputs": [
    {
     "data": {
      "text/plain": [
       "True"
      ]
     },
     "execution_count": 472,
     "metadata": {},
     "output_type": "execute_result"
    }
   ],
   "source": [
    "test_prod = ['H2', 'NaOH']\n",
    "\n",
    "check_coefficients(reactants, test_prod)"
   ]
  },
  {
   "cell_type": "code",
   "execution_count": 449,
   "metadata": {},
   "outputs": [],
   "source": [
    "def simp_comp(substances, thorough=False):\n",
    "    if thorough:\n",
    "        composition = [0]\n",
    "    else:\n",
    "        composition = []\n",
    "    for s in substances:\n",
    "        sub = Substance.from_formula(s)\n",
    "        composition += [*sub.composition]\n",
    "    return set(composition)"
   ]
  },
  {
   "cell_type": "code",
   "execution_count": 433,
   "metadata": {},
   "outputs": [
    {
     "data": {
      "text/plain": [
       "['Na', 'H2O']"
      ]
     },
     "execution_count": 433,
     "metadata": {},
     "output_type": "execute_result"
    }
   ],
   "source": [
    "reactants"
   ]
  },
  {
   "cell_type": "code",
   "execution_count": 440,
   "metadata": {},
   "outputs": [
    {
     "data": {
      "text/plain": [
       "{0, 1, 8, 11}"
      ]
     },
     "execution_count": 440,
     "metadata": {},
     "output_type": "execute_result"
    }
   ],
   "source": [
    "simp_comp(reactants)"
   ]
  },
  {
   "cell_type": "code",
   "execution_count": 522,
   "metadata": {},
   "outputs": [],
   "source": [
    "def stoich_filter(substances):\n",
    "    \n",
    "    stoich_temp = stoich.copy()\n",
    "    \n",
    "    z_ignore = [0, 'formula'] + list(simple_composition(substances))\n",
    "\n",
    "    column_mask = [col for col in stoich.columns if col not in z_ignore]\n",
    "\n",
    "    for col in column_mask:\n",
    "        stoich_temp = stoich_temp[stoich_temp[col] == 0]\n",
    "\n",
    "    stoich_temp = stoich_temp.loc[(stoich_temp.drop(columns='formula')!=0).any(axis=1)]\n",
    "\n",
    "    stoich_temp = stoich_temp[z_ignore]\n",
    "    \n",
    "    return stoich_temp"
   ]
  },
  {
   "cell_type": "code",
   "execution_count": 609,
   "metadata": {},
   "outputs": [],
   "source": [
    "# https://stackoverflow.com/questions/6618515/\n",
    "\n",
    "def possibility_reducer(possibilities, length=12, offset=0):\n",
    "    \n",
    "    energies = np.array([min(get_gibbs(s)) / Substance.from_formula(s).mass for s in possibilities])\n",
    "    indices = energies.argsort()\n",
    "    sorted_possibilities = possibilities[indices]\n",
    "    \n",
    "    max_length = min(len(sorted_possibilities), (length + offset))\n",
    "    \n",
    "    return sorted_possibilities[offset:(max_length)]"
   ]
  },
  {
   "cell_type": "code",
   "execution_count": 753,
   "metadata": {},
   "outputs": [],
   "source": [
    "def reaction_predictor(reactants):\n",
    "\n",
    "    stoich_temp = stoich_filter(reactants)\n",
    "    \n",
    "    print('scoping possibilities...')\n",
    "    possibilities = np.array([f for f in list(stoich_temp['formula']) if f not in reactants if f in list(thermo['formula'])])\n",
    "    if len(possibilities) > 25:\n",
    "        possibilities = possibility_reducer(possibilities)\n",
    "    print(possibilities)\n",
    "    \n",
    "    print('  optimizing combinations...')\n",
    "    combinations = []\n",
    "    comb_length = min(6, len(possibilities))\n",
    "    for i in range(1, comb_length):\n",
    "        combinations += list(itertools.combinations(possibilities, i))\n",
    "    combinations = [c for c in combinations if simp_comp(c) == simp_comp(reactants)]\n",
    "    \n",
    "    print('    deriving equations...')\n",
    "    equations = []\n",
    "    for i, comb in enumerate(combinations):    \n",
    "        if check_coefficients(reactants, comb):\n",
    "            equations.append(balance_stoichiometry(reactants, comb))\n",
    "    \n",
    "    print('      calculating energies...')\n",
    "    energies = []\n",
    "    for eq in equations:\n",
    "        energies.append(standard_gibbs_free_energy(eq))\n",
    "        \n",
    "    best_index = energies.index(min(energies))\n",
    "    \n",
    "    return Reaction(*equations[best_index])"
   ]
  },
  {
   "cell_type": "code",
   "execution_count": 723,
   "metadata": {},
   "outputs": [
    {
     "name": "stdout",
     "output_type": "stream",
     "text": [
      "scoping possibilities...\n",
      "  optimizing combinations...\n",
      "    calculating energies...\n"
     ]
    },
    {
     "data": {
      "text/html": [
       "2 Na + 2 H2O &rarr; H2 + 2 NaOH"
      ],
      "text/plain": [
       "<chempy.chemistry.Reaction at 0x2abf8c4be10>"
      ]
     },
     "execution_count": 723,
     "metadata": {},
     "output_type": "execute_result"
    }
   ],
   "source": [
    "reaction_predictor(['Na', 'H2O'])"
   ]
  },
  {
   "cell_type": "code",
   "execution_count": 724,
   "metadata": {},
   "outputs": [
    {
     "name": "stdout",
     "output_type": "stream",
     "text": [
      "scoping possibilities...\n",
      "  optimizing combinations...\n",
      "    calculating energies...\n"
     ]
    },
    {
     "data": {
      "text/html": [
       "4 Al + 3 O2 &rarr; 2 Al2O3"
      ],
      "text/plain": [
       "<chempy.chemistry.Reaction at 0x2c523154cc0>"
      ]
     },
     "execution_count": 724,
     "metadata": {},
     "output_type": "execute_result"
    }
   ],
   "source": [
    "reaction_predictor(['Al', 'O2'])"
   ]
  },
  {
   "cell_type": "code",
   "execution_count": 748,
   "metadata": {},
   "outputs": [
    {
     "name": "stdout",
     "output_type": "stream",
     "text": [
      "scoping possibilities...\n",
      "  optimizing combinations...\n",
      "    deriving equations...\n",
      "      calculating energies...\n"
     ]
    },
    {
     "data": {
      "text/html": [
       "HCl + NaOH &rarr; H2O + NaCl"
      ],
      "text/plain": [
       "<chempy.chemistry.Reaction at 0x2abf7ad1518>"
      ]
     },
     "execution_count": 748,
     "metadata": {},
     "output_type": "execute_result"
    }
   ],
   "source": [
    "reaction_predictor(['HCl', 'NaOH'])"
   ]
  },
  {
   "cell_type": "code",
   "execution_count": 758,
   "metadata": {},
   "outputs": [
    {
     "name": "stdout",
     "output_type": "stream",
     "text": [
      "scoping possibilities...\n",
      "['e-']\n",
      "  optimizing combinations...\n",
      "    deriving equations...\n",
      "      calculating energies...\n"
     ]
    },
    {
     "ename": "ValueError",
     "evalue": "min() arg is an empty sequence",
     "output_type": "error",
     "traceback": [
      "\u001b[1;31m---------------------------------------------------------------------------\u001b[0m",
      "\u001b[1;31mValueError\u001b[0m                                Traceback (most recent call last)",
      "\u001b[1;32m<ipython-input-758-10d7e639faaf>\u001b[0m in \u001b[0;36m<module>\u001b[1;34m\u001b[0m\n\u001b[1;32m----> 1\u001b[1;33m \u001b[0mreaction_predictor\u001b[0m\u001b[1;33m(\u001b[0m\u001b[1;33m[\u001b[0m\u001b[1;34m'O2'\u001b[0m\u001b[1;33m,\u001b[0m \u001b[1;34m'O'\u001b[0m\u001b[1;33m]\u001b[0m\u001b[1;33m)\u001b[0m\u001b[1;33m\u001b[0m\u001b[1;33m\u001b[0m\u001b[0m\n\u001b[0m",
      "\u001b[1;32m<ipython-input-753-ee80442dc373>\u001b[0m in \u001b[0;36mreaction_predictor\u001b[1;34m(reactants)\u001b[0m\n\u001b[0;32m     27\u001b[0m         \u001b[0menergies\u001b[0m\u001b[1;33m.\u001b[0m\u001b[0mappend\u001b[0m\u001b[1;33m(\u001b[0m\u001b[0mstandard_gibbs_free_energy\u001b[0m\u001b[1;33m(\u001b[0m\u001b[0meq\u001b[0m\u001b[1;33m)\u001b[0m\u001b[1;33m)\u001b[0m\u001b[1;33m\u001b[0m\u001b[1;33m\u001b[0m\u001b[0m\n\u001b[0;32m     28\u001b[0m \u001b[1;33m\u001b[0m\u001b[0m\n\u001b[1;32m---> 29\u001b[1;33m     \u001b[0mbest_index\u001b[0m \u001b[1;33m=\u001b[0m \u001b[0menergies\u001b[0m\u001b[1;33m.\u001b[0m\u001b[0mindex\u001b[0m\u001b[1;33m(\u001b[0m\u001b[0mmin\u001b[0m\u001b[1;33m(\u001b[0m\u001b[0menergies\u001b[0m\u001b[1;33m)\u001b[0m\u001b[1;33m)\u001b[0m\u001b[1;33m\u001b[0m\u001b[1;33m\u001b[0m\u001b[0m\n\u001b[0m\u001b[0;32m     30\u001b[0m \u001b[1;33m\u001b[0m\u001b[0m\n\u001b[0;32m     31\u001b[0m     \u001b[1;32mreturn\u001b[0m \u001b[0mReaction\u001b[0m\u001b[1;33m(\u001b[0m\u001b[1;33m*\u001b[0m\u001b[0mequations\u001b[0m\u001b[1;33m[\u001b[0m\u001b[0mbest_index\u001b[0m\u001b[1;33m]\u001b[0m\u001b[1;33m)\u001b[0m\u001b[1;33m\u001b[0m\u001b[1;33m\u001b[0m\u001b[0m\n",
      "\u001b[1;31mValueError\u001b[0m: min() arg is an empty sequence"
     ]
    }
   ],
   "source": [
    "reaction_predictor(['O2', 'O'])"
   ]
  },
  {
   "cell_type": "code",
   "execution_count": 489,
   "metadata": {},
   "outputs": [
    {
     "name": "stdout",
     "output_type": "stream",
     "text": [
      "error: 426 possible products\n"
     ]
    }
   ],
   "source": [
    "cho_temp = product_predictor(['CH4', 'O2'])"
   ]
  },
  {
   "cell_type": "code",
   "execution_count": 560,
   "metadata": {},
   "outputs": [
    {
     "data": {
      "text/plain": [
       "['H2O',\n",
       " 'e-',\n",
       " 'H+',\n",
       " 'Li+',\n",
       " 'Na+',\n",
       " 'K+',\n",
       " 'Rb+',\n",
       " 'Cs+',\n",
       " 'Mg+2',\n",
       " 'Ca+2',\n",
       " 'Sr+2',\n",
       " 'Ba+2',\n",
       " 'HCO3-',\n",
       " 'CO3-2',\n",
       " 'Pb+2',\n",
       " 'NO3-',\n",
       " 'NO2-',\n",
       " 'NH4+',\n",
       " 'H2PO4-',\n",
       " 'HPO4-2']"
      ]
     },
     "execution_count": 560,
     "metadata": {},
     "output_type": "execute_result"
    }
   ],
   "source": [
    "list(thermo['formula'])[:20]"
   ]
  },
  {
   "cell_type": "code",
   "execution_count": 572,
   "metadata": {},
   "outputs": [
    {
     "data": {
      "text/plain": [
       "18.015"
      ]
     },
     "execution_count": 572,
     "metadata": {},
     "output_type": "execute_result"
    }
   ],
   "source": [
    "Substance.from_formula('H2O').mass"
   ]
  },
  {
   "cell_type": "code",
   "execution_count": 578,
   "metadata": {},
   "outputs": [
    {
     "data": {
      "text/plain": [
       "['H2O',\n",
       " 'H+',\n",
       " 'HCO3-',\n",
       " 'CO3-2',\n",
       " 'OH-',\n",
       " 'H2',\n",
       " 'O2',\n",
       " 'HO2-',\n",
       " 'H2O2',\n",
       " 'CH4',\n",
       " 'C2H6',\n",
       " 'C3H8',\n",
       " 'C5H12',\n",
       " 'C6H14',\n",
       " 'C7H16',\n",
       " 'C8H18',\n",
       " 'C2H4',\n",
       " 'C3H6',\n",
       " 'C4H8',\n",
       " 'C6H12']"
      ]
     },
     "execution_count": 578,
     "metadata": {},
     "output_type": "execute_result"
    }
   ],
   "source": []
  },
  {
   "cell_type": "code",
   "execution_count": 580,
   "metadata": {},
   "outputs": [
    {
     "data": {
      "text/plain": [
       "[-55085.268942547875,\n",
       " 0.0,\n",
       " -9619.355708923093,\n",
       " -8798.384967554037,\n",
       " -9248.686034940638,\n",
       " 0.0,\n",
       " 0.0,\n",
       " -2039.612205564454,\n",
       " -3939.9517845592995,\n",
       " -3161.511039082466,\n",
       " -1097.4129697372796,\n",
       " -558.4739097897816,\n",
       " -171.88086097212792,\n",
       " -82.58469679036413,\n",
       " -33.194750760940074,\n",
       " 30.363961061698998,\n",
       " 517.5190703642975,\n",
       " 402.18340818896894,\n",
       " 1312.8131460754262,\n",
       " 320.35474442147284]"
      ]
     },
     "execution_count": 580,
     "metadata": {},
     "output_type": "execute_result"
    }
   ],
   "source": []
  },
  {
   "cell_type": "code",
   "execution_count": 581,
   "metadata": {},
   "outputs": [
    {
     "name": "stdout",
     "output_type": "stream",
     "text": [
      "[-55085.26894255 -55085.26894255 -55085.26894255 -55085.26894255\n",
      " -55085.26894255 -55085.26894255 -55085.26894255 -55085.26894255\n",
      " -55085.26894255 -17023.65       -17023.65       -13970.88596554\n",
      " -10566.82712938  -9864.17264106  -9619.35570892  -9248.68603494\n",
      "  -8971.2510898   -8960.86564112  -8960.86564112  -8798.38496755]\n",
      "['H2O' 'H2O' 'H2O' 'H2O' 'H2O' 'H2O' 'H2O' 'H2O' 'H2O' 'H' 'H' 'C6H6O3'\n",
      " 'C7H12O2' 'C7H11O2-' 'HCO3-' 'OH-' 'C6H6O2' 'CO2' 'CO2' 'CO3-2']\n"
     ]
    }
   ],
   "source": []
  },
  {
   "cell_type": "code",
   "execution_count": 524,
   "metadata": {},
   "outputs": [
    {
     "data": {
      "text/plain": [
       "['H2O',\n",
       " 'e-',\n",
       " 'H+',\n",
       " 'HCO3-',\n",
       " 'CO3-2',\n",
       " 'OH-',\n",
       " 'H2',\n",
       " 'O2',\n",
       " 'HO2-',\n",
       " 'H2O2',\n",
       " 'CH4',\n",
       " 'C2H6',\n",
       " 'C3H8',\n",
       " 'C4H10',\n",
       " 'C5H12',\n",
       " 'C6H14',\n",
       " 'C7H16',\n",
       " 'C8H18',\n",
       " 'C2H4',\n",
       " 'C3H6',\n",
       " 'C4H8',\n",
       " 'C5H10',\n",
       " 'C6H12',\n",
       " 'C7H14',\n",
       " 'C8H16',\n",
       " 'C2H2',\n",
       " 'C3H4',\n",
       " 'C4H6',\n",
       " 'C5H8',\n",
       " 'C6H10',\n",
       " 'C7H12',\n",
       " 'C8H14',\n",
       " 'C6H5CH3',\n",
       " 'C6H5C2H5',\n",
       " 'C6H5C3H7',\n",
       " 'C6H5C4H9',\n",
       " 'C6H5C5H11',\n",
       " 'C6H5C6H13',\n",
       " 'C6H5C7H15',\n",
       " 'C6H5C8H17',\n",
       " 'CH3OH',\n",
       " 'C2H5OH',\n",
       " 'C3H7OH',\n",
       " 'C4H9OH',\n",
       " 'C5H11OH',\n",
       " 'C6H13OH',\n",
       " 'C7H15OH',\n",
       " 'C8H17OH',\n",
       " 'C3H6O',\n",
       " 'C4H8O',\n",
       " 'C5H10O',\n",
       " 'C6H12O',\n",
       " 'C7H14O',\n",
       " 'C8H16O',\n",
       " 'CH3COOCH2CH3',\n",
       " 'CO',\n",
       " 'HCHO',\n",
       " 'CH3CHO',\n",
       " 'CH3CH2CHO',\n",
       " 'CH3(CH2)2CHO',\n",
       " 'CH3(CH2)3CHO',\n",
       " 'CH3(CH2)4CHO',\n",
       " 'CH3(CH2)5CHO',\n",
       " 'CH3(CH2)6CHO',\n",
       " 'CH3(CH2)7CHO',\n",
       " 'CH3(CH2)8CHO',\n",
       " 'H2CO2',\n",
       " 'C2H4O2',\n",
       " 'C3H6O2',\n",
       " 'C4H8O2',\n",
       " 'C5H10O2',\n",
       " 'C6H12O2',\n",
       " 'C7H14O2',\n",
       " 'C8H16O2',\n",
       " 'C9H18O2',\n",
       " 'C10H20O2',\n",
       " 'C11H22O2',\n",
       " 'C12H24O2',\n",
       " 'C7H6O2',\n",
       " 'C8H8O2',\n",
       " 'C2H2O4',\n",
       " 'C3H4O4',\n",
       " 'C4H6O4',\n",
       " 'C5H8O4',\n",
       " 'C6H10O4',\n",
       " 'C7H12O4',\n",
       " 'C8H14O4',\n",
       " 'C9H16O4',\n",
       " 'C10H18O4',\n",
       " 'HCO2-',\n",
       " 'C2H3O2-',\n",
       " 'C3H5O2-',\n",
       " 'C4H7O2-',\n",
       " 'C5H9O2-',\n",
       " 'C6H11O2-',\n",
       " 'C7H13O2-',\n",
       " 'C8H15O2-',\n",
       " 'C9H17O2-',\n",
       " 'C10H19O2-',\n",
       " 'C11H21O2-',\n",
       " 'C12H23O2-',\n",
       " 'C7H5O2-',\n",
       " 'C8H7O2-',\n",
       " 'C2HO4-',\n",
       " 'C3H3O4-',\n",
       " 'C4H5O4-',\n",
       " 'C5H7O4-',\n",
       " 'C6H9O4-',\n",
       " 'C7H11O4-',\n",
       " 'C8H13O4-',\n",
       " 'C9H15O4-',\n",
       " 'C10H17O4-',\n",
       " 'C2O4-2',\n",
       " 'C3H2O4-2',\n",
       " 'C4H4O4-2',\n",
       " 'C5H6O4-2',\n",
       " 'C6H8O4-2',\n",
       " 'C7H10O4-2',\n",
       " 'C8H12O4-2',\n",
       " 'C9H14O4-2',\n",
       " 'C10H16O4-2',\n",
       " 'C2H4O3',\n",
       " 'C3H6O3',\n",
       " 'C4H8O3',\n",
       " 'C5H10O3',\n",
       " 'C6H12O3',\n",
       " 'C7H14O3',\n",
       " 'C8H16O3',\n",
       " 'C9H18O3',\n",
       " 'C10H20O3',\n",
       " 'C2H3O3-',\n",
       " 'C3H5O3-',\n",
       " 'C4H7O3-',\n",
       " 'C5H9O3-',\n",
       " 'C6H11O3-',\n",
       " 'C7H13O3-',\n",
       " 'C8H15O3-',\n",
       " 'C9H17O3-',\n",
       " 'C10H19O3-',\n",
       " 'C6H5OH',\n",
       " 'C6H4OHCH3',\n",
       " 'C6H3OHCH3CH3',\n",
       " 'C6H6',\n",
       " 'CO2',\n",
       " 'C14H10',\n",
       " 'C15H12',\n",
       " 'C6H6O2',\n",
       " 'C6H6O3',\n",
       " 'C7H11O2-',\n",
       " 'C7H12O2',\n",
       " 'C5H10O5',\n",
       " 'C6H12O6',\n",
       " 'C6H6O6',\n",
       " 'C6H5O6-',\n",
       " 'C6H4O6-2',\n",
       " 'C6H3O6-3',\n",
       " 'C6H8O7',\n",
       " 'C6H7O7-',\n",
       " 'C6H6O7-2',\n",
       " 'C6H5O7-3',\n",
       " 'C5H6O5',\n",
       " 'C5H5O5-',\n",
       " 'C5H4O5-2',\n",
       " 'C4H4O4',\n",
       " 'C4H3O4-',\n",
       " 'C4H2O4-2',\n",
       " 'C4H6O5',\n",
       " 'C4H5O5-',\n",
       " 'C4H4O5-2',\n",
       " 'C4H4O5',\n",
       " 'C4H3O5-',\n",
       " 'C4H2O5-2',\n",
       " 'CH3COCOOH',\n",
       " 'CH3COCOO-',\n",
       " 'C5H10O4',\n",
       " 'CH3',\n",
       " 'C2H3O2',\n",
       " 'C2H2O2-',\n",
       " 'C3H5O2',\n",
       " 'C3H4O2-',\n",
       " 'H',\n",
       " 'C4H9',\n",
       " 'C7H7',\n",
       " 'C3H5',\n",
       " 'CH3O',\n",
       " 'C2H5O',\n",
       " 'C7H7O',\n",
       " 'C7H6O-',\n",
       " 'C3H7',\n",
       " 'CH2',\n",
       " 'CHO2',\n",
       " 'C6H5',\n",
       " 'C',\n",
       " 'C9H20',\n",
       " 'C10H22',\n",
       " 'C11H24',\n",
       " 'C12H26',\n",
       " 'C13H28',\n",
       " 'C14H30',\n",
       " 'C15H32',\n",
       " 'C16H34',\n",
       " 'C17H36',\n",
       " 'C18H38',\n",
       " 'C19H40',\n",
       " 'C20H42',\n",
       " 'C21H44',\n",
       " 'C22H46',\n",
       " 'C23H48',\n",
       " 'C24H50',\n",
       " 'C25H52',\n",
       " 'C26H54',\n",
       " 'C27H56',\n",
       " 'C28H58',\n",
       " 'C29H60',\n",
       " 'C30H62',\n",
       " 'C31H64',\n",
       " 'C32H66',\n",
       " 'C33H68',\n",
       " 'C34H70',\n",
       " 'C35H72',\n",
       " 'C36H74',\n",
       " 'C37H76',\n",
       " 'C38H78',\n",
       " 'C39H80',\n",
       " 'C40H82',\n",
       " 'C41H84',\n",
       " 'C42H86',\n",
       " 'C43H88',\n",
       " 'C44H90',\n",
       " 'C45H92',\n",
       " 'C46H94',\n",
       " 'C47H96',\n",
       " 'C48H98',\n",
       " 'C49H100',\n",
       " 'C50H102',\n",
       " 'C60H122',\n",
       " 'C70H142',\n",
       " 'C80H162',\n",
       " 'C90H182',\n",
       " 'C100H202',\n",
       " 'C9H18',\n",
       " 'C10H20',\n",
       " 'C11H22',\n",
       " 'C12H24',\n",
       " 'C13H26',\n",
       " 'C14H28',\n",
       " 'C15H30',\n",
       " 'C16H32',\n",
       " 'C17H34',\n",
       " 'C18H36',\n",
       " 'C9H16',\n",
       " 'C10H18',\n",
       " 'C24H18',\n",
       " 'C18H14',\n",
       " 'C12H12',\n",
       " 'C18H12',\n",
       " 'C2H4O',\n",
       " 'C12H10O',\n",
       " 'C6H4O',\n",
       " 'CH2COO',\n",
       " 'C2H4COO',\n",
       " 'C3H6COO',\n",
       " 'C4H8COO',\n",
       " 'C5H10COO',\n",
       " 'C10H20COO',\n",
       " 'C12H24COO',\n",
       " 'C14H28COO',\n",
       " 'C6H4COO',\n",
       " 'CH',\n",
       " 'CHCH3',\n",
       " 'C(CH3)2',\n",
       " 'CCH3',\n",
       " 'CHCH2CH3',\n",
       " 'CH(CH2)2CH3',\n",
       " 'CH(CH2)3CH3',\n",
       " 'CH(CH2)4CH3',\n",
       " 'CH(CH2)5CH3',\n",
       " 'CH(CH2)6CH3',\n",
       " 'CH(CH2)7CH3',\n",
       " 'CH(CH2)8CH3',\n",
       " 'CH(CH2)9CH3',\n",
       " 'CH(CH2)10CH3',\n",
       " 'O',\n",
       " 'COO',\n",
       " 'C20H36',\n",
       " 'C21H38',\n",
       " 'C22H40',\n",
       " 'C23H42',\n",
       " 'C24H44',\n",
       " 'C25H46',\n",
       " 'C26H48',\n",
       " 'C27H50',\n",
       " 'C28H52',\n",
       " 'C29H54',\n",
       " 'C30H56',\n",
       " 'C26H44',\n",
       " 'C27H46',\n",
       " 'C28H48',\n",
       " 'C29H50',\n",
       " 'C30H52',\n",
       " 'C31H54',\n",
       " 'C32H56',\n",
       " 'C33H58',\n",
       " 'C34H60',\n",
       " 'C35H62',\n",
       " 'C36H64',\n",
       " 'C37H66',\n",
       " 'C38H68',\n",
       " 'C39H70',\n",
       " 'C40H72',\n",
       " 'C19H32',\n",
       " 'C21H36',\n",
       " 'C22H38',\n",
       " 'C23H40',\n",
       " 'C24H42',\n",
       " 'C25H44',\n",
       " 'C26H46',\n",
       " 'C27H48',\n",
       " 'C28H50',\n",
       " 'C29H52',\n",
       " 'C30H54',\n",
       " 'C12H10',\n",
       " 'C13H12',\n",
       " 'C14H14',\n",
       " 'C10H8',\n",
       " 'C11H10',\n",
       " 'C13H14',\n",
       " 'C16H14',\n",
       " 'C16H10',\n",
       " 'C17H12',\n",
       " 'C19H14',\n",
       " 'C13H26O2',\n",
       " 'C14H28O2',\n",
       " 'C15H30O2',\n",
       " 'C16H32O2',\n",
       " 'C17H34O2',\n",
       " 'C18H36O2',\n",
       " 'C19H38O2',\n",
       " 'C20H40O2',\n",
       " 'C21H42O2',\n",
       " 'C22H44O2',\n",
       " 'C23H46O2',\n",
       " 'C24H48O2',\n",
       " 'C25H50O2',\n",
       " 'C26H52O2',\n",
       " 'C27H54O2',\n",
       " 'C28H56O2',\n",
       " 'C29H58O2',\n",
       " 'C30H60O2',\n",
       " 'C31H62O2',\n",
       " 'C32H64O2',\n",
       " 'C33H66O2',\n",
       " 'C34H68O2',\n",
       " 'C35H70O2',\n",
       " 'C36H72O2',\n",
       " 'C37H74O2',\n",
       " 'C38H76O2',\n",
       " 'C39H78O2',\n",
       " 'C40H80O2',\n",
       " 'C12H20O4',\n",
       " 'C13H22O4',\n",
       " 'C14H24O4',\n",
       " 'C15H26O4',\n",
       " 'C16H28O4',\n",
       " 'C17H30O4',\n",
       " 'C18H32O4',\n",
       " 'C19H34O4',\n",
       " 'C20H36O4',\n",
       " 'C21H38O4',\n",
       " 'C22H40O4',\n",
       " 'C23H42O4',\n",
       " 'C24H44O4',\n",
       " 'C25H46O4',\n",
       " 'C26H48O4',\n",
       " 'C27H50O4',\n",
       " 'C28H52O4',\n",
       " 'C29H54O4',\n",
       " 'C30H56O4',\n",
       " 'C31H58O4',\n",
       " 'C32H60O4',\n",
       " 'C33H62O4',\n",
       " 'C34H64O4',\n",
       " 'C35H66O4',\n",
       " 'C36H68O4',\n",
       " 'C37H70O4',\n",
       " 'C38H72O4',\n",
       " 'C39H74O4',\n",
       " 'C40H76O4',\n",
       " 'C41H78O4',\n",
       " 'C42H80O4',\n",
       " 'C415H698O22',\n",
       " 'C406H528O19',\n",
       " 'C515H596O72',\n",
       " 'C292H288O12',\n",
       " 'C128H68O7',\n",
       " 'C3H5O',\n",
       " 'C7H8',\n",
       " 'C8H10',\n",
       " 'C9H12',\n",
       " 'C10H14',\n",
       " 'C11H16',\n",
       " 'C12H18',\n",
       " 'C13H20',\n",
       " 'C14H22',\n",
       " 'C15H24',\n",
       " 'C16H26',\n",
       " 'C17H28',\n",
       " 'C18H30',\n",
       " 'C20H34',\n",
       " 'C9H19OH',\n",
       " 'C10H21OH',\n",
       " 'C11H23OH',\n",
       " 'C12H25OH',\n",
       " 'C13H27OH',\n",
       " 'C14H29OH',\n",
       " 'C15H31OH',\n",
       " 'C16H33OH',\n",
       " 'C17H35OH',\n",
       " 'C18H37OH',\n",
       " 'C19H39OH',\n",
       " 'C20H41OH',\n",
       " 'C2H4(OH)2',\n",
       " 'C3H5(OH)3',\n",
       " 'CH(CH3)2',\n",
       " 'C19H38',\n",
       " 'C20H40',\n",
       " 'C6H6O',\n",
       " 'C7H8O']"
      ]
     },
     "execution_count": 524,
     "metadata": {},
     "output_type": "execute_result"
    }
   ],
   "source": [
    "list(cho_temp['formula'])"
   ]
  },
  {
   "cell_type": "code",
   "execution_count": 499,
   "metadata": {},
   "outputs": [
    {
     "data": {
      "text/html": [
       "<div>\n",
       "<style scoped>\n",
       "    .dataframe tbody tr th:only-of-type {\n",
       "        vertical-align: middle;\n",
       "    }\n",
       "\n",
       "    .dataframe tbody tr th {\n",
       "        vertical-align: top;\n",
       "    }\n",
       "\n",
       "    .dataframe thead th {\n",
       "        text-align: right;\n",
       "    }\n",
       "</style>\n",
       "<table border=\"1\" class=\"dataframe\">\n",
       "  <thead>\n",
       "    <tr style=\"text-align: right;\">\n",
       "      <th></th>\n",
       "      <th>name</th>\n",
       "      <th>abbrv</th>\n",
       "      <th>formula</th>\n",
       "      <th>state</th>\n",
       "      <th>G</th>\n",
       "      <th>H</th>\n",
       "      <th>S</th>\n",
       "      <th>Cp</th>\n",
       "    </tr>\n",
       "  </thead>\n",
       "  <tbody>\n",
       "    <tr>\n",
       "      <th>870</th>\n",
       "      <td>methanol</td>\n",
       "      <td>NaN</td>\n",
       "      <td>CH3OH</td>\n",
       "      <td>aq</td>\n",
       "      <td>-175811.680</td>\n",
       "      <td>-246353.920</td>\n",
       "      <td>133.05120</td>\n",
       "      <td>157.98784</td>\n",
       "    </tr>\n",
       "    <tr>\n",
       "      <th>2676</th>\n",
       "      <td>methanol</td>\n",
       "      <td>NaN</td>\n",
       "      <td>CH3OH</td>\n",
       "      <td>liq</td>\n",
       "      <td>-166765.872</td>\n",
       "      <td>-239111.416</td>\n",
       "      <td>127.19360</td>\n",
       "      <td>81.16960</td>\n",
       "    </tr>\n",
       "    <tr>\n",
       "      <th>3223</th>\n",
       "      <td>methanol</td>\n",
       "      <td>NaN</td>\n",
       "      <td>CH3OH</td>\n",
       "      <td>gas</td>\n",
       "      <td>-162878.936</td>\n",
       "      <td>-201589.304</td>\n",
       "      <td>239.82688</td>\n",
       "      <td>43.93200</td>\n",
       "    </tr>\n",
       "  </tbody>\n",
       "</table>\n",
       "</div>"
      ],
      "text/plain": [
       "          name abbrv formula state           G           H          S  \\\n",
       "870   methanol  NaN   CH3OH   aq   -175811.680 -246353.920  133.05120   \n",
       "2676  methanol  NaN   CH3OH   liq  -166765.872 -239111.416  127.19360   \n",
       "3223  methanol  NaN   CH3OH   gas  -162878.936 -201589.304  239.82688   \n",
       "\n",
       "             Cp  \n",
       "870   157.98784  \n",
       "2676  81.16960   \n",
       "3223  43.93200   "
      ]
     },
     "execution_count": 499,
     "metadata": {},
     "output_type": "execute_result"
    }
   ],
   "source": [
    "thermo[thermo['formula'] == 'CH3OH']"
   ]
  },
  {
   "cell_type": "code",
   "execution_count": null,
   "metadata": {},
   "outputs": [],
   "source": [
    "reactant_comp = set(1, 8, 11)\n",
    "for c in candidates:\n",
    "    s = Substance.from_formula(c)\n",
    "    z_ignore += [*s.composition]\n",
    "z_ignore = set(z_ignore)\n",
    "z_ignore"
   ]
  },
  {
   "cell_type": "markdown",
   "metadata": {},
   "source": [
    "## creating a function that selects the appropriate gibbs value(s)"
   ]
  },
  {
   "cell_type": "code",
   "execution_count": 232,
   "metadata": {},
   "outputs": [
    {
     "data": {
      "text/plain": [
       "(OrderedDict([('Na', 2), ('H2O', 2)]), OrderedDict([('NaOH', 2), ('H2', 1)]))"
      ]
     },
     "execution_count": 232,
     "metadata": {},
     "output_type": "execute_result"
    }
   ],
   "source": [
    "equation = balance_stoichiometry(['Na', 'H2O'], ['NaOH', 'H2'])\n",
    "equation"
   ]
  },
  {
   "cell_type": "code",
   "execution_count": 233,
   "metadata": {},
   "outputs": [
    {
     "data": {
      "text/plain": [
       "[('NaOH', 2), ('H2', 1)]"
      ]
     },
     "execution_count": 233,
     "metadata": {},
     "output_type": "execute_result"
    }
   ],
   "source": [
    "list(equation[1].items())"
   ]
  },
  {
   "cell_type": "code",
   "execution_count": 190,
   "metadata": {},
   "outputs": [
    {
     "data": {
      "text/html": [
       "<div>\n",
       "<style scoped>\n",
       "    .dataframe tbody tr th:only-of-type {\n",
       "        vertical-align: middle;\n",
       "    }\n",
       "\n",
       "    .dataframe tbody tr th {\n",
       "        vertical-align: top;\n",
       "    }\n",
       "\n",
       "    .dataframe thead th {\n",
       "        text-align: right;\n",
       "    }\n",
       "</style>\n",
       "<table border=\"1\" class=\"dataframe\">\n",
       "  <thead>\n",
       "    <tr style=\"text-align: right;\">\n",
       "      <th></th>\n",
       "      <th>name</th>\n",
       "      <th>abbrv</th>\n",
       "      <th>formula</th>\n",
       "      <th>state</th>\n",
       "      <th>G</th>\n",
       "      <th>H</th>\n",
       "      <th>S</th>\n",
       "      <th>Cp</th>\n",
       "    </tr>\n",
       "  </thead>\n",
       "  <tbody>\n",
       "    <tr>\n",
       "      <th>572</th>\n",
       "      <td>NaOH</td>\n",
       "      <td>NaOH</td>\n",
       "      <td>NaOH</td>\n",
       "      <td>aq</td>\n",
       "      <td>-417981.6</td>\n",
       "      <td>-469863.2</td>\n",
       "      <td>44.7688</td>\n",
       "      <td>-13.3888</td>\n",
       "    </tr>\n",
       "    <tr>\n",
       "      <th>3375</th>\n",
       "      <td>sodium hydroxide</td>\n",
       "      <td>NaOH</td>\n",
       "      <td>NaOH</td>\n",
       "      <td>cr</td>\n",
       "      <td>-379530.0</td>\n",
       "      <td>-425610.0</td>\n",
       "      <td>64.4600</td>\n",
       "      <td>59.5400</td>\n",
       "    </tr>\n",
       "  </tbody>\n",
       "</table>\n",
       "</div>"
      ],
      "text/plain": [
       "                  name abbrv formula state         G         H        S  \\\n",
       "572   NaOH              NaOH  NaOH    aq   -417981.6 -469863.2  44.7688   \n",
       "3375  sodium hydroxide  NaOH  NaOH    cr   -379530.0 -425610.0  64.4600   \n",
       "\n",
       "           Cp  \n",
       "572  -13.3888  \n",
       "3375  59.5400  "
      ]
     },
     "execution_count": 190,
     "metadata": {},
     "output_type": "execute_result"
    }
   ],
   "source": [
    "thermo[thermo['formula'] == 'NaOH']"
   ]
  },
  {
   "cell_type": "code",
   "execution_count": 208,
   "metadata": {},
   "outputs": [
    {
     "data": {
      "text/plain": [
       "'g'"
      ]
     },
     "execution_count": 208,
     "metadata": {},
     "output_type": "execute_result"
    }
   ],
   "source": [
    "re.search('(?<=\\()[aglsq]+', 'Ca(NO3)2(g)').group(0)"
   ]
  },
  {
   "cell_type": "code",
   "execution_count": 235,
   "metadata": {},
   "outputs": [
    {
     "data": {
      "text/plain": [
       "9"
      ]
     },
     "execution_count": 235,
     "metadata": {},
     "output_type": "execute_result"
    }
   ],
   "source": [
    "re.search('(?<=\\()[aglsq]+', 'Ca(NO3)2(g)').start()"
   ]
  },
  {
   "cell_type": "code",
   "execution_count": 210,
   "metadata": {},
   "outputs": [
    {
     "data": {
      "text/plain": [
       "'Ca(NO3)2('"
      ]
     },
     "execution_count": 210,
     "metadata": {},
     "output_type": "execute_result"
    }
   ],
   "source": [
    "'Ca(NO3)2(g)'[:9]"
   ]
  },
  {
   "cell_type": "code",
   "execution_count": 219,
   "metadata": {},
   "outputs": [],
   "source": [
    "def formula_state_separator(formula):\n",
    "    try:\n",
    "        regex = re.search('(?<=\\()[aglsq]+', formula)\n",
    "        state = regex.group(0)\n",
    "        formula = formula[:regex.start() - 1]\n",
    "        if state == 'aq':\n",
    "            return formula, 'aq'\n",
    "        elif state == 's':\n",
    "            return formula, 'cr'\n",
    "        elif state == 'l':\n",
    "            return formula, 'liq'\n",
    "        elif state == 'g':\n",
    "            return formula, 'gas'\n",
    "    except:\n",
    "        return formula, None"
   ]
  },
  {
   "cell_type": "code",
   "execution_count": 236,
   "metadata": {},
   "outputs": [
    {
     "data": {
      "text/plain": [
       "('Al(OH)3', 'cr')"
      ]
     },
     "execution_count": 236,
     "metadata": {},
     "output_type": "execute_result"
    }
   ],
   "source": [
    "formula_state_separator('Al(OH)3(s)')"
   ]
  },
  {
   "cell_type": "code",
   "execution_count": 227,
   "metadata": {},
   "outputs": [
    {
     "data": {
      "text/plain": [
       "('Al(OH)3', None)"
      ]
     },
     "execution_count": 227,
     "metadata": {},
     "output_type": "execute_result"
    }
   ],
   "source": [
    "formula_state_separator('Al(OH)3')"
   ]
  },
  {
   "cell_type": "code",
   "execution_count": 222,
   "metadata": {},
   "outputs": [],
   "source": [
    "def get_gibbs(formula):        \n",
    "    formula, state = formula_state_separator(formula)\n",
    "    \n",
    "    is_formula = thermo['formula'] == formula\n",
    "    \n",
    "    if state == None:\n",
    "        matches = thermo[is_formula]\n",
    "    else:\n",
    "        is_state = thermo['state'] == state\n",
    "        matches = thermo[is_formula & is_state]\n",
    "        \n",
    "    return matches['G'].values"
   ]
  },
  {
   "cell_type": "code",
   "execution_count": 223,
   "metadata": {},
   "outputs": [
    {
     "data": {
      "text/plain": [
       "array([-417981.6, -379530. ])"
      ]
     },
     "execution_count": 223,
     "metadata": {},
     "output_type": "execute_result"
    }
   ],
   "source": [
    "get_gibbs('NaOH')"
   ]
  },
  {
   "cell_type": "code",
   "execution_count": 542,
   "metadata": {},
   "outputs": [
    {
     "data": {
      "text/plain": [
       "-417981.60000000003"
      ]
     },
     "execution_count": 542,
     "metadata": {},
     "output_type": "execute_result"
    }
   ],
   "source": [
    "min(get_gibbs('NaOH'))"
   ]
  },
  {
   "cell_type": "code",
   "execution_count": null,
   "metadata": {},
   "outputs": [],
   "source": [
    "thermo[(thermo['state'] == 'cr') & (thermo['formula'] == 'NaOH')]"
   ]
  },
  {
   "cell_type": "code",
   "execution_count": 509,
   "metadata": {},
   "outputs": [
    {
     "data": {
      "text/plain": [
       "1"
      ]
     },
     "execution_count": 509,
     "metadata": {},
     "output_type": "execute_result"
    }
   ],
   "source": [
    "min([1])"
   ]
  },
  {
   "cell_type": "code",
   "execution_count": 722,
   "metadata": {},
   "outputs": [],
   "source": [
    "def standard_gibbs_free_energy(equation, kJ=True):\n",
    "    \n",
    "    # each side is a formula, coefficient tuple\n",
    "    prod = list(equation[1].items())\n",
    "    reac = list(equation[0].items())\n",
    "    \n",
    "    delG = 0\n",
    "        \n",
    "    # p[0] is the formula, with or without state\n",
    "    # p[1] is the coefficient\n",
    "    \n",
    "    def gibbs_sum(side):\n",
    "        interim_delG = 0\n",
    "        for s in side:\n",
    "            interim_delG += min(get_gibbs(s[0])) * s[1]\n",
    "        return interim_delG\n",
    "    \n",
    "    delG = gibbs_sum(prod) - gibbs_sum(reac)\n",
    "    \n",
    "    return delG / (1 + 999*kJ)"
   ]
  },
  {
   "cell_type": "code",
   "execution_count": 225,
   "metadata": {},
   "outputs": [
    {
     "data": {
      "text/latex": [
       "$\\displaystyle -369.999488$"
      ],
      "text/plain": [
       "-369.999488000000"
      ]
     },
     "execution_count": 225,
     "metadata": {},
     "output_type": "execute_result"
    }
   ],
   "source": [
    "gibbs_free_energy(equation)"
   ]
  },
  {
   "cell_type": "code",
   "execution_count": 226,
   "metadata": {},
   "outputs": [
    {
     "data": {
      "text/latex": [
       "$\\displaystyle 331.963712$"
      ],
      "text/plain": [
       "331.963712000000"
      ]
     },
     "execution_count": 226,
     "metadata": {},
     "output_type": "execute_result"
    }
   ],
   "source": [
    "equation2 = balance_stoichiometry(['Na', 'H2O'], ['NaH', 'O2'])\n",
    "gibbs_free_energy(equation2)"
   ]
  },
  {
   "cell_type": "code",
   "execution_count": 155,
   "metadata": {},
   "outputs": [
    {
     "data": {
      "text/latex": [
       "$\\displaystyle 264.950192$"
      ],
      "text/plain": [
       "264.950192000000"
      ]
     },
     "execution_count": 155,
     "metadata": {},
     "output_type": "execute_result"
    }
   ],
   "source": [
    "equation3 = balance_stoichiometry(['Na', 'H2O'], ['NaH', 'H2O2'])\n",
    "gibbs_free_energy(equation3)"
   ]
  },
  {
   "cell_type": "code",
   "execution_count": 156,
   "metadata": {},
   "outputs": [
    {
     "data": {
      "text/latex": [
       "$\\displaystyle -143.088616$"
      ],
      "text/plain": [
       "-143.088616000000"
      ]
     },
     "execution_count": 156,
     "metadata": {},
     "output_type": "execute_result"
    }
   ],
   "source": [
    "equation4 = balance_stoichiometry(['Na', 'H2O'], ['Na2O', 'H2'])\n",
    "gibbs_free_energy(equation4)"
   ]
  },
  {
   "cell_type": "code",
   "execution_count": 157,
   "metadata": {},
   "outputs": [
    {
     "data": {
      "text/latex": [
       "$\\displaystyle 56.607912$"
      ],
      "text/plain": [
       "56.6079120000000"
      ]
     },
     "execution_count": 157,
     "metadata": {},
     "output_type": "execute_result"
    }
   ],
   "source": [
    "equation5 = balance_stoichiometry(['Na', 'H2O'], ['NaH', 'O'])\n",
    "gibbs_free_energy(equation5)"
   ]
  },
  {
   "cell_type": "code",
   "execution_count": 249,
   "metadata": {},
   "outputs": [
    {
     "data": {
      "text/html": [
       "2 Na + 2 H2O &rarr; 2 NaH + H2O2"
      ],
      "text/plain": [
       "<chempy.chemistry.Reaction at 0x2911fa37e80>"
      ]
     },
     "execution_count": 249,
     "metadata": {},
     "output_type": "execute_result"
    }
   ],
   "source": [
    "output = Reaction(*balance_stoichiometry(['Na', 'H2O'], ['NaH', 'H2O2']))\n",
    "output"
   ]
  },
  {
   "cell_type": "code",
   "execution_count": 228,
   "metadata": {},
   "outputs": [
    {
     "data": {
      "text/html": [
       "<div>\n",
       "<style scoped>\n",
       "    .dataframe tbody tr th:only-of-type {\n",
       "        vertical-align: middle;\n",
       "    }\n",
       "\n",
       "    .dataframe tbody tr th {\n",
       "        vertical-align: top;\n",
       "    }\n",
       "\n",
       "    .dataframe thead th {\n",
       "        text-align: right;\n",
       "    }\n",
       "</style>\n",
       "<table border=\"1\" class=\"dataframe\">\n",
       "  <thead>\n",
       "    <tr style=\"text-align: right;\">\n",
       "      <th></th>\n",
       "      <th>name</th>\n",
       "      <th>abbrv</th>\n",
       "      <th>formula</th>\n",
       "      <th>state</th>\n",
       "      <th>G</th>\n",
       "      <th>H</th>\n",
       "      <th>S</th>\n",
       "      <th>Cp</th>\n",
       "    </tr>\n",
       "  </thead>\n",
       "  <tbody>\n",
       "    <tr>\n",
       "      <th>3372</th>\n",
       "      <td>sodium</td>\n",
       "      <td>Na</td>\n",
       "      <td>Na</td>\n",
       "      <td>cr</td>\n",
       "      <td>0.0</td>\n",
       "      <td>0.0</td>\n",
       "      <td>51.21</td>\n",
       "      <td>28.24</td>\n",
       "    </tr>\n",
       "  </tbody>\n",
       "</table>\n",
       "</div>"
      ],
      "text/plain": [
       "        name abbrv formula state    G    H      S     Cp\n",
       "3372  sodium  Na    Na      cr    0.0  0.0  51.21  28.24"
      ]
     },
     "execution_count": 228,
     "metadata": {},
     "output_type": "execute_result"
    }
   ],
   "source": [
    "thermo[thermo['formula'] == 'Na']"
   ]
  },
  {
   "cell_type": "code",
   "execution_count": null,
   "metadata": {},
   "outputs": [],
   "source": []
  },
  {
   "cell_type": "code",
   "execution_count": 173,
   "metadata": {},
   "outputs": [
    {
     "data": {
      "text/plain": [
       "'2 Na + H₂O → Na₂O + H₂'"
      ]
     },
     "execution_count": 173,
     "metadata": {},
     "output_type": "execute_result"
    }
   ],
   "source": [
    "keys = output.keys()\n",
    "substances = {k: Substance.from_formula(k) for k in keys}\n",
    "output.unicode(substances)"
   ]
  },
  {
   "cell_type": "code",
   "execution_count": 160,
   "metadata": {},
   "outputs": [
    {
     "data": {
      "text/html": [
       "2 Na(s) + H2O(l) &rarr; 2 H+(aq) + Na2O(s) + 2 e-"
      ],
      "text/plain": [
       "<chempy.chemistry.Reaction at 0x2abf7d9fef0>"
      ]
     },
     "execution_count": 160,
     "metadata": {},
     "output_type": "execute_result"
    }
   ],
   "source": [
    "Reaction(*balance_stoichiometry(['Na(s)', 'H2O(l)'], ['H+(aq)', 'Na2O(s)', 'e-']))"
   ]
  },
  {
   "cell_type": "code",
   "execution_count": null,
   "metadata": {},
   "outputs": [],
   "source": [
    "for c in candidates:\n",
    "    products = []\n",
    "    cand = thermo.loc[c, 'formula']\n",
    "    if cand not in ['Na', 'H2O']:\n",
    "        "
   ]
  }
 ],
 "metadata": {
  "file_extension": ".py",
  "kernelspec": {
   "display_name": "Python 3",
   "language": "python",
   "name": "python3"
  },
  "language_info": {
   "codemirror_mode": {
    "name": "ipython",
    "version": 3
   },
   "file_extension": ".py",
   "mimetype": "text/x-python",
   "name": "python",
   "nbconvert_exporter": "python",
   "pygments_lexer": "ipython3",
   "version": "3.7.3"
  },
  "mimetype": "text/x-python",
  "name": "python",
  "npconvert_exporter": "python",
  "pygments_lexer": "ipython3",
  "version": 3
 },
 "nbformat": 4,
 "nbformat_minor": 2
}
