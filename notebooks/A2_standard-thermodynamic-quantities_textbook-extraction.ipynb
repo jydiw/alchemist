{
 "nbformat": 4,
 "nbformat_minor": 2,
 "metadata": {
  "language_info": {
   "name": "python",
   "codemirror_mode": {
    "name": "ipython",
    "version": 3
   },
   "version": "3.7.3"
  },
  "orig_nbformat": 2,
  "file_extension": ".py",
  "mimetype": "text/x-python",
  "name": "python",
  "npconvert_exporter": "python",
  "pygments_lexer": "ipython3",
  "version": 3
 },
 "cells": [
  {
   "cell_type": "markdown",
   "execution_count": null,
   "metadata": {},
   "outputs": [],
   "source": [
    "# Standard Thermodynamic Quantities"
   ]
  },
  {
   "cell_type": "code",
   "execution_count": 1,
   "metadata": {},
   "outputs": [],
   "source": [
    "import os                               \n",
    "import re                   \n",
    "import time                 # to stall requests (just in case)\n",
    "\n",
    "import pandas as pd \n",
    "import chemdataextractor as cde     # chemistry parser\n",
    "\n",
    "from nltk.corpus import stopwords\n",
    "from nltk.tokenize import word_tokenize, sent_tokenize\n",
    "\n",
    "import tika                 # to initiate tika server\n",
    "from tika import parser     # the specific parser method      \n",
    "\n",
    "pd.set_option('display.max_colwidth', 0)    # no max column width\n",
    "pd.set_option('display.max_rows', 150)"
   ]
  },
  {
   "cell_type": "code",
   "execution_count": null,
   "metadata": {},
   "outputs": [],
   "source": []
  }
 ]
}