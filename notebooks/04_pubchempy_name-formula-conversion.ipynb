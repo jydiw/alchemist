{
 "cells": [
  {
   "cell_type": "code",
   "execution_count": 21,
   "metadata": {},
   "outputs": [],
   "source": [
    "import re\n",
    "import pickle\n",
    "import pubchempy as pcp\n",
    "import pandas as pd\n",
    "import numpy as np\n",
    "import itertools\n",
    "import operator\n",
    "\n",
    "from chempy import balance_stoichiometry\n",
    "from chempy import Substance\n",
    "from chempy import Reaction\n",
    "from chempy.util import periodic"
   ]
  },
  {
   "cell_type": "code",
   "execution_count": 80,
   "metadata": {},
   "outputs": [],
   "source": [
    "stoich_df = pickle.load(open('../data/processed/stoich_df.p', 'rb'))\n",
    "thermo_df = pickle.load(open('../data/processed/thermo_df.p', 'rb'))"
   ]
  },
  {
   "cell_type": "markdown",
   "metadata": {},
   "source": [
    "## pubchempy"
   ]
  },
  {
   "cell_type": "code",
   "execution_count": 81,
   "metadata": {},
   "outputs": [],
   "source": [
    "def get_gibbs(formula, df=False):     \n",
    "    '''\n",
    "    Retrieves the free energy value, in J, of a single substance\n",
    "    \n",
    "    --Parameters--\n",
    "    formula:        str\n",
    "        a string of a single chemical formula\n",
    "    \n",
    "    --Output--\n",
    "    list (float)    \n",
    "        \n",
    "    --Examples--\n",
    "    >>> get_gibbs('NaCl(aq)')\n",
    "    array([-388735.44])\n",
    "    '''\n",
    "    if (thermo_df['formula'] == formula).max():\n",
    "        matches = thermo_df[thermo_df['formula'] == formula]\n",
    "    else:\n",
    "        matches = thermo_df[thermo_df['formula'].map(\n",
    "            lambda x: x[:len(formula)] == formula)]\n",
    "        matches = matches[matches['formula'].map(\n",
    "            formula_state_separator) == formula]\n",
    "        \n",
    "    if df:\n",
    "        return matches\n",
    "    else:\n",
    "        return list(matches['G'])"
   ]
  },
  {
   "cell_type": "code",
   "execution_count": 82,
   "metadata": {},
   "outputs": [],
   "source": [
    "def state_predictor(formula):\n",
    "    df = get_gibbs(formula, df=True)\n",
    "    return list(df.sort_values(by='G')['formula'])[0]"
   ]
  },
  {
   "cell_type": "code",
   "execution_count": 83,
   "metadata": {},
   "outputs": [],
   "source": [
    "def formula_state_separator(formula, keep_state=False):\n",
    "    '''\n",
    "    Separates the state from a formula string.\n",
    "    \n",
    "    --Parameters--\n",
    "    formula:        str\n",
    "        a string of a single chemical formula\n",
    "    \n",
    "    --Output--\n",
    "    tuple (str)\n",
    "        \n",
    "    --Examples--\n",
    "    >>> formula_state_separator('NaCl(aq)')\n",
    "    ('NaCl', 'aq')\n",
    "    \n",
    "    >>> formula_state_separator('NaCl')\n",
    "    'NaCl'\n",
    "    '''\n",
    "    try:\n",
    "        regex = re.search('(?<=\\()[aglsq]+', formula)\n",
    "        formula = formula[:regex.start() - 1]\n",
    "        if keep_state:\n",
    "            state = regex.group(0)\n",
    "            return formula, state\n",
    "        else:\n",
    "            return formula\n",
    "    except:\n",
    "        return formula"
   ]
  },
  {
   "cell_type": "code",
   "execution_count": 84,
   "metadata": {},
   "outputs": [],
   "source": [
    "def Z_unique(substances):\n",
    "    '''\n",
    "    Returns a set representing unique atomic numbers present within a list of\n",
    "    chemical formulas.\n",
    "    \n",
    "    --Parameters--\n",
    "    substances:     iterable (str)\n",
    "        any iterable containing strings with valid chemical formulas\n",
    "    \n",
    "    --Output--\n",
    "    set (int)\n",
    "        atomic numbers of each unique element present in substances\n",
    "        \n",
    "    --Example--\n",
    "    >>> Z_unique(['CH4', 'H2O'])\n",
    "    {1, 6, 8}\n",
    "    '''\n",
    "    if type(substances) == str:\n",
    "        substances = [substances]\n",
    "    \n",
    "    composition = []\n",
    "    for s in substances:\n",
    "        sub = Substance.from_formula(s)\n",
    "        composition += [*sub.composition]\n",
    "    return set(composition)"
   ]
  },
  {
   "cell_type": "code",
   "execution_count": 85,
   "metadata": {},
   "outputs": [
    {
     "data": {
      "text/plain": [
       "[11, 17]"
      ]
     },
     "execution_count": 85,
     "metadata": {},
     "output_type": "execute_result"
    }
   ],
   "source": [
    "list(Substance.from_formula('NaCl(aq)').composition.keys())"
   ]
  },
  {
   "cell_type": "code",
   "execution_count": 86,
   "metadata": {},
   "outputs": [],
   "source": [
    "def stoich_filter(substances, df=False, thorough=False, exact=False):\n",
    "    '''\n",
    "    Returns a masked copy of the stoich dataframe containing elements that\n",
    "    only contain the elements present in substances. \n",
    "    \n",
    "    --Parameters--\n",
    "    substances:     iterable (str)\n",
    "        any iterable containing strings with valid chemical formulas\n",
    "    \n",
    "    --Output--\n",
    "    DataFrame\n",
    "    '''\n",
    "    if type(substances) == str:\n",
    "        substances = [substances]\n",
    "    \n",
    "    stoich_temp = stoich_df.copy()\n",
    "    \n",
    "    # mask to keep the charge and formula columns in final dataframe\n",
    "    z_keep = [0, 'formula'] + list(Z_unique(substances))\n",
    "    \n",
    "    # get all other columns\n",
    "    column_mask = [col for col in stoich_temp.columns if col not in z_keep]\n",
    "    for col in column_mask:\n",
    "        # return the dataframe where these columns are all 0\n",
    "        stoich_temp = stoich_temp[stoich_temp[col] == 0]\n",
    "    \n",
    "    # keep the columns where it's not all zero\n",
    "    stoich_temp = stoich_temp.loc[(stoich_temp.drop(columns=['formula'])!=0).any(axis=1)]\n",
    "    \n",
    "    if exact:\n",
    "        thorough = True\n",
    "        substance = Substance.from_formula(substances[0])\n",
    "        composition = substance.composition\n",
    "        for z in list(composition.keys()):\n",
    "            stoich_temp = stoich_temp[stoich_temp[z] == composition[z]]\n",
    "    \n",
    "    # return the dataframe with the columns we want to keep\n",
    "    if df:\n",
    "        return stoich_temp[z_keep]\n",
    "    else:\n",
    "        stoich_list = list(stoich_temp['formula'])\n",
    "        if thorough:\n",
    "            return [f for f in stoich_list]\n",
    "        else:\n",
    "            stoich_list = [formula_state_separator(f) for f in stoich_list]\n",
    "            substances = [formula_state_separator(s) for s in substances]\n",
    "            return [state_predictor(f) for f in stoich_list if f not in substances]"
   ]
  },
  {
   "cell_type": "code",
   "execution_count": 87,
   "metadata": {},
   "outputs": [
    {
     "data": {
      "text/plain": [
       "['CO2(aq)', 'CO2(g)']"
      ]
     },
     "execution_count": 87,
     "metadata": {},
     "output_type": "execute_result"
    }
   ],
   "source": [
    "stoich_filter('CO2(g)', exact=True)"
   ]
  },
  {
   "cell_type": "code",
   "execution_count": 88,
   "metadata": {},
   "outputs": [
    {
     "data": {
      "text/plain": [
       "['NaCl(s)', 'NaCl(aq)']"
      ]
     },
     "execution_count": 88,
     "metadata": {},
     "output_type": "execute_result"
    }
   ],
   "source": [
    "stoich_filter('ClNa', exact=True)"
   ]
  },
  {
   "cell_type": "code",
   "execution_count": 89,
   "metadata": {},
   "outputs": [],
   "source": [
    "# https://stackoverflow.com/questions/1518522/\n",
    "\n",
    "def most_common(L):\n",
    "  # get an iterable of (item, iterable) pairs\n",
    "  SL = sorted((x, i) for i, x in enumerate(L))\n",
    "  # print 'SL:', SL\n",
    "  groups = itertools.groupby(SL, key=operator.itemgetter(0))\n",
    "  # auxiliary function to get \"quality\" for an item\n",
    "  def _auxfun(g):\n",
    "    item, iterable = g\n",
    "    count = 0\n",
    "    min_index = len(L)\n",
    "    for _, where in iterable:\n",
    "      count += 1\n",
    "      min_index = min(min_index, where)\n",
    "    # print 'item %r, count %r, minind %r' % (item, count, min_index)\n",
    "    return count, -min_index\n",
    "  # pick the highest-count/earliest item\n",
    "  return max(groups, key=_auxfun)[0]"
   ]
  },
  {
   "cell_type": "code",
   "execution_count": 90,
   "metadata": {},
   "outputs": [
    {
     "data": {
      "text/html": [
       "<div>\n",
       "<style scoped>\n",
       "    .dataframe tbody tr th:only-of-type {\n",
       "        vertical-align: middle;\n",
       "    }\n",
       "\n",
       "    .dataframe tbody tr th {\n",
       "        vertical-align: top;\n",
       "    }\n",
       "\n",
       "    .dataframe thead th {\n",
       "        text-align: right;\n",
       "    }\n",
       "</style>\n",
       "<table border=\"1\" class=\"dataframe\">\n",
       "  <thead>\n",
       "    <tr style=\"text-align: right;\">\n",
       "      <th></th>\n",
       "      <th>formula</th>\n",
       "      <th>0</th>\n",
       "      <th>1</th>\n",
       "      <th>2</th>\n",
       "      <th>3</th>\n",
       "      <th>4</th>\n",
       "      <th>5</th>\n",
       "      <th>6</th>\n",
       "      <th>7</th>\n",
       "      <th>8</th>\n",
       "      <th>...</th>\n",
       "      <th>80</th>\n",
       "      <th>81</th>\n",
       "      <th>82</th>\n",
       "      <th>83</th>\n",
       "      <th>86</th>\n",
       "      <th>87</th>\n",
       "      <th>88</th>\n",
       "      <th>90</th>\n",
       "      <th>91</th>\n",
       "      <th>92</th>\n",
       "    </tr>\n",
       "  </thead>\n",
       "  <tbody>\n",
       "    <tr>\n",
       "      <th>1574</th>\n",
       "      <td>CH3OCH3(g)</td>\n",
       "      <td>0.0</td>\n",
       "      <td>6.0</td>\n",
       "      <td>0.0</td>\n",
       "      <td>0.0</td>\n",
       "      <td>0.0</td>\n",
       "      <td>0.0</td>\n",
       "      <td>2.0</td>\n",
       "      <td>0.0</td>\n",
       "      <td>1.0</td>\n",
       "      <td>...</td>\n",
       "      <td>0.0</td>\n",
       "      <td>0.0</td>\n",
       "      <td>0.0</td>\n",
       "      <td>0.0</td>\n",
       "      <td>0.0</td>\n",
       "      <td>0.0</td>\n",
       "      <td>0.0</td>\n",
       "      <td>0.0</td>\n",
       "      <td>0.0</td>\n",
       "      <td>0.0</td>\n",
       "    </tr>\n",
       "  </tbody>\n",
       "</table>\n",
       "<p>1 rows × 87 columns</p>\n",
       "</div>"
      ],
      "text/plain": [
       "         formula    0    1    2    3    4    5    6    7    8  ...   80   81  \\\n",
       "1574  CH3OCH3(g)  0.0  6.0  0.0  0.0  0.0  0.0  2.0  0.0  1.0  ...  0.0  0.0   \n",
       "\n",
       "       82   83   86   87   88   90   91   92  \n",
       "1574  0.0  0.0  0.0  0.0  0.0  0.0  0.0  0.0  \n",
       "\n",
       "[1 rows x 87 columns]"
      ]
     },
     "execution_count": 90,
     "metadata": {},
     "output_type": "execute_result"
    }
   ],
   "source": [
    "stoich_df[stoich_df['formula'] == 'CH3OCH3(g)']"
   ]
  },
  {
   "cell_type": "code",
   "execution_count": 91,
   "metadata": {},
   "outputs": [],
   "source": [
    "# there has to be a better way\n",
    "# https://stackoverflow.com/questions/1518522/\n",
    "\n",
    "def formula_rearranger(formula):\n",
    "    if formula in list(thermo_df['formula']):\n",
    "        return formula\n",
    "    elif formula in list(thermo_df['abbrv']):\n",
    "        return formula\n",
    "    elif formula in list(thermo_df['formula'].apply(formula_state_separator)):\n",
    "        return formula\n",
    "    else:\n",
    "        formulas = stoich_filter(formula, exact=True)\n",
    "        formulas = [formula_state_separator(f) for f in formulas]\n",
    "        return most_common(formulas)"
   ]
  },
  {
   "cell_type": "code",
   "execution_count": 92,
   "metadata": {},
   "outputs": [
    {
     "data": {
      "text/plain": [
       "'BaSO4'"
      ]
     },
     "execution_count": 92,
     "metadata": {},
     "output_type": "execute_result"
    }
   ],
   "source": [
    "formula_rearranger('BaO4S')"
   ]
  },
  {
   "cell_type": "code",
   "execution_count": 93,
   "metadata": {},
   "outputs": [],
   "source": [
    "def formula_from_name(name):\n",
    "    names = list(thermo_df['name'])\n",
    "    nicknames = list(thermo_df['abbrv'])\n",
    "    \n",
    "    target = []\n",
    "    for n in names:\n",
    "        try:\n",
    "            if name in n:\n",
    "                target.append(n)\n",
    "        except:\n",
    "            for nn in nicknames:\n",
    "                try:\n",
    "                    if name in nn:\n",
    "                        target.append\n",
    "                except:\n",
    "                    pass\n",
    "    \n",
    "    formulas = pcp.get_compounds(name, 'name', listkey_count=1)\n",
    "    formula = formulas[0].molecular_formula\n",
    "    formula = formula_rearranger(formula)\n",
    "    return formula"
   ]
  },
  {
   "cell_type": "code",
   "execution_count": 94,
   "metadata": {},
   "outputs": [
    {
     "data": {
      "text/plain": [
       "'C2H5OH'"
      ]
     },
     "execution_count": 94,
     "metadata": {},
     "output_type": "execute_result"
    }
   ],
   "source": [
    "formula_from_name('dimethyl ether')"
   ]
  },
  {
   "cell_type": "markdown",
   "metadata": {},
   "source": [
    "## going from sentence -> formula"
   ]
  },
  {
   "cell_type": "code",
   "execution_count": 95,
   "metadata": {},
   "outputs": [],
   "source": [
    "import chemdataextractor as cde"
   ]
  },
  {
   "cell_type": "code",
   "execution_count": 96,
   "metadata": {},
   "outputs": [],
   "source": [
    "sentence = 'ethane reacts with oxygen to make carbon dioxide and water'"
   ]
  },
  {
   "cell_type": "code",
   "execution_count": 97,
   "metadata": {},
   "outputs": [],
   "source": [
    "processed = cde.doc.Paragraph(sentence)"
   ]
  },
  {
   "cell_type": "code",
   "execution_count": 104,
   "metadata": {},
   "outputs": [
    {
     "name": "stdout",
     "output_type": "stream",
     "text": [
      "True\n"
     ]
    }
   ],
   "source": [
    "if 'water' in processed.raw_tokens[0]:\n",
    "    print(True)"
   ]
  },
  {
   "cell_type": "code",
   "execution_count": 107,
   "metadata": {
    "scrolled": true
   },
   "outputs": [
    {
     "data": {
      "text/plain": [
       "['C2H6', 'O2', 'CO2']"
      ]
     },
     "execution_count": 107,
     "metadata": {},
     "output_type": "execute_result"
    }
   ],
   "source": [
    "[formula_from_name(cem.text) for cem in processed.cems]"
   ]
  },
  {
   "cell_type": "code",
   "execution_count": 108,
   "metadata": {},
   "outputs": [
    {
     "data": {
      "text/plain": [
       "'H2O'"
      ]
     },
     "execution_count": 108,
     "metadata": {},
     "output_type": "execute_result"
    }
   ],
   "source": [
    "formula_from_name('water')"
   ]
  },
  {
   "cell_type": "markdown",
   "metadata": {},
   "source": [
    "## attempts at decoding names"
   ]
  },
  {
   "cell_type": "code",
   "execution_count": 63,
   "metadata": {},
   "outputs": [],
   "source": [
    "def anion_namer(anion):\n",
    "    anion = anion.lower()\n",
    "    if anion[-3:] == 'ide':\n",
    "        stem = anion[:-3]\n",
    "        for element in periodic.lower_names:\n",
    "            if stem in element:\n",
    "                return element\n",
    "    else:\n",
    "        return anion"
   ]
  },
  {
   "cell_type": "code",
   "execution_count": 64,
   "metadata": {},
   "outputs": [],
   "source": [
    "def unprefixer(name):\n",
    "    \n",
    "    prefixes = {\n",
    "        'mono': 1,\n",
    "        'di': 2,\n",
    "        'tri': 3,\n",
    "        'tetra': 4,\n",
    "        'penta': 5,\n",
    "        'hexa': 6,\n",
    "        'hepta': 7,\n",
    "        'octa': 8,\n",
    "        'nona': 9,\n",
    "        'deca': 10\n",
    "    }\n",
    "    \n",
    "    num = 1\n",
    "    name = name\n",
    "    \n",
    "    for prefix in prefixes.keys():\n",
    "        p = len(prefix)\n",
    "        o = p - 1\n",
    "        if prefix == name[:p]:\n",
    "            num = prefixes[prefix]\n",
    "            name = name[p:]\n",
    "        elif prefix[:-1] == name[:o]:\n",
    "            num = prefixes[prefix]\n",
    "            name = name[o:]\n",
    "        \n",
    "#     return str(num), str(element_symbolizer(anion_formulizer(name)))\n",
    "    return anion_namer(name), num"
   ]
  },
  {
   "cell_type": "code",
   "execution_count": 65,
   "metadata": {},
   "outputs": [
    {
     "data": {
      "text/plain": [
       "('chlorine', 2)"
      ]
     },
     "execution_count": 65,
     "metadata": {},
     "output_type": "execute_result"
    }
   ],
   "source": [
    "unprefixer('dichloride')"
   ]
  },
  {
   "cell_type": "code",
   "execution_count": 66,
   "metadata": {},
   "outputs": [],
   "source": [
    "def atomic_indexer(element, Z=False):\n",
    "    if len(element) > 2:\n",
    "        an = periodic.lower_names.index(element.lower()) + int(Z)\n",
    "    else:\n",
    "        try:\n",
    "            an = periodic.symbols.index(element) + int(Z)\n",
    "        except:\n",
    "            an = np.nan\n",
    "    return an"
   ]
  },
  {
   "cell_type": "code",
   "execution_count": 67,
   "metadata": {},
   "outputs": [
    {
     "data": {
      "text/plain": [
       "17"
      ]
     },
     "execution_count": 67,
     "metadata": {},
     "output_type": "execute_result"
    }
   ],
   "source": [
    "atomic_indexer('Chlorine', Z=True)"
   ]
  },
  {
   "cell_type": "code",
   "execution_count": 68,
   "metadata": {},
   "outputs": [
    {
     "data": {
      "text/plain": [
       "16"
      ]
     },
     "execution_count": 68,
     "metadata": {},
     "output_type": "execute_result"
    }
   ],
   "source": [
    "periodic.symbols.index('Cl')"
   ]
  },
  {
   "cell_type": "code",
   "execution_count": 69,
   "metadata": {},
   "outputs": [],
   "source": [
    "# https://www.meta-synthesis.com/webbook/37_ak/triangles.html\n",
    "\n",
    "def is_ionic(an1, an2, m=0.4):\n",
    "    \n",
    "    en1 = electronegativities[an1 - 1]\n",
    "    en2 = electronegativities[an2 - 1]\n",
    "    \n",
    "    en_mean = np.mean((en1, en2))\n",
    "    en_diff = (en1 - en2)\n",
    "    \n",
    "    if (en_diff >= (4.4 - 2*en_mean)) and (en_diff >= (-3.2 + 2*en_mean)):\n",
    "        return True\n",
    "    elif (en_diff >= (4.6 - m - 2*en_mean)) and (en_diff >= (-3 - m + 2*en_mean)):\n",
    "        return 'Intermediate'\n",
    "    else:\n",
    "        return False"
   ]
  },
  {
   "cell_type": "code",
   "execution_count": 70,
   "metadata": {},
   "outputs": [],
   "source": [
    "def binary_formulizer(n):\n",
    "    names = n.split()\n",
    "    comp = {}\n",
    "    for n in names:\n",
    "        name, num = unprefixer(n)\n",
    "        Z = atomic_indexer(name, Z=True)\n",
    "        comp[Z] = num\n",
    "    formula = ''\n",
    "    for z in [*comp]:\n",
    "        formula += periodic.symbols[z - 1]\n",
    "        if comp[z] != 1:\n",
    "            formula += str(comp[z])\n",
    "            \n",
    "    return Substance.from_formula(formula)"
   ]
  },
  {
   "cell_type": "code",
   "execution_count": 71,
   "metadata": {},
   "outputs": [],
   "source": [
    "electronegativities = (np.nan,\n",
    "    2.2, np.nan, 0.98, 1.57, 2.04, 2.55, 3.04, 3.44, 3.98, np.nan, 0.93, 1.31,\n",
    "    1.61,1.9, 2.19, 2.58, 3.16, np.nan, 0.82, 1.0, 1.36, 1.54, 1.63, 1.66,\n",
    "    1.55, 1.83,1.88, 1.91, 1.9, 1.65, 1.81, 2.01, 2.18, 2.55, 2.96, 3.0, 0.82,\n",
    "    0.95, 1.22, 1.33, 1.6, 2.16, 1.9, 2.2, 2.28, 2.2, 1.93, 1.69, 1.78, 1.96,\n",
    "    2.05, 2.1, 2.66, 2.6, 0.79, 0.89, 1.1, 1.12, 1.13, 1.14, 1.13, 1.17, 1.2,\n",
    "    1.2, 1.2, 1.22, 1.23, 1.24, 1.25, 1.1, 1.27, 1.3, 1.5, 2.36, 1.9, 2.2, 2.2,\n",
    "    2.28, 2.54, 2.0, 1.62, 1.87, 2.02, 2.0, 2.2, 2.2, 0.7, 0.9, 1.1, 1.3, 1.5,\n",
    "    1.38, 1.36, 1.28, 1.13, 1.28, 1.3, 1.3, 1.3, 1.3, 1.3, 1.3, 1.3, np.nan,\n",
    "    np.nan, np.nan, np.nan, np.nan, np.nan, np.nan, np.nan, np.nan, np.nan,\n",
    "    np.nan, np.nan, np.nan, np.nan, np.nan\n",
    ")"
   ]
  },
  {
   "cell_type": "code",
   "execution_count": 72,
   "metadata": {},
   "outputs": [],
   "source": [
    "groups_cas = ((np.nan, ''),\n",
    "    (1,'A'), (8,'A'), (1,'A'), (2,'A'), (3,'A'), (4,'A'), (5,'A'), (6,'A'),\n",
    "    (7,'A'), (8,'A'), (1,'A'), (2,'A'), (3,'A'), (4,'A'), (5,'A'), (6,'A'),\n",
    "    (7,'A'), (8,'A'), (1,'A'), (2,'A'), (3,'B'), (4,'B'), (5,'B'), (6,'B'),\n",
    "    (7,'B'), (8,'B'), (8,'B'), (8,'B'), (1,'B'), (2,'B'), (3,'A'), (4,'A'),\n",
    "    (5,'A'), (6,'A'), (7,'A'), (8,'A'), (1,'A'), (2,'A'), (3,'B'), (4,'B'),\n",
    "    (5,'B'), (6,'B'), (7,'B'), (8,'B'), (8,'B'), (8,'B'), (1,'B'), (2,'B'),\n",
    "    (3,'A'), (4,'A'), (5,'A'), (6,'A'), (7,'A'), (8,'A'), (1,'A'), (2,'A'),\n",
    "    (3,'B'), np.nan, np.nan, np.nan, np.nan, np.nan, np.nan, np.nan, np.nan,\n",
    "    np.nan, np.nan, np.nan, np.nan, np.nan, np.nan, (4,'B'), (5,'B'), (6,'B'),\n",
    "    (7,'B'), (8,'B'), (8,'B'), (8,'B'), (1,'B'), (2,'B'), (3,'A'), (4,'A'),\n",
    "    (5,'A'), (6,'A'), (7,'A'), (8,'A'), (1,'A'), (2,'A'), (3,'B'), np.nan,\n",
    "    np.nan, np.nan, np.nan, np.nan, np.nan, np.nan, np.nan, np.nan, np.nan,\n",
    "    np.nan, np.nan, np.nan, np.nan, (4,'B'), (5,'B'), (6,'B'), (7,'B'),\n",
    "    (8,'B'), (8,'B'), (8,'B'), (1,'B'), (2,'B'), (3,'A'), (4,'A'), (5,'A'),\n",
    "    (6,'A'), (7,'A'), (8,'A')\n",
    ")"
   ]
  },
  {
   "cell_type": "code",
   "execution_count": 55,
   "metadata": {},
   "outputs": [],
   "source": [
    "    #     # list the electronegativities for each element\n",
    "    #     ens = [electronegativities[z] for z in elems]\n",
    "\n",
    "    #     # ens.index(max(ens)) gets the index of the element with the max EN\n",
    "    #     zmax = elems[ens.index(max(ens))]\n",
    "\n",
    "    #     num_zmax = substance.composition[zmax]\n",
    "\n",
    "    #     # works for main-group elements. fix later\n",
    "    #     onmax = groups_cas[zmax][0] - 8\n",
    "\n",
    "    #     # assign value in dictionary\n",
    "    #     ons[zmax] = onmax\n",
    "\n",
    "    #     zmin = elems[ens.index(min(ens))]\n",
    "    #     num_zmin = substance.composition[zmin]\n",
    "    #     onmin = groups_cas[zmin][0]\n",
    "    #     ons[zmin] = onmin\n",
    "\n",
    "    # pos = num_zmin * onmin\n",
    "    # neg = num_zmax * onmax"
   ]
  },
  {
   "cell_type": "code",
   "execution_count": 74,
   "metadata": {},
   "outputs": [],
   "source": [
    "def oxidation_numberer(substance):\n",
    "    # in the future, implement SMILES to calculate ON most accurately\n",
    "\n",
    "    # list of all elements present\n",
    "    elems, num_elems = zip(*substance.composition.items())\n",
    "    elems = [e for e in elems if e > 0]\n",
    "    \n",
    "    try:\n",
    "        # 0 is placeholder for charge in substance dictionary\n",
    "        charge = substance.composition[0]\n",
    "    except:\n",
    "        charge = 0\n",
    "    \n",
    "    # eventually return a dictionary that lists the oxidation numbers\n",
    "    ons = {}\n",
    "    \n",
    "\n",
    "    # ON is 0 if there is only one type of element\n",
    "    if len(elems) == 1:\n",
    "        return {elems[0]: charge / num_elems[0]}\n",
    "    \n",
    "    # else:\n",
    "    #     if 9 in elems:\n",
    "    #         ons[9] = -1\n",
    "        \n",
    "\n",
    "\n",
    "    while charge != pos + neg:\n",
    "        print('will finish later')\n",
    "        break\n",
    "    return ons"
   ]
  },
  {
   "cell_type": "code",
   "execution_count": 75,
   "metadata": {},
   "outputs": [],
   "source": [
    "tri53 = Substance.from_formula('I3-')"
   ]
  },
  {
   "cell_type": "code",
   "execution_count": 76,
   "metadata": {},
   "outputs": [
    {
     "ename": "NameError",
     "evalue": "name 'pos' is not defined",
     "output_type": "error",
     "traceback": [
      "\u001b[0;31m---------------------------------------------------------------------------\u001b[0m",
      "\u001b[0;31mNameError\u001b[0m                                 Traceback (most recent call last)",
      "\u001b[0;32m<ipython-input-76-d8c89aeecdb6>\u001b[0m in \u001b[0;36m<module>\u001b[0;34m\u001b[0m\n\u001b[0;32m----> 1\u001b[0;31m \u001b[0moxidation_numberer\u001b[0m\u001b[0;34m(\u001b[0m\u001b[0mSubstance\u001b[0m\u001b[0;34m.\u001b[0m\u001b[0mfrom_formula\u001b[0m\u001b[0;34m(\u001b[0m\u001b[0;34m'H2CO3'\u001b[0m\u001b[0;34m)\u001b[0m\u001b[0;34m)\u001b[0m\u001b[0;34m\u001b[0m\u001b[0;34m\u001b[0m\u001b[0m\n\u001b[0m",
      "\u001b[0;32m<ipython-input-74-a1f1864308b5>\u001b[0m in \u001b[0;36moxidation_numberer\u001b[0;34m(substance)\u001b[0m\n\u001b[1;32m     26\u001b[0m \u001b[0;34m\u001b[0m\u001b[0m\n\u001b[1;32m     27\u001b[0m \u001b[0;34m\u001b[0m\u001b[0m\n\u001b[0;32m---> 28\u001b[0;31m     \u001b[0;32mwhile\u001b[0m \u001b[0mcharge\u001b[0m \u001b[0;34m!=\u001b[0m \u001b[0mpos\u001b[0m \u001b[0;34m+\u001b[0m \u001b[0mneg\u001b[0m\u001b[0;34m:\u001b[0m\u001b[0;34m\u001b[0m\u001b[0;34m\u001b[0m\u001b[0m\n\u001b[0m\u001b[1;32m     29\u001b[0m         \u001b[0mprint\u001b[0m\u001b[0;34m(\u001b[0m\u001b[0;34m'will finish later'\u001b[0m\u001b[0;34m)\u001b[0m\u001b[0;34m\u001b[0m\u001b[0;34m\u001b[0m\u001b[0m\n\u001b[1;32m     30\u001b[0m         \u001b[0;32mbreak\u001b[0m\u001b[0;34m\u001b[0m\u001b[0;34m\u001b[0m\u001b[0m\n",
      "\u001b[0;31mNameError\u001b[0m: name 'pos' is not defined"
     ]
    }
   ],
   "source": [
    "oxidation_numberer(Substance.from_formula('H2CO3'))"
   ]
  },
  {
   "cell_type": "code",
   "execution_count": 52,
   "metadata": {},
   "outputs": [
    {
     "data": {
      "text/html": [
       "XeF<sub>4</sub>"
      ],
      "text/plain": [
       "<Substance(name=XeF4, ...)>"
      ]
     },
     "execution_count": 52,
     "metadata": {},
     "output_type": "execute_result"
    }
   ],
   "source": [
    "XeF4 = binary_formulizer('xenon tetrafluoride')\n",
    "XeF4"
   ]
  },
  {
   "cell_type": "code",
   "execution_count": 46,
   "metadata": {},
   "outputs": [
    {
     "name": "stdout",
     "output_type": "stream",
     "text": [
      "[54, 9]\n",
      "[54, 9]\n"
     ]
    }
   ],
   "source": [
    "print(list(XeF4.composition.keys()))\n",
    "print([*XeF4.composition])"
   ]
  },
  {
   "cell_type": "code",
   "execution_count": 47,
   "metadata": {},
   "outputs": [
    {
     "data": {
      "text/plain": [
       "207.286612652"
      ]
     },
     "execution_count": 47,
     "metadata": {},
     "output_type": "execute_result"
    }
   ],
   "source": [
    "XeF4.mass"
   ]
  }
 ],
 "metadata": {
  "kernelspec": {
   "display_name": "Python 3",
   "language": "python",
   "name": "python3"
  },
  "language_info": {
   "codemirror_mode": {
    "name": "ipython",
    "version": 3
   },
   "file_extension": ".py",
   "mimetype": "text/x-python",
   "name": "python",
   "nbconvert_exporter": "python",
   "pygments_lexer": "ipython3",
   "version": "3.7.3"
  }
 },
 "nbformat": 4,
 "nbformat_minor": 2
}
