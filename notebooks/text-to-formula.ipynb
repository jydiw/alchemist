{
 "cells": [
  {
   "cell_type": "code",
   "execution_count": 1,
   "metadata": {},
   "outputs": [],
   "source": [
    "import re\n",
    "import pubchempy as pcp\n",
    "import pandas as pd\n",
    "import numpy as np\n",
    "\n",
    "from chempy import balance_stoichiometry\n",
    "from chempy import Substance\n",
    "from chempy import Reaction\n",
    "from chempy.util import periodic"
   ]
  },
  {
   "cell_type": "markdown",
   "metadata": {},
   "source": [
    "## straightforward equation balancer"
   ]
  },
  {
   "cell_type": "code",
   "execution_count": 2,
   "metadata": {},
   "outputs": [],
   "source": [
    "reactants = 'CH4 + O2'\n",
    "products = 'CO2 + H2O'"
   ]
  },
  {
   "cell_type": "code",
   "execution_count": 3,
   "metadata": {},
   "outputs": [],
   "source": [
    "def split(side):\n",
    "    side = re.split('[\\+\\,]+', side)\n",
    "    side = [s.strip() for s in side]\n",
    "    return side"
   ]
  },
  {
   "cell_type": "code",
   "execution_count": 4,
   "metadata": {},
   "outputs": [
    {
     "data": {
      "text/plain": "['CH4', 'O2']"
     },
     "execution_count": 4,
     "metadata": {},
     "output_type": "execute_result"
    }
   ],
   "source": [
    "split(reactants)"
   ]
  },
  {
   "cell_type": "code",
   "execution_count": 5,
   "metadata": {},
   "outputs": [],
   "source": [
    "output = Reaction(*balance_stoichiometry(split(reactants), split(products)))"
   ]
  },
  {
   "cell_type": "code",
   "execution_count": 6,
   "metadata": {},
   "outputs": [
    {
     "data": {
      "text/plain": "{'CH4', 'CO2', 'H2O', 'O2'}"
     },
     "execution_count": 6,
     "metadata": {},
     "output_type": "execute_result"
    }
   ],
   "source": [
    "keys = output.keys()\n",
    "keys"
   ]
  },
  {
   "cell_type": "code",
   "execution_count": 7,
   "metadata": {},
   "outputs": [
    {
     "data": {
      "text/plain": "{'H2O': <Substance(name=H2O, ...)>,\n 'CH4': <Substance(name=CH4, ...)>,\n 'CO2': <Substance(name=CO2, ...)>,\n 'O2': <Substance(name=O2, ...)>}"
     },
     "execution_count": 7,
     "metadata": {},
     "output_type": "execute_result"
    }
   ],
   "source": [
    "substances = {k: Substance.from_formula(k) for k in keys}\n",
    "substances"
   ]
  },
  {
   "cell_type": "code",
   "execution_count": 8,
   "metadata": {},
   "outputs": [
    {
     "data": {
      "text/plain": "'CH₄ + 2 O₂ → CO₂ + 2 H₂O'"
     },
     "execution_count": 8,
     "metadata": {},
     "output_type": "execute_result"
    }
   ],
   "source": [
    "output.unicode(substances)"
   ]
  },
  {
   "cell_type": "markdown",
   "metadata": {},
   "source": [
    "## pubchempy"
   ]
  },
  {
   "cell_type": "code",
   "execution_count": 9,
   "metadata": {},
   "outputs": [],
   "source": [
    "sulfate = Substance.from_formula('SO4-2')"
   ]
  },
  {
   "cell_type": "code",
   "execution_count": 10,
   "metadata": {},
   "outputs": [
    {
     "data": {
      "text/plain": "{16: 1, 8: 4, 0: -2}"
     },
     "execution_count": 10,
     "metadata": {},
     "output_type": "execute_result"
    }
   ],
   "source": [
    "sulfate.composition"
   ]
  },
  {
   "cell_type": "code",
   "execution_count": 11,
   "metadata": {},
   "outputs": [
    {
     "data": {
      "text/plain": "[16, 8, 0]"
     },
     "execution_count": 11,
     "metadata": {},
     "output_type": "execute_result"
    }
   ],
   "source": [
    "[*sulfate.composition]"
   ]
  },
  {
   "cell_type": "code",
   "execution_count": 12,
   "metadata": {},
   "outputs": [],
   "source": [
    "test_dict = {'sulfate': 'SO4-2'}"
   ]
  },
  {
   "cell_type": "code",
   "execution_count": 88,
   "metadata": {},
   "outputs": [],
   "source": [
    "cop = 'copper(I) sulfate'"
   ]
  },
  {
   "cell_type": "code",
   "execution_count": 89,
   "metadata": {},
   "outputs": [
    {
     "data": {
      "text/plain": "'Cu2O4S'"
     },
     "execution_count": 89,
     "metadata": {},
     "output_type": "execute_result"
    }
   ],
   "source": [
    "salt = pcp.get_compounds(cop, 'name', list_return='flat')\n",
    "salt[0].molecular_formula"
   ]
  },
  {
   "cell_type": "code",
   "execution_count": 15,
   "metadata": {},
   "outputs": [
    {
     "data": {
      "text/html": "BaO<sub>4</sub>S",
      "text/plain": "<Substance(name=BaO4S, ...)>"
     },
     "execution_count": 15,
     "metadata": {},
     "output_type": "execute_result"
    }
   ],
   "source": [
    "Substance.from_formula(salt[0].molecular_formula)"
   ]
  },
  {
   "cell_type": "markdown",
   "metadata": {},
   "source": [
    "## going from sentence -> formula"
   ]
  },
  {
   "cell_type": "code",
   "execution_count": 16,
   "metadata": {},
   "outputs": [],
   "source": [
    "import chemdataextractor as cde"
   ]
  },
  {
   "cell_type": "code",
   "execution_count": 90,
   "metadata": {},
   "outputs": [],
   "source": [
    "sentence = 'ethane reacts with oxygen to make carbon dioxide and water'"
   ]
  },
  {
   "cell_type": "code",
   "execution_count": 91,
   "metadata": {},
   "outputs": [],
   "source": [
    "processed = cde.doc.Paragraph(sentence)"
   ]
  },
  {
   "cell_type": "code",
   "execution_count": 92,
   "metadata": {},
   "outputs": [
    {
     "data": {
      "text/plain": "[['ethane',\n  'reacts',\n  'with',\n  'oxygen',\n  'to',\n  'make',\n  'carbon',\n  'dioxide',\n  'and',\n  'water']]"
     },
     "execution_count": 92,
     "metadata": {},
     "output_type": "execute_result"
    }
   ],
   "source": [
    "processed.raw_tokens"
   ]
  },
  {
   "cell_type": "code",
   "execution_count": 93,
   "metadata": {},
   "outputs": [
    {
     "data": {
      "text/plain": "[['NN', 'VBZ', 'IN', 'NN', 'TO', 'VB', 'NN', 'NN', 'CC', 'NN']]"
     },
     "execution_count": 93,
     "metadata": {},
     "output_type": "execute_result"
    }
   ],
   "source": [
    "processed.pos_tags"
   ]
  },
  {
   "cell_type": "code",
   "execution_count": 94,
   "metadata": {},
   "outputs": [
    {
     "data": {
      "text/plain": "[[('ethane', 'NN'),\n  ('reacts', 'VBZ'),\n  ('with', 'IN'),\n  ('oxygen', 'NN'),\n  ('to', 'TO'),\n  ('make', 'VB'),\n  ('carbon', 'NN'),\n  ('dioxide', 'NN'),\n  ('and', 'CC'),\n  ('water', 'NN')]]"
     },
     "execution_count": 94,
     "metadata": {},
     "output_type": "execute_result"
    }
   ],
   "source": [
    "processed.pos_tagged_tokens"
   ]
  },
  {
   "cell_type": "code",
   "execution_count": 95,
   "metadata": {},
   "outputs": [
    {
     "data": {
      "text/plain": "[Span('ethane', 0, 6), Span('oxygen', 19, 25), Span('carbon dioxide', 34, 48)]"
     },
     "execution_count": 95,
     "metadata": {},
     "output_type": "execute_result"
    }
   ],
   "source": [
    "processed.cems"
   ]
  },
  {
   "cell_type": "code",
   "execution_count": 96,
   "metadata": {},
   "outputs": [
    {
     "data": {
      "text/plain": "'ethane'"
     },
     "execution_count": 96,
     "metadata": {},
     "output_type": "execute_result"
    }
   ],
   "source": [
    "processed.cems[0].text"
   ]
  },
  {
   "cell_type": "code",
   "execution_count": 99,
   "metadata": {},
   "outputs": [],
   "source": [
    "def pcp_formula_namer(name):\n",
    "    temp = pcp.get_compounds(name, 'name', listkey_count=1)\n",
    "    return temp[0].molecular_formula"
   ]
  },
  {
   "cell_type": "code",
   "execution_count": 101,
   "metadata": {},
   "outputs": [
    {
     "data": {
      "text/plain": "'KMnO4'"
     },
     "execution_count": 101,
     "metadata": {},
     "output_type": "execute_result"
    }
   ],
   "source": [
    "pcp_formula_namer('potassium permanganate')"
   ]
  },
  {
   "cell_type": "markdown",
   "metadata": {},
   "source": [
    "## attempts at decoding names"
   ]
  },
  {
   "cell_type": "code",
   "execution_count": 24,
   "metadata": {},
   "outputs": [
    {
     "ename": "SyntaxError",
     "evalue": "unexpected EOF while parsing (<ipython-input-24-9d3a23448818>, line 2)",
     "output_type": "error",
     "traceback": [
      "\u001b[1;36m  File \u001b[1;32m\"<ipython-input-24-9d3a23448818>\"\u001b[1;36m, line \u001b[1;32m2\u001b[0m\n\u001b[1;33m    \u001b[0m\n\u001b[1;37m    ^\u001b[0m\n\u001b[1;31mSyntaxError\u001b[0m\u001b[1;31m:\u001b[0m unexpected EOF while parsing\n"
     ]
    }
   ],
   "source": [
    "def polyatomic_formulizer(ion):\n",
    "    "
   ]
  },
  {
   "cell_type": "code",
   "execution_count": null,
   "metadata": {},
   "outputs": [],
   "source": [
    "def anion_namer(anion):\n",
    "    anion = anion.lower()\n",
    "    if anion[-3:] == 'ide':\n",
    "        stem = anion[:-3]\n",
    "        for element in periodic.lower_names:\n",
    "            if stem in element:\n",
    "                return element\n",
    "    else:\n",
    "        return anion"
   ]
  },
  {
   "cell_type": "code",
   "execution_count": 27,
   "metadata": {},
   "outputs": [],
   "source": [
    "def unprefixer(name):\n",
    "    \n",
    "    prefixes = {\n",
    "        'mono': 1,\n",
    "        'di': 2,\n",
    "        'tri': 3,\n",
    "        'tetra': 4,\n",
    "        'penta': 5,\n",
    "        'hexa': 6,\n",
    "        'hepta': 7,\n",
    "        'octa': 8,\n",
    "        'nona': 9,\n",
    "        'deca': 10\n",
    "    }\n",
    "    \n",
    "    num = 1\n",
    "    name = name\n",
    "    \n",
    "    for prefix in prefixes.keys():\n",
    "        p = len(prefix)\n",
    "        o = p - 1\n",
    "        if prefix == name[:p]:\n",
    "            num = prefixes[prefix]\n",
    "            name = name[p:]\n",
    "        elif prefix[:-1] == name[:o]:\n",
    "            num = prefixes[prefix]\n",
    "            name = name[o:]\n",
    "        \n",
    "#     return str(num), str(element_symbolizer(anion_formulizer(name)))\n",
    "    return anion_namer(name), num"
   ]
  },
  {
   "cell_type": "code",
   "execution_count": 31,
   "metadata": {},
   "outputs": [
    {
     "data": {
      "text/plain": "('chlorine', 2)"
     },
     "execution_count": 31,
     "metadata": {},
     "output_type": "execute_result"
    }
   ],
   "source": [
    "unprefixer('dichloride')"
   ]
  },
  {
   "cell_type": "code",
   "execution_count": 32,
   "metadata": {},
   "outputs": [],
   "source": [
    "def atomic_indexer(element, Z=False):\n",
    "    if len(element) > 2:\n",
    "        an = periodic.lower_names.index(element.lower()) + int(Z)\n",
    "    else:\n",
    "        try:\n",
    "            an = periodic.symbols.index(element) + int(Z)\n",
    "        except:\n",
    "            an = np.nan\n",
    "    return an"
   ]
  },
  {
   "cell_type": "code",
   "execution_count": 33,
   "metadata": {},
   "outputs": [
    {
     "data": {
      "text/plain": "17"
     },
     "execution_count": 33,
     "metadata": {},
     "output_type": "execute_result"
    }
   ],
   "source": [
    "atomic_indexer('Chlorine', Z=True)"
   ]
  },
  {
   "cell_type": "code",
   "execution_count": 34,
   "metadata": {},
   "outputs": [
    {
     "data": {
      "text/plain": "16"
     },
     "execution_count": 34,
     "metadata": {},
     "output_type": "execute_result"
    }
   ],
   "source": [
    "periodic.symbols.index('Cl')"
   ]
  },
  {
   "cell_type": "code",
   "execution_count": 35,
   "metadata": {},
   "outputs": [],
   "source": [
    "# https://www.meta-synthesis.com/webbook/37_ak/triangles.html\n",
    "\n",
    "def is_ionic(an1, an2, m=0.4):\n",
    "    \n",
    "    en1 = electronegativities[an1 - 1]\n",
    "    en2 = electronegativities[an2 - 1]\n",
    "    \n",
    "    en_mean = np.mean((en1, en2))\n",
    "    en_diff = (en1 - en2)\n",
    "    \n",
    "    if (en_diff >= (4.4 - 2*en_mean)) and (en_diff >= (-3.2 + 2*en_mean)):\n",
    "        return True\n",
    "    elif (en_diff >= (4.6 - m - 2*en_mean)) and (en_diff >= (-3 - m + 2*en_mean)):\n",
    "        return 'Intermediate'\n",
    "    else:\n",
    "        return False"
   ]
  },
  {
   "cell_type": "code",
   "execution_count": 36,
   "metadata": {},
   "outputs": [],
   "source": [
    "def binary_formulizer(n):\n",
    "    names = n.split()\n",
    "    comp = {}\n",
    "    for n in names:\n",
    "        name, num = unprefixer(n)\n",
    "        Z = atomic_indexer(name, Z=True)\n",
    "        comp[Z] = num\n",
    "    formula = ''\n",
    "    for z in [*comp]:\n",
    "        formula += periodic.symbols[z - 1]\n",
    "        if comp[z] != 1:\n",
    "            formula += str(comp[z])\n",
    "            \n",
    "    return Substance.from_formula(formula)"
   ]
  },
  {
   "cell_type": "code",
   "execution_count": 37,
   "metadata": {},
   "outputs": [],
   "source": [
    "electronegativities = (np.nan,\n",
    "    2.2, np.nan, 0.98, 1.57, 2.04, 2.55, 3.04, 3.44, 3.98, np.nan, 0.93, 1.31,\n",
    "    1.61,1.9, 2.19, 2.58, 3.16, np.nan, 0.82, 1.0, 1.36, 1.54, 1.63, 1.66,\n",
    "    1.55, 1.83,1.88, 1.91, 1.9, 1.65, 1.81, 2.01, 2.18, 2.55, 2.96, 3.0, 0.82,\n",
    "    0.95, 1.22, 1.33, 1.6, 2.16, 1.9, 2.2, 2.28, 2.2, 1.93, 1.69, 1.78, 1.96,\n",
    "    2.05, 2.1, 2.66, 2.6, 0.79, 0.89, 1.1, 1.12, 1.13, 1.14, 1.13, 1.17, 1.2,\n",
    "    1.2, 1.2, 1.22, 1.23, 1.24, 1.25, 1.1, 1.27, 1.3, 1.5, 2.36, 1.9, 2.2, 2.2,\n",
    "    2.28, 2.54, 2.0, 1.62, 1.87, 2.02, 2.0, 2.2, 2.2, 0.7, 0.9, 1.1, 1.3, 1.5,\n",
    "    1.38, 1.36, 1.28, 1.13, 1.28, 1.3, 1.3, 1.3, 1.3, 1.3, 1.3, 1.3, np.nan,\n",
    "    np.nan, np.nan, np.nan, np.nan, np.nan, np.nan, np.nan, np.nan, np.nan,\n",
    "    np.nan, np.nan, np.nan, np.nan, np.nan\n",
    ")"
   ]
  },
  {
   "cell_type": "code",
   "execution_count": 38,
   "metadata": {},
   "outputs": [],
   "source": [
    "groups_cas = ((np.nan, ''),\n",
    "    (1,'A'), (8,'A'), (1,'A'), (2,'A'), (3,'A'), (4,'A'), (5,'A'), (6,'A'),\n",
    "    (7,'A'), (8,'A'), (1,'A'), (2,'A'), (3,'A'), (4,'A'), (5,'A'), (6,'A'),\n",
    "    (7,'A'), (8,'A'), (1,'A'), (2,'A'), (3,'B'), (4,'B'), (5,'B'), (6,'B'),\n",
    "    (7,'B'), (8,'B'), (8,'B'), (8,'B'), (1,'B'), (2,'B'), (3,'A'), (4,'A'),\n",
    "    (5,'A'), (6,'A'), (7,'A'), (8,'A'), (1,'A'), (2,'A'), (3,'B'), (4,'B'),\n",
    "    (5,'B'), (6,'B'), (7,'B'), (8,'B'), (8,'B'), (8,'B'), (1,'B'), (2,'B'),\n",
    "    (3,'A'), (4,'A'), (5,'A'), (6,'A'), (7,'A'), (8,'A'), (1,'A'), (2,'A'),\n",
    "    (3,'B'), np.nan, np.nan, np.nan, np.nan, np.nan, np.nan, np.nan, np.nan,\n",
    "    np.nan, np.nan, np.nan, np.nan, np.nan, np.nan, (4,'B'), (5,'B'), (6,'B'),\n",
    "    (7,'B'), (8,'B'), (8,'B'), (8,'B'), (1,'B'), (2,'B'), (3,'A'), (4,'A'),\n",
    "    (5,'A'), (6,'A'), (7,'A'), (8,'A'), (1,'A'), (2,'A'), (3,'B'), np.nan,\n",
    "    np.nan, np.nan, np.nan, np.nan, np.nan, np.nan, np.nan, np.nan, np.nan,\n",
    "    np.nan, np.nan, np.nan, np.nan, (4,'B'), (5,'B'), (6,'B'), (7,'B'),\n",
    "    (8,'B'), (8,'B'), (8,'B'), (1,'B'), (2,'B'), (3,'A'), (4,'A'), (5,'A'),\n",
    "    (6,'A'), (7,'A'), (8,'A')\n",
    ")"
   ]
  },
  {
   "cell_type": "code",
   "execution_count": 39,
   "metadata": {},
   "outputs": [
    {
     "data": {
      "text/plain": "16"
     },
     "execution_count": 39,
     "metadata": {},
     "output_type": "execute_result"
    }
   ],
   "source": [
    "ens = [electronegativities[z] for z in sulfate.composition.keys()]\n",
    "\n",
    "# ens.index(max(ens)) returns the index of the element with the highest en\n",
    "[*sulfate.composition][ens.index(min(ens))]"
   ]
  },
  {
   "cell_type": "code",
   "execution_count": 40,
   "metadata": {},
   "outputs": [
    {
     "data": {
      "text/plain": "-2"
     },
     "execution_count": 40,
     "metadata": {},
     "output_type": "execute_result"
    }
   ],
   "source": [
    "groups_cas[[*sulfate.composition][ens.index(max(ens))]][0] - 8"
   ]
  },
  {
   "cell_type": "code",
   "execution_count": 41,
   "metadata": {},
   "outputs": [
    {
     "data": {
      "text/plain": "4"
     },
     "execution_count": 41,
     "metadata": {},
     "output_type": "execute_result"
    }
   ],
   "source": [
    "sulfate.composition[8]"
   ]
  },
  {
   "cell_type": "code",
   "execution_count": 55,
   "metadata": {},
   "outputs": [],
   "source": [
    "    #     # list the electronegativities for each element\n",
    "    #     ens = [electronegativities[z] for z in elems]\n",
    "\n",
    "    #     # ens.index(max(ens)) gets the index of the element with the max EN\n",
    "    #     zmax = elems[ens.index(max(ens))]\n",
    "\n",
    "    #     num_zmax = substance.composition[zmax]\n",
    "\n",
    "    #     # works for main-group elements. fix later\n",
    "    #     onmax = groups_cas[zmax][0] - 8\n",
    "\n",
    "    #     # assign value in dictionary\n",
    "    #     ons[zmax] = onmax\n",
    "\n",
    "    #     zmin = elems[ens.index(min(ens))]\n",
    "    #     num_zmin = substance.composition[zmin]\n",
    "    #     onmin = groups_cas[zmin][0]\n",
    "    #     ons[zmin] = onmin\n",
    "\n",
    "    # pos = num_zmin * onmin\n",
    "    # neg = num_zmax * onmax"
   ]
  },
  {
   "cell_type": "code",
   "execution_count": 85,
   "metadata": {},
   "outputs": [],
   "source": [
    "def oxidation_numberer(substance):\n",
    "    # in the future, implement SMILES to calculate ON most accurately\n",
    "\n",
    "    # list of all elements present\n",
    "    elems, num_elems = zip(*substance.composition.items())\n",
    "    elems = [e for e in elems if e > 0]\n",
    "    \n",
    "    try:\n",
    "        # 0 is placeholder for charge in substance dictionary\n",
    "        charge = substance.composition[0]\n",
    "    except:\n",
    "        charge = 0\n",
    "    \n",
    "    # eventually return a dictionary that lists the oxidation numbers\n",
    "    ons = {}\n",
    "    \n",
    "\n",
    "    # ON is 0 if there is only one type of element\n",
    "    if len(elems) == 1:\n",
    "        return {elems[0]: charge / num_elems[0]}\n",
    "    \n",
    "    # else:\n",
    "    #     if 9 in elems:\n",
    "    #         ons[9] = -1\n",
    "        \n",
    "\n",
    "\n",
    "    while charge != pos + neg:\n",
    "        print('will finish later')\n",
    "        break\n",
    "    return ons"
   ]
  },
  {
   "cell_type": "code",
   "execution_count": 86,
   "metadata": {},
   "outputs": [],
   "source": [
    "tri53 = Substance.from_formula('I3-')"
   ]
  },
  {
   "cell_type": "code",
   "execution_count": 87,
   "metadata": {},
   "outputs": [
    {
     "data": {
      "text/plain": "{53: -0.3333333333333333}"
     },
     "execution_count": 87,
     "metadata": {},
     "output_type": "execute_result"
    }
   ],
   "source": [
    "oxidation_numberer(tri53)"
   ]
  },
  {
   "cell_type": "code",
   "execution_count": 52,
   "metadata": {},
   "outputs": [
    {
     "data": {
      "text/html": "XeF<sub>4</sub>",
      "text/plain": "<Substance(name=XeF4, ...)>"
     },
     "execution_count": 52,
     "metadata": {},
     "output_type": "execute_result"
    }
   ],
   "source": [
    "XeF4 = binary_formulizer('xenon tetrafluoride')\n",
    "XeF4"
   ]
  },
  {
   "cell_type": "code",
   "execution_count": 46,
   "metadata": {},
   "outputs": [
    {
     "name": "stdout",
     "output_type": "stream",
     "text": "[54, 9]\n[54, 9]\n"
    }
   ],
   "source": [
    "print(list(XeF4.composition.keys()))\n",
    "print([*XeF4.composition])"
   ]
  },
  {
   "cell_type": "code",
   "execution_count": 47,
   "metadata": {},
   "outputs": [
    {
     "data": {
      "text/plain": "207.286612652"
     },
     "execution_count": 47,
     "metadata": {},
     "output_type": "execute_result"
    }
   ],
   "source": [
    "XeF4.mass"
   ]
  }
 ],
 "metadata": {
  "kernelspec": {
   "display_name": "Python 3",
   "language": "python",
   "name": "python3"
  },
  "language_info": {
   "codemirror_mode": {
    "name": "ipython",
    "version": 3
   },
   "file_extension": ".py",
   "mimetype": "text/x-python",
   "name": "python",
   "nbconvert_exporter": "python",
   "pygments_lexer": "ipython3",
   "version": "3.7.3"
  }
 },
 "nbformat": 4,
 "nbformat_minor": 2
}