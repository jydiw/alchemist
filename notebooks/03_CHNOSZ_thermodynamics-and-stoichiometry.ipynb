{
 "cells": [
  {
   "cell_type": "code",
   "execution_count": 1,
   "metadata": {},
   "outputs": [],
   "source": [
    "import os                               \n",
    "import re                   \n",
    "import itertools\n",
    "import pickle\n",
    "\n",
    "import numpy as np\n",
    "import pandas as pd \n",
    "\n",
    "from chempy import Substance\n",
    "\n",
    "from tika import parser     # the specific parser method "
   ]
  },
  {
   "cell_type": "markdown",
   "metadata": {},
   "source": [
    "## Import thermodynamic values\n",
    "\n",
    "These values were taken from the following sources:\n",
    "- [CHNOSZ](http://chnosz.net/vignettes/obigt.html), a chemistry and materials science package for [R](https://www.r-project.org/about.html). The dataframes were exported to csv files as-is.\n",
    "- [Principles of Modern Chemistry, 8th ed.](https://www.amazon.com/Principles-Modern-Chemistry-David-Oxtoby-ebook/dp/B00UGDPNFI) by Oxtoby et al.\n",
    "\n",
    "### CHNOSZ"
   ]
  },
  {
   "cell_type": "code",
   "execution_count": 2,
   "metadata": {},
   "outputs": [],
   "source": [
    "chnosz = pd.read_csv('../data/external/thermo/chnosz_thermo.csv')"
   ]
  },
  {
   "cell_type": "code",
   "execution_count": 3,
   "metadata": {},
   "outputs": [
    {
     "data": {
      "text/plain": [
       "Index(['name', 'abbrv', 'formula', 'state', 'ref1', 'ref2', 'date', 'E_units',\n",
       "       'G', 'H', 'S', 'Cp', 'V', 'a1.a', 'a2.b', 'a3.c', 'a4.d', 'c1.e',\n",
       "       'c2.f', 'omega.lambda', 'z.T'],\n",
       "      dtype='object')"
      ]
     },
     "execution_count": 3,
     "metadata": {},
     "output_type": "execute_result"
    }
   ],
   "source": [
    "chnosz.columns"
   ]
  },
  {
   "cell_type": "code",
   "execution_count": 4,
   "metadata": {},
   "outputs": [
    {
     "data": {
      "text/html": [
       "<div>\n",
       "<style scoped>\n",
       "    .dataframe tbody tr th:only-of-type {\n",
       "        vertical-align: middle;\n",
       "    }\n",
       "\n",
       "    .dataframe tbody tr th {\n",
       "        vertical-align: top;\n",
       "    }\n",
       "\n",
       "    .dataframe thead th {\n",
       "        text-align: right;\n",
       "    }\n",
       "</style>\n",
       "<table border=\"1\" class=\"dataframe\">\n",
       "  <thead>\n",
       "    <tr style=\"text-align: right;\">\n",
       "      <th></th>\n",
       "      <th>name</th>\n",
       "      <th>abbrv</th>\n",
       "      <th>formula</th>\n",
       "      <th>E_units</th>\n",
       "      <th>state</th>\n",
       "      <th>G</th>\n",
       "      <th>H</th>\n",
       "      <th>S</th>\n",
       "      <th>Cp</th>\n",
       "    </tr>\n",
       "  </thead>\n",
       "  <tbody>\n",
       "    <tr>\n",
       "      <th>0</th>\n",
       "      <td>water</td>\n",
       "      <td>NaN</td>\n",
       "      <td>H2O</td>\n",
       "      <td>cal</td>\n",
       "      <td>liq</td>\n",
       "      <td>NaN</td>\n",
       "      <td>NaN</td>\n",
       "      <td>NaN</td>\n",
       "      <td>NaN</td>\n",
       "    </tr>\n",
       "    <tr>\n",
       "      <th>1</th>\n",
       "      <td>e-</td>\n",
       "      <td>NaN</td>\n",
       "      <td>(Z-1)</td>\n",
       "      <td>cal</td>\n",
       "      <td>aq</td>\n",
       "      <td>0.0</td>\n",
       "      <td>0.0</td>\n",
       "      <td>15.6166</td>\n",
       "      <td>0.00</td>\n",
       "    </tr>\n",
       "    <tr>\n",
       "      <th>2</th>\n",
       "      <td>H+</td>\n",
       "      <td>H+</td>\n",
       "      <td>H+</td>\n",
       "      <td>cal</td>\n",
       "      <td>aq</td>\n",
       "      <td>0.0</td>\n",
       "      <td>0.0</td>\n",
       "      <td>0.0000</td>\n",
       "      <td>0.00</td>\n",
       "    </tr>\n",
       "    <tr>\n",
       "      <th>3</th>\n",
       "      <td>Li+</td>\n",
       "      <td>Li+</td>\n",
       "      <td>Li+</td>\n",
       "      <td>cal</td>\n",
       "      <td>aq</td>\n",
       "      <td>-69933.0</td>\n",
       "      <td>-66552.0</td>\n",
       "      <td>2.7000</td>\n",
       "      <td>14.20</td>\n",
       "    </tr>\n",
       "    <tr>\n",
       "      <th>4</th>\n",
       "      <td>Na+</td>\n",
       "      <td>Na+</td>\n",
       "      <td>Na+</td>\n",
       "      <td>cal</td>\n",
       "      <td>aq</td>\n",
       "      <td>-62591.0</td>\n",
       "      <td>-57433.0</td>\n",
       "      <td>13.9600</td>\n",
       "      <td>9.06</td>\n",
       "    </tr>\n",
       "  </tbody>\n",
       "</table>\n",
       "</div>"
      ],
      "text/plain": [
       "    name abbrv formula E_units state        G        H        S     Cp\n",
       "0  water   NaN     H2O     cal   liq      NaN      NaN      NaN    NaN\n",
       "1     e-   NaN   (Z-1)     cal    aq      0.0      0.0  15.6166   0.00\n",
       "2     H+    H+      H+     cal    aq      0.0      0.0   0.0000   0.00\n",
       "3    Li+   Li+     Li+     cal    aq -69933.0 -66552.0   2.7000  14.20\n",
       "4    Na+   Na+     Na+     cal    aq -62591.0 -57433.0  13.9600   9.06"
      ]
     },
     "execution_count": 4,
     "metadata": {},
     "output_type": "execute_result"
    }
   ],
   "source": [
    "chnosz = chnosz[['name', 'abbrv', 'formula', 'E_units', 'state', 'G', 'H', 'S', 'Cp']]\n",
    "chnosz.head()"
   ]
  },
  {
   "cell_type": "code",
   "execution_count": 5,
   "metadata": {},
   "outputs": [
    {
     "data": {
      "text/plain": [
       "(3372, 9)"
      ]
     },
     "execution_count": 5,
     "metadata": {},
     "output_type": "execute_result"
    }
   ],
   "source": [
    "chnosz.shape"
   ]
  },
  {
   "cell_type": "code",
   "execution_count": 6,
   "metadata": {},
   "outputs": [
    {
     "data": {
      "text/plain": [
       "(3210, 9)"
      ]
     },
     "execution_count": 6,
     "metadata": {},
     "output_type": "execute_result"
    }
   ],
   "source": [
    "chnosz = chnosz[chnosz['name'].str[0] != '[']\n",
    "chnosz.shape"
   ]
  },
  {
   "cell_type": "code",
   "execution_count": 7,
   "metadata": {},
   "outputs": [
    {
     "data": {
      "text/plain": [
       "cal    3172\n",
       "J        38\n",
       "Name: E_units, dtype: int64"
      ]
     },
     "execution_count": 7,
     "metadata": {},
     "output_type": "execute_result"
    }
   ],
   "source": [
    "chnosz['E_units'].value_counts()"
   ]
  },
  {
   "cell_type": "code",
   "execution_count": 8,
   "metadata": {},
   "outputs": [
    {
     "data": {
      "text/html": [
       "<div>\n",
       "<style scoped>\n",
       "    .dataframe tbody tr th:only-of-type {\n",
       "        vertical-align: middle;\n",
       "    }\n",
       "\n",
       "    .dataframe tbody tr th {\n",
       "        vertical-align: top;\n",
       "    }\n",
       "\n",
       "    .dataframe thead th {\n",
       "        text-align: right;\n",
       "    }\n",
       "</style>\n",
       "<table border=\"1\" class=\"dataframe\">\n",
       "  <thead>\n",
       "    <tr style=\"text-align: right;\">\n",
       "      <th></th>\n",
       "      <th>name</th>\n",
       "      <th>abbrv</th>\n",
       "      <th>formula</th>\n",
       "      <th>state</th>\n",
       "      <th>G</th>\n",
       "      <th>H</th>\n",
       "      <th>S</th>\n",
       "      <th>Cp</th>\n",
       "    </tr>\n",
       "  </thead>\n",
       "  <tbody>\n",
       "    <tr>\n",
       "      <th>0</th>\n",
       "      <td>water</td>\n",
       "      <td>NaN</td>\n",
       "      <td>H2O</td>\n",
       "      <td>liq</td>\n",
       "      <td>NaN</td>\n",
       "      <td>NaN</td>\n",
       "      <td>NaN</td>\n",
       "      <td>NaN</td>\n",
       "    </tr>\n",
       "    <tr>\n",
       "      <th>1</th>\n",
       "      <td>e-</td>\n",
       "      <td>NaN</td>\n",
       "      <td>(Z-1)</td>\n",
       "      <td>aq</td>\n",
       "      <td>0.000</td>\n",
       "      <td>0.000</td>\n",
       "      <td>65.339854</td>\n",
       "      <td>0.00000</td>\n",
       "    </tr>\n",
       "    <tr>\n",
       "      <th>2</th>\n",
       "      <td>H+</td>\n",
       "      <td>H+</td>\n",
       "      <td>H+</td>\n",
       "      <td>aq</td>\n",
       "      <td>0.000</td>\n",
       "      <td>0.000</td>\n",
       "      <td>0.000000</td>\n",
       "      <td>0.00000</td>\n",
       "    </tr>\n",
       "    <tr>\n",
       "      <th>3</th>\n",
       "      <td>Li+</td>\n",
       "      <td>Li+</td>\n",
       "      <td>Li+</td>\n",
       "      <td>aq</td>\n",
       "      <td>-292599.672</td>\n",
       "      <td>-278453.568</td>\n",
       "      <td>11.296800</td>\n",
       "      <td>59.41280</td>\n",
       "    </tr>\n",
       "    <tr>\n",
       "      <th>4</th>\n",
       "      <td>Na+</td>\n",
       "      <td>Na+</td>\n",
       "      <td>Na+</td>\n",
       "      <td>aq</td>\n",
       "      <td>-261880.744</td>\n",
       "      <td>-240299.672</td>\n",
       "      <td>58.408640</td>\n",
       "      <td>37.90704</td>\n",
       "    </tr>\n",
       "  </tbody>\n",
       "</table>\n",
       "</div>"
      ],
      "text/plain": [
       "    name abbrv formula state           G           H          S        Cp\n",
       "0  water   NaN     H2O   liq         NaN         NaN        NaN       NaN\n",
       "1     e-   NaN   (Z-1)    aq       0.000       0.000  65.339854   0.00000\n",
       "2     H+    H+      H+    aq       0.000       0.000   0.000000   0.00000\n",
       "3    Li+   Li+     Li+    aq -292599.672 -278453.568  11.296800  59.41280\n",
       "4    Na+   Na+     Na+    aq -261880.744 -240299.672  58.408640  37.90704"
      ]
     },
     "execution_count": 8,
     "metadata": {},
     "output_type": "execute_result"
    }
   ],
   "source": [
    "# convert to joules\n",
    "energy_columns = ['G', 'H', 'S', 'Cp']\n",
    "\n",
    "for col in energy_columns:\n",
    "    chnosz.loc[chnosz['E_units'] == 'cal', col] *= 4.184\n",
    "    \n",
    "chnosz.drop(columns='E_units', inplace=True)\n",
    "chnosz.head()"
   ]
  },
  {
   "cell_type": "code",
   "execution_count": 9,
   "metadata": {},
   "outputs": [],
   "source": [
    "chnosz.at[0, 'G'] = -237180\n",
    "chnosz.at[0, 'H'] = -285830\n",
    "chnosz.at[0, 'S'] = 69.91\n",
    "chnosz.at[0, 'Cp'] = 75.29"
   ]
  },
  {
   "cell_type": "code",
   "execution_count": 10,
   "metadata": {},
   "outputs": [
    {
     "name": "stdout",
     "output_type": "stream",
     "text": [
      "-261880.744\n",
      "-713730.0\n"
     ]
    }
   ],
   "source": [
    "# just checking to make sure appropriate values are in joules\n",
    "\n",
    "print(chnosz.loc[4, 'G'])\n",
    "print(chnosz.loc[779, 'G'])"
   ]
  },
  {
   "cell_type": "code",
   "execution_count": 11,
   "metadata": {},
   "outputs": [
    {
     "data": {
      "text/plain": [
       "aq     1807\n",
       "cr      601\n",
       "liq     488\n",
       "gas     285\n",
       "cr2      14\n",
       "cr3       9\n",
       "cr8       1\n",
       "cr4       1\n",
       "cr9       1\n",
       "cr5       1\n",
       "cr6       1\n",
       "cr7       1\n",
       "Name: state, dtype: int64"
      ]
     },
     "execution_count": 11,
     "metadata": {},
     "output_type": "execute_result"
    }
   ],
   "source": [
    "chnosz['state'].value_counts()"
   ]
  },
  {
   "cell_type": "code",
   "execution_count": 12,
   "metadata": {},
   "outputs": [],
   "source": [
    "value_dict = {\n",
    "    'aq': '(aq)',\n",
    "    'cr': '(s)',\n",
    "    'liq': '(l)',\n",
    "    'gas': '(g)',\n",
    "    'cr2': '(s, II)',\n",
    "    'cr3': '(s, III)',\n",
    "    'cr4': '(s, IV)',\n",
    "    'cr5': '(s, V)',\n",
    "    'cr6': '(s, VI)',\n",
    "    'cr7': '(s, VII)',\n",
    "    'cr8': '(s, VIII)',\n",
    "    'cr9': '(s, IX)',\n",
    "    'g': '(g)',\n",
    "}\n",
    "\n",
    "chnosz['state'].replace(value_dict, inplace=True)"
   ]
  },
  {
   "cell_type": "code",
   "execution_count": 13,
   "metadata": {},
   "outputs": [
    {
     "data": {
      "text/html": [
       "<div>\n",
       "<style scoped>\n",
       "    .dataframe tbody tr th:only-of-type {\n",
       "        vertical-align: middle;\n",
       "    }\n",
       "\n",
       "    .dataframe tbody tr th {\n",
       "        vertical-align: top;\n",
       "    }\n",
       "\n",
       "    .dataframe thead th {\n",
       "        text-align: right;\n",
       "    }\n",
       "</style>\n",
       "<table border=\"1\" class=\"dataframe\">\n",
       "  <thead>\n",
       "    <tr style=\"text-align: right;\">\n",
       "      <th></th>\n",
       "      <th>name</th>\n",
       "      <th>abbrv</th>\n",
       "      <th>formula</th>\n",
       "      <th>G</th>\n",
       "      <th>H</th>\n",
       "      <th>S</th>\n",
       "      <th>Cp</th>\n",
       "    </tr>\n",
       "  </thead>\n",
       "  <tbody>\n",
       "    <tr>\n",
       "      <th>0</th>\n",
       "      <td>water</td>\n",
       "      <td>NaN</td>\n",
       "      <td>H2O(l)</td>\n",
       "      <td>-237180.000</td>\n",
       "      <td>-285830.000</td>\n",
       "      <td>69.910000</td>\n",
       "      <td>75.29000</td>\n",
       "    </tr>\n",
       "    <tr>\n",
       "      <th>1</th>\n",
       "      <td>e-</td>\n",
       "      <td>NaN</td>\n",
       "      <td>(Z-1)(aq)</td>\n",
       "      <td>0.000</td>\n",
       "      <td>0.000</td>\n",
       "      <td>65.339854</td>\n",
       "      <td>0.00000</td>\n",
       "    </tr>\n",
       "    <tr>\n",
       "      <th>2</th>\n",
       "      <td>H+</td>\n",
       "      <td>H+</td>\n",
       "      <td>H+(aq)</td>\n",
       "      <td>0.000</td>\n",
       "      <td>0.000</td>\n",
       "      <td>0.000000</td>\n",
       "      <td>0.00000</td>\n",
       "    </tr>\n",
       "    <tr>\n",
       "      <th>3</th>\n",
       "      <td>Li+</td>\n",
       "      <td>Li+</td>\n",
       "      <td>Li+(aq)</td>\n",
       "      <td>-292599.672</td>\n",
       "      <td>-278453.568</td>\n",
       "      <td>11.296800</td>\n",
       "      <td>59.41280</td>\n",
       "    </tr>\n",
       "    <tr>\n",
       "      <th>4</th>\n",
       "      <td>Na+</td>\n",
       "      <td>Na+</td>\n",
       "      <td>Na+(aq)</td>\n",
       "      <td>-261880.744</td>\n",
       "      <td>-240299.672</td>\n",
       "      <td>58.408640</td>\n",
       "      <td>37.90704</td>\n",
       "    </tr>\n",
       "  </tbody>\n",
       "</table>\n",
       "</div>"
      ],
      "text/plain": [
       "    name abbrv    formula           G           H          S        Cp\n",
       "0  water   NaN     H2O(l) -237180.000 -285830.000  69.910000  75.29000\n",
       "1     e-   NaN  (Z-1)(aq)       0.000       0.000  65.339854   0.00000\n",
       "2     H+    H+     H+(aq)       0.000       0.000   0.000000   0.00000\n",
       "3    Li+   Li+    Li+(aq) -292599.672 -278453.568  11.296800  59.41280\n",
       "4    Na+   Na+    Na+(aq) -261880.744 -240299.672  58.408640  37.90704"
      ]
     },
     "execution_count": 13,
     "metadata": {},
     "output_type": "execute_result"
    }
   ],
   "source": [
    "chnosz['formula'] = chnosz['formula'].astype(str) + chnosz['state'].astype(str)\n",
    "chnosz.drop(columns='state', inplace=True)\n",
    "chnosz.head()"
   ]
  },
  {
   "cell_type": "code",
   "execution_count": 14,
   "metadata": {},
   "outputs": [],
   "source": [
    "chnosz.at[1, 'formula'] = 'e-(aq)'"
   ]
  },
  {
   "cell_type": "code",
   "execution_count": 15,
   "metadata": {},
   "outputs": [
    {
     "data": {
      "text/plain": [
       "name          0\n",
       "abbrv      2266\n",
       "formula       0\n",
       "G           121\n",
       "H           151\n",
       "S           132\n",
       "Cp          245\n",
       "dtype: int64"
      ]
     },
     "execution_count": 15,
     "metadata": {},
     "output_type": "execute_result"
    }
   ],
   "source": [
    "chnosz.isna().sum()"
   ]
  },
  {
   "cell_type": "code",
   "execution_count": 16,
   "metadata": {},
   "outputs": [
    {
     "data": {
      "text/plain": [
       "(3089, 7)"
      ]
     },
     "execution_count": 16,
     "metadata": {},
     "output_type": "execute_result"
    }
   ],
   "source": [
    "chnosz = chnosz.dropna(subset=['G'])\n",
    "chnosz.shape"
   ]
  },
  {
   "cell_type": "markdown",
   "metadata": {},
   "source": [
    "### Oxtoby"
   ]
  },
  {
   "cell_type": "code",
   "execution_count": 17,
   "metadata": {},
   "outputs": [],
   "source": [
    "def get_text(file, sleep=0, counter=0):\n",
    "    if counter == 2:        # so we stop the recursive function\n",
    "        pass\n",
    "    # grab the raw text using parser.from_file()\n",
    "    raw = parser.from_file(file)\n",
    "    status = raw['status']          # returns the status code from tika server\n",
    "    # if things go well, return the raw text\n",
    "    if status == 200:\n",
    "        print(f\"'{file}' successfully opened!\")\n",
    "        return raw['content']\n",
    "    # if things don't go well, pause for five seconds and try again\n",
    "    # we might not need this code, but it's useful for other server calls\n",
    "    else:\n",
    "        print(f'! ! ! ! error code {status} ! ! ! !')\n",
    "        print(f'! ! ! ! trying again ! ! ! !')\n",
    "        time.sleep(5)\n",
    "        counter += 1\n",
    "        # repeats grab_text up to twice\n",
    "        return get_text(file, counter=counter)"
   ]
  },
  {
   "cell_type": "code",
   "execution_count": 18,
   "metadata": {},
   "outputs": [
    {
     "name": "stdout",
     "output_type": "stream",
     "text": [
      "'../data/external/thermo/oxtoby8a.pdf' successfully opened!\n",
      "'../data/external/thermo/oxtoby8b.pdf' successfully opened!\n"
     ]
    }
   ],
   "source": [
    "oxtobya = get_text('../data/external/thermo/oxtoby8a.pdf')\n",
    "oxtobyb = get_text('../data/external/thermo/oxtoby8b.pdf')"
   ]
  },
  {
   "cell_type": "code",
   "execution_count": 19,
   "metadata": {},
   "outputs": [],
   "source": [
    "clean = re.sub('—', 'nan', oxtobya)\n",
    "clean = re.sub('\\\\ue02c', 'l', clean)\n",
    "clean = re.sub(r'\\n\\n[I]*\\s*', r'RROOWW', clean)\n",
    "clean = re.sub(r'([\\d]+)\\n([A-Z]+)', r'\\1RROOWW\\2', clean)\n",
    "clean = re.sub(r'(nan)\\s*\\n([A-Z]+)', r'\\1RROOWW\\2', clean)\n",
    "clean = re.sub('\\\\ue031', '+', clean)\n",
    "clean = re.sub('([\\d])\\+\\(', r'+\\1(', clean)\n",
    "clean = re.sub('\\\\ue032', '-', clean)\n",
    "clean = re.sub('([\\d])\\-\\(', r'-\\1(', clean)\n",
    "clean = re.sub('\\(([aqslg]+)\\,\\s([\\w]+)', r'(\\1,\\2', clean)\n",
    "clean = re.sub('[\\s]+', ' ', clean)\n",
    "clean = re.sub(' mol-1', '', clean)\n",
    "# clean = re.sub('Substance.*mol', 'HHEEAADDEERR', clean)\n",
    "clean = re.split('RROOWW', clean)\n",
    "clean = [re.split(' ', r) for r in clean]\n",
    "clean = [r for r in clean if len(r) == 5]\n",
    "oxtobya_clean = clean"
   ]
  },
  {
   "cell_type": "code",
   "execution_count": 20,
   "metadata": {},
   "outputs": [],
   "source": [
    "clean = re.sub('—', 'nan', oxtobyb)\n",
    "clean = re.sub('\\\\ue02c', 'l', clean)\n",
    "clean = re.sub(r'\\n\\n[I]*\\s*', r'RROOWW', clean)\n",
    "clean = re.sub(r'([\\d]+)\\n([A-Z]+)', r'\\1RROOWW\\2', clean)\n",
    "clean = re.sub(r'(nan)\\s*\\n([A-Z]+)', r'\\1RROOWW\\2', clean)\n",
    "clean = re.sub('\\\\ue031', '+', clean)\n",
    "clean = re.sub('([\\d])\\+\\(', r'+\\1(', clean)\n",
    "clean = re.sub('\\\\ue032', '-', clean)\n",
    "clean = re.sub('([\\d])\\-\\(', r'-\\1(', clean)\n",
    "clean = re.sub('\\(([aqslg]+)\\,\\s([\\w]+)', r'(\\1,\\2', clean)\n",
    "clean = re.sub('[\\s]+', ' ', clean)\n",
    "clean = re.sub(' mol-1', '', clean)\n",
    "# clean = re.sub('Substance.*mol', 'HHEEAADDEERR', clean)\n",
    "clean = re.split('RROOWW', clean)\n",
    "clean = [re.split(' ', r) for r in clean]\n",
    "clean = [r for r in clean if len(r) == 5]\n",
    "oxtobyb_clean = clean"
   ]
  },
  {
   "cell_type": "code",
   "execution_count": 21,
   "metadata": {},
   "outputs": [
    {
     "data": {
      "text/plain": [
       "[['H(g)', '217.96', '114.60', '203.26', '20.78'],\n",
       " ['H2(g)', '0', '130.57', '0', '28.82'],\n",
       " ['H+(aq)', '0', '0', '0', '0'],\n",
       " ['H3O+(aq)', '-285.83', '69.91', '-237.18', '75.29'],\n",
       " ['Li(s)', '0', '29.12', '0', '24.77'],\n",
       " ['Li(g)', '159.37', '138.66', '126.69', '20.79'],\n",
       " ['Li+(aq)', '-278.49', '13.4', '-293.31', '68.6'],\n",
       " ['LiH(s)', '-90.54', '20.01', '-68.37', '27.87'],\n",
       " ['Li2O(s)', '-597.94', '37.57', '-561.20', '54.10'],\n",
       " ['LiF(s)', '-615.97', '35.65', '-587.73', '41.59'],\n",
       " ['LiCl(s)', '-408.61', '59.33', '-384.39', '47.99'],\n",
       " ['LiBr(s)', '-351.21', '74.27', '-342.00', 'nan'],\n",
       " ['LiI(s)', '-270.41', '86.78', '-270.29', '51.04'],\n",
       " ['Na(s)', '0', '51.21', '0', '28.24'],\n",
       " ['Na(g)', '107.32', '153.60', '76.79', '20.79'],\n",
       " ['Na+(aq)', '-240.12', '59.0', '-261.90', '46.4'],\n",
       " ['Na2O(s)', '-414.22', '75.06', '-375.48', '69.12'],\n",
       " ['NaOH(s)', '-425.61', '64.46', '-379.53', '59.54'],\n",
       " ['NaF(s)', '-573.65', '51.46', '-543.51', '48.86'],\n",
       " ['NaCl(s)', '-411.15', '72.13', '-384.15', '50.50']]"
      ]
     },
     "execution_count": 21,
     "metadata": {},
     "output_type": "execute_result"
    }
   ],
   "source": [
    "oxtoby = oxtobya_clean + oxtobyb_clean\n",
    "oxtoby[:20]"
   ]
  },
  {
   "cell_type": "code",
   "execution_count": 22,
   "metadata": {},
   "outputs": [
    {
     "data": {
      "text/plain": [
       "[['ClF3(g)', '-163.2', '281.50', '-123.0', '63.85'],\n",
       " ['Br2(l)', '0', '152.23', '0', '75.69'],\n",
       " ['Br2(g)', '30.91', '245.35', '3.14', '36.02'],\n",
       " ['Br2(aq)', '-2.59', '130.5', '3.93', 'nan'],\n",
       " ['Br(g)', '111.88', '174.91', '82.41', '20.79'],\n",
       " ['HBr(g)', '-36.40', '198.59', '-53.43', '29.14'],\n",
       " ['BrO-3(aq)', '-67.07', '161.71', '18.60', 'nan'],\n",
       " ['I2(s)', '0', '116.14', '0', '54.44'],\n",
       " ['I2(g)', '62.44', '260.58', '19.36', '36.90'],\n",
       " ['I2(aq)', '22.6', '137.2', '16.40', 'nan'],\n",
       " ['I(g)', '106.84', '180.68', '70.28', '20.79'],\n",
       " ['I-(aq)', '-55.19', '111.3', '-51.57', '-142.3'],\n",
       " ['I-3(aq)', '-51.5', '239.3', '-51.4', 'nan'],\n",
       " ['HI(g)', '26.48', '206.48', '1.72', '29.16'],\n",
       " ['ICl(g)', '17.78', '247.44', '-5.44', '35.56'],\n",
       " ['IBr(g)', '40.84', '258.66', '3.71', '36.44'],\n",
       " ['Ne(g)', '0', '146.22', '0', '20.79'],\n",
       " ['Ar(g)', '0', '154.73', '0', '20.79'],\n",
       " ['Kr(g)', '0', '163.97', '0', '20.79'],\n",
       " ['Xe(g)', '0', '169.57', '0', '20.79']]"
      ]
     },
     "execution_count": 22,
     "metadata": {},
     "output_type": "execute_result"
    }
   ],
   "source": [
    "oxtoby[-20:]"
   ]
  },
  {
   "cell_type": "code",
   "execution_count": 23,
   "metadata": {},
   "outputs": [
    {
     "data": {
      "text/html": [
       "<div>\n",
       "<style scoped>\n",
       "    .dataframe tbody tr th:only-of-type {\n",
       "        vertical-align: middle;\n",
       "    }\n",
       "\n",
       "    .dataframe tbody tr th {\n",
       "        vertical-align: top;\n",
       "    }\n",
       "\n",
       "    .dataframe thead th {\n",
       "        text-align: right;\n",
       "    }\n",
       "</style>\n",
       "<table border=\"1\" class=\"dataframe\">\n",
       "  <thead>\n",
       "    <tr style=\"text-align: right;\">\n",
       "      <th></th>\n",
       "      <th>formula</th>\n",
       "      <th>H</th>\n",
       "      <th>S</th>\n",
       "      <th>G</th>\n",
       "      <th>Cp</th>\n",
       "    </tr>\n",
       "  </thead>\n",
       "  <tbody>\n",
       "    <tr>\n",
       "      <th>0</th>\n",
       "      <td>H(g)</td>\n",
       "      <td>217.96</td>\n",
       "      <td>114.60</td>\n",
       "      <td>203.26</td>\n",
       "      <td>20.78</td>\n",
       "    </tr>\n",
       "    <tr>\n",
       "      <th>1</th>\n",
       "      <td>H2(g)</td>\n",
       "      <td>0</td>\n",
       "      <td>130.57</td>\n",
       "      <td>0</td>\n",
       "      <td>28.82</td>\n",
       "    </tr>\n",
       "    <tr>\n",
       "      <th>2</th>\n",
       "      <td>H+(aq)</td>\n",
       "      <td>0</td>\n",
       "      <td>0</td>\n",
       "      <td>0</td>\n",
       "      <td>0</td>\n",
       "    </tr>\n",
       "    <tr>\n",
       "      <th>3</th>\n",
       "      <td>H3O+(aq)</td>\n",
       "      <td>-285.83</td>\n",
       "      <td>69.91</td>\n",
       "      <td>-237.18</td>\n",
       "      <td>75.29</td>\n",
       "    </tr>\n",
       "    <tr>\n",
       "      <th>4</th>\n",
       "      <td>Li(s)</td>\n",
       "      <td>0</td>\n",
       "      <td>29.12</td>\n",
       "      <td>0</td>\n",
       "      <td>24.77</td>\n",
       "    </tr>\n",
       "  </tbody>\n",
       "</table>\n",
       "</div>"
      ],
      "text/plain": [
       "    formula        H       S        G     Cp\n",
       "0      H(g)   217.96  114.60   203.26  20.78\n",
       "1     H2(g)        0  130.57        0  28.82\n",
       "2    H+(aq)        0       0        0      0\n",
       "3  H3O+(aq)  -285.83   69.91  -237.18  75.29\n",
       "4     Li(s)        0   29.12        0  24.77"
      ]
     },
     "execution_count": 23,
     "metadata": {},
     "output_type": "execute_result"
    }
   ],
   "source": [
    "oxtoby_df = pd.DataFrame(oxtoby, columns=['formula', 'H', 'S', 'G', 'Cp'])\n",
    "oxtoby_df.head()"
   ]
  },
  {
   "cell_type": "code",
   "execution_count": 24,
   "metadata": {},
   "outputs": [
    {
     "data": {
      "text/plain": [
       "(362, 5)"
      ]
     },
     "execution_count": 24,
     "metadata": {},
     "output_type": "execute_result"
    }
   ],
   "source": [
    "oxtoby_df.shape"
   ]
  },
  {
   "cell_type": "code",
   "execution_count": 25,
   "metadata": {},
   "outputs": [
    {
     "data": {
      "text/html": [
       "<div>\n",
       "<style scoped>\n",
       "    .dataframe tbody tr th:only-of-type {\n",
       "        vertical-align: middle;\n",
       "    }\n",
       "\n",
       "    .dataframe tbody tr th {\n",
       "        vertical-align: top;\n",
       "    }\n",
       "\n",
       "    .dataframe thead th {\n",
       "        text-align: right;\n",
       "    }\n",
       "</style>\n",
       "<table border=\"1\" class=\"dataframe\">\n",
       "  <thead>\n",
       "    <tr style=\"text-align: right;\">\n",
       "      <th></th>\n",
       "      <th>formula</th>\n",
       "      <th>H</th>\n",
       "      <th>S</th>\n",
       "      <th>G</th>\n",
       "      <th>Cp</th>\n",
       "    </tr>\n",
       "  </thead>\n",
       "  <tbody>\n",
       "    <tr>\n",
       "      <th>0</th>\n",
       "      <td>H(g)</td>\n",
       "      <td>217.96</td>\n",
       "      <td>114.60</td>\n",
       "      <td>203.26</td>\n",
       "      <td>20.78</td>\n",
       "    </tr>\n",
       "    <tr>\n",
       "      <th>1</th>\n",
       "      <td>H2(g)</td>\n",
       "      <td>0.00</td>\n",
       "      <td>130.57</td>\n",
       "      <td>0.00</td>\n",
       "      <td>28.82</td>\n",
       "    </tr>\n",
       "    <tr>\n",
       "      <th>2</th>\n",
       "      <td>H+(aq)</td>\n",
       "      <td>0.00</td>\n",
       "      <td>0.00</td>\n",
       "      <td>0.00</td>\n",
       "      <td>0.00</td>\n",
       "    </tr>\n",
       "    <tr>\n",
       "      <th>3</th>\n",
       "      <td>H3O+(aq)</td>\n",
       "      <td>-285.83</td>\n",
       "      <td>69.91</td>\n",
       "      <td>-237.18</td>\n",
       "      <td>75.29</td>\n",
       "    </tr>\n",
       "    <tr>\n",
       "      <th>4</th>\n",
       "      <td>Li(s)</td>\n",
       "      <td>0.00</td>\n",
       "      <td>29.12</td>\n",
       "      <td>0.00</td>\n",
       "      <td>24.77</td>\n",
       "    </tr>\n",
       "  </tbody>\n",
       "</table>\n",
       "</div>"
      ],
      "text/plain": [
       "    formula       H       S       G     Cp\n",
       "0      H(g)  217.96  114.60  203.26  20.78\n",
       "1     H2(g)    0.00  130.57    0.00  28.82\n",
       "2    H+(aq)    0.00    0.00    0.00   0.00\n",
       "3  H3O+(aq) -285.83   69.91 -237.18  75.29\n",
       "4     Li(s)    0.00   29.12    0.00  24.77"
      ]
     },
     "execution_count": 25,
     "metadata": {},
     "output_type": "execute_result"
    }
   ],
   "source": [
    "energy_columns = ['G', 'H', 'S', 'Cp']\n",
    "\n",
    "for col in energy_columns:\n",
    "    oxtoby_df[col] = oxtoby_df[col].astype(float)\n",
    "    \n",
    "oxtoby_df.head()"
   ]
  },
  {
   "cell_type": "code",
   "execution_count": 26,
   "metadata": {},
   "outputs": [
    {
     "data": {
      "text/html": [
       "<div>\n",
       "<style scoped>\n",
       "    .dataframe tbody tr th:only-of-type {\n",
       "        vertical-align: middle;\n",
       "    }\n",
       "\n",
       "    .dataframe tbody tr th {\n",
       "        vertical-align: top;\n",
       "    }\n",
       "\n",
       "    .dataframe thead th {\n",
       "        text-align: right;\n",
       "    }\n",
       "</style>\n",
       "<table border=\"1\" class=\"dataframe\">\n",
       "  <thead>\n",
       "    <tr style=\"text-align: right;\">\n",
       "      <th></th>\n",
       "      <th>formula</th>\n",
       "      <th>H</th>\n",
       "      <th>S</th>\n",
       "      <th>G</th>\n",
       "      <th>Cp</th>\n",
       "    </tr>\n",
       "  </thead>\n",
       "  <tbody>\n",
       "    <tr>\n",
       "      <th>0</th>\n",
       "      <td>H(g)</td>\n",
       "      <td>217960.0</td>\n",
       "      <td>114.60</td>\n",
       "      <td>203260.0</td>\n",
       "      <td>20.78</td>\n",
       "    </tr>\n",
       "    <tr>\n",
       "      <th>1</th>\n",
       "      <td>H2(g)</td>\n",
       "      <td>0.0</td>\n",
       "      <td>130.57</td>\n",
       "      <td>0.0</td>\n",
       "      <td>28.82</td>\n",
       "    </tr>\n",
       "    <tr>\n",
       "      <th>2</th>\n",
       "      <td>H+(aq)</td>\n",
       "      <td>0.0</td>\n",
       "      <td>0.00</td>\n",
       "      <td>0.0</td>\n",
       "      <td>0.00</td>\n",
       "    </tr>\n",
       "    <tr>\n",
       "      <th>3</th>\n",
       "      <td>H3O+(aq)</td>\n",
       "      <td>-285830.0</td>\n",
       "      <td>69.91</td>\n",
       "      <td>-237180.0</td>\n",
       "      <td>75.29</td>\n",
       "    </tr>\n",
       "    <tr>\n",
       "      <th>4</th>\n",
       "      <td>Li(s)</td>\n",
       "      <td>0.0</td>\n",
       "      <td>29.12</td>\n",
       "      <td>0.0</td>\n",
       "      <td>24.77</td>\n",
       "    </tr>\n",
       "  </tbody>\n",
       "</table>\n",
       "</div>"
      ],
      "text/plain": [
       "    formula         H       S         G     Cp\n",
       "0      H(g)  217960.0  114.60  203260.0  20.78\n",
       "1     H2(g)       0.0  130.57       0.0  28.82\n",
       "2    H+(aq)       0.0    0.00       0.0   0.00\n",
       "3  H3O+(aq) -285830.0   69.91 -237180.0  75.29\n",
       "4     Li(s)       0.0   29.12       0.0  24.77"
      ]
     },
     "execution_count": 26,
     "metadata": {},
     "output_type": "execute_result"
    }
   ],
   "source": [
    "oxtoby_df.loc[:, 'H'] *= 1000\n",
    "oxtoby_df.loc[:, 'G'] *= 1000\n",
    "oxtoby_df.head()"
   ]
  },
  {
   "cell_type": "code",
   "execution_count": 27,
   "metadata": {},
   "outputs": [
    {
     "data": {
      "text/html": [
       "<div>\n",
       "<style scoped>\n",
       "    .dataframe tbody tr th:only-of-type {\n",
       "        vertical-align: middle;\n",
       "    }\n",
       "\n",
       "    .dataframe tbody tr th {\n",
       "        vertical-align: top;\n",
       "    }\n",
       "\n",
       "    .dataframe thead th {\n",
       "        text-align: right;\n",
       "    }\n",
       "</style>\n",
       "<table border=\"1\" class=\"dataframe\">\n",
       "  <thead>\n",
       "    <tr style=\"text-align: right;\">\n",
       "      <th></th>\n",
       "      <th>formula</th>\n",
       "      <th>G</th>\n",
       "      <th>H</th>\n",
       "      <th>S</th>\n",
       "      <th>Cp</th>\n",
       "    </tr>\n",
       "  </thead>\n",
       "  <tbody>\n",
       "    <tr>\n",
       "      <th>0</th>\n",
       "      <td>H(g)</td>\n",
       "      <td>203260.0</td>\n",
       "      <td>217960.0</td>\n",
       "      <td>114.60</td>\n",
       "      <td>20.78</td>\n",
       "    </tr>\n",
       "    <tr>\n",
       "      <th>1</th>\n",
       "      <td>H2(g)</td>\n",
       "      <td>0.0</td>\n",
       "      <td>0.0</td>\n",
       "      <td>130.57</td>\n",
       "      <td>28.82</td>\n",
       "    </tr>\n",
       "    <tr>\n",
       "      <th>2</th>\n",
       "      <td>H+(aq)</td>\n",
       "      <td>0.0</td>\n",
       "      <td>0.0</td>\n",
       "      <td>0.00</td>\n",
       "      <td>0.00</td>\n",
       "    </tr>\n",
       "    <tr>\n",
       "      <th>3</th>\n",
       "      <td>H3O+(aq)</td>\n",
       "      <td>-237180.0</td>\n",
       "      <td>-285830.0</td>\n",
       "      <td>69.91</td>\n",
       "      <td>75.29</td>\n",
       "    </tr>\n",
       "    <tr>\n",
       "      <th>4</th>\n",
       "      <td>Li(s)</td>\n",
       "      <td>0.0</td>\n",
       "      <td>0.0</td>\n",
       "      <td>29.12</td>\n",
       "      <td>24.77</td>\n",
       "    </tr>\n",
       "  </tbody>\n",
       "</table>\n",
       "</div>"
      ],
      "text/plain": [
       "    formula         G         H       S     Cp\n",
       "0      H(g)  203260.0  217960.0  114.60  20.78\n",
       "1     H2(g)       0.0       0.0  130.57  28.82\n",
       "2    H+(aq)       0.0       0.0    0.00   0.00\n",
       "3  H3O+(aq) -237180.0 -285830.0   69.91  75.29\n",
       "4     Li(s)       0.0       0.0   29.12  24.77"
      ]
     },
     "execution_count": 27,
     "metadata": {},
     "output_type": "execute_result"
    }
   ],
   "source": [
    "oxtoby_df = oxtoby_df[['formula', 'G', 'H', 'S', 'Cp']]\n",
    "oxtoby_df.head()"
   ]
  },
  {
   "cell_type": "code",
   "execution_count": 28,
   "metadata": {},
   "outputs": [
    {
     "data": {
      "text/plain": [
       "formula     0\n",
       "G           2\n",
       "H           0\n",
       "S           2\n",
       "Cp         73\n",
       "dtype: int64"
      ]
     },
     "execution_count": 28,
     "metadata": {},
     "output_type": "execute_result"
    }
   ],
   "source": [
    "oxtoby_df.isna().sum()"
   ]
  },
  {
   "cell_type": "code",
   "execution_count": 29,
   "metadata": {},
   "outputs": [
    {
     "data": {
      "text/plain": [
       "(360, 5)"
      ]
     },
     "execution_count": 29,
     "metadata": {},
     "output_type": "execute_result"
    }
   ],
   "source": [
    "oxtoby_df = oxtoby_df.dropna(subset=['G'])\n",
    "oxtoby_df.shape"
   ]
  },
  {
   "cell_type": "markdown",
   "metadata": {},
   "source": [
    "## Combining Tables"
   ]
  },
  {
   "cell_type": "code",
   "execution_count": 30,
   "metadata": {},
   "outputs": [
    {
     "name": "stderr",
     "output_type": "stream",
     "text": [
      "/Users/Jelly/anaconda3/lib/python3.7/site-packages/ipykernel_launcher.py:1: FutureWarning: Sorting because non-concatenation axis is not aligned. A future version\n",
      "of pandas will change to not sort by default.\n",
      "\n",
      "To accept the future behavior, pass 'sort=False'.\n",
      "\n",
      "To retain the current behavior and silence the warning, pass 'sort=True'.\n",
      "\n",
      "  \"\"\"Entry point for launching an IPython kernel.\n"
     ]
    },
    {
     "data": {
      "text/html": [
       "<div>\n",
       "<style scoped>\n",
       "    .dataframe tbody tr th:only-of-type {\n",
       "        vertical-align: middle;\n",
       "    }\n",
       "\n",
       "    .dataframe tbody tr th {\n",
       "        vertical-align: top;\n",
       "    }\n",
       "\n",
       "    .dataframe thead th {\n",
       "        text-align: right;\n",
       "    }\n",
       "</style>\n",
       "<table border=\"1\" class=\"dataframe\">\n",
       "  <thead>\n",
       "    <tr style=\"text-align: right;\">\n",
       "      <th></th>\n",
       "      <th>Cp</th>\n",
       "      <th>G</th>\n",
       "      <th>H</th>\n",
       "      <th>S</th>\n",
       "      <th>abbrv</th>\n",
       "      <th>formula</th>\n",
       "      <th>name</th>\n",
       "    </tr>\n",
       "  </thead>\n",
       "  <tbody>\n",
       "    <tr>\n",
       "      <th>0</th>\n",
       "      <td>75.29000</td>\n",
       "      <td>-237180.000</td>\n",
       "      <td>-285830.000</td>\n",
       "      <td>69.910000</td>\n",
       "      <td>NaN</td>\n",
       "      <td>H2O(l)</td>\n",
       "      <td>water</td>\n",
       "    </tr>\n",
       "    <tr>\n",
       "      <th>1</th>\n",
       "      <td>0.00000</td>\n",
       "      <td>0.000</td>\n",
       "      <td>0.000</td>\n",
       "      <td>65.339854</td>\n",
       "      <td>NaN</td>\n",
       "      <td>e-(aq)</td>\n",
       "      <td>e-</td>\n",
       "    </tr>\n",
       "    <tr>\n",
       "      <th>2</th>\n",
       "      <td>0.00000</td>\n",
       "      <td>0.000</td>\n",
       "      <td>0.000</td>\n",
       "      <td>0.000000</td>\n",
       "      <td>H+</td>\n",
       "      <td>H+(aq)</td>\n",
       "      <td>H+</td>\n",
       "    </tr>\n",
       "    <tr>\n",
       "      <th>3</th>\n",
       "      <td>59.41280</td>\n",
       "      <td>-292599.672</td>\n",
       "      <td>-278453.568</td>\n",
       "      <td>11.296800</td>\n",
       "      <td>Li+</td>\n",
       "      <td>Li+(aq)</td>\n",
       "      <td>Li+</td>\n",
       "    </tr>\n",
       "    <tr>\n",
       "      <th>4</th>\n",
       "      <td>37.90704</td>\n",
       "      <td>-261880.744</td>\n",
       "      <td>-240299.672</td>\n",
       "      <td>58.408640</td>\n",
       "      <td>Na+</td>\n",
       "      <td>Na+(aq)</td>\n",
       "      <td>Na+</td>\n",
       "    </tr>\n",
       "  </tbody>\n",
       "</table>\n",
       "</div>"
      ],
      "text/plain": [
       "         Cp           G           H          S abbrv  formula   name\n",
       "0  75.29000 -237180.000 -285830.000  69.910000   NaN   H2O(l)  water\n",
       "1   0.00000       0.000       0.000  65.339854   NaN   e-(aq)     e-\n",
       "2   0.00000       0.000       0.000   0.000000    H+   H+(aq)     H+\n",
       "3  59.41280 -292599.672 -278453.568  11.296800   Li+  Li+(aq)    Li+\n",
       "4  37.90704 -261880.744 -240299.672  58.408640   Na+  Na+(aq)    Na+"
      ]
     },
     "execution_count": 30,
     "metadata": {},
     "output_type": "execute_result"
    }
   ],
   "source": [
    "thermo_df = pd.concat([chnosz, oxtoby_df], ignore_index=True).fillna(np.NaN)\n",
    "thermo_df.head()"
   ]
  },
  {
   "cell_type": "code",
   "execution_count": 31,
   "metadata": {},
   "outputs": [
    {
     "data": {
      "text/html": [
       "<div>\n",
       "<style scoped>\n",
       "    .dataframe tbody tr th:only-of-type {\n",
       "        vertical-align: middle;\n",
       "    }\n",
       "\n",
       "    .dataframe tbody tr th {\n",
       "        vertical-align: top;\n",
       "    }\n",
       "\n",
       "    .dataframe thead th {\n",
       "        text-align: right;\n",
       "    }\n",
       "</style>\n",
       "<table border=\"1\" class=\"dataframe\">\n",
       "  <thead>\n",
       "    <tr style=\"text-align: right;\">\n",
       "      <th></th>\n",
       "      <th>formula</th>\n",
       "      <th>abbrv</th>\n",
       "      <th>name</th>\n",
       "      <th>G</th>\n",
       "      <th>H</th>\n",
       "      <th>S</th>\n",
       "      <th>Cp</th>\n",
       "    </tr>\n",
       "  </thead>\n",
       "  <tbody>\n",
       "    <tr>\n",
       "      <th>3444</th>\n",
       "      <td>IBr(g)</td>\n",
       "      <td>NaN</td>\n",
       "      <td>NaN</td>\n",
       "      <td>3710.0</td>\n",
       "      <td>40840.0</td>\n",
       "      <td>258.66</td>\n",
       "      <td>36.44</td>\n",
       "    </tr>\n",
       "    <tr>\n",
       "      <th>3445</th>\n",
       "      <td>Ne(g)</td>\n",
       "      <td>NaN</td>\n",
       "      <td>NaN</td>\n",
       "      <td>0.0</td>\n",
       "      <td>0.0</td>\n",
       "      <td>146.22</td>\n",
       "      <td>20.79</td>\n",
       "    </tr>\n",
       "    <tr>\n",
       "      <th>3446</th>\n",
       "      <td>Ar(g)</td>\n",
       "      <td>NaN</td>\n",
       "      <td>NaN</td>\n",
       "      <td>0.0</td>\n",
       "      <td>0.0</td>\n",
       "      <td>154.73</td>\n",
       "      <td>20.79</td>\n",
       "    </tr>\n",
       "    <tr>\n",
       "      <th>3447</th>\n",
       "      <td>Kr(g)</td>\n",
       "      <td>NaN</td>\n",
       "      <td>NaN</td>\n",
       "      <td>0.0</td>\n",
       "      <td>0.0</td>\n",
       "      <td>163.97</td>\n",
       "      <td>20.79</td>\n",
       "    </tr>\n",
       "    <tr>\n",
       "      <th>3448</th>\n",
       "      <td>Xe(g)</td>\n",
       "      <td>NaN</td>\n",
       "      <td>NaN</td>\n",
       "      <td>0.0</td>\n",
       "      <td>0.0</td>\n",
       "      <td>169.57</td>\n",
       "      <td>20.79</td>\n",
       "    </tr>\n",
       "  </tbody>\n",
       "</table>\n",
       "</div>"
      ],
      "text/plain": [
       "     formula abbrv name       G        H       S     Cp\n",
       "3444  IBr(g)   NaN  NaN  3710.0  40840.0  258.66  36.44\n",
       "3445   Ne(g)   NaN  NaN     0.0      0.0  146.22  20.79\n",
       "3446   Ar(g)   NaN  NaN     0.0      0.0  154.73  20.79\n",
       "3447   Kr(g)   NaN  NaN     0.0      0.0  163.97  20.79\n",
       "3448   Xe(g)   NaN  NaN     0.0      0.0  169.57  20.79"
      ]
     },
     "execution_count": 31,
     "metadata": {},
     "output_type": "execute_result"
    }
   ],
   "source": [
    "thermo_df = thermo_df[['formula', 'abbrv', 'name', 'G', 'H', 'S', 'Cp']]\n",
    "thermo_df.tail()"
   ]
  },
  {
   "cell_type": "code",
   "execution_count": 32,
   "metadata": {},
   "outputs": [
    {
     "data": {
      "text/plain": [
       "(3449, 7)"
      ]
     },
     "execution_count": 32,
     "metadata": {},
     "output_type": "execute_result"
    }
   ],
   "source": [
    "thermo_df.shape"
   ]
  },
  {
   "cell_type": "code",
   "execution_count": 33,
   "metadata": {},
   "outputs": [
    {
     "data": {
      "text/plain": [
       "(2837, 7)"
      ]
     },
     "execution_count": 33,
     "metadata": {},
     "output_type": "execute_result"
    }
   ],
   "source": [
    "thermo_df.drop_duplicates(subset='formula', keep='last', inplace=True)\n",
    "thermo_df.reset_index(drop=True, inplace=True)\n",
    "thermo_df.shape"
   ]
  },
  {
   "cell_type": "code",
   "execution_count": 34,
   "metadata": {},
   "outputs": [
    {
     "data": {
      "text/plain": [
       "Int64Index([1765, 1766, 1767, 1770, 1785, 1787, 2596], dtype='int64')"
      ]
     },
     "execution_count": 34,
     "metadata": {},
     "output_type": "execute_result"
    }
   ],
   "source": [
    "thermo_df[thermo_df['formula'].str.contains('\\.')].index"
   ]
  },
  {
   "cell_type": "code",
   "execution_count": 35,
   "metadata": {},
   "outputs": [
    {
     "data": {
      "text/plain": [
       "(2830, 7)"
      ]
     },
     "execution_count": 35,
     "metadata": {},
     "output_type": "execute_result"
    }
   ],
   "source": [
    "thermo_df = thermo_df.drop(index=thermo_df[thermo_df['formula'].str.contains('\\.')].index)\n",
    "thermo_df.reset_index(drop=True, inplace=True)\n",
    "thermo_df.shape"
   ]
  },
  {
   "cell_type": "code",
   "execution_count": 36,
   "metadata": {},
   "outputs": [],
   "source": [
    "def formula_state_separator(formula, keep_state=False):\n",
    "    '''\n",
    "    Separates the state from a formula string.\n",
    "    \n",
    "    --Parameters--\n",
    "    formula:        str\n",
    "        a string of a single chemical formula\n",
    "    \n",
    "    --Output--\n",
    "    tuple (str)\n",
    "        \n",
    "    --Examples--\n",
    "    >>> formula_state_separator('NaCl(aq)')\n",
    "    ('NaCl', 'aq')\n",
    "    \n",
    "    >>> formula_state_separator('NaCl')\n",
    "    'NaCl'\n",
    "    '''\n",
    "    try:\n",
    "        regex = re.search('(?<=\\()[aglsq]+', formula)\n",
    "        formula = formula[:regex.start() - 1]\n",
    "        if keep_state:\n",
    "            state = regex.group(0)\n",
    "            return formula, state\n",
    "        else:\n",
    "            return formula\n",
    "    except:\n",
    "        return formula_state_separator"
   ]
  },
  {
   "cell_type": "code",
   "execution_count": 37,
   "metadata": {},
   "outputs": [
    {
     "data": {
      "text/plain": [
       "['e-', 'HCO3-', 'NO3-', 'NO2-', 'NH4+']"
      ]
     },
     "execution_count": 37,
     "metadata": {},
     "output_type": "execute_result"
    }
   ],
   "source": [
    "formulas = [formula_state_separator(f) for f in thermo_df['formula'].astype(str)]\n",
    "formulas[:5]"
   ]
  },
  {
   "cell_type": "code",
   "execution_count": 38,
   "metadata": {},
   "outputs": [
    {
     "data": {
      "text/plain": [
       "['e-',\n",
       " 'HCO3-',\n",
       " 'NO3-',\n",
       " 'NO2-',\n",
       " 'NH4+',\n",
       " 'H2PO4-',\n",
       " 'HSO3-',\n",
       " 'HSO4-',\n",
       " 'S2O3-2',\n",
       " 'S2O8-2']"
      ]
     },
     "execution_count": 38,
     "metadata": {},
     "output_type": "execute_result"
    }
   ],
   "source": [
    "new_list = []\n",
    "for a, f in zip(list(thermo_df['abbrv']), formulas):\n",
    "    if pd.isna(a):\n",
    "        new_list.append(f)\n",
    "    else:\n",
    "        new_list.append(a)\n",
    "new_list[:10]"
   ]
  },
  {
   "cell_type": "code",
   "execution_count": 39,
   "metadata": {},
   "outputs": [],
   "source": [
    "thermo_df['abbrv'] = new_list"
   ]
  },
  {
   "cell_type": "code",
   "execution_count": 40,
   "metadata": {},
   "outputs": [
    {
     "data": {
      "text/html": [
       "<div>\n",
       "<style scoped>\n",
       "    .dataframe tbody tr th:only-of-type {\n",
       "        vertical-align: middle;\n",
       "    }\n",
       "\n",
       "    .dataframe tbody tr th {\n",
       "        vertical-align: top;\n",
       "    }\n",
       "\n",
       "    .dataframe thead th {\n",
       "        text-align: right;\n",
       "    }\n",
       "</style>\n",
       "<table border=\"1\" class=\"dataframe\">\n",
       "  <thead>\n",
       "    <tr style=\"text-align: right;\">\n",
       "      <th></th>\n",
       "      <th>formula</th>\n",
       "      <th>abbrv</th>\n",
       "      <th>name</th>\n",
       "      <th>G</th>\n",
       "      <th>H</th>\n",
       "      <th>S</th>\n",
       "      <th>Cp</th>\n",
       "    </tr>\n",
       "  </thead>\n",
       "  <tbody>\n",
       "    <tr>\n",
       "      <th>0</th>\n",
       "      <td>e-(aq)</td>\n",
       "      <td>e-</td>\n",
       "      <td>e-</td>\n",
       "      <td>0.000</td>\n",
       "      <td>0.000</td>\n",
       "      <td>65.339854</td>\n",
       "      <td>0.00000</td>\n",
       "    </tr>\n",
       "    <tr>\n",
       "      <th>1</th>\n",
       "      <td>HCO3-(aq)</td>\n",
       "      <td>HCO3-</td>\n",
       "      <td>HCO3-</td>\n",
       "      <td>-586939.888</td>\n",
       "      <td>-689933.232</td>\n",
       "      <td>98.449520</td>\n",
       "      <td>-35.39664</td>\n",
       "    </tr>\n",
       "    <tr>\n",
       "      <th>2</th>\n",
       "      <td>NO3-(aq)</td>\n",
       "      <td>NO3-</td>\n",
       "      <td>NO3-</td>\n",
       "      <td>-110905.288</td>\n",
       "      <td>-206810.936</td>\n",
       "      <td>146.942080</td>\n",
       "      <td>-68.61760</td>\n",
       "    </tr>\n",
       "    <tr>\n",
       "      <th>3</th>\n",
       "      <td>NO2-(aq)</td>\n",
       "      <td>NO2-</td>\n",
       "      <td>NO2-</td>\n",
       "      <td>-32216.800</td>\n",
       "      <td>-104600.000</td>\n",
       "      <td>123.009600</td>\n",
       "      <td>-97.48720</td>\n",
       "    </tr>\n",
       "    <tr>\n",
       "      <th>4</th>\n",
       "      <td>NH4+(aq)</td>\n",
       "      <td>NH4+</td>\n",
       "      <td>NH4+</td>\n",
       "      <td>-79454.160</td>\n",
       "      <td>-133260.400</td>\n",
       "      <td>111.168880</td>\n",
       "      <td>65.85616</td>\n",
       "    </tr>\n",
       "  </tbody>\n",
       "</table>\n",
       "</div>"
      ],
      "text/plain": [
       "     formula  abbrv   name           G           H           S        Cp\n",
       "0     e-(aq)     e-     e-       0.000       0.000   65.339854   0.00000\n",
       "1  HCO3-(aq)  HCO3-  HCO3- -586939.888 -689933.232   98.449520 -35.39664\n",
       "2   NO3-(aq)   NO3-   NO3- -110905.288 -206810.936  146.942080 -68.61760\n",
       "3   NO2-(aq)   NO2-   NO2-  -32216.800 -104600.000  123.009600 -97.48720\n",
       "4   NH4+(aq)   NH4+   NH4+  -79454.160 -133260.400  111.168880  65.85616"
      ]
     },
     "execution_count": 40,
     "metadata": {},
     "output_type": "execute_result"
    }
   ],
   "source": [
    "thermo_df.head()"
   ]
  },
  {
   "cell_type": "code",
   "execution_count": 41,
   "metadata": {},
   "outputs": [
    {
     "data": {
      "text/html": [
       "<div>\n",
       "<style scoped>\n",
       "    .dataframe tbody tr th:only-of-type {\n",
       "        vertical-align: middle;\n",
       "    }\n",
       "\n",
       "    .dataframe tbody tr th {\n",
       "        vertical-align: top;\n",
       "    }\n",
       "\n",
       "    .dataframe thead th {\n",
       "        text-align: right;\n",
       "    }\n",
       "</style>\n",
       "<table border=\"1\" class=\"dataframe\">\n",
       "  <thead>\n",
       "    <tr style=\"text-align: right;\">\n",
       "      <th></th>\n",
       "      <th>formula</th>\n",
       "      <th>abbrv</th>\n",
       "      <th>name</th>\n",
       "      <th>G</th>\n",
       "      <th>H</th>\n",
       "      <th>S</th>\n",
       "      <th>Cp</th>\n",
       "    </tr>\n",
       "  </thead>\n",
       "  <tbody>\n",
       "    <tr>\n",
       "      <th>2825</th>\n",
       "      <td>IBr(g)</td>\n",
       "      <td>IBr</td>\n",
       "      <td>NaN</td>\n",
       "      <td>3710.0</td>\n",
       "      <td>40840.0</td>\n",
       "      <td>258.66</td>\n",
       "      <td>36.44</td>\n",
       "    </tr>\n",
       "    <tr>\n",
       "      <th>2826</th>\n",
       "      <td>Ne(g)</td>\n",
       "      <td>Ne</td>\n",
       "      <td>NaN</td>\n",
       "      <td>0.0</td>\n",
       "      <td>0.0</td>\n",
       "      <td>146.22</td>\n",
       "      <td>20.79</td>\n",
       "    </tr>\n",
       "    <tr>\n",
       "      <th>2827</th>\n",
       "      <td>Ar(g)</td>\n",
       "      <td>Ar</td>\n",
       "      <td>NaN</td>\n",
       "      <td>0.0</td>\n",
       "      <td>0.0</td>\n",
       "      <td>154.73</td>\n",
       "      <td>20.79</td>\n",
       "    </tr>\n",
       "    <tr>\n",
       "      <th>2828</th>\n",
       "      <td>Kr(g)</td>\n",
       "      <td>Kr</td>\n",
       "      <td>NaN</td>\n",
       "      <td>0.0</td>\n",
       "      <td>0.0</td>\n",
       "      <td>163.97</td>\n",
       "      <td>20.79</td>\n",
       "    </tr>\n",
       "    <tr>\n",
       "      <th>2829</th>\n",
       "      <td>Xe(g)</td>\n",
       "      <td>Xe</td>\n",
       "      <td>NaN</td>\n",
       "      <td>0.0</td>\n",
       "      <td>0.0</td>\n",
       "      <td>169.57</td>\n",
       "      <td>20.79</td>\n",
       "    </tr>\n",
       "  </tbody>\n",
       "</table>\n",
       "</div>"
      ],
      "text/plain": [
       "     formula abbrv name       G        H       S     Cp\n",
       "2825  IBr(g)   IBr  NaN  3710.0  40840.0  258.66  36.44\n",
       "2826   Ne(g)    Ne  NaN     0.0      0.0  146.22  20.79\n",
       "2827   Ar(g)    Ar  NaN     0.0      0.0  154.73  20.79\n",
       "2828   Kr(g)    Kr  NaN     0.0      0.0  163.97  20.79\n",
       "2829   Xe(g)    Xe  NaN     0.0      0.0  169.57  20.79"
      ]
     },
     "execution_count": 41,
     "metadata": {},
     "output_type": "execute_result"
    }
   ],
   "source": [
    "thermo_df.tail()"
   ]
  },
  {
   "cell_type": "code",
   "execution_count": 42,
   "metadata": {},
   "outputs": [
    {
     "data": {
      "text/plain": [
       "[0.0005489, 61.0165489, 62.004548899999996, 46.0055489, 18.038451100000003]"
      ]
     },
     "execution_count": 42,
     "metadata": {},
     "output_type": "execute_result"
    }
   ],
   "source": [
    "masses = [Substance.from_formula(f).mass for f in thermo_df['formula'].astype(str)]\n",
    "masses[:5]"
   ]
  },
  {
   "cell_type": "code",
   "execution_count": 43,
   "metadata": {},
   "outputs": [],
   "source": [
    "thermo_df['mass'] = masses"
   ]
  },
  {
   "cell_type": "code",
   "execution_count": 44,
   "metadata": {},
   "outputs": [],
   "source": [
    "pickle.dump(thermo_df, open('../data/processed/thermo_df.p', 'wb'))"
   ]
  },
  {
   "cell_type": "markdown",
   "metadata": {},
   "source": [
    "## replicate CHNOSZ stoichiometry csv\n",
    "\n",
    "Originally, I had imported the `CHNOSZ` stoichiometry csv. However, I found the need to update it with whatever new entries were present in `thermo`.\n",
    "\n",
    "The stoichiometry csv is formatted so that each formula is count-vectorized by element."
   ]
  },
  {
   "cell_type": "code",
   "execution_count": 45,
   "metadata": {},
   "outputs": [
    {
     "data": {
      "text/html": [
       "<div>\n",
       "<style scoped>\n",
       "    .dataframe tbody tr th:only-of-type {\n",
       "        vertical-align: middle;\n",
       "    }\n",
       "\n",
       "    .dataframe tbody tr th {\n",
       "        vertical-align: top;\n",
       "    }\n",
       "\n",
       "    .dataframe thead th {\n",
       "        text-align: right;\n",
       "    }\n",
       "</style>\n",
       "<table border=\"1\" class=\"dataframe\">\n",
       "  <thead>\n",
       "    <tr style=\"text-align: right;\">\n",
       "      <th></th>\n",
       "      <th>Unnamed: 0</th>\n",
       "      <th>Ag</th>\n",
       "      <th>Al</th>\n",
       "      <th>Ar</th>\n",
       "      <th>As</th>\n",
       "      <th>Au</th>\n",
       "      <th>B</th>\n",
       "      <th>Ba</th>\n",
       "      <th>Be</th>\n",
       "      <th>Bi</th>\n",
       "      <th>...</th>\n",
       "      <th>Tm</th>\n",
       "      <th>U</th>\n",
       "      <th>V</th>\n",
       "      <th>W</th>\n",
       "      <th>Xe</th>\n",
       "      <th>Y</th>\n",
       "      <th>Yb</th>\n",
       "      <th>Z</th>\n",
       "      <th>Zn</th>\n",
       "      <th>Zr</th>\n",
       "    </tr>\n",
       "  </thead>\n",
       "  <tbody>\n",
       "    <tr>\n",
       "      <th>0</th>\n",
       "      <td>H2O</td>\n",
       "      <td>0</td>\n",
       "      <td>0.0</td>\n",
       "      <td>0</td>\n",
       "      <td>0</td>\n",
       "      <td>0</td>\n",
       "      <td>0</td>\n",
       "      <td>0</td>\n",
       "      <td>0</td>\n",
       "      <td>0</td>\n",
       "      <td>...</td>\n",
       "      <td>0</td>\n",
       "      <td>0</td>\n",
       "      <td>0</td>\n",
       "      <td>0</td>\n",
       "      <td>0</td>\n",
       "      <td>0</td>\n",
       "      <td>0</td>\n",
       "      <td>0</td>\n",
       "      <td>0</td>\n",
       "      <td>0</td>\n",
       "    </tr>\n",
       "    <tr>\n",
       "      <th>1</th>\n",
       "      <td>(Z-1)</td>\n",
       "      <td>0</td>\n",
       "      <td>0.0</td>\n",
       "      <td>0</td>\n",
       "      <td>0</td>\n",
       "      <td>0</td>\n",
       "      <td>0</td>\n",
       "      <td>0</td>\n",
       "      <td>0</td>\n",
       "      <td>0</td>\n",
       "      <td>...</td>\n",
       "      <td>0</td>\n",
       "      <td>0</td>\n",
       "      <td>0</td>\n",
       "      <td>0</td>\n",
       "      <td>0</td>\n",
       "      <td>0</td>\n",
       "      <td>0</td>\n",
       "      <td>-1</td>\n",
       "      <td>0</td>\n",
       "      <td>0</td>\n",
       "    </tr>\n",
       "    <tr>\n",
       "      <th>2</th>\n",
       "      <td>H+</td>\n",
       "      <td>0</td>\n",
       "      <td>0.0</td>\n",
       "      <td>0</td>\n",
       "      <td>0</td>\n",
       "      <td>0</td>\n",
       "      <td>0</td>\n",
       "      <td>0</td>\n",
       "      <td>0</td>\n",
       "      <td>0</td>\n",
       "      <td>...</td>\n",
       "      <td>0</td>\n",
       "      <td>0</td>\n",
       "      <td>0</td>\n",
       "      <td>0</td>\n",
       "      <td>0</td>\n",
       "      <td>0</td>\n",
       "      <td>0</td>\n",
       "      <td>1</td>\n",
       "      <td>0</td>\n",
       "      <td>0</td>\n",
       "    </tr>\n",
       "    <tr>\n",
       "      <th>3</th>\n",
       "      <td>Li+</td>\n",
       "      <td>0</td>\n",
       "      <td>0.0</td>\n",
       "      <td>0</td>\n",
       "      <td>0</td>\n",
       "      <td>0</td>\n",
       "      <td>0</td>\n",
       "      <td>0</td>\n",
       "      <td>0</td>\n",
       "      <td>0</td>\n",
       "      <td>...</td>\n",
       "      <td>0</td>\n",
       "      <td>0</td>\n",
       "      <td>0</td>\n",
       "      <td>0</td>\n",
       "      <td>0</td>\n",
       "      <td>0</td>\n",
       "      <td>0</td>\n",
       "      <td>1</td>\n",
       "      <td>0</td>\n",
       "      <td>0</td>\n",
       "    </tr>\n",
       "    <tr>\n",
       "      <th>4</th>\n",
       "      <td>Na+</td>\n",
       "      <td>0</td>\n",
       "      <td>0.0</td>\n",
       "      <td>0</td>\n",
       "      <td>0</td>\n",
       "      <td>0</td>\n",
       "      <td>0</td>\n",
       "      <td>0</td>\n",
       "      <td>0</td>\n",
       "      <td>0</td>\n",
       "      <td>...</td>\n",
       "      <td>0</td>\n",
       "      <td>0</td>\n",
       "      <td>0</td>\n",
       "      <td>0</td>\n",
       "      <td>0</td>\n",
       "      <td>0</td>\n",
       "      <td>0</td>\n",
       "      <td>1</td>\n",
       "      <td>0</td>\n",
       "      <td>0</td>\n",
       "    </tr>\n",
       "  </tbody>\n",
       "</table>\n",
       "<p>5 rows × 86 columns</p>\n",
       "</div>"
      ],
      "text/plain": [
       "  Unnamed: 0  Ag   Al  Ar  As  Au  B  Ba  Be  Bi  ...  Tm  U  V  W  Xe  Y  Yb  \\\n",
       "0        H2O   0  0.0   0   0   0  0   0   0   0  ...   0  0  0  0   0  0   0   \n",
       "1      (Z-1)   0  0.0   0   0   0  0   0   0   0  ...   0  0  0  0   0  0   0   \n",
       "2         H+   0  0.0   0   0   0  0   0   0   0  ...   0  0  0  0   0  0   0   \n",
       "3        Li+   0  0.0   0   0   0  0   0   0   0  ...   0  0  0  0   0  0   0   \n",
       "4        Na+   0  0.0   0   0   0  0   0   0   0  ...   0  0  0  0   0  0   0   \n",
       "\n",
       "   Z  Zn  Zr  \n",
       "0  0   0   0  \n",
       "1 -1   0   0  \n",
       "2  1   0   0  \n",
       "3  1   0   0  \n",
       "4  1   0   0  \n",
       "\n",
       "[5 rows x 86 columns]"
      ]
     },
     "execution_count": 45,
     "metadata": {},
     "output_type": "execute_result"
    }
   ],
   "source": [
    "stoich_og = pd.read_csv('../data/external/thermo/chnosz_stoich.csv')\n",
    "stoich_og.head()"
   ]
  },
  {
   "cell_type": "markdown",
   "metadata": {},
   "source": [
    "For my workflow, we will rename the columns by atomic number and have charge occupy column `0` to be in-line with how `chempy` works. We'll recreate this by scanning the formulas in `thermo` and then vectorizing the formulas."
   ]
  },
  {
   "cell_type": "code",
   "execution_count": 46,
   "metadata": {},
   "outputs": [
    {
     "data": {
      "text/plain": [
       "'ClO3-(aq)'"
      ]
     },
     "execution_count": 46,
     "metadata": {},
     "output_type": "execute_result"
    }
   ],
   "source": [
    "thermo_df.loc[10, 'formula']"
   ]
  },
  {
   "cell_type": "code",
   "execution_count": 49,
   "metadata": {},
   "outputs": [
    {
     "data": {
      "text/plain": [
       "{17: 1, 8: 3, 0: -1}"
      ]
     },
     "execution_count": 49,
     "metadata": {},
     "output_type": "execute_result"
    }
   ],
   "source": [
    "chlorate = Substance.from_formula(thermo_df.loc[10, 'formula'])\n",
    "chlorate.composition"
   ]
  },
  {
   "cell_type": "code",
   "execution_count": 50,
   "metadata": {},
   "outputs": [
    {
     "name": "stdout",
     "output_type": "stream",
     "text": [
      "17 1\n",
      "8 3\n",
      "0 -1\n"
     ]
    }
   ],
   "source": [
    "for k, v in chlorate.composition.items():\n",
    "    print (k, v)"
   ]
  },
  {
   "cell_type": "markdown",
   "metadata": {},
   "source": [
    "Using `chempy` it becomes quite simple to vectorize.\n",
    "\n",
    "From the composition dictionary:\n",
    "\n",
    "- key $\\Rightarrow$ `stoich[key]`  \n",
    "- value $\\Rightarrow$ `stoich.at[index, key]`"
   ]
  },
  {
   "cell_type": "code",
   "execution_count": 52,
   "metadata": {},
   "outputs": [],
   "source": [
    "formulas = set(thermo_df['formula'])"
   ]
  },
  {
   "cell_type": "code",
   "execution_count": 53,
   "metadata": {},
   "outputs": [
    {
     "data": {
      "text/html": [
       "<div>\n",
       "<style scoped>\n",
       "    .dataframe tbody tr th:only-of-type {\n",
       "        vertical-align: middle;\n",
       "    }\n",
       "\n",
       "    .dataframe tbody tr th {\n",
       "        vertical-align: top;\n",
       "    }\n",
       "\n",
       "    .dataframe thead th {\n",
       "        text-align: right;\n",
       "    }\n",
       "</style>\n",
       "<table border=\"1\" class=\"dataframe\">\n",
       "  <thead>\n",
       "    <tr style=\"text-align: right;\">\n",
       "      <th></th>\n",
       "      <th>0</th>\n",
       "    </tr>\n",
       "  </thead>\n",
       "  <tbody>\n",
       "    <tr>\n",
       "      <th>0</th>\n",
       "      <td>C4H9SH(aq)</td>\n",
       "    </tr>\n",
       "    <tr>\n",
       "      <th>1</th>\n",
       "      <td>C10H14N5O10P2-(aq)</td>\n",
       "    </tr>\n",
       "    <tr>\n",
       "      <th>2</th>\n",
       "      <td>C5H12S2(l)</td>\n",
       "    </tr>\n",
       "    <tr>\n",
       "      <th>3</th>\n",
       "      <td>C7H12(aq)</td>\n",
       "    </tr>\n",
       "    <tr>\n",
       "      <th>4</th>\n",
       "      <td>C6H10N3O2+(aq)</td>\n",
       "    </tr>\n",
       "  </tbody>\n",
       "</table>\n",
       "</div>"
      ],
      "text/plain": [
       "                    0\n",
       "0          C4H9SH(aq)\n",
       "1  C10H14N5O10P2-(aq)\n",
       "2          C5H12S2(l)\n",
       "3           C7H12(aq)\n",
       "4      C6H10N3O2+(aq)"
      ]
     },
     "execution_count": 53,
     "metadata": {},
     "output_type": "execute_result"
    }
   ],
   "source": [
    "stoich_df = pd.DataFrame(formulas)\n",
    "stoich_df.head()"
   ]
  },
  {
   "cell_type": "code",
   "execution_count": 54,
   "metadata": {},
   "outputs": [
    {
     "data": {
      "text/html": [
       "<div>\n",
       "<style scoped>\n",
       "    .dataframe tbody tr th:only-of-type {\n",
       "        vertical-align: middle;\n",
       "    }\n",
       "\n",
       "    .dataframe tbody tr th {\n",
       "        vertical-align: top;\n",
       "    }\n",
       "\n",
       "    .dataframe thead th {\n",
       "        text-align: right;\n",
       "    }\n",
       "</style>\n",
       "<table border=\"1\" class=\"dataframe\">\n",
       "  <thead>\n",
       "    <tr style=\"text-align: right;\">\n",
       "      <th></th>\n",
       "      <th>-1</th>\n",
       "    </tr>\n",
       "  </thead>\n",
       "  <tbody>\n",
       "    <tr>\n",
       "      <th>0</th>\n",
       "      <td>C4H9SH(aq)</td>\n",
       "    </tr>\n",
       "    <tr>\n",
       "      <th>1</th>\n",
       "      <td>C10H14N5O10P2-(aq)</td>\n",
       "    </tr>\n",
       "    <tr>\n",
       "      <th>2</th>\n",
       "      <td>C5H12S2(l)</td>\n",
       "    </tr>\n",
       "    <tr>\n",
       "      <th>3</th>\n",
       "      <td>C7H12(aq)</td>\n",
       "    </tr>\n",
       "    <tr>\n",
       "      <th>4</th>\n",
       "      <td>C6H10N3O2+(aq)</td>\n",
       "    </tr>\n",
       "  </tbody>\n",
       "</table>\n",
       "</div>"
      ],
      "text/plain": [
       "                   -1\n",
       "0          C4H9SH(aq)\n",
       "1  C10H14N5O10P2-(aq)\n",
       "2          C5H12S2(l)\n",
       "3           C7H12(aq)\n",
       "4      C6H10N3O2+(aq)"
      ]
     },
     "execution_count": 54,
     "metadata": {},
     "output_type": "execute_result"
    }
   ],
   "source": [
    "# naming the column -1 for now so we can sort them later\n",
    "\n",
    "stoich_df.columns = [-1]\n",
    "stoich_df.head()"
   ]
  },
  {
   "cell_type": "code",
   "execution_count": 55,
   "metadata": {},
   "outputs": [
    {
     "data": {
      "text/html": [
       "<div>\n",
       "<style scoped>\n",
       "    .dataframe tbody tr th:only-of-type {\n",
       "        vertical-align: middle;\n",
       "    }\n",
       "\n",
       "    .dataframe tbody tr th {\n",
       "        vertical-align: top;\n",
       "    }\n",
       "\n",
       "    .dataframe thead th {\n",
       "        text-align: right;\n",
       "    }\n",
       "</style>\n",
       "<table border=\"1\" class=\"dataframe\">\n",
       "  <thead>\n",
       "    <tr style=\"text-align: right;\">\n",
       "      <th></th>\n",
       "      <th>-1</th>\n",
       "      <th>6</th>\n",
       "      <th>1</th>\n",
       "      <th>16</th>\n",
       "      <th>7</th>\n",
       "      <th>8</th>\n",
       "      <th>15</th>\n",
       "      <th>0</th>\n",
       "      <th>63</th>\n",
       "      <th>71</th>\n",
       "      <th>...</th>\n",
       "      <th>10</th>\n",
       "      <th>41</th>\n",
       "      <th>86</th>\n",
       "      <th>18</th>\n",
       "      <th>51</th>\n",
       "      <th>91</th>\n",
       "      <th>75</th>\n",
       "      <th>32</th>\n",
       "      <th>43</th>\n",
       "      <th>87</th>\n",
       "    </tr>\n",
       "  </thead>\n",
       "  <tbody>\n",
       "    <tr>\n",
       "      <th>0</th>\n",
       "      <td>C4H9SH(aq)</td>\n",
       "      <td>4.0</td>\n",
       "      <td>10.0</td>\n",
       "      <td>1.0</td>\n",
       "      <td>NaN</td>\n",
       "      <td>NaN</td>\n",
       "      <td>NaN</td>\n",
       "      <td>NaN</td>\n",
       "      <td>NaN</td>\n",
       "      <td>NaN</td>\n",
       "      <td>...</td>\n",
       "      <td>NaN</td>\n",
       "      <td>NaN</td>\n",
       "      <td>NaN</td>\n",
       "      <td>NaN</td>\n",
       "      <td>NaN</td>\n",
       "      <td>NaN</td>\n",
       "      <td>NaN</td>\n",
       "      <td>NaN</td>\n",
       "      <td>NaN</td>\n",
       "      <td>NaN</td>\n",
       "    </tr>\n",
       "    <tr>\n",
       "      <th>1</th>\n",
       "      <td>C10H14N5O10P2-(aq)</td>\n",
       "      <td>10.0</td>\n",
       "      <td>14.0</td>\n",
       "      <td>NaN</td>\n",
       "      <td>5.0</td>\n",
       "      <td>10.0</td>\n",
       "      <td>2.0</td>\n",
       "      <td>-1.0</td>\n",
       "      <td>NaN</td>\n",
       "      <td>NaN</td>\n",
       "      <td>...</td>\n",
       "      <td>NaN</td>\n",
       "      <td>NaN</td>\n",
       "      <td>NaN</td>\n",
       "      <td>NaN</td>\n",
       "      <td>NaN</td>\n",
       "      <td>NaN</td>\n",
       "      <td>NaN</td>\n",
       "      <td>NaN</td>\n",
       "      <td>NaN</td>\n",
       "      <td>NaN</td>\n",
       "    </tr>\n",
       "    <tr>\n",
       "      <th>2</th>\n",
       "      <td>C5H12S2(l)</td>\n",
       "      <td>5.0</td>\n",
       "      <td>12.0</td>\n",
       "      <td>2.0</td>\n",
       "      <td>NaN</td>\n",
       "      <td>NaN</td>\n",
       "      <td>NaN</td>\n",
       "      <td>NaN</td>\n",
       "      <td>NaN</td>\n",
       "      <td>NaN</td>\n",
       "      <td>...</td>\n",
       "      <td>NaN</td>\n",
       "      <td>NaN</td>\n",
       "      <td>NaN</td>\n",
       "      <td>NaN</td>\n",
       "      <td>NaN</td>\n",
       "      <td>NaN</td>\n",
       "      <td>NaN</td>\n",
       "      <td>NaN</td>\n",
       "      <td>NaN</td>\n",
       "      <td>NaN</td>\n",
       "    </tr>\n",
       "    <tr>\n",
       "      <th>3</th>\n",
       "      <td>C7H12(aq)</td>\n",
       "      <td>7.0</td>\n",
       "      <td>12.0</td>\n",
       "      <td>NaN</td>\n",
       "      <td>NaN</td>\n",
       "      <td>NaN</td>\n",
       "      <td>NaN</td>\n",
       "      <td>NaN</td>\n",
       "      <td>NaN</td>\n",
       "      <td>NaN</td>\n",
       "      <td>...</td>\n",
       "      <td>NaN</td>\n",
       "      <td>NaN</td>\n",
       "      <td>NaN</td>\n",
       "      <td>NaN</td>\n",
       "      <td>NaN</td>\n",
       "      <td>NaN</td>\n",
       "      <td>NaN</td>\n",
       "      <td>NaN</td>\n",
       "      <td>NaN</td>\n",
       "      <td>NaN</td>\n",
       "    </tr>\n",
       "    <tr>\n",
       "      <th>4</th>\n",
       "      <td>C6H10N3O2+(aq)</td>\n",
       "      <td>6.0</td>\n",
       "      <td>10.0</td>\n",
       "      <td>NaN</td>\n",
       "      <td>3.0</td>\n",
       "      <td>2.0</td>\n",
       "      <td>NaN</td>\n",
       "      <td>1.0</td>\n",
       "      <td>NaN</td>\n",
       "      <td>NaN</td>\n",
       "      <td>...</td>\n",
       "      <td>NaN</td>\n",
       "      <td>NaN</td>\n",
       "      <td>NaN</td>\n",
       "      <td>NaN</td>\n",
       "      <td>NaN</td>\n",
       "      <td>NaN</td>\n",
       "      <td>NaN</td>\n",
       "      <td>NaN</td>\n",
       "      <td>NaN</td>\n",
       "      <td>NaN</td>\n",
       "    </tr>\n",
       "  </tbody>\n",
       "</table>\n",
       "<p>5 rows × 87 columns</p>\n",
       "</div>"
      ],
      "text/plain": [
       "                  -1     6     1    16   7     8    15   0    63   71  ...  \\\n",
       "0          C4H9SH(aq)   4.0  10.0  1.0  NaN   NaN  NaN  NaN  NaN  NaN  ...   \n",
       "1  C10H14N5O10P2-(aq)  10.0  14.0  NaN  5.0  10.0  2.0 -1.0  NaN  NaN  ...   \n",
       "2          C5H12S2(l)   5.0  12.0  2.0  NaN   NaN  NaN  NaN  NaN  NaN  ...   \n",
       "3           C7H12(aq)   7.0  12.0  NaN  NaN   NaN  NaN  NaN  NaN  NaN  ...   \n",
       "4      C6H10N3O2+(aq)   6.0  10.0  NaN  3.0   2.0  NaN  1.0  NaN  NaN  ...   \n",
       "\n",
       "    10   41   86   18   51   91   75   32   43   87  \n",
       "0  NaN  NaN  NaN  NaN  NaN  NaN  NaN  NaN  NaN  NaN  \n",
       "1  NaN  NaN  NaN  NaN  NaN  NaN  NaN  NaN  NaN  NaN  \n",
       "2  NaN  NaN  NaN  NaN  NaN  NaN  NaN  NaN  NaN  NaN  \n",
       "3  NaN  NaN  NaN  NaN  NaN  NaN  NaN  NaN  NaN  NaN  \n",
       "4  NaN  NaN  NaN  NaN  NaN  NaN  NaN  NaN  NaN  NaN  \n",
       "\n",
       "[5 rows x 87 columns]"
      ]
     },
     "execution_count": 55,
     "metadata": {},
     "output_type": "execute_result"
    }
   ],
   "source": [
    "for i, f in enumerate(stoich_df[-1]):\n",
    "    try:\n",
    "        sub = Substance.from_formula(f)\n",
    "        for k, v in sub.composition.items():\n",
    "            stoich_df.at[i, k] = v\n",
    "    except:\n",
    "        pass\n",
    "        \n",
    "stoich_df.head()"
   ]
  },
  {
   "cell_type": "code",
   "execution_count": 56,
   "metadata": {},
   "outputs": [
    {
     "data": {
      "text/html": [
       "<div>\n",
       "<style scoped>\n",
       "    .dataframe tbody tr th:only-of-type {\n",
       "        vertical-align: middle;\n",
       "    }\n",
       "\n",
       "    .dataframe tbody tr th {\n",
       "        vertical-align: top;\n",
       "    }\n",
       "\n",
       "    .dataframe thead th {\n",
       "        text-align: right;\n",
       "    }\n",
       "</style>\n",
       "<table border=\"1\" class=\"dataframe\">\n",
       "  <thead>\n",
       "    <tr style=\"text-align: right;\">\n",
       "      <th></th>\n",
       "      <th>-1</th>\n",
       "      <th>0</th>\n",
       "      <th>1</th>\n",
       "      <th>2</th>\n",
       "      <th>3</th>\n",
       "      <th>4</th>\n",
       "      <th>5</th>\n",
       "      <th>6</th>\n",
       "      <th>7</th>\n",
       "      <th>8</th>\n",
       "      <th>...</th>\n",
       "      <th>80</th>\n",
       "      <th>81</th>\n",
       "      <th>82</th>\n",
       "      <th>83</th>\n",
       "      <th>86</th>\n",
       "      <th>87</th>\n",
       "      <th>88</th>\n",
       "      <th>90</th>\n",
       "      <th>91</th>\n",
       "      <th>92</th>\n",
       "    </tr>\n",
       "  </thead>\n",
       "  <tbody>\n",
       "    <tr>\n",
       "      <th>0</th>\n",
       "      <td>C4H9SH(aq)</td>\n",
       "      <td>NaN</td>\n",
       "      <td>10.0</td>\n",
       "      <td>NaN</td>\n",
       "      <td>NaN</td>\n",
       "      <td>NaN</td>\n",
       "      <td>NaN</td>\n",
       "      <td>4.0</td>\n",
       "      <td>NaN</td>\n",
       "      <td>NaN</td>\n",
       "      <td>...</td>\n",
       "      <td>NaN</td>\n",
       "      <td>NaN</td>\n",
       "      <td>NaN</td>\n",
       "      <td>NaN</td>\n",
       "      <td>NaN</td>\n",
       "      <td>NaN</td>\n",
       "      <td>NaN</td>\n",
       "      <td>NaN</td>\n",
       "      <td>NaN</td>\n",
       "      <td>NaN</td>\n",
       "    </tr>\n",
       "    <tr>\n",
       "      <th>1</th>\n",
       "      <td>C10H14N5O10P2-(aq)</td>\n",
       "      <td>-1.0</td>\n",
       "      <td>14.0</td>\n",
       "      <td>NaN</td>\n",
       "      <td>NaN</td>\n",
       "      <td>NaN</td>\n",
       "      <td>NaN</td>\n",
       "      <td>10.0</td>\n",
       "      <td>5.0</td>\n",
       "      <td>10.0</td>\n",
       "      <td>...</td>\n",
       "      <td>NaN</td>\n",
       "      <td>NaN</td>\n",
       "      <td>NaN</td>\n",
       "      <td>NaN</td>\n",
       "      <td>NaN</td>\n",
       "      <td>NaN</td>\n",
       "      <td>NaN</td>\n",
       "      <td>NaN</td>\n",
       "      <td>NaN</td>\n",
       "      <td>NaN</td>\n",
       "    </tr>\n",
       "    <tr>\n",
       "      <th>2</th>\n",
       "      <td>C5H12S2(l)</td>\n",
       "      <td>NaN</td>\n",
       "      <td>12.0</td>\n",
       "      <td>NaN</td>\n",
       "      <td>NaN</td>\n",
       "      <td>NaN</td>\n",
       "      <td>NaN</td>\n",
       "      <td>5.0</td>\n",
       "      <td>NaN</td>\n",
       "      <td>NaN</td>\n",
       "      <td>...</td>\n",
       "      <td>NaN</td>\n",
       "      <td>NaN</td>\n",
       "      <td>NaN</td>\n",
       "      <td>NaN</td>\n",
       "      <td>NaN</td>\n",
       "      <td>NaN</td>\n",
       "      <td>NaN</td>\n",
       "      <td>NaN</td>\n",
       "      <td>NaN</td>\n",
       "      <td>NaN</td>\n",
       "    </tr>\n",
       "    <tr>\n",
       "      <th>3</th>\n",
       "      <td>C7H12(aq)</td>\n",
       "      <td>NaN</td>\n",
       "      <td>12.0</td>\n",
       "      <td>NaN</td>\n",
       "      <td>NaN</td>\n",
       "      <td>NaN</td>\n",
       "      <td>NaN</td>\n",
       "      <td>7.0</td>\n",
       "      <td>NaN</td>\n",
       "      <td>NaN</td>\n",
       "      <td>...</td>\n",
       "      <td>NaN</td>\n",
       "      <td>NaN</td>\n",
       "      <td>NaN</td>\n",
       "      <td>NaN</td>\n",
       "      <td>NaN</td>\n",
       "      <td>NaN</td>\n",
       "      <td>NaN</td>\n",
       "      <td>NaN</td>\n",
       "      <td>NaN</td>\n",
       "      <td>NaN</td>\n",
       "    </tr>\n",
       "    <tr>\n",
       "      <th>4</th>\n",
       "      <td>C6H10N3O2+(aq)</td>\n",
       "      <td>1.0</td>\n",
       "      <td>10.0</td>\n",
       "      <td>NaN</td>\n",
       "      <td>NaN</td>\n",
       "      <td>NaN</td>\n",
       "      <td>NaN</td>\n",
       "      <td>6.0</td>\n",
       "      <td>3.0</td>\n",
       "      <td>2.0</td>\n",
       "      <td>...</td>\n",
       "      <td>NaN</td>\n",
       "      <td>NaN</td>\n",
       "      <td>NaN</td>\n",
       "      <td>NaN</td>\n",
       "      <td>NaN</td>\n",
       "      <td>NaN</td>\n",
       "      <td>NaN</td>\n",
       "      <td>NaN</td>\n",
       "      <td>NaN</td>\n",
       "      <td>NaN</td>\n",
       "    </tr>\n",
       "  </tbody>\n",
       "</table>\n",
       "<p>5 rows × 87 columns</p>\n",
       "</div>"
      ],
      "text/plain": [
       "                  -1    0     1    2    3    4    5     6    7     8   ...  \\\n",
       "0          C4H9SH(aq)  NaN  10.0  NaN  NaN  NaN  NaN   4.0  NaN   NaN  ...   \n",
       "1  C10H14N5O10P2-(aq) -1.0  14.0  NaN  NaN  NaN  NaN  10.0  5.0  10.0  ...   \n",
       "2          C5H12S2(l)  NaN  12.0  NaN  NaN  NaN  NaN   5.0  NaN   NaN  ...   \n",
       "3           C7H12(aq)  NaN  12.0  NaN  NaN  NaN  NaN   7.0  NaN   NaN  ...   \n",
       "4      C6H10N3O2+(aq)  1.0  10.0  NaN  NaN  NaN  NaN   6.0  3.0   2.0  ...   \n",
       "\n",
       "    80   81   82   83   86   87   88   90   91   92  \n",
       "0  NaN  NaN  NaN  NaN  NaN  NaN  NaN  NaN  NaN  NaN  \n",
       "1  NaN  NaN  NaN  NaN  NaN  NaN  NaN  NaN  NaN  NaN  \n",
       "2  NaN  NaN  NaN  NaN  NaN  NaN  NaN  NaN  NaN  NaN  \n",
       "3  NaN  NaN  NaN  NaN  NaN  NaN  NaN  NaN  NaN  NaN  \n",
       "4  NaN  NaN  NaN  NaN  NaN  NaN  NaN  NaN  NaN  NaN  \n",
       "\n",
       "[5 rows x 87 columns]"
      ]
     },
     "execution_count": 56,
     "metadata": {},
     "output_type": "execute_result"
    }
   ],
   "source": [
    "stoich_df = stoich_df[sorted(stoich_df.columns)]\n",
    "stoich_df.head()"
   ]
  },
  {
   "cell_type": "code",
   "execution_count": 57,
   "metadata": {},
   "outputs": [
    {
     "data": {
      "text/html": [
       "<div>\n",
       "<style scoped>\n",
       "    .dataframe tbody tr th:only-of-type {\n",
       "        vertical-align: middle;\n",
       "    }\n",
       "\n",
       "    .dataframe tbody tr th {\n",
       "        vertical-align: top;\n",
       "    }\n",
       "\n",
       "    .dataframe thead th {\n",
       "        text-align: right;\n",
       "    }\n",
       "</style>\n",
       "<table border=\"1\" class=\"dataframe\">\n",
       "  <thead>\n",
       "    <tr style=\"text-align: right;\">\n",
       "      <th></th>\n",
       "      <th>formula</th>\n",
       "      <th>0</th>\n",
       "      <th>1</th>\n",
       "      <th>2</th>\n",
       "      <th>3</th>\n",
       "      <th>4</th>\n",
       "      <th>5</th>\n",
       "      <th>6</th>\n",
       "      <th>7</th>\n",
       "      <th>8</th>\n",
       "      <th>...</th>\n",
       "      <th>80</th>\n",
       "      <th>81</th>\n",
       "      <th>82</th>\n",
       "      <th>83</th>\n",
       "      <th>86</th>\n",
       "      <th>87</th>\n",
       "      <th>88</th>\n",
       "      <th>90</th>\n",
       "      <th>91</th>\n",
       "      <th>92</th>\n",
       "    </tr>\n",
       "  </thead>\n",
       "  <tbody>\n",
       "    <tr>\n",
       "      <th>0</th>\n",
       "      <td>C4H9SH(aq)</td>\n",
       "      <td>0.0</td>\n",
       "      <td>10.0</td>\n",
       "      <td>0.0</td>\n",
       "      <td>0.0</td>\n",
       "      <td>0.0</td>\n",
       "      <td>0.0</td>\n",
       "      <td>4.0</td>\n",
       "      <td>0.0</td>\n",
       "      <td>0.0</td>\n",
       "      <td>...</td>\n",
       "      <td>0.0</td>\n",
       "      <td>0.0</td>\n",
       "      <td>0.0</td>\n",
       "      <td>0.0</td>\n",
       "      <td>0.0</td>\n",
       "      <td>0.0</td>\n",
       "      <td>0.0</td>\n",
       "      <td>0.0</td>\n",
       "      <td>0.0</td>\n",
       "      <td>0.0</td>\n",
       "    </tr>\n",
       "    <tr>\n",
       "      <th>1</th>\n",
       "      <td>C10H14N5O10P2-(aq)</td>\n",
       "      <td>-1.0</td>\n",
       "      <td>14.0</td>\n",
       "      <td>0.0</td>\n",
       "      <td>0.0</td>\n",
       "      <td>0.0</td>\n",
       "      <td>0.0</td>\n",
       "      <td>10.0</td>\n",
       "      <td>5.0</td>\n",
       "      <td>10.0</td>\n",
       "      <td>...</td>\n",
       "      <td>0.0</td>\n",
       "      <td>0.0</td>\n",
       "      <td>0.0</td>\n",
       "      <td>0.0</td>\n",
       "      <td>0.0</td>\n",
       "      <td>0.0</td>\n",
       "      <td>0.0</td>\n",
       "      <td>0.0</td>\n",
       "      <td>0.0</td>\n",
       "      <td>0.0</td>\n",
       "    </tr>\n",
       "    <tr>\n",
       "      <th>2</th>\n",
       "      <td>C5H12S2(l)</td>\n",
       "      <td>0.0</td>\n",
       "      <td>12.0</td>\n",
       "      <td>0.0</td>\n",
       "      <td>0.0</td>\n",
       "      <td>0.0</td>\n",
       "      <td>0.0</td>\n",
       "      <td>5.0</td>\n",
       "      <td>0.0</td>\n",
       "      <td>0.0</td>\n",
       "      <td>...</td>\n",
       "      <td>0.0</td>\n",
       "      <td>0.0</td>\n",
       "      <td>0.0</td>\n",
       "      <td>0.0</td>\n",
       "      <td>0.0</td>\n",
       "      <td>0.0</td>\n",
       "      <td>0.0</td>\n",
       "      <td>0.0</td>\n",
       "      <td>0.0</td>\n",
       "      <td>0.0</td>\n",
       "    </tr>\n",
       "    <tr>\n",
       "      <th>3</th>\n",
       "      <td>C7H12(aq)</td>\n",
       "      <td>0.0</td>\n",
       "      <td>12.0</td>\n",
       "      <td>0.0</td>\n",
       "      <td>0.0</td>\n",
       "      <td>0.0</td>\n",
       "      <td>0.0</td>\n",
       "      <td>7.0</td>\n",
       "      <td>0.0</td>\n",
       "      <td>0.0</td>\n",
       "      <td>...</td>\n",
       "      <td>0.0</td>\n",
       "      <td>0.0</td>\n",
       "      <td>0.0</td>\n",
       "      <td>0.0</td>\n",
       "      <td>0.0</td>\n",
       "      <td>0.0</td>\n",
       "      <td>0.0</td>\n",
       "      <td>0.0</td>\n",
       "      <td>0.0</td>\n",
       "      <td>0.0</td>\n",
       "    </tr>\n",
       "    <tr>\n",
       "      <th>4</th>\n",
       "      <td>C6H10N3O2+(aq)</td>\n",
       "      <td>1.0</td>\n",
       "      <td>10.0</td>\n",
       "      <td>0.0</td>\n",
       "      <td>0.0</td>\n",
       "      <td>0.0</td>\n",
       "      <td>0.0</td>\n",
       "      <td>6.0</td>\n",
       "      <td>3.0</td>\n",
       "      <td>2.0</td>\n",
       "      <td>...</td>\n",
       "      <td>0.0</td>\n",
       "      <td>0.0</td>\n",
       "      <td>0.0</td>\n",
       "      <td>0.0</td>\n",
       "      <td>0.0</td>\n",
       "      <td>0.0</td>\n",
       "      <td>0.0</td>\n",
       "      <td>0.0</td>\n",
       "      <td>0.0</td>\n",
       "      <td>0.0</td>\n",
       "    </tr>\n",
       "  </tbody>\n",
       "</table>\n",
       "<p>5 rows × 87 columns</p>\n",
       "</div>"
      ],
      "text/plain": [
       "              formula    0     1    2    3    4    5     6    7     8  ...  \\\n",
       "0          C4H9SH(aq)  0.0  10.0  0.0  0.0  0.0  0.0   4.0  0.0   0.0  ...   \n",
       "1  C10H14N5O10P2-(aq) -1.0  14.0  0.0  0.0  0.0  0.0  10.0  5.0  10.0  ...   \n",
       "2          C5H12S2(l)  0.0  12.0  0.0  0.0  0.0  0.0   5.0  0.0   0.0  ...   \n",
       "3           C7H12(aq)  0.0  12.0  0.0  0.0  0.0  0.0   7.0  0.0   0.0  ...   \n",
       "4      C6H10N3O2+(aq)  1.0  10.0  0.0  0.0  0.0  0.0   6.0  3.0   2.0  ...   \n",
       "\n",
       "    80   81   82   83   86   87   88   90   91   92  \n",
       "0  0.0  0.0  0.0  0.0  0.0  0.0  0.0  0.0  0.0  0.0  \n",
       "1  0.0  0.0  0.0  0.0  0.0  0.0  0.0  0.0  0.0  0.0  \n",
       "2  0.0  0.0  0.0  0.0  0.0  0.0  0.0  0.0  0.0  0.0  \n",
       "3  0.0  0.0  0.0  0.0  0.0  0.0  0.0  0.0  0.0  0.0  \n",
       "4  0.0  0.0  0.0  0.0  0.0  0.0  0.0  0.0  0.0  0.0  \n",
       "\n",
       "[5 rows x 87 columns]"
      ]
     },
     "execution_count": 57,
     "metadata": {},
     "output_type": "execute_result"
    }
   ],
   "source": [
    "stoich_df.rename(columns={-1: 'formula'}, inplace=True)\n",
    "stoich_df.fillna(0, inplace=True)\n",
    "stoich_df.head()"
   ]
  },
  {
   "cell_type": "code",
   "execution_count": 62,
   "metadata": {},
   "outputs": [],
   "source": [
    "pickle.dump(stoich_df, open('../data/processed/stoich_df.p', 'wb'))"
   ]
  },
  {
   "cell_type": "code",
   "execution_count": null,
   "metadata": {},
   "outputs": [],
   "source": []
  }
 ],
 "metadata": {
  "kernelspec": {
   "display_name": "Python 3",
   "language": "python",
   "name": "python3"
  },
  "language_info": {
   "codemirror_mode": {
    "name": "ipython",
    "version": 3
   },
   "file_extension": ".py",
   "mimetype": "text/x-python",
   "name": "python",
   "nbconvert_exporter": "python",
   "pygments_lexer": "ipython3",
   "version": "3.7.3"
  }
 },
 "nbformat": 4,
 "nbformat_minor": 2
}
