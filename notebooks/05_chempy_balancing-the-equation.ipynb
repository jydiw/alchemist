{
 "cells": [
  {
   "cell_type": "markdown",
   "metadata": {},
   "source": [
    "# Utilizing `chempy` to balance chemical equations\n",
    "\n",
    "`chempy` is already so powerful that it is able to balance a skeletal equation with just a one-line execution of their code. This notebook is focused on using thermodynamic data to predict the products of a reaction if only the reactants are known."
   ]
  },
  {
   "cell_type": "code",
   "execution_count": 3,
   "metadata": {},
   "outputs": [],
   "source": [
    "import os                               \n",
    "import re                   \n",
    "import time                 # to stall requests (just in case)\n",
    "import itertools\n",
    "import sympy\n",
    "import pickle\n",
    "\n",
    "import numpy as np\n",
    "import pandas as pd \n",
    "\n",
    "from tika import parser     # the specific parser method \n",
    "\n",
    "from chempy import balance_stoichiometry\n",
    "from chempy import Substance\n",
    "from chempy import Reaction\n",
    "from chempy.util import periodic\n",
    "\n",
    "pd.set_option('display.max_colwidth', 0)    # no max column width\n",
    "pd.set_option('display.max_rows', 1000)"
   ]
  },
  {
   "cell_type": "code",
   "execution_count": 4,
   "metadata": {},
   "outputs": [],
   "source": [
    "stoich_df = pickle.load(open('../data/processed/stoich_df.p', 'rb'))\n",
    "thermo_df = pickle.load(open('../data/processed/thermo_df.p', 'rb'))"
   ]
  },
  {
   "cell_type": "code",
   "execution_count": 5,
   "metadata": {},
   "outputs": [
    {
     "data": {
      "text/plain": [
       "0       C4H9SH(aq)         \n",
       "1       C10H14N5O10P2-(aq) \n",
       "2       C5H12S2(l)         \n",
       "3       C7H12(aq)          \n",
       "4       C6H10N3O2+(aq)     \n",
       "             ...           \n",
       "2825    C12H26(l)          \n",
       "2826    AsS(OH)HS-(aq)     \n",
       "2827    NaC4H4O5-(aq)      \n",
       "2828    Eu(CH3CH2CO2)2+(aq)\n",
       "2829    C9H12N2O5(aq)      \n",
       "Name: formula, Length: 2830, dtype: object"
      ]
     },
     "execution_count": 5,
     "metadata": {},
     "output_type": "execute_result"
    }
   ],
   "source": [
    "stoich_df['formula']"
   ]
  },
  {
   "cell_type": "code",
   "execution_count": 6,
   "metadata": {},
   "outputs": [
    {
     "data": {
      "text/plain": [
       "['formula',\n",
       " 0,\n",
       " 1,\n",
       " 2,\n",
       " 3,\n",
       " 4,\n",
       " 5,\n",
       " 6,\n",
       " 7,\n",
       " 8,\n",
       " 9,\n",
       " 10,\n",
       " 11,\n",
       " 12,\n",
       " 13,\n",
       " 14,\n",
       " 15,\n",
       " 16,\n",
       " 17,\n",
       " 18,\n",
       " 19,\n",
       " 20,\n",
       " 21,\n",
       " 22,\n",
       " 23,\n",
       " 24,\n",
       " 25,\n",
       " 26,\n",
       " 27,\n",
       " 28,\n",
       " 29,\n",
       " 30,\n",
       " 31,\n",
       " 32,\n",
       " 33,\n",
       " 34,\n",
       " 35,\n",
       " 36,\n",
       " 37,\n",
       " 38,\n",
       " 39,\n",
       " 40,\n",
       " 41,\n",
       " 42,\n",
       " 43,\n",
       " 44,\n",
       " 45,\n",
       " 46,\n",
       " 47,\n",
       " 48,\n",
       " 49,\n",
       " 50,\n",
       " 51,\n",
       " 53,\n",
       " 54,\n",
       " 55,\n",
       " 56,\n",
       " 57,\n",
       " 58,\n",
       " 59,\n",
       " 60,\n",
       " 61,\n",
       " 62,\n",
       " 63,\n",
       " 64,\n",
       " 65,\n",
       " 66,\n",
       " 67,\n",
       " 68,\n",
       " 69,\n",
       " 70,\n",
       " 71,\n",
       " 72,\n",
       " 74,\n",
       " 75,\n",
       " 78,\n",
       " 79,\n",
       " 80,\n",
       " 81,\n",
       " 82,\n",
       " 83,\n",
       " 86,\n",
       " 87,\n",
       " 88,\n",
       " 90,\n",
       " 91,\n",
       " 92]"
      ]
     },
     "execution_count": 6,
     "metadata": {},
     "output_type": "execute_result"
    }
   ],
   "source": [
    "new_columns = []\n",
    "for col in stoich_df.columns:\n",
    "    try:\n",
    "        new_columns.append(int(col))\n",
    "    except:\n",
    "        new_columns.append(col)\n",
    "new_columns"
   ]
  },
  {
   "cell_type": "code",
   "execution_count": 7,
   "metadata": {},
   "outputs": [],
   "source": [
    "stoich_df.columns = new_columns"
   ]
  },
  {
   "cell_type": "markdown",
   "metadata": {},
   "source": [
    "## playground for writing functions using thermo tables\n",
    "\n",
    "The cells below show my thought process exploring how to relate the `chempy` library with the thermodynamic tables. The goals are as follows:\n",
    "\n",
    "- The most likely chemical reaction is highly correlated with the reaction that has the greatest loss of Gibbs free energy (given by parameter 'G' in `thermo`.\n",
    "- We iterate through the different possible products so long as their combination allows for balanced stoichiometry (having the same number of each element on both sides of the equation)\n",
    "\n",
    "We will attempt to predict the following reaction:\n",
    "\n",
    "$$ 2 Na(s) + 2 H_{2}O(l) \\longrightarrow 2 NaOH(aq) + H_{2}(g) $$"
   ]
  },
  {
   "cell_type": "code",
   "execution_count": 8,
   "metadata": {},
   "outputs": [],
   "source": [
    "reactants = ['Na', 'H2O']"
   ]
  },
  {
   "cell_type": "code",
   "execution_count": 9,
   "metadata": {},
   "outputs": [
    {
     "data": {
      "text/plain": [
       "[1, 8]"
      ]
     },
     "execution_count": 9,
     "metadata": {},
     "output_type": "execute_result"
    }
   ],
   "source": [
    "water = Substance.from_formula('H2O')\n",
    "[*water.composition]"
   ]
  },
  {
   "cell_type": "markdown",
   "metadata": {},
   "source": [
    "When searching for possible products, we want to ignore all compounds that have elements outside of sodium, hydrogen, or oxygen."
   ]
  },
  {
   "cell_type": "code",
   "execution_count": 10,
   "metadata": {},
   "outputs": [
    {
     "data": {
      "text/plain": [
       "{1, 11, 8, 'formula'}"
      ]
     },
     "execution_count": 10,
     "metadata": {},
     "output_type": "execute_result"
    }
   ],
   "source": [
    "z_ignore = ['formula']\n",
    "for r in reactants:\n",
    "    s = Substance.from_formula(r)\n",
    "    z_ignore += [*s.composition]\n",
    "z_ignore = set(z_ignore)\n",
    "z_ignore"
   ]
  },
  {
   "cell_type": "code",
   "execution_count": 11,
   "metadata": {},
   "outputs": [
    {
     "name": "stdout",
     "output_type": "stream",
     "text": [
      "[0, 2, 3, 4, 5, 6, 7, 9, 10, 12, 13, 14, 15, 16, 17, 18, 19, 20, 21, 22, 23, 24, 25, 26, 27, 28, 29, 30, 31, 32, 33, 34, 35, 36, 37, 38, 39, 40, 41, 42, 43, 44, 45, 46, 47, 48, 49, 50, 51, 53, 54, 55, 56, 57, 58, 59, 60, 61, 62, 63, 64, 65, 66, 67, 68, 69, 70, 71, 72, 74, 75, 78, 79, 80, 81, 82, 83, 86, 87, 88, 90, 91, 92]\n"
     ]
    }
   ],
   "source": [
    "column_mask = [col for col in stoich_df.columns if col not in z_ignore]\n",
    "print(column_mask)"
   ]
  },
  {
   "cell_type": "code",
   "execution_count": 12,
   "metadata": {},
   "outputs": [
    {
     "data": {
      "text/html": [
       "<div>\n",
       "<style scoped>\n",
       "    .dataframe tbody tr th:only-of-type {\n",
       "        vertical-align: middle;\n",
       "    }\n",
       "\n",
       "    .dataframe tbody tr th {\n",
       "        vertical-align: top;\n",
       "    }\n",
       "\n",
       "    .dataframe thead th {\n",
       "        text-align: right;\n",
       "    }\n",
       "</style>\n",
       "<table border=\"1\" class=\"dataframe\">\n",
       "  <thead>\n",
       "    <tr style=\"text-align: right;\">\n",
       "      <th></th>\n",
       "      <th>8</th>\n",
       "      <th>1</th>\n",
       "      <th>11</th>\n",
       "      <th>formula</th>\n",
       "    </tr>\n",
       "  </thead>\n",
       "  <tbody>\n",
       "    <tr>\n",
       "      <th>11</th>\n",
       "      <td>1.0</td>\n",
       "      <td>2.0</td>\n",
       "      <td>0.0</td>\n",
       "      <td>H2O(s, VIII)</td>\n",
       "    </tr>\n",
       "    <tr>\n",
       "      <th>152</th>\n",
       "      <td>1.0</td>\n",
       "      <td>0.0</td>\n",
       "      <td>0.0</td>\n",
       "      <td>O(g)</td>\n",
       "    </tr>\n",
       "    <tr>\n",
       "      <th>266</th>\n",
       "      <td>3.0</td>\n",
       "      <td>0.0</td>\n",
       "      <td>0.0</td>\n",
       "      <td>O3(g)</td>\n",
       "    </tr>\n",
       "    <tr>\n",
       "      <th>341</th>\n",
       "      <td>1.0</td>\n",
       "      <td>1.0</td>\n",
       "      <td>1.0</td>\n",
       "      <td>NaOH(aq)</td>\n",
       "    </tr>\n",
       "    <tr>\n",
       "      <th>586</th>\n",
       "      <td>0.0</td>\n",
       "      <td>0.0</td>\n",
       "      <td>1.0</td>\n",
       "      <td>Na(s)</td>\n",
       "    </tr>\n",
       "    <tr>\n",
       "      <th>672</th>\n",
       "      <td>1.0</td>\n",
       "      <td>2.0</td>\n",
       "      <td>0.0</td>\n",
       "      <td>H2O(s, IX)</td>\n",
       "    </tr>\n",
       "    <tr>\n",
       "      <th>782</th>\n",
       "      <td>2.0</td>\n",
       "      <td>2.0</td>\n",
       "      <td>0.0</td>\n",
       "      <td>H2O2(aq)</td>\n",
       "    </tr>\n",
       "    <tr>\n",
       "      <th>866</th>\n",
       "      <td>2.0</td>\n",
       "      <td>2.0</td>\n",
       "      <td>0.0</td>\n",
       "      <td>H2O2(l)</td>\n",
       "    </tr>\n",
       "    <tr>\n",
       "      <th>987</th>\n",
       "      <td>1.0</td>\n",
       "      <td>2.0</td>\n",
       "      <td>0.0</td>\n",
       "      <td>H2O(s, III)</td>\n",
       "    </tr>\n",
       "    <tr>\n",
       "      <th>1462</th>\n",
       "      <td>1.0</td>\n",
       "      <td>1.0</td>\n",
       "      <td>1.0</td>\n",
       "      <td>NaOH(s)</td>\n",
       "    </tr>\n",
       "    <tr>\n",
       "      <th>1478</th>\n",
       "      <td>1.0</td>\n",
       "      <td>2.0</td>\n",
       "      <td>0.0</td>\n",
       "      <td>H2O(s, VII)</td>\n",
       "    </tr>\n",
       "    <tr>\n",
       "      <th>1493</th>\n",
       "      <td>2.0</td>\n",
       "      <td>0.0</td>\n",
       "      <td>0.0</td>\n",
       "      <td>O2(g)</td>\n",
       "    </tr>\n",
       "    <tr>\n",
       "      <th>1648</th>\n",
       "      <td>2.0</td>\n",
       "      <td>0.0</td>\n",
       "      <td>0.0</td>\n",
       "      <td>O2(aq)</td>\n",
       "    </tr>\n",
       "    <tr>\n",
       "      <th>1665</th>\n",
       "      <td>1.0</td>\n",
       "      <td>2.0</td>\n",
       "      <td>0.0</td>\n",
       "      <td>H2O(g)</td>\n",
       "    </tr>\n",
       "    <tr>\n",
       "      <th>1852</th>\n",
       "      <td>1.0</td>\n",
       "      <td>0.0</td>\n",
       "      <td>2.0</td>\n",
       "      <td>Na2O(s)</td>\n",
       "    </tr>\n",
       "    <tr>\n",
       "      <th>1982</th>\n",
       "      <td>0.0</td>\n",
       "      <td>2.0</td>\n",
       "      <td>0.0</td>\n",
       "      <td>H2(aq)</td>\n",
       "    </tr>\n",
       "    <tr>\n",
       "      <th>2286</th>\n",
       "      <td>0.0</td>\n",
       "      <td>0.0</td>\n",
       "      <td>1.0</td>\n",
       "      <td>Na(g)</td>\n",
       "    </tr>\n",
       "    <tr>\n",
       "      <th>2348</th>\n",
       "      <td>1.0</td>\n",
       "      <td>2.0</td>\n",
       "      <td>0.0</td>\n",
       "      <td>H2O(s, V)</td>\n",
       "    </tr>\n",
       "    <tr>\n",
       "      <th>2353</th>\n",
       "      <td>1.0</td>\n",
       "      <td>2.0</td>\n",
       "      <td>0.0</td>\n",
       "      <td>H2O(s)</td>\n",
       "    </tr>\n",
       "    <tr>\n",
       "      <th>2416</th>\n",
       "      <td>0.0</td>\n",
       "      <td>2.0</td>\n",
       "      <td>0.0</td>\n",
       "      <td>H2(g)</td>\n",
       "    </tr>\n",
       "    <tr>\n",
       "      <th>2564</th>\n",
       "      <td>1.0</td>\n",
       "      <td>2.0</td>\n",
       "      <td>0.0</td>\n",
       "      <td>H2O(s, II)</td>\n",
       "    </tr>\n",
       "    <tr>\n",
       "      <th>2628</th>\n",
       "      <td>1.0</td>\n",
       "      <td>2.0</td>\n",
       "      <td>0.0</td>\n",
       "      <td>H2O(s, VI)</td>\n",
       "    </tr>\n",
       "    <tr>\n",
       "      <th>2710</th>\n",
       "      <td>1.0</td>\n",
       "      <td>2.0</td>\n",
       "      <td>0.0</td>\n",
       "      <td>H2O(l)</td>\n",
       "    </tr>\n",
       "    <tr>\n",
       "      <th>2792</th>\n",
       "      <td>0.0</td>\n",
       "      <td>1.0</td>\n",
       "      <td>0.0</td>\n",
       "      <td>H(g)</td>\n",
       "    </tr>\n",
       "  </tbody>\n",
       "</table>\n",
       "</div>"
      ],
      "text/plain": [
       "        8    1   11       formula\n",
       "11    1.0  2.0  0.0  H2O(s, VIII)\n",
       "152   1.0  0.0  0.0  O(g)        \n",
       "266   3.0  0.0  0.0  O3(g)       \n",
       "341   1.0  1.0  1.0  NaOH(aq)    \n",
       "586   0.0  0.0  1.0  Na(s)       \n",
       "672   1.0  2.0  0.0  H2O(s, IX)  \n",
       "782   2.0  2.0  0.0  H2O2(aq)    \n",
       "866   2.0  2.0  0.0  H2O2(l)     \n",
       "987   1.0  2.0  0.0  H2O(s, III) \n",
       "1462  1.0  1.0  1.0  NaOH(s)     \n",
       "1478  1.0  2.0  0.0  H2O(s, VII) \n",
       "1493  2.0  0.0  0.0  O2(g)       \n",
       "1648  2.0  0.0  0.0  O2(aq)      \n",
       "1665  1.0  2.0  0.0  H2O(g)      \n",
       "1852  1.0  0.0  2.0  Na2O(s)     \n",
       "1982  0.0  2.0  0.0  H2(aq)      \n",
       "2286  0.0  0.0  1.0  Na(g)       \n",
       "2348  1.0  2.0  0.0  H2O(s, V)   \n",
       "2353  1.0  2.0  0.0  H2O(s)      \n",
       "2416  0.0  2.0  0.0  H2(g)       \n",
       "2564  1.0  2.0  0.0  H2O(s, II)  \n",
       "2628  1.0  2.0  0.0  H2O(s, VI)  \n",
       "2710  1.0  2.0  0.0  H2O(l)      \n",
       "2792  0.0  1.0  0.0  H(g)        "
      ]
     },
     "execution_count": 12,
     "metadata": {},
     "output_type": "execute_result"
    }
   ],
   "source": [
    "# https://stackoverflow.com/questions/22649693/\n",
    "\n",
    "stoich_temp = stoich_df.copy()\n",
    "\n",
    "for col in column_mask:\n",
    "    stoich_temp = stoich_temp[stoich_temp[col] == 0]\n",
    "\n",
    "stoich_temp = stoich_temp.loc[(stoich_temp.drop(columns=['formula'])!=0).any(axis=1)]\n",
    "\n",
    "stoich_temp = stoich_temp[z_ignore]\n",
    "stoich_temp"
   ]
  },
  {
   "cell_type": "code",
   "execution_count": 13,
   "metadata": {},
   "outputs": [],
   "source": [
    "def formula_state_separator(formula, keep_state=False):\n",
    "    '''\n",
    "    Separates the state from a formula string.\n",
    "    \n",
    "    --Parameters--\n",
    "    formula:        str\n",
    "        a string of a single chemical formula\n",
    "    \n",
    "    --Output--\n",
    "    tuple (str)\n",
    "        \n",
    "    --Examples--\n",
    "    >>> formula_state_separator('NaCl(aq)')\n",
    "    ('NaCl', 'aq')\n",
    "    \n",
    "    >>> formula_state_separator('NaCl')\n",
    "    'NaCl'\n",
    "    '''\n",
    "    try:\n",
    "        regex = re.search('(?<=\\()[aglsq]+', formula)\n",
    "        formula = formula[:regex.start() - 1]\n",
    "        if keep_state:\n",
    "            state = regex.group(0)\n",
    "            return formula, state\n",
    "        else:\n",
    "            return formula\n",
    "    except:\n",
    "        return formula"
   ]
  },
  {
   "cell_type": "code",
   "execution_count": 14,
   "metadata": {},
   "outputs": [
    {
     "data": {
      "text/plain": [
       "{'H', 'H2', 'H2O2', 'Na2O', 'NaOH', 'O', 'O2', 'O3'}"
      ]
     },
     "execution_count": 14,
     "metadata": {},
     "output_type": "execute_result"
    }
   ],
   "source": [
    "# chemical reactions don't have the same species on both sides of the arrow\n",
    "\n",
    "candidates = set([formula_state_separator(f) for f in set(stoich_temp['formula'])\\\n",
    "              if formula_state_separator(f) not in map(formula_state_separator, reactants)])\n",
    "candidates"
   ]
  },
  {
   "cell_type": "code",
   "execution_count": 15,
   "metadata": {},
   "outputs": [
    {
     "data": {
      "text/plain": [
       "[('NaOH',),\n",
       " ('H2O2',),\n",
       " ('O3',),\n",
       " ('H',),\n",
       " ('H2',),\n",
       " ('Na2O',),\n",
       " ('O',),\n",
       " ('O2',),\n",
       " ('NaOH', 'H2O2'),\n",
       " ('NaOH', 'O3'),\n",
       " ('NaOH', 'H'),\n",
       " ('NaOH', 'H2'),\n",
       " ('NaOH', 'Na2O'),\n",
       " ('NaOH', 'O'),\n",
       " ('NaOH', 'O2'),\n",
       " ('H2O2', 'O3'),\n",
       " ('H2O2', 'H'),\n",
       " ('H2O2', 'H2'),\n",
       " ('H2O2', 'Na2O'),\n",
       " ('H2O2', 'O'),\n",
       " ('H2O2', 'O2'),\n",
       " ('O3', 'H'),\n",
       " ('O3', 'H2'),\n",
       " ('O3', 'Na2O'),\n",
       " ('O3', 'O'),\n",
       " ('O3', 'O2'),\n",
       " ('H', 'H2'),\n",
       " ('H', 'Na2O'),\n",
       " ('H', 'O'),\n",
       " ('H', 'O2'),\n",
       " ('H2', 'Na2O'),\n",
       " ('H2', 'O'),\n",
       " ('H2', 'O2'),\n",
       " ('Na2O', 'O'),\n",
       " ('Na2O', 'O2'),\n",
       " ('O', 'O2'),\n",
       " ('NaOH', 'H2O2', 'O3'),\n",
       " ('NaOH', 'H2O2', 'H'),\n",
       " ('NaOH', 'H2O2', 'H2'),\n",
       " ('NaOH', 'H2O2', 'Na2O'),\n",
       " ('NaOH', 'H2O2', 'O'),\n",
       " ('NaOH', 'H2O2', 'O2'),\n",
       " ('NaOH', 'O3', 'H'),\n",
       " ('NaOH', 'O3', 'H2'),\n",
       " ('NaOH', 'O3', 'Na2O'),\n",
       " ('NaOH', 'O3', 'O'),\n",
       " ('NaOH', 'O3', 'O2'),\n",
       " ('NaOH', 'H', 'H2'),\n",
       " ('NaOH', 'H', 'Na2O'),\n",
       " ('NaOH', 'H', 'O'),\n",
       " ('NaOH', 'H', 'O2'),\n",
       " ('NaOH', 'H2', 'Na2O'),\n",
       " ('NaOH', 'H2', 'O'),\n",
       " ('NaOH', 'H2', 'O2'),\n",
       " ('NaOH', 'Na2O', 'O'),\n",
       " ('NaOH', 'Na2O', 'O2'),\n",
       " ('NaOH', 'O', 'O2'),\n",
       " ('H2O2', 'O3', 'H'),\n",
       " ('H2O2', 'O3', 'H2'),\n",
       " ('H2O2', 'O3', 'Na2O'),\n",
       " ('H2O2', 'O3', 'O'),\n",
       " ('H2O2', 'O3', 'O2'),\n",
       " ('H2O2', 'H', 'H2'),\n",
       " ('H2O2', 'H', 'Na2O'),\n",
       " ('H2O2', 'H', 'O'),\n",
       " ('H2O2', 'H', 'O2'),\n",
       " ('H2O2', 'H2', 'Na2O'),\n",
       " ('H2O2', 'H2', 'O'),\n",
       " ('H2O2', 'H2', 'O2'),\n",
       " ('H2O2', 'Na2O', 'O'),\n",
       " ('H2O2', 'Na2O', 'O2'),\n",
       " ('H2O2', 'O', 'O2'),\n",
       " ('O3', 'H', 'H2'),\n",
       " ('O3', 'H', 'Na2O'),\n",
       " ('O3', 'H', 'O'),\n",
       " ('O3', 'H', 'O2'),\n",
       " ('O3', 'H2', 'Na2O'),\n",
       " ('O3', 'H2', 'O'),\n",
       " ('O3', 'H2', 'O2'),\n",
       " ('O3', 'Na2O', 'O'),\n",
       " ('O3', 'Na2O', 'O2'),\n",
       " ('O3', 'O', 'O2'),\n",
       " ('H', 'H2', 'Na2O'),\n",
       " ('H', 'H2', 'O'),\n",
       " ('H', 'H2', 'O2'),\n",
       " ('H', 'Na2O', 'O'),\n",
       " ('H', 'Na2O', 'O2'),\n",
       " ('H', 'O', 'O2'),\n",
       " ('H2', 'Na2O', 'O'),\n",
       " ('H2', 'Na2O', 'O2'),\n",
       " ('H2', 'O', 'O2'),\n",
       " ('Na2O', 'O', 'O2'),\n",
       " ('NaOH', 'H2O2', 'O3', 'H'),\n",
       " ('NaOH', 'H2O2', 'O3', 'H2'),\n",
       " ('NaOH', 'H2O2', 'O3', 'Na2O'),\n",
       " ('NaOH', 'H2O2', 'O3', 'O'),\n",
       " ('NaOH', 'H2O2', 'O3', 'O2'),\n",
       " ('NaOH', 'H2O2', 'H', 'H2'),\n",
       " ('NaOH', 'H2O2', 'H', 'Na2O'),\n",
       " ('NaOH', 'H2O2', 'H', 'O'),\n",
       " ('NaOH', 'H2O2', 'H', 'O2'),\n",
       " ('NaOH', 'H2O2', 'H2', 'Na2O'),\n",
       " ('NaOH', 'H2O2', 'H2', 'O'),\n",
       " ('NaOH', 'H2O2', 'H2', 'O2'),\n",
       " ('NaOH', 'H2O2', 'Na2O', 'O'),\n",
       " ('NaOH', 'H2O2', 'Na2O', 'O2'),\n",
       " ('NaOH', 'H2O2', 'O', 'O2'),\n",
       " ('NaOH', 'O3', 'H', 'H2'),\n",
       " ('NaOH', 'O3', 'H', 'Na2O'),\n",
       " ('NaOH', 'O3', 'H', 'O'),\n",
       " ('NaOH', 'O3', 'H', 'O2'),\n",
       " ('NaOH', 'O3', 'H2', 'Na2O'),\n",
       " ('NaOH', 'O3', 'H2', 'O'),\n",
       " ('NaOH', 'O3', 'H2', 'O2'),\n",
       " ('NaOH', 'O3', 'Na2O', 'O'),\n",
       " ('NaOH', 'O3', 'Na2O', 'O2'),\n",
       " ('NaOH', 'O3', 'O', 'O2'),\n",
       " ('NaOH', 'H', 'H2', 'Na2O'),\n",
       " ('NaOH', 'H', 'H2', 'O'),\n",
       " ('NaOH', 'H', 'H2', 'O2'),\n",
       " ('NaOH', 'H', 'Na2O', 'O'),\n",
       " ('NaOH', 'H', 'Na2O', 'O2'),\n",
       " ('NaOH', 'H', 'O', 'O2'),\n",
       " ('NaOH', 'H2', 'Na2O', 'O'),\n",
       " ('NaOH', 'H2', 'Na2O', 'O2'),\n",
       " ('NaOH', 'H2', 'O', 'O2'),\n",
       " ('NaOH', 'Na2O', 'O', 'O2'),\n",
       " ('H2O2', 'O3', 'H', 'H2'),\n",
       " ('H2O2', 'O3', 'H', 'Na2O'),\n",
       " ('H2O2', 'O3', 'H', 'O'),\n",
       " ('H2O2', 'O3', 'H', 'O2'),\n",
       " ('H2O2', 'O3', 'H2', 'Na2O'),\n",
       " ('H2O2', 'O3', 'H2', 'O'),\n",
       " ('H2O2', 'O3', 'H2', 'O2'),\n",
       " ('H2O2', 'O3', 'Na2O', 'O'),\n",
       " ('H2O2', 'O3', 'Na2O', 'O2'),\n",
       " ('H2O2', 'O3', 'O', 'O2'),\n",
       " ('H2O2', 'H', 'H2', 'Na2O'),\n",
       " ('H2O2', 'H', 'H2', 'O'),\n",
       " ('H2O2', 'H', 'H2', 'O2'),\n",
       " ('H2O2', 'H', 'Na2O', 'O'),\n",
       " ('H2O2', 'H', 'Na2O', 'O2'),\n",
       " ('H2O2', 'H', 'O', 'O2'),\n",
       " ('H2O2', 'H2', 'Na2O', 'O'),\n",
       " ('H2O2', 'H2', 'Na2O', 'O2'),\n",
       " ('H2O2', 'H2', 'O', 'O2'),\n",
       " ('H2O2', 'Na2O', 'O', 'O2'),\n",
       " ('O3', 'H', 'H2', 'Na2O'),\n",
       " ('O3', 'H', 'H2', 'O'),\n",
       " ('O3', 'H', 'H2', 'O2'),\n",
       " ('O3', 'H', 'Na2O', 'O'),\n",
       " ('O3', 'H', 'Na2O', 'O2'),\n",
       " ('O3', 'H', 'O', 'O2'),\n",
       " ('O3', 'H2', 'Na2O', 'O'),\n",
       " ('O3', 'H2', 'Na2O', 'O2'),\n",
       " ('O3', 'H2', 'O', 'O2'),\n",
       " ('O3', 'Na2O', 'O', 'O2'),\n",
       " ('H', 'H2', 'Na2O', 'O'),\n",
       " ('H', 'H2', 'Na2O', 'O2'),\n",
       " ('H', 'H2', 'O', 'O2'),\n",
       " ('H', 'Na2O', 'O', 'O2'),\n",
       " ('H2', 'Na2O', 'O', 'O2'),\n",
       " ('NaOH', 'H2O2', 'O3', 'H', 'H2'),\n",
       " ('NaOH', 'H2O2', 'O3', 'H', 'Na2O'),\n",
       " ('NaOH', 'H2O2', 'O3', 'H', 'O'),\n",
       " ('NaOH', 'H2O2', 'O3', 'H', 'O2'),\n",
       " ('NaOH', 'H2O2', 'O3', 'H2', 'Na2O'),\n",
       " ('NaOH', 'H2O2', 'O3', 'H2', 'O'),\n",
       " ('NaOH', 'H2O2', 'O3', 'H2', 'O2'),\n",
       " ('NaOH', 'H2O2', 'O3', 'Na2O', 'O'),\n",
       " ('NaOH', 'H2O2', 'O3', 'Na2O', 'O2'),\n",
       " ('NaOH', 'H2O2', 'O3', 'O', 'O2'),\n",
       " ('NaOH', 'H2O2', 'H', 'H2', 'Na2O'),\n",
       " ('NaOH', 'H2O2', 'H', 'H2', 'O'),\n",
       " ('NaOH', 'H2O2', 'H', 'H2', 'O2'),\n",
       " ('NaOH', 'H2O2', 'H', 'Na2O', 'O'),\n",
       " ('NaOH', 'H2O2', 'H', 'Na2O', 'O2'),\n",
       " ('NaOH', 'H2O2', 'H', 'O', 'O2'),\n",
       " ('NaOH', 'H2O2', 'H2', 'Na2O', 'O'),\n",
       " ('NaOH', 'H2O2', 'H2', 'Na2O', 'O2'),\n",
       " ('NaOH', 'H2O2', 'H2', 'O', 'O2'),\n",
       " ('NaOH', 'H2O2', 'Na2O', 'O', 'O2'),\n",
       " ('NaOH', 'O3', 'H', 'H2', 'Na2O'),\n",
       " ('NaOH', 'O3', 'H', 'H2', 'O'),\n",
       " ('NaOH', 'O3', 'H', 'H2', 'O2'),\n",
       " ('NaOH', 'O3', 'H', 'Na2O', 'O'),\n",
       " ('NaOH', 'O3', 'H', 'Na2O', 'O2'),\n",
       " ('NaOH', 'O3', 'H', 'O', 'O2'),\n",
       " ('NaOH', 'O3', 'H2', 'Na2O', 'O'),\n",
       " ('NaOH', 'O3', 'H2', 'Na2O', 'O2'),\n",
       " ('NaOH', 'O3', 'H2', 'O', 'O2'),\n",
       " ('NaOH', 'O3', 'Na2O', 'O', 'O2'),\n",
       " ('NaOH', 'H', 'H2', 'Na2O', 'O'),\n",
       " ('NaOH', 'H', 'H2', 'Na2O', 'O2'),\n",
       " ('NaOH', 'H', 'H2', 'O', 'O2'),\n",
       " ('NaOH', 'H', 'Na2O', 'O', 'O2'),\n",
       " ('NaOH', 'H2', 'Na2O', 'O', 'O2'),\n",
       " ('H2O2', 'O3', 'H', 'H2', 'Na2O'),\n",
       " ('H2O2', 'O3', 'H', 'H2', 'O'),\n",
       " ('H2O2', 'O3', 'H', 'H2', 'O2'),\n",
       " ('H2O2', 'O3', 'H', 'Na2O', 'O'),\n",
       " ('H2O2', 'O3', 'H', 'Na2O', 'O2'),\n",
       " ('H2O2', 'O3', 'H', 'O', 'O2'),\n",
       " ('H2O2', 'O3', 'H2', 'Na2O', 'O'),\n",
       " ('H2O2', 'O3', 'H2', 'Na2O', 'O2'),\n",
       " ('H2O2', 'O3', 'H2', 'O', 'O2'),\n",
       " ('H2O2', 'O3', 'Na2O', 'O', 'O2'),\n",
       " ('H2O2', 'H', 'H2', 'Na2O', 'O'),\n",
       " ('H2O2', 'H', 'H2', 'Na2O', 'O2'),\n",
       " ('H2O2', 'H', 'H2', 'O', 'O2'),\n",
       " ('H2O2', 'H', 'Na2O', 'O', 'O2'),\n",
       " ('H2O2', 'H2', 'Na2O', 'O', 'O2'),\n",
       " ('O3', 'H', 'H2', 'Na2O', 'O'),\n",
       " ('O3', 'H', 'H2', 'Na2O', 'O2'),\n",
       " ('O3', 'H', 'H2', 'O', 'O2'),\n",
       " ('O3', 'H', 'Na2O', 'O', 'O2'),\n",
       " ('O3', 'H2', 'Na2O', 'O', 'O2'),\n",
       " ('H', 'H2', 'Na2O', 'O', 'O2')]"
      ]
     },
     "execution_count": 15,
     "metadata": {},
     "output_type": "execute_result"
    }
   ],
   "source": [
    "# most chemical reactions don't form more than four different chemical species\n",
    "# we'll play it safe and just make the maximum number 3 + num_reactants\n",
    "\n",
    "combinations = []\n",
    "max_length = min(len(reactants) + 4, 7)\n",
    "for i in range(1, max_length):\n",
    "    combinations += list(itertools.combinations(candidates, i))\n",
    "combinations"
   ]
  },
  {
   "cell_type": "markdown",
   "metadata": {},
   "source": [
    "Let's see if any of these combinations result in a good balanced equation:"
   ]
  },
  {
   "cell_type": "code",
   "execution_count": 16,
   "metadata": {},
   "outputs": [
    {
     "name": "stdout",
     "output_type": "stream",
     "text": [
      "(OrderedDict([('Na', -6), ('H2O', -3)]), OrderedDict([('NaOH', -6), ('O3', 1)]))\n",
      "(OrderedDict([('Na', 1), ('H2O', 1)]), OrderedDict([('NaOH', 1), ('H', 1)]))\n",
      "(OrderedDict([('Na', 2), ('H2O', 2)]), OrderedDict([('NaOH', 2), ('H2', 1)]))\n",
      "(OrderedDict([('Na', -2), ('H2O', -1)]), OrderedDict([('NaOH', -2), ('O', 1)]))\n",
      "(OrderedDict([('Na', -4), ('H2O', -2)]), OrderedDict([('NaOH', -4), ('O2', 1)]))\n",
      "(OrderedDict([('Na', 2), ('H2O', -1)]), OrderedDict([('H2O2', -1), ('Na2O', 1)]))\n",
      "(OrderedDict([('Na', 2), ('H2O', 1)]), OrderedDict([('H', 2), ('Na2O', 1)]))\n",
      "(OrderedDict([('Na', 2), ('H2O', 1)]), OrderedDict([('H2', 1), ('Na2O', 1)]))\n",
      "(OrderedDict([('Na', -6*x1 - 2), ('H2O', -3*x1)]), OrderedDict([('NaOH', -6*x1 - 2), ('H2O2', 1), ('O3', x1)]))\n",
      "(OrderedDict([('Na', x1 - 2), ('H2O', x1)]), OrderedDict([('NaOH', x1 - 2), ('H2O2', 1), ('H', x1)]))\n",
      "(OrderedDict([('Na', 2*x1 - 2), ('H2O', 2*x1)]), OrderedDict([('NaOH', 2*x1 - 2), ('H2O2', 1), ('H2', x1)]))\n",
      "(OrderedDict([('Na', -2), ('H2O', -x1)]), OrderedDict([('NaOH', -2*x1 - 2), ('H2O2', 1), ('Na2O', x1)]))\n",
      "(OrderedDict([('Na', -2*x1 - 2), ('H2O', -x1)]), OrderedDict([('NaOH', -2*x1 - 2), ('H2O2', 1), ('O', x1)]))\n",
      "(OrderedDict([('Na', -4*x1 - 2), ('H2O', -2*x1)]), OrderedDict([('NaOH', -4*x1 - 2), ('H2O2', 1), ('O2', x1)]))\n",
      "(OrderedDict([('Na', x1 - 6), ('H2O', x1 - 3)]), OrderedDict([('NaOH', x1 - 6), ('O3', 1), ('H', x1)]))\n",
      "(OrderedDict([('Na', 2*x1 - 6), ('H2O', 2*x1 - 3)]), OrderedDict([('NaOH', 2*x1 - 6), ('O3', 1), ('H2', x1)]))\n",
      "(OrderedDict([('Na', -6), ('H2O', -x1 - 3)]), OrderedDict([('NaOH', -2*x1 - 6), ('O3', 1), ('Na2O', x1)]))\n",
      "(OrderedDict([('Na', -2*x1 - 6), ('H2O', -x1 - 3)]), OrderedDict([('NaOH', -2*x1 - 6), ('O3', 1), ('O', x1)]))\n",
      "(OrderedDict([('Na', -4*x1 - 6), ('H2O', -2*x1 - 3)]), OrderedDict([('NaOH', -4*x1 - 6), ('O3', 1), ('O2', x1)]))\n",
      "(OrderedDict([('Na', 2*x1 + 1), ('H2O', 2*x1 + 1)]), OrderedDict([('NaOH', 2*x1 + 1), ('H', 1), ('H2', x1)]))\n",
      "(OrderedDict([('Na', 1), ('H2O', 1 - x1)]), OrderedDict([('NaOH', 1 - 2*x1), ('H', 1), ('Na2O', x1)]))\n",
      "(OrderedDict([('Na', 1 - 2*x1), ('H2O', 1 - x1)]), OrderedDict([('NaOH', 1 - 2*x1), ('H', 1), ('O', x1)]))\n",
      "(OrderedDict([('Na', 1 - 4*x1), ('H2O', 1 - 2*x1)]), OrderedDict([('NaOH', 1 - 4*x1), ('H', 1), ('O2', x1)]))\n",
      "(OrderedDict([('Na', 2), ('H2O', 2 - x1)]), OrderedDict([('NaOH', 2 - 2*x1), ('H2', 1), ('Na2O', x1)]))\n",
      "(OrderedDict([('Na', 2 - 2*x1), ('H2O', 2 - x1)]), OrderedDict([('NaOH', 2 - 2*x1), ('H2', 1), ('O', x1)]))\n",
      "(OrderedDict([('Na', 2 - 4*x1), ('H2O', 2 - 2*x1)]), OrderedDict([('NaOH', 2 - 4*x1), ('H2', 1), ('O2', x1)]))\n",
      "(OrderedDict([('Na', -2*x1), ('H2O', -x1 - 1)]), OrderedDict([('NaOH', -2*x1 - 2), ('Na2O', 1), ('O', x1)]))\n",
      "(OrderedDict([('Na', -4*x1), ('H2O', -2*x1 - 1)]), OrderedDict([('NaOH', -4*x1 - 2), ('Na2O', 1), ('O2', x1)]))\n",
      "(OrderedDict([('Na', -4*x1 - 2), ('H2O', -2*x1 - 1)]), OrderedDict([('NaOH', -4*x1 - 2), ('O', 1), ('O2', x1)]))\n",
      "(OrderedDict([('Na', 2*x1), ('H2O', -x1 - 3)]), OrderedDict([('H2O2', -x1 - 3), ('O3', 1), ('Na2O', x1)]))\n",
      "(OrderedDict([('Na', 2*x1), ('H2O', 1 - x1)]), OrderedDict([('H2O2', 1/2 - x1), ('H', 1), ('Na2O', x1)]))\n",
      "(OrderedDict([('Na', 2*x1), ('H2O', 2 - x1)]), OrderedDict([('H2O2', 1 - x1), ('H2', 1), ('Na2O', x1)]))\n",
      "(OrderedDict([('Na', 2), ('H2O', -x1 - 1)]), OrderedDict([('H2O2', -x1 - 1), ('Na2O', 1), ('O', x1)]))\n",
      "(OrderedDict([('Na', 2), ('H2O', -2*x1 - 1)]), OrderedDict([('H2O2', -2*x1 - 1), ('Na2O', 1), ('O2', x1)]))\n",
      "(OrderedDict([('Na', 6*x1), ('H2O', 3/2)]), OrderedDict([('O3', 1/2 - x1), ('H', 3), ('Na2O', 3*x1)]))\n",
      "(OrderedDict([('Na', 6*x1), ('H2O', 3)]), OrderedDict([('O3', 1 - x1), ('H2', 3), ('Na2O', 3*x1)]))\n",
      "(OrderedDict([('Na', 2*x1), ('H2O', x1)]), OrderedDict([('H', 2*x1 - 2), ('H2', 1), ('Na2O', x1)]))\n",
      "(OrderedDict([('Na', 2), ('H2O', x1 + 1)]), OrderedDict([('H', 2*x1 + 2), ('Na2O', 1), ('O', x1)]))\n",
      "(OrderedDict([('Na', 2), ('H2O', 2*x1 + 1)]), OrderedDict([('H', 4*x1 + 2), ('Na2O', 1), ('O2', x1)]))\n",
      "(OrderedDict([('Na', 2), ('H2O', x1 + 1)]), OrderedDict([('H2', x1 + 1), ('Na2O', 1), ('O', x1)]))\n",
      "(OrderedDict([('Na', 2), ('H2O', 2*x1 + 1)]), OrderedDict([('H2', 2*x1 + 1), ('Na2O', 1), ('O2', x1)]))\n",
      "(OrderedDict([('Na', x1 - 6*x2 - 2), ('H2O', x1 - 3*x2)]), OrderedDict([('NaOH', x1 - 6*x2 - 2), ('H2O2', 1), ('O3', x2), ('H', x1)]))\n",
      "(OrderedDict([('Na', 2*x1 - 6*x2 - 2), ('H2O', 2*x1 - 3*x2)]), OrderedDict([('NaOH', 2*x1 - 6*x2 - 2), ('H2O2', 1), ('O3', x2), ('H2', x1)]))\n",
      "(OrderedDict([('Na', -6*x2 - 2), ('H2O', -x1 - 3*x2)]), OrderedDict([('NaOH', -2*x1 - 6*x2 - 2), ('H2O2', 1), ('O3', x2), ('Na2O', x1)]))\n",
      "(OrderedDict([('Na', -2*x1 - 6*x2 - 2), ('H2O', -x1 - 3*x2)]), OrderedDict([('NaOH', -2*x1 - 6*x2 - 2), ('H2O2', 1), ('O3', x2), ('O', x1)]))\n",
      "(OrderedDict([('Na', -4*x1 - 6*x2 - 2), ('H2O', -2*x1 - 3*x2)]), OrderedDict([('NaOH', -4*x1 - 6*x2 - 2), ('H2O2', 1), ('O3', x2), ('O2', x1)]))\n",
      "(OrderedDict([('Na', 2*x1 + x2 - 2), ('H2O', 2*x1 + x2)]), OrderedDict([('NaOH', 2*x1 + x2 - 2), ('H2O2', 1), ('H', x2), ('H2', x1)]))\n",
      "(OrderedDict([('Na', x2 - 2), ('H2O', -x1 + x2)]), OrderedDict([('NaOH', -2*x1 + x2 - 2), ('H2O2', 1), ('H', x2), ('Na2O', x1)]))\n",
      "(OrderedDict([('Na', -2*x1 + x2 - 2), ('H2O', -x1 + x2)]), OrderedDict([('NaOH', -2*x1 + x2 - 2), ('H2O2', 1), ('H', x2), ('O', x1)]))\n",
      "(OrderedDict([('Na', -4*x1 + x2 - 2), ('H2O', -2*x1 + x2)]), OrderedDict([('NaOH', -4*x1 + x2 - 2), ('H2O2', 1), ('H', x2), ('O2', x1)]))\n",
      "(OrderedDict([('Na', 2*x2 - 2), ('H2O', -x1 + 2*x2)]), OrderedDict([('NaOH', -2*x1 + 2*x2 - 2), ('H2O2', 1), ('H2', x2), ('Na2O', x1)]))\n",
      "(OrderedDict([('Na', -2*x1 + 2*x2 - 2), ('H2O', -x1 + 2*x2)]), OrderedDict([('NaOH', -2*x1 + 2*x2 - 2), ('H2O2', 1), ('H2', x2), ('O', x1)]))\n",
      "(OrderedDict([('Na', -4*x1 + 2*x2 - 2), ('H2O', -2*x1 + 2*x2)]), OrderedDict([('NaOH', -4*x1 + 2*x2 - 2), ('H2O2', 1), ('H2', x2), ('O2', x1)]))\n",
      "(OrderedDict([('Na', -2*x1 - 2), ('H2O', -x1 - x2)]), OrderedDict([('NaOH', -2*x1 - 2*x2 - 2), ('H2O2', 1), ('Na2O', x2), ('O', x1)]))\n",
      "(OrderedDict([('Na', -4*x1 - 2), ('H2O', -2*x1 - x2)]), OrderedDict([('NaOH', -4*x1 - 2*x2 - 2), ('H2O2', 1), ('Na2O', x2), ('O2', x1)]))\n",
      "(OrderedDict([('Na', -4*x1 - 2*x2 - 2), ('H2O', -2*x1 - x2)]), OrderedDict([('NaOH', -4*x1 - 2*x2 - 2), ('H2O2', 1), ('O', x2), ('O2', x1)]))\n",
      "(OrderedDict([('Na', 2*x1 + x2 - 6), ('H2O', 2*x1 + x2 - 3)]), OrderedDict([('NaOH', 2*x1 + x2 - 6), ('O3', 1), ('H', x2), ('H2', x1)]))\n",
      "(OrderedDict([('Na', x2 - 6), ('H2O', -x1 + x2 - 3)]), OrderedDict([('NaOH', -2*x1 + x2 - 6), ('O3', 1), ('H', x2), ('Na2O', x1)]))\n",
      "(OrderedDict([('Na', -2*x1 + x2 - 6), ('H2O', -x1 + x2 - 3)]), OrderedDict([('NaOH', -2*x1 + x2 - 6), ('O3', 1), ('H', x2), ('O', x1)]))\n",
      "(OrderedDict([('Na', -4*x1 + x2 - 6), ('H2O', -2*x1 + x2 - 3)]), OrderedDict([('NaOH', -4*x1 + x2 - 6), ('O3', 1), ('H', x2), ('O2', x1)]))\n",
      "(OrderedDict([('Na', 2*x2 - 6), ('H2O', -x1 + 2*x2 - 3)]), OrderedDict([('NaOH', -2*x1 + 2*x2 - 6), ('O3', 1), ('H2', x2), ('Na2O', x1)]))\n",
      "(OrderedDict([('Na', -2*x1 + 2*x2 - 6), ('H2O', -x1 + 2*x2 - 3)]), OrderedDict([('NaOH', -2*x1 + 2*x2 - 6), ('O3', 1), ('H2', x2), ('O', x1)]))\n",
      "(OrderedDict([('Na', -4*x1 + 2*x2 - 6), ('H2O', -2*x1 + 2*x2 - 3)]), OrderedDict([('NaOH', -4*x1 + 2*x2 - 6), ('O3', 1), ('H2', x2), ('O2', x1)]))\n",
      "(OrderedDict([('Na', -2*x1 - 6), ('H2O', -x1 - x2 - 3)]), OrderedDict([('NaOH', -2*x1 - 2*x2 - 6), ('O3', 1), ('Na2O', x2), ('O', x1)]))\n",
      "(OrderedDict([('Na', -4*x1 - 6), ('H2O', -2*x1 - x2 - 3)]), OrderedDict([('NaOH', -4*x1 - 2*x2 - 6), ('O3', 1), ('Na2O', x2), ('O2', x1)]))\n",
      "(OrderedDict([('Na', -4*x1 - 2*x2 - 6), ('H2O', -2*x1 - x2 - 3)]), OrderedDict([('NaOH', -4*x1 - 2*x2 - 6), ('O3', 1), ('O', x2), ('O2', x1)]))\n",
      "(OrderedDict([('Na', 2*x2 + 1), ('H2O', -x1 + 2*x2 + 1)]), OrderedDict([('NaOH', -2*x1 + 2*x2 + 1), ('H', 1), ('H2', x2), ('Na2O', x1)]))\n",
      "(OrderedDict([('Na', -2*x1 + 2*x2 + 1), ('H2O', -x1 + 2*x2 + 1)]), OrderedDict([('NaOH', -2*x1 + 2*x2 + 1), ('H', 1), ('H2', x2), ('O', x1)]))\n",
      "(OrderedDict([('Na', -4*x1 + 2*x2 + 1), ('H2O', -2*x1 + 2*x2 + 1)]), OrderedDict([('NaOH', -4*x1 + 2*x2 + 1), ('H', 1), ('H2', x2), ('O2', x1)]))\n",
      "(OrderedDict([('Na', 1 - 2*x1), ('H2O', -x1 - x2 + 1)]), OrderedDict([('NaOH', -2*x1 - 2*x2 + 1), ('H', 1), ('Na2O', x2), ('O', x1)]))\n",
      "(OrderedDict([('Na', 1 - 4*x1), ('H2O', -2*x1 - x2 + 1)]), OrderedDict([('NaOH', -4*x1 - 2*x2 + 1), ('H', 1), ('Na2O', x2), ('O2', x1)]))\n",
      "(OrderedDict([('Na', -4*x1 - 2*x2 + 1), ('H2O', -2*x1 - x2 + 1)]), OrderedDict([('NaOH', -4*x1 - 2*x2 + 1), ('H', 1), ('O', x2), ('O2', x1)]))\n",
      "(OrderedDict([('Na', 2 - 2*x1), ('H2O', -x1 - x2 + 2)]), OrderedDict([('NaOH', -2*x1 - 2*x2 + 2), ('H2', 1), ('Na2O', x2), ('O', x1)]))\n"
     ]
    },
    {
     "name": "stdout",
     "output_type": "stream",
     "text": [
      "(OrderedDict([('Na', 2 - 4*x1), ('H2O', -2*x1 - x2 + 2)]), OrderedDict([('NaOH', -4*x1 - 2*x2 + 2), ('H2', 1), ('Na2O', x2), ('O2', x1)]))\n",
      "(OrderedDict([('Na', -4*x1 - 2*x2 + 2), ('H2O', -2*x1 - x2 + 2)]), OrderedDict([('NaOH', -4*x1 - 2*x2 + 2), ('H2', 1), ('O', x2), ('O2', x1)]))\n",
      "(OrderedDict([('Na', -4*x1 - 2*x2), ('H2O', -2*x1 - x2 - 1)]), OrderedDict([('NaOH', -4*x1 - 2*x2 - 2), ('Na2O', 1), ('O', x2), ('O2', x1)]))\n",
      "(OrderedDict([('Na', 2*x1), ('H2O', -x1 + 2*x2 - 3)]), OrderedDict([('H2O2', -x1 + x2 - 3), ('O3', 1), ('H', 2*x2), ('Na2O', x1)]))\n",
      "(OrderedDict([('Na', 2*x1), ('H2O', -x1 + 2*x2 - 3)]), OrderedDict([('H2O2', -x1 + x2 - 3), ('O3', 1), ('H2', x2), ('Na2O', x1)]))\n",
      "(OrderedDict([('Na', 2*x2), ('H2O', -x1 - x2 - 3)]), OrderedDict([('H2O2', -x1 - x2 - 3), ('O3', 1), ('Na2O', x2), ('O', x1)]))\n",
      "(OrderedDict([('Na', 2*x2), ('H2O', -2*x1 - x2 - 3)]), OrderedDict([('H2O2', -2*x1 - x2 - 3), ('O3', 1), ('Na2O', x2), ('O2', x1)]))\n",
      "(OrderedDict([('Na', 2*x1), ('H2O', -x1 + 2*x2 + 1)]), OrderedDict([('H2O2', -x1 + x2 + 1/2), ('H', 1), ('H2', x2), ('Na2O', x1)]))\n",
      "(OrderedDict([('Na', 2*x2), ('H2O', -x1 - x2 + 1)]), OrderedDict([('H2O2', -x1 - x2 + 1/2), ('H', 1), ('Na2O', x2), ('O', x1)]))\n",
      "(OrderedDict([('Na', 2*x2), ('H2O', -2*x1 - x2 + 1)]), OrderedDict([('H2O2', -2*x1 - x2 + 1/2), ('H', 1), ('Na2O', x2), ('O2', x1)]))\n",
      "(OrderedDict([('Na', 2*x2), ('H2O', -x1 - x2 + 2)]), OrderedDict([('H2O2', -x1 - x2 + 1), ('H2', 1), ('Na2O', x2), ('O', x1)]))\n",
      "(OrderedDict([('Na', 2*x2), ('H2O', -2*x1 - x2 + 2)]), OrderedDict([('H2O2', -2*x1 - x2 + 1), ('H2', 1), ('Na2O', x2), ('O2', x1)]))\n",
      "(OrderedDict([('Na', 2), ('H2O', -2*x1 - x2 - 1)]), OrderedDict([('H2O2', -2*x1 - x2 - 1), ('Na2O', 1), ('O', x2), ('O2', x1)]))\n",
      "(OrderedDict([('Na', 6*x1), ('H2O', 3*x2 + 3/2)]), OrderedDict([('O3', -x1 + x2 + 1/2), ('H', 3), ('H2', 3*x2), ('Na2O', 3*x1)]))\n",
      "(OrderedDict([('Na', 6*x2), ('H2O', 3/2)]), OrderedDict([('O3', -x1 - x2 + 1/2), ('H', 3), ('Na2O', 3*x2), ('O', 3*x1)]))\n",
      "(OrderedDict([('Na', 6*x2), ('H2O', 3/2)]), OrderedDict([('O3', -2*x1 - x2 + 1/2), ('H', 3), ('Na2O', 3*x2), ('O2', 3*x1)]))\n",
      "(OrderedDict([('Na', 6*x2), ('H2O', 3)]), OrderedDict([('O3', -x1 - x2 + 1), ('H2', 3), ('Na2O', 3*x2), ('O', 3*x1)]))\n",
      "(OrderedDict([('Na', 6*x2), ('H2O', 3)]), OrderedDict([('O3', -2*x1 - x2 + 1), ('H2', 3), ('Na2O', 3*x2), ('O2', 3*x1)]))\n",
      "(OrderedDict([('Na', 2*x2), ('H2O', x1 + x2)]), OrderedDict([('H', 2*x1 + 2*x2 - 2), ('H2', 1), ('Na2O', x2), ('O', x1)]))\n",
      "(OrderedDict([('Na', 2*x2), ('H2O', 2*x1 + x2)]), OrderedDict([('H', 4*x1 + 2*x2 - 2), ('H2', 1), ('Na2O', x2), ('O2', x1)]))\n",
      "(OrderedDict([('Na', 2), ('H2O', 2*x1 + x2 + 1)]), OrderedDict([('H', 4*x1 + 2*x2 + 2), ('Na2O', 1), ('O', x2), ('O2', x1)]))\n",
      "(OrderedDict([('Na', 2), ('H2O', 2*x1 + x2 + 1)]), OrderedDict([('H2', 2*x1 + x2 + 1), ('Na2O', 1), ('O', x2), ('O2', x1)]))\n",
      "(OrderedDict([('Na', 2*x1 + x2 - 6*x3 - 2), ('H2O', 2*x1 + x2 - 3*x3)]), OrderedDict([('NaOH', 2*x1 + x2 - 6*x3 - 2), ('H2O2', 1), ('O3', x3), ('H', x2), ('H2', x1)]))\n",
      "(OrderedDict([('Na', x2 - 6*x3 - 2), ('H2O', -x1 + x2 - 3*x3)]), OrderedDict([('NaOH', -2*x1 + x2 - 6*x3 - 2), ('H2O2', 1), ('O3', x3), ('H', x2), ('Na2O', x1)]))\n",
      "(OrderedDict([('Na', -2*x1 + x2 - 6*x3 - 2), ('H2O', -x1 + x2 - 3*x3)]), OrderedDict([('NaOH', -2*x1 + x2 - 6*x3 - 2), ('H2O2', 1), ('O3', x3), ('H', x2), ('O', x1)]))\n",
      "(OrderedDict([('Na', -4*x1 + x2 - 6*x3 - 2), ('H2O', -2*x1 + x2 - 3*x3)]), OrderedDict([('NaOH', -4*x1 + x2 - 6*x3 - 2), ('H2O2', 1), ('O3', x3), ('H', x2), ('O2', x1)]))\n",
      "(OrderedDict([('Na', 2*x2 - 6*x3 - 2), ('H2O', -x1 + 2*x2 - 3*x3)]), OrderedDict([('NaOH', -2*x1 + 2*x2 - 6*x3 - 2), ('H2O2', 1), ('O3', x3), ('H2', x2), ('Na2O', x1)]))\n",
      "(OrderedDict([('Na', -2*x1 + 2*x2 - 6*x3 - 2), ('H2O', -x1 + 2*x2 - 3*x3)]), OrderedDict([('NaOH', -2*x1 + 2*x2 - 6*x3 - 2), ('H2O2', 1), ('O3', x3), ('H2', x2), ('O', x1)]))\n",
      "(OrderedDict([('Na', -4*x1 + 2*x2 - 6*x3 - 2), ('H2O', -2*x1 + 2*x2 - 3*x3)]), OrderedDict([('NaOH', -4*x1 + 2*x2 - 6*x3 - 2), ('H2O2', 1), ('O3', x3), ('H2', x2), ('O2', x1)]))\n",
      "(OrderedDict([('Na', -2*x1 - 6*x3 - 2), ('H2O', -x1 - x2 - 3*x3)]), OrderedDict([('NaOH', -2*x1 - 2*x2 - 6*x3 - 2), ('H2O2', 1), ('O3', x3), ('Na2O', x2), ('O', x1)]))\n",
      "(OrderedDict([('Na', -4*x1 - 6*x3 - 2), ('H2O', -2*x1 - x2 - 3*x3)]), OrderedDict([('NaOH', -4*x1 - 2*x2 - 6*x3 - 2), ('H2O2', 1), ('O3', x3), ('Na2O', x2), ('O2', x1)]))\n",
      "(OrderedDict([('Na', -4*x1 - 2*x2 - 6*x3 - 2), ('H2O', -2*x1 - x2 - 3*x3)]), OrderedDict([('NaOH', -4*x1 - 2*x2 - 6*x3 - 2), ('H2O2', 1), ('O3', x3), ('O', x2), ('O2', x1)]))\n",
      "(OrderedDict([('Na', 2*x2 + x3 - 2), ('H2O', -x1 + 2*x2 + x3)]), OrderedDict([('NaOH', -2*x1 + 2*x2 + x3 - 2), ('H2O2', 1), ('H', x3), ('H2', x2), ('Na2O', x1)]))\n",
      "(OrderedDict([('Na', -2*x1 + 2*x2 + x3 - 2), ('H2O', -x1 + 2*x2 + x3)]), OrderedDict([('NaOH', -2*x1 + 2*x2 + x3 - 2), ('H2O2', 1), ('H', x3), ('H2', x2), ('O', x1)]))\n",
      "(OrderedDict([('Na', -4*x1 + 2*x2 + x3 - 2), ('H2O', -2*x1 + 2*x2 + x3)]), OrderedDict([('NaOH', -4*x1 + 2*x2 + x3 - 2), ('H2O2', 1), ('H', x3), ('H2', x2), ('O2', x1)]))\n",
      "(OrderedDict([('Na', -2*x1 + x3 - 2), ('H2O', -x1 - x2 + x3)]), OrderedDict([('NaOH', -2*x1 - 2*x2 + x3 - 2), ('H2O2', 1), ('H', x3), ('Na2O', x2), ('O', x1)]))\n",
      "(OrderedDict([('Na', -4*x1 + x3 - 2), ('H2O', -2*x1 - x2 + x3)]), OrderedDict([('NaOH', -4*x1 - 2*x2 + x3 - 2), ('H2O2', 1), ('H', x3), ('Na2O', x2), ('O2', x1)]))\n",
      "(OrderedDict([('Na', -4*x1 - 2*x2 + x3 - 2), ('H2O', -2*x1 - x2 + x3)]), OrderedDict([('NaOH', -4*x1 - 2*x2 + x3 - 2), ('H2O2', 1), ('H', x3), ('O', x2), ('O2', x1)]))\n",
      "(OrderedDict([('Na', -2*x1 + 2*x3 - 2), ('H2O', -x1 - x2 + 2*x3)]), OrderedDict([('NaOH', -2*x1 - 2*x2 + 2*x3 - 2), ('H2O2', 1), ('H2', x3), ('Na2O', x2), ('O', x1)]))\n",
      "(OrderedDict([('Na', -4*x1 + 2*x3 - 2), ('H2O', -2*x1 - x2 + 2*x3)]), OrderedDict([('NaOH', -4*x1 - 2*x2 + 2*x3 - 2), ('H2O2', 1), ('H2', x3), ('Na2O', x2), ('O2', x1)]))\n",
      "(OrderedDict([('Na', -4*x1 - 2*x2 + 2*x3 - 2), ('H2O', -2*x1 - x2 + 2*x3)]), OrderedDict([('NaOH', -4*x1 - 2*x2 + 2*x3 - 2), ('H2O2', 1), ('H2', x3), ('O', x2), ('O2', x1)]))\n",
      "(OrderedDict([('Na', -4*x1 - 2*x2 - 2), ('H2O', -2*x1 - x2 - x3)]), OrderedDict([('NaOH', -4*x1 - 2*x2 - 2*x3 - 2), ('H2O2', 1), ('Na2O', x3), ('O', x2), ('O2', x1)]))\n",
      "(OrderedDict([('Na', 2*x2 + x3 - 6), ('H2O', -x1 + 2*x2 + x3 - 3)]), OrderedDict([('NaOH', -2*x1 + 2*x2 + x3 - 6), ('O3', 1), ('H', x3), ('H2', x2), ('Na2O', x1)]))\n",
      "(OrderedDict([('Na', -2*x1 + 2*x2 + x3 - 6), ('H2O', -x1 + 2*x2 + x3 - 3)]), OrderedDict([('NaOH', -2*x1 + 2*x2 + x3 - 6), ('O3', 1), ('H', x3), ('H2', x2), ('O', x1)]))\n",
      "(OrderedDict([('Na', -4*x1 + 2*x2 + x3 - 6), ('H2O', -2*x1 + 2*x2 + x3 - 3)]), OrderedDict([('NaOH', -4*x1 + 2*x2 + x3 - 6), ('O3', 1), ('H', x3), ('H2', x2), ('O2', x1)]))\n",
      "(OrderedDict([('Na', -2*x1 + x3 - 6), ('H2O', -x1 - x2 + x3 - 3)]), OrderedDict([('NaOH', -2*x1 - 2*x2 + x3 - 6), ('O3', 1), ('H', x3), ('Na2O', x2), ('O', x1)]))\n",
      "(OrderedDict([('Na', -4*x1 + x3 - 6), ('H2O', -2*x1 - x2 + x3 - 3)]), OrderedDict([('NaOH', -4*x1 - 2*x2 + x3 - 6), ('O3', 1), ('H', x3), ('Na2O', x2), ('O2', x1)]))\n",
      "(OrderedDict([('Na', -4*x1 - 2*x2 + x3 - 6), ('H2O', -2*x1 - x2 + x3 - 3)]), OrderedDict([('NaOH', -4*x1 - 2*x2 + x3 - 6), ('O3', 1), ('H', x3), ('O', x2), ('O2', x1)]))\n",
      "(OrderedDict([('Na', -2*x1 + 2*x3 - 6), ('H2O', -x1 - x2 + 2*x3 - 3)]), OrderedDict([('NaOH', -2*x1 - 2*x2 + 2*x3 - 6), ('O3', 1), ('H2', x3), ('Na2O', x2), ('O', x1)]))\n",
      "(OrderedDict([('Na', -4*x1 + 2*x3 - 6), ('H2O', -2*x1 - x2 + 2*x3 - 3)]), OrderedDict([('NaOH', -4*x1 - 2*x2 + 2*x3 - 6), ('O3', 1), ('H2', x3), ('Na2O', x2), ('O2', x1)]))\n",
      "(OrderedDict([('Na', -4*x1 - 2*x2 + 2*x3 - 6), ('H2O', -2*x1 - x2 + 2*x3 - 3)]), OrderedDict([('NaOH', -4*x1 - 2*x2 + 2*x3 - 6), ('O3', 1), ('H2', x3), ('O', x2), ('O2', x1)]))\n",
      "(OrderedDict([('Na', -4*x1 - 2*x2 - 6), ('H2O', -2*x1 - x2 - x3 - 3)]), OrderedDict([('NaOH', -4*x1 - 2*x2 - 2*x3 - 6), ('O3', 1), ('Na2O', x3), ('O', x2), ('O2', x1)]))\n",
      "(OrderedDict([('Na', -2*x1 + 2*x3 + 1), ('H2O', -x1 - x2 + 2*x3 + 1)]), OrderedDict([('NaOH', -2*x1 - 2*x2 + 2*x3 + 1), ('H', 1), ('H2', x3), ('Na2O', x2), ('O', x1)]))\n",
      "(OrderedDict([('Na', -4*x1 + 2*x3 + 1), ('H2O', -2*x1 - x2 + 2*x3 + 1)]), OrderedDict([('NaOH', -4*x1 - 2*x2 + 2*x3 + 1), ('H', 1), ('H2', x3), ('Na2O', x2), ('O2', x1)]))\n",
      "(OrderedDict([('Na', -4*x1 - 2*x2 + 2*x3 + 1), ('H2O', -2*x1 - x2 + 2*x3 + 1)]), OrderedDict([('NaOH', -4*x1 - 2*x2 + 2*x3 + 1), ('H', 1), ('H2', x3), ('O', x2), ('O2', x1)]))\n",
      "(OrderedDict([('Na', -4*x1 - 2*x2 + 1), ('H2O', -2*x1 - x2 - x3 + 1)]), OrderedDict([('NaOH', -4*x1 - 2*x2 - 2*x3 + 1), ('H', 1), ('Na2O', x3), ('O', x2), ('O2', x1)]))\n"
     ]
    },
    {
     "name": "stdout",
     "output_type": "stream",
     "text": [
      "(OrderedDict([('Na', -4*x1 - 2*x2 + 2), ('H2O', -2*x1 - x2 - x3 + 2)]), OrderedDict([('NaOH', -4*x1 - 2*x2 - 2*x3 + 2), ('H2', 1), ('Na2O', x3), ('O', x2), ('O2', x1)]))\n",
      "(OrderedDict([('Na', 2*x1), ('H2O', -x1 + 2*x2 + 2*x3 - 3)]), OrderedDict([('H2O2', -x1 + x2 + x3 - 3), ('O3', 1), ('H', 2*x3), ('H2', x2), ('Na2O', x1)]))\n",
      "(OrderedDict([('Na', 2*x2), ('H2O', -x1 - x2 + 2*x3 - 3)]), OrderedDict([('H2O2', -x1 - x2 + x3 - 3), ('O3', 1), ('H', 2*x3), ('Na2O', x2), ('O', x1)]))\n",
      "(OrderedDict([('Na', 2*x2), ('H2O', -2*x1 - x2 + 2*x3 - 3)]), OrderedDict([('H2O2', -2*x1 - x2 + x3 - 3), ('O3', 1), ('H', 2*x3), ('Na2O', x2), ('O2', x1)]))\n",
      "(OrderedDict([('Na', 2*x2), ('H2O', -x1 - x2 + 2*x3 - 3)]), OrderedDict([('H2O2', -x1 - x2 + x3 - 3), ('O3', 1), ('H2', x3), ('Na2O', x2), ('O', x1)]))\n",
      "(OrderedDict([('Na', 2*x2), ('H2O', -2*x1 - x2 + 2*x3 - 3)]), OrderedDict([('H2O2', -2*x1 - x2 + x3 - 3), ('O3', 1), ('H2', x3), ('Na2O', x2), ('O2', x1)]))\n",
      "(OrderedDict([('Na', 2*x3), ('H2O', -2*x1 - x2 - x3 - 3)]), OrderedDict([('H2O2', -2*x1 - x2 - x3 - 3), ('O3', 1), ('Na2O', x3), ('O', x2), ('O2', x1)]))\n",
      "(OrderedDict([('Na', 2*x2), ('H2O', -x1 - x2 + 2*x3 + 1)]), OrderedDict([('H2O2', -x1 - x2 + x3 + 1/2), ('H', 1), ('H2', x3), ('Na2O', x2), ('O', x1)]))\n",
      "(OrderedDict([('Na', 2*x2), ('H2O', -2*x1 - x2 + 2*x3 + 1)]), OrderedDict([('H2O2', -2*x1 - x2 + x3 + 1/2), ('H', 1), ('H2', x3), ('Na2O', x2), ('O2', x1)]))\n",
      "(OrderedDict([('Na', 2*x3), ('H2O', -2*x1 - x2 - x3 + 1)]), OrderedDict([('H2O2', -2*x1 - x2 - x3 + 1/2), ('H', 1), ('Na2O', x3), ('O', x2), ('O2', x1)]))\n",
      "(OrderedDict([('Na', 2*x3), ('H2O', -2*x1 - x2 - x3 + 2)]), OrderedDict([('H2O2', -2*x1 - x2 - x3 + 1), ('H2', 1), ('Na2O', x3), ('O', x2), ('O2', x1)]))\n",
      "(OrderedDict([('Na', 6*x2), ('H2O', 3*x3 + 3/2)]), OrderedDict([('O3', -x1 - x2 + x3 + 1/2), ('H', 3), ('H2', 3*x3), ('Na2O', 3*x2), ('O', 3*x1)]))\n",
      "(OrderedDict([('Na', 6*x2), ('H2O', 3*x3 + 3/2)]), OrderedDict([('O3', -2*x1 - x2 + x3 + 1/2), ('H', 3), ('H2', 3*x3), ('Na2O', 3*x2), ('O2', 3*x1)]))\n",
      "(OrderedDict([('Na', 6*x3), ('H2O', 3/2)]), OrderedDict([('O3', -2*x1 - x2 - x3 + 1/2), ('H', 3), ('Na2O', 3*x3), ('O', 3*x2), ('O2', 3*x1)]))\n",
      "(OrderedDict([('Na', 6*x3), ('H2O', 3)]), OrderedDict([('O3', -2*x1 - x2 - x3 + 1), ('H2', 3), ('Na2O', 3*x3), ('O', 3*x2), ('O2', 3*x1)]))\n",
      "(OrderedDict([('Na', 2*x3), ('H2O', 2*x1 + x2 + x3)]), OrderedDict([('H', 4*x1 + 2*x2 + 2*x3 - 2), ('H2', 1), ('Na2O', x3), ('O', x2), ('O2', x1)]))\n"
     ]
    }
   ],
   "source": [
    "for comb in combinations:    \n",
    "    try:\n",
    "        print(balance_stoichiometry(reactants, comb))\n",
    "    except:\n",
    "        pass"
   ]
  },
  {
   "cell_type": "markdown",
   "metadata": {},
   "source": [
    "In order for an equation to be properly balanced, each coefficient (dictionary values here) must be a positive number, and oftentimes we balance so that every coefficient is a whole number. We have to filter out the balanced instances where we get negative coefficients (such as the equation with `H2O2` and `Na2O` as products).\n",
    "\n",
    "Notice also that `sympy` has relative coefficients listed (meaning the equation would be balanced for any whole number `x1`, for example). We will want to filter these out too, but may consider including them for a reach goal."
   ]
  },
  {
   "cell_type": "code",
   "execution_count": 17,
   "metadata": {},
   "outputs": [
    {
     "data": {
      "text/plain": [
       "array([ True, False])"
      ]
     },
     "execution_count": 17,
     "metadata": {},
     "output_type": "execute_result"
    }
   ],
   "source": [
    "np.array(list(balance_stoichiometry(reactants, ('H2O2', 'Na2O'))[0].values())) >= 1"
   ]
  },
  {
   "cell_type": "code",
   "execution_count": 18,
   "metadata": {},
   "outputs": [
    {
     "data": {
      "text/plain": [
       "0.0"
      ]
     },
     "execution_count": 18,
     "metadata": {},
     "output_type": "execute_result"
    }
   ],
   "source": [
    "# there might be a more elegant way of doing this. round down to zero if any instance is false.\n",
    "\n",
    "np.floor((np.array(list(balance_stoichiometry(reactants, ('H2O2', 'Na2O'))[0].values())) >= 1).mean())"
   ]
  },
  {
   "cell_type": "code",
   "execution_count": 19,
   "metadata": {},
   "outputs": [
    {
     "data": {
      "text/plain": [
       "array([2*x1, 2*x1 + 4], dtype=object)"
      ]
     },
     "execution_count": 19,
     "metadata": {},
     "output_type": "execute_result"
    }
   ],
   "source": [
    "np.array(list(balance_stoichiometry(reactants, ('H2', 'O2', 'NaOH'))[0].values()))"
   ]
  },
  {
   "cell_type": "code",
   "execution_count": 20,
   "metadata": {},
   "outputs": [
    {
     "data": {
      "text/plain": [
       "array([False, False])"
      ]
     },
     "execution_count": 20,
     "metadata": {},
     "output_type": "execute_result"
    }
   ],
   "source": [
    "np.array([isinstance(i, sympy.numbers.Number) for i in list(balance_stoichiometry(reactants, ('H2', 'O2', 'NaOH'))[0].values())])"
   ]
  },
  {
   "cell_type": "markdown",
   "metadata": {},
   "source": [
    "## functions\n",
    "\n",
    "The above code has been condensed into several functions:\n",
    "\n",
    "- `formula_state_separator` (already defined): in the case that a formula is formatted with its corresponding state (eg: `NaCl(s)`), return just the formula.\n",
    "- `get_gibbs`: from the results of `formula_state_separator`, find the exact free energy value for the substance specified. If state is not specified, find the lowest free energy value for formulas that have multiple entries (since that is the most likely state under standard conditions.\n",
    "- `state_predictor`: from the results of `get_gibbs`, return the form of the compound with the lowest free energy value (therefore the most stable under standard conditions).\n",
    "- `Z_unique`: returns a list of unique atomic numbers present in a list of substances\n",
    "- `stoich_filter`: filters the `stoich` dataframe to return formulas that only have the elements described by `Z_unique`\n",
    "- `check_coefficients`: checks if all coefficients are positive and non-relational once an equation has been balanced\n",
    "- `possibility_reducer`: sometimes we get too many results from `stoich_filter`. In general, substances with lower $\\Delta G$ values are more likely to be products. However, very large, complex molecules with low $\\Delta G$ values are still not very likely, so one (imperfect) way to normalize for that is to divide by the mass of the compound. The jury is still out if this is a good way to filter.\n",
    "- `standard_gibbs_free_energy`: calculates the overall $\\Delta G$ change under standard conditions.\n",
    "- `reaction_predictor`: takes a list of reactants, iterates through the different possibilities (using `stoich_filter`, takes valid combinations using `check_coefficients`, and calculates $\\Delta G$ values using `thermo`. Returns the reaction with the lowest $\\Delta G$ value."
   ]
  },
  {
   "cell_type": "code",
   "execution_count": 21,
   "metadata": {},
   "outputs": [],
   "source": [
    "def get_gibbs(formula, energy='G', df=False):\n",
    "    '''\n",
    "    Retrieves the free energy value, in J, of a single substance\n",
    "    \n",
    "    --Parameters--\n",
    "    formula:        str\n",
    "        a string of a single chemical formula\n",
    "    \n",
    "    --Output--\n",
    "    list (float)    \n",
    "        \n",
    "    --Examples--\n",
    "    >>> get_gibbs('NaCl(aq)')\n",
    "    array([-388735.44])\n",
    "    '''\n",
    "    if (thermo_df['formula'] == formula).max():\n",
    "        matches = thermo_df[thermo_df['formula'] == formula]\n",
    "    else:\n",
    "        matches = thermo_df[thermo_df['formula'].map(\n",
    "            lambda x: x[:len(formula)] == formula)]\n",
    "        matches = matches[matches['formula'].map(\n",
    "            formula_state_separator) == formula]\n",
    "\n",
    "    if df:\n",
    "        return matches\n",
    "    else:\n",
    "        return list(matches[energy])[0]"
   ]
  },
  {
   "cell_type": "code",
   "execution_count": 22,
   "metadata": {},
   "outputs": [
    {
     "data": {
      "text/html": [
       "<div>\n",
       "<style scoped>\n",
       "    .dataframe tbody tr th:only-of-type {\n",
       "        vertical-align: middle;\n",
       "    }\n",
       "\n",
       "    .dataframe tbody tr th {\n",
       "        vertical-align: top;\n",
       "    }\n",
       "\n",
       "    .dataframe thead th {\n",
       "        text-align: right;\n",
       "    }\n",
       "</style>\n",
       "<table border=\"1\" class=\"dataframe\">\n",
       "  <thead>\n",
       "    <tr style=\"text-align: right;\">\n",
       "      <th></th>\n",
       "      <th>formula</th>\n",
       "      <th>abbrv</th>\n",
       "      <th>name</th>\n",
       "      <th>G</th>\n",
       "      <th>H</th>\n",
       "      <th>S</th>\n",
       "      <th>Cp</th>\n",
       "      <th>mass</th>\n",
       "    </tr>\n",
       "  </thead>\n",
       "  <tbody>\n",
       "    <tr>\n",
       "      <th>432</th>\n",
       "      <td>HNO3(aq)</td>\n",
       "      <td>HNO3</td>\n",
       "      <td>HNO3</td>\n",
       "      <td>-103470.32</td>\n",
       "      <td>-189995.44</td>\n",
       "      <td>178.6568</td>\n",
       "      <td>75.312</td>\n",
       "      <td>63.012</td>\n",
       "    </tr>\n",
       "    <tr>\n",
       "      <th>2744</th>\n",
       "      <td>HNO3(l)</td>\n",
       "      <td>HNO3</td>\n",
       "      <td>NaN</td>\n",
       "      <td>-80760.00</td>\n",
       "      <td>-174100.00</td>\n",
       "      <td>155.4900</td>\n",
       "      <td>109.870</td>\n",
       "      <td>63.012</td>\n",
       "    </tr>\n",
       "  </tbody>\n",
       "</table>\n",
       "</div>"
      ],
      "text/plain": [
       "       formula abbrv  name          G          H         S       Cp    mass\n",
       "432   HNO3(aq)  HNO3  HNO3 -103470.32 -189995.44  178.6568  75.312   63.012\n",
       "2744  HNO3(l)   HNO3  NaN  -80760.00  -174100.00  155.4900  109.870  63.012"
      ]
     },
     "execution_count": 22,
     "metadata": {},
     "output_type": "execute_result"
    }
   ],
   "source": [
    "get_gibbs('HNO3', df=True)"
   ]
  },
  {
   "cell_type": "code",
   "execution_count": 23,
   "metadata": {},
   "outputs": [],
   "source": [
    "stuff = ['Na', 'H2O', 'NaOH', 'H2']"
   ]
  },
  {
   "cell_type": "code",
   "execution_count": 24,
   "metadata": {},
   "outputs": [
    {
     "data": {
      "text/plain": [
       "['H2', 'NaOH', 'H2O', 'Na']"
      ]
     },
     "execution_count": 24,
     "metadata": {},
     "output_type": "execute_result"
    }
   ],
   "source": [
    "stuff[::-1]"
   ]
  },
  {
   "cell_type": "code",
   "execution_count": 25,
   "metadata": {},
   "outputs": [
    {
     "name": "stdout",
     "output_type": "stream",
     "text": [
      "51.21\n",
      "44.772983999999994\n",
      "44.7688\n",
      "57.739200000000004\n"
     ]
    }
   ],
   "source": [
    "for s in stuff:\n",
    "    print(get_gibbs(s, 'S'))"
   ]
  },
  {
   "cell_type": "code",
   "execution_count": 26,
   "metadata": {},
   "outputs": [],
   "source": [
    "def state_predictor(formula):\n",
    "    df = get_gibbs(formula, df=True)\n",
    "    return list(df.sort_values(by='G')['formula'])[0]"
   ]
  },
  {
   "cell_type": "code",
   "execution_count": 27,
   "metadata": {},
   "outputs": [
    {
     "data": {
      "text/plain": [
       "'HNO3(aq)'"
      ]
     },
     "execution_count": 27,
     "metadata": {},
     "output_type": "execute_result"
    }
   ],
   "source": [
    "state_predictor('HNO3')"
   ]
  },
  {
   "cell_type": "code",
   "execution_count": 28,
   "metadata": {},
   "outputs": [],
   "source": [
    "def Z_unique(substances):\n",
    "    '''\n",
    "    Returns a set representing unique atomic numbers present within a list of\n",
    "    chemical formulas.\n",
    "    \n",
    "    --Parameters--\n",
    "    substances:     iterable (str)\n",
    "        any iterable containing strings with valid chemical formulas\n",
    "    \n",
    "    --Output--\n",
    "    set (int)\n",
    "        atomic numbers of each unique element present in substances\n",
    "        \n",
    "    --Example--\n",
    "    >>> Z_unique(['CH4', 'H2O'])\n",
    "    {1, 6, 8}\n",
    "    '''\n",
    "    if type(substances) == str:\n",
    "        substances = [substances]\n",
    "        \n",
    "    composition = []\n",
    "    for s in substances:\n",
    "        sub = Substance.from_formula(s)\n",
    "        composition += [*sub.composition]\n",
    "    return set(composition)"
   ]
  },
  {
   "cell_type": "code",
   "execution_count": 29,
   "metadata": {},
   "outputs": [
    {
     "data": {
      "text/plain": [
       "['Na', 'H2O']"
      ]
     },
     "execution_count": 29,
     "metadata": {},
     "output_type": "execute_result"
    }
   ],
   "source": [
    "reactants"
   ]
  },
  {
   "cell_type": "code",
   "execution_count": 30,
   "metadata": {},
   "outputs": [
    {
     "data": {
      "text/plain": [
       "{1, 8, 11}"
      ]
     },
     "execution_count": 30,
     "metadata": {},
     "output_type": "execute_result"
    }
   ],
   "source": [
    "Z_unique(reactants)"
   ]
  },
  {
   "cell_type": "code",
   "execution_count": 31,
   "metadata": {},
   "outputs": [],
   "source": [
    "def stoich_filter(substances, df=False, thorough=False):\n",
    "    '''\n",
    "    Returns a masked copy of the stoich dataframe containing elements that\n",
    "    only contain the elements present in substances. \n",
    "    \n",
    "    --Parameters--\n",
    "    substances:     iterable (str)\n",
    "        any iterable containing strings with valid chemical formulas\n",
    "    \n",
    "    --Output--\n",
    "    DataFrame\n",
    "    '''\n",
    "    if type(substances) == str:\n",
    "        substances = [substances]\n",
    "    \n",
    "    stoich_temp = stoich_df.copy()\n",
    "    \n",
    "    # mask to keep the charge and formula columns in final dataframe\n",
    "    z_keep = [0, 'formula'] + list(Z_unique(substances))\n",
    "    \n",
    "    # get all other columns\n",
    "    column_mask = [col for col in stoich_temp.columns if col not in z_keep]\n",
    "    for col in column_mask:\n",
    "        # return the dataframe where these columns are all 0\n",
    "        stoich_temp = stoich_temp[stoich_temp[col] == 0]\n",
    "    \n",
    "    # keep the columns where it's not all zero\n",
    "    stoich_temp = stoich_temp.loc[(stoich_temp.drop(columns=['formula'])!=0).any(axis=1)]\n",
    "    \n",
    "    # return the dataframe with the columns we want to keep\n",
    "    if df:\n",
    "        return stoich_temp[z_keep]\n",
    "    else:\n",
    "        stoich_list = list(stoich_temp['formula'])\n",
    "        if thorough:\n",
    "            return set([f for f in stoich_list if f not in substances])\n",
    "        else:\n",
    "            stoich_list = [formula_state_separator(f) for f in stoich_list]\n",
    "            substances = [formula_state_separator(s) for s in substances]\n",
    "            return set([state_predictor(f) for f in stoich_list if f not in substances])"
   ]
  },
  {
   "cell_type": "code",
   "execution_count": 32,
   "metadata": {},
   "outputs": [
    {
     "data": {
      "text/plain": [
       "{'H(g)',\n",
       " 'H+(aq)',\n",
       " 'H2(g)',\n",
       " 'H2O2(aq)',\n",
       " 'H3O+(aq)',\n",
       " 'HO2-(aq)',\n",
       " 'Na+(aq)',\n",
       " 'Na2O(s)',\n",
       " 'NaOH(aq)',\n",
       " 'O(g)',\n",
       " 'O2(g)',\n",
       " 'O3(g)',\n",
       " 'OH-(aq)',\n",
       " 'e-(aq)'}"
      ]
     },
     "execution_count": 32,
     "metadata": {},
     "output_type": "execute_result"
    }
   ],
   "source": [
    "stoich_filter(reactants)"
   ]
  },
  {
   "cell_type": "code",
   "execution_count": 33,
   "metadata": {},
   "outputs": [],
   "source": [
    "def check_coefficients(reactants, products):\n",
    "    '''\n",
    "    Checks whether a possible reactant/product combination would result in a\n",
    "    valid balanced chemical equation.\n",
    "    \n",
    "    --Parameters--\n",
    "    reactants:      iterable (str)\n",
    "    products:       iterable (str)\n",
    "        any iterable containing strings with valid chemical formulas\n",
    "    \n",
    "    --Output--\n",
    "    bool\n",
    "        \n",
    "    --Examples--\n",
    "    >>> check_coefficients(['CH4', 'H2O'], ['CO', 'H2'])\n",
    "    True\n",
    "    \n",
    "    >>> check_coefficients(['CH4', 'H2O'], ['CO2', 'H2O2'])\n",
    "    False\n",
    "    \n",
    "    >>> check_coefficients(['CH4', 'H2O'], ['NaOH'])\n",
    "    False\n",
    "    '''\n",
    "    try:\n",
    "        balance = balance_stoichiometry(reactants, products)\n",
    "        \n",
    "        # list all the coefficients out\n",
    "        reac_coef = list(balance[0].values()) + list(balance[1].values())\n",
    "        \n",
    "        # rounds to zero if any of the coefficients are less than 1\n",
    "        is_positive = np.floor((np.array(reac_coef) >= 1).mean()).astype(bool)\n",
    "        \n",
    "        # rounds to zero if any of the coefficients are sympy relational class\n",
    "        is_definite = np.floor(np.array([isinstance(i, sympy.numbers.Number) for i in reac_coef])\\\n",
    "                               .mean()).astype(bool)\n",
    "        \n",
    "        return is_positive and is_definite\n",
    "    except:\n",
    "        return False   "
   ]
  },
  {
   "cell_type": "code",
   "execution_count": 34,
   "metadata": {},
   "outputs": [
    {
     "data": {
      "text/plain": [
       "False"
      ]
     },
     "execution_count": 34,
     "metadata": {},
     "output_type": "execute_result"
    }
   ],
   "source": [
    "check_coefficients(reactants, ['Na2O', 'H2O2'])"
   ]
  },
  {
   "cell_type": "code",
   "execution_count": 35,
   "metadata": {},
   "outputs": [],
   "source": [
    "# https://stackoverflow.com/questions/6618515/\n",
    "\n",
    "def possibility_reducer(possibilities, length=12, offset=0):\n",
    "    '''\n",
    "    Limits the list of possible substances to a specified length based on \n",
    "    free energy 'density'\n",
    "    \n",
    "    --Parameters--\n",
    "    possibilities:      iterable (str)\n",
    "        any iterable containing strings with valid chemical formulas\n",
    "    \n",
    "    --Output--\n",
    "    tuple (str)\n",
    "        \n",
    "    --Examples--\n",
    "\n",
    "    '''\n",
    "    # just in case. might be redundant\n",
    "    possibilities = np.array(list(possibilities))\n",
    "    energies = np.array([min(get_gibbs(s)) / Substance.from_formula(s).mass for s in possibilities])\n",
    "    indices = energies.argsort()\n",
    "    sorted_possibilities = possibilities[indices]\n",
    "    \n",
    "    max_length = min(len(sorted_possibilities), (length + offset))\n",
    "    \n",
    "    return sorted_possibilities[offset:(max_length)]"
   ]
  },
  {
   "cell_type": "code",
   "execution_count": 49,
   "metadata": {},
   "outputs": [],
   "source": [
    "def standard_gibbs_free_energy(reactants, products, energy='G', kJ=True):\n",
    "    '''\n",
    "    Returns the overall delG of a reaction under standard conditions. \n",
    "    \n",
    "    --Parameters--\n",
    "    reactants:      iterable (str)\n",
    "    products:       iterable (str)\n",
    "    \n",
    "    --Output--\n",
    "    float\n",
    "        \n",
    "    --Examples--\n",
    "    >>> standard_gibbs_free_energy(['Na', 'H2O'], ['NaH', 'O2'])\n",
    "    340.36\n",
    "    '''\n",
    "    products = [state_predictor(p) for p in products]\n",
    "    reactants = [state_predictor(r) for r in reactants]\n",
    "    equation = balance_stoichiometry(reactants, products)\n",
    "    # each side is a formula, coefficient tuple\n",
    "    prod = list(equation[1].items())\n",
    "    reac = list(equation[0].items())\n",
    "    delG = 0\n",
    "    # s[0] is the formula, with or without state\n",
    "    # s[1] is the coefficient\n",
    "\n",
    "    def gibbs_sum(side):\n",
    "        interim_delG = 0\n",
    "        \n",
    "        for s in side:\n",
    "            interim_delG += get_gibbs(s[0], energy) * s[1]\n",
    "        return interim_delG\n",
    "\n",
    "    delG = gibbs_sum(prod) - gibbs_sum(reac)\n",
    "    return delG / (1 + 999*kJ)"
   ]
  },
  {
   "cell_type": "code",
   "execution_count": 37,
   "metadata": {},
   "outputs": [
    {
     "data": {
      "text/latex": [
       "$\\displaystyle -361.6032$"
      ],
      "text/plain": [
       "-361.603200000000"
      ]
     },
     "execution_count": 37,
     "metadata": {},
     "output_type": "execute_result"
    }
   ],
   "source": [
    "standard_gibbs_free_energy(['Na', 'H2O'], ['NaOH', 'H2'])"
   ]
  },
  {
   "cell_type": "code",
   "execution_count": 72,
   "metadata": {},
   "outputs": [],
   "source": [
    "def reaction_predictor(reactants, max_length=12):\n",
    "    '''\n",
    "    Returns the balanced chemical equation of the predicted reaction based on\n",
    "    minimizing overall delG values.\n",
    "    \n",
    "    --Parameters--\n",
    "    reactants:      iterable(str)\n",
    "        any iterable containing strings with valid chemical formulas\n",
    "    \n",
    "    --Output--\n",
    "    chempy.chemistry.Reaction\n",
    "        \n",
    "    --Examples--\n",
    "    >>> reaction_predictor(['Al', 'O2'])\n",
    "    4 Al + 3 O2 → 2 Al2O3\n",
    "    '''\n",
    "    reactants = [state_predictor(r) for r in reactants]\n",
    "    possibilities = stoich_filter(reactants)\n",
    "    print('scoping possibilities...')\n",
    "    if len(possibilities) > max_length:\n",
    "        possibilities = np.array(list(possibilities))\n",
    "        energies = np.array([get_gibbs(s, 'G') / get_gibbs(s, 'mass') ** 3 for s in possibilities])\n",
    "        indices = energies.argsort()\n",
    "        sorted_possibilities = possibilities[indices]\n",
    "        possibilities = sorted_possibilities[:(max_length)]\n",
    "\n",
    "    print('  optimizing combinations...')\n",
    "    combinations = []\n",
    "    print(possibilities)\n",
    "    comb_length = min(6, len(reactants) + 3)\n",
    "    for i in range(1, comb_length):\n",
    "        combinations += list(itertools.combinations(possibilities, i))\n",
    "    combinations = [c for c in combinations if Z_unique(c) == Z_unique(reactants)]\n",
    "    print(combinations)\n",
    "\n",
    "    print('    deriving equations...')\n",
    "    good_combinations = []\n",
    "    for i, comb in enumerate(combinations):\n",
    "        if check_coefficients(reactants, comb):\n",
    "            good_combinations.append(comb)\n",
    "\n",
    "    print('      calculating energies...')\n",
    "    energies = []\n",
    "    for gc in good_combinations:\n",
    "        energies.append(standard_gibbs_free_energy(reactants, gc))\n",
    "\n",
    "    best_energy = min(energies)\n",
    "    best_index = energies.index(best_energy)\n",
    "    best_reaction = Reaction(*balance_stoichiometry(\n",
    "        reactants, good_combinations[best_index]))\n",
    "\n",
    "    print(best_reaction)\n",
    "    print(f'delG = {best_energy:.4} kJ mol-1')\n",
    "\n",
    "    return best_reaction"
   ]
  },
  {
   "cell_type": "code",
   "execution_count": 39,
   "metadata": {},
   "outputs": [],
   "source": [
    "#     possibilities = np.array(list(possibilities))\n",
    "#     energies = np.array([min(get_gibbs(s)) / Substance.from_formula(s).mass for s in possibilities])\n",
    "#     indices = energies.argsort()\n",
    "#     sorted_possibilities = possibilities[indices]\n",
    "    \n",
    "#     max_length = min(len(sorted_possibilities), (length + offset))\n",
    "    \n",
    "#     return sorted_possibilities[offset:(max_length)]"
   ]
  },
  {
   "cell_type": "code",
   "execution_count": 69,
   "metadata": {},
   "outputs": [
    {
     "name": "stdout",
     "output_type": "stream",
     "text": [
      "scoping possibilities...\n",
      "  optimizing combinations...\n",
      "['H3O+(aq)' 'OH-(aq)' 'Na+(aq)' 'NaOH(aq)' 'H2O2(aq)' 'Na2O(s)' 'HO2-(aq)'\n",
      " 'H+(aq)' 'H2(g)' 'e-(aq)' 'O2(g)' 'O3(g)']\n",
      "[('NaOH(aq)',), ('NaOH(aq)', 'H2O2(aq)'), ('NaOH(aq)', 'Na2O(s)'), ('NaOH(aq)', 'H2(g)'), ('NaOH(aq)', 'O2(g)'), ('NaOH(aq)', 'O3(g)'), ('H2O2(aq)', 'Na2O(s)'), ('Na2O(s)', 'H2(g)'), ('NaOH(aq)', 'H2O2(aq)', 'Na2O(s)'), ('NaOH(aq)', 'H2O2(aq)', 'H2(g)'), ('NaOH(aq)', 'H2O2(aq)', 'O2(g)'), ('NaOH(aq)', 'H2O2(aq)', 'O3(g)'), ('NaOH(aq)', 'Na2O(s)', 'H2(g)'), ('NaOH(aq)', 'Na2O(s)', 'O2(g)'), ('NaOH(aq)', 'Na2O(s)', 'O3(g)'), ('NaOH(aq)', 'H2(g)', 'O2(g)'), ('NaOH(aq)', 'H2(g)', 'O3(g)'), ('NaOH(aq)', 'O2(g)', 'O3(g)'), ('H2O2(aq)', 'Na2O(s)', 'H2(g)'), ('H2O2(aq)', 'Na2O(s)', 'O2(g)'), ('H2O2(aq)', 'Na2O(s)', 'O3(g)'), ('Na2O(s)', 'H2(g)', 'O2(g)'), ('Na2O(s)', 'H2(g)', 'O3(g)'), ('NaOH(aq)', 'H2O2(aq)', 'Na2O(s)', 'H2(g)'), ('NaOH(aq)', 'H2O2(aq)', 'Na2O(s)', 'O2(g)'), ('NaOH(aq)', 'H2O2(aq)', 'Na2O(s)', 'O3(g)'), ('NaOH(aq)', 'H2O2(aq)', 'H2(g)', 'O2(g)'), ('NaOH(aq)', 'H2O2(aq)', 'H2(g)', 'O3(g)'), ('NaOH(aq)', 'H2O2(aq)', 'O2(g)', 'O3(g)'), ('NaOH(aq)', 'Na2O(s)', 'H2(g)', 'O2(g)'), ('NaOH(aq)', 'Na2O(s)', 'H2(g)', 'O3(g)'), ('NaOH(aq)', 'Na2O(s)', 'O2(g)', 'O3(g)'), ('NaOH(aq)', 'H2(g)', 'O2(g)', 'O3(g)'), ('H2O2(aq)', 'Na2O(s)', 'H2(g)', 'O2(g)'), ('H2O2(aq)', 'Na2O(s)', 'H2(g)', 'O3(g)'), ('H2O2(aq)', 'Na2O(s)', 'O2(g)', 'O3(g)'), ('Na2O(s)', 'H2(g)', 'O2(g)', 'O3(g)')]\n",
      "    deriving equations...\n",
      "      calculating energies...\n",
      "2 Na(s) + 2 H2O(l) -> 2 NaOH(aq) + H2(g)\n",
      "delG = -361.6 kJ mol-1\n"
     ]
    },
    {
     "data": {
      "text/html": [
       "2 Na(s) + 2 H2O(l) &rarr; 2 NaOH(aq) + H2(g)"
      ],
      "text/plain": [
       "<chempy.chemistry.Reaction at 0x1187c7780>"
      ]
     },
     "execution_count": 69,
     "metadata": {},
     "output_type": "execute_result"
    }
   ],
   "source": [
    "reaction_predictor(['Na', 'H2O'])"
   ]
  },
  {
   "cell_type": "code",
   "execution_count": 67,
   "metadata": {},
   "outputs": [
    {
     "name": "stdout",
     "output_type": "stream",
     "text": [
      "scoping possibilities...\n",
      "  optimizing combinations...\n",
      "{'Al+3(aq)', 'Al2O3(s)', 'O3(g)', 'O(g)', 'e-(aq)'}\n",
      "[('Al2O3(s)',), ('Al2O3(s)', 'O3(g)'), ('Al2O3(s)', 'O(g)'), ('Al2O3(s)', 'O3(g)', 'O(g)')]\n",
      "    deriving equations...\n",
      "      calculating energies...\n",
      "4 Al(s) + 3 O2(g) -> 2 Al2O3(s)\n",
      "delG = -3165 kJ mol-1\n"
     ]
    },
    {
     "data": {
      "text/html": [
       "4 Al(s) + 3 O2(g) &rarr; 2 Al2O3(s)"
      ],
      "text/plain": [
       "<chempy.chemistry.Reaction at 0x11817aa20>"
      ]
     },
     "execution_count": 67,
     "metadata": {},
     "output_type": "execute_result"
    }
   ],
   "source": [
    "reaction_predictor(['Al', 'O2'])"
   ]
  },
  {
   "cell_type": "code",
   "execution_count": 68,
   "metadata": {},
   "outputs": [
    {
     "name": "stdout",
     "output_type": "stream",
     "text": [
      "scoping possibilities...\n",
      "  optimizing combinations...\n",
      "['H2O(l)' 'H3O+(aq)' 'OH-(aq)' 'Na+(aq)' 'H2O2(aq)' 'NaCl(aq)' 'Cl-(aq)'\n",
      " 'Na2O(s)' 'HO2-(aq)' 'HClO(aq)' 'ClO-(aq)' 'ClO-4(aq)']\n",
      "[('H2O(l)', 'NaCl(aq)'), ('H2O2(aq)', 'NaCl(aq)'), ('NaCl(aq)', 'HClO(aq)'), ('Na2O(s)', 'HClO(aq)'), ('H2O(l)', 'H2O2(aq)', 'NaCl(aq)'), ('H2O(l)', 'NaCl(aq)', 'Na2O(s)'), ('H2O(l)', 'NaCl(aq)', 'HClO(aq)'), ('H2O(l)', 'Na2O(s)', 'HClO(aq)'), ('H2O2(aq)', 'NaCl(aq)', 'Na2O(s)'), ('H2O2(aq)', 'NaCl(aq)', 'HClO(aq)'), ('H2O2(aq)', 'Na2O(s)', 'HClO(aq)'), ('NaCl(aq)', 'Na2O(s)', 'HClO(aq)'), ('H2O(l)', 'H2O2(aq)', 'NaCl(aq)', 'Na2O(s)'), ('H2O(l)', 'H2O2(aq)', 'NaCl(aq)', 'HClO(aq)'), ('H2O(l)', 'H2O2(aq)', 'Na2O(s)', 'HClO(aq)'), ('H2O(l)', 'NaCl(aq)', 'Na2O(s)', 'HClO(aq)'), ('H2O2(aq)', 'NaCl(aq)', 'Na2O(s)', 'HClO(aq)')]\n",
      "    deriving equations...\n",
      "      calculating energies...\n",
      "HCl(aq) + NaOH(s) -> H2O(l) + NaCl(aq)\n",
      "delG = -119.1 kJ mol-1\n"
     ]
    },
    {
     "data": {
      "text/html": [
       "HCl(aq) + NaOH(s) &rarr; H2O(l) + NaCl(aq)"
      ],
      "text/plain": [
       "<chempy.chemistry.Reaction at 0x119ef4048>"
      ]
     },
     "execution_count": 68,
     "metadata": {},
     "output_type": "execute_result"
    }
   ],
   "source": [
    "reaction_predictor(['HCl(aq)', 'NaOH(s)'])"
   ]
  },
  {
   "cell_type": "code",
   "execution_count": 64,
   "metadata": {},
   "outputs": [
    {
     "name": "stdout",
     "output_type": "stream",
     "text": [
      "scoping possibilities...\n",
      "  optimizing combinations...\n",
      "['H2O(l)' 'HCO-3(aq)' 'H3O+(aq)' 'OH-(aq)' 'HC2O-4(aq)' 'CO2(g)' 'CH4(g)'\n",
      " 'H2CO2(aq)' 'HCOOH(aq)' 'CO(g)' 'COOH-(aq)' 'HCO2-(aq)']\n",
      "[('H2CO2(aq)',), ('HCOOH(aq)',), ('H2O(l)', 'CO2(g)'), ('H2O(l)', 'CH4(g)'), ('H2O(l)', 'H2CO2(aq)'), ('H2O(l)', 'HCOOH(aq)'), ('H2O(l)', 'CO(g)'), ('CO2(g)', 'CH4(g)'), ('CO2(g)', 'H2CO2(aq)'), ('CO2(g)', 'HCOOH(aq)'), ('CH4(g)', 'H2CO2(aq)'), ('CH4(g)', 'HCOOH(aq)'), ('CH4(g)', 'CO(g)'), ('H2CO2(aq)', 'HCOOH(aq)'), ('H2CO2(aq)', 'CO(g)'), ('HCOOH(aq)', 'CO(g)'), ('H2O(l)', 'CO2(g)', 'CH4(g)'), ('H2O(l)', 'CO2(g)', 'H2CO2(aq)'), ('H2O(l)', 'CO2(g)', 'HCOOH(aq)'), ('H2O(l)', 'CO2(g)', 'CO(g)'), ('H2O(l)', 'CH4(g)', 'H2CO2(aq)'), ('H2O(l)', 'CH4(g)', 'HCOOH(aq)'), ('H2O(l)', 'CH4(g)', 'CO(g)'), ('H2O(l)', 'H2CO2(aq)', 'HCOOH(aq)'), ('H2O(l)', 'H2CO2(aq)', 'CO(g)'), ('H2O(l)', 'HCOOH(aq)', 'CO(g)'), ('CO2(g)', 'CH4(g)', 'H2CO2(aq)'), ('CO2(g)', 'CH4(g)', 'HCOOH(aq)'), ('CO2(g)', 'CH4(g)', 'CO(g)'), ('CO2(g)', 'H2CO2(aq)', 'HCOOH(aq)'), ('CO2(g)', 'H2CO2(aq)', 'CO(g)'), ('CO2(g)', 'HCOOH(aq)', 'CO(g)'), ('CH4(g)', 'H2CO2(aq)', 'HCOOH(aq)'), ('CH4(g)', 'H2CO2(aq)', 'CO(g)'), ('CH4(g)', 'HCOOH(aq)', 'CO(g)'), ('H2CO2(aq)', 'HCOOH(aq)', 'CO(g)')]\n",
      "    deriving equations...\n",
      "      calculating energies...\n",
      "H2CO3(aq) -> H2O(l) + CO2(g)\n",
      "delG = -8.460 kJ mol-1\n"
     ]
    },
    {
     "data": {
      "text/html": [
       "H2CO3(aq) &rarr; H2O(l) + CO2(g)"
      ],
      "text/plain": [
       "<chempy.chemistry.Reaction at 0x118243198>"
      ]
     },
     "execution_count": 64,
     "metadata": {},
     "output_type": "execute_result"
    }
   ],
   "source": [
    "reaction_predictor(['H2CO3'])"
   ]
  },
  {
   "cell_type": "code",
   "execution_count": 66,
   "metadata": {},
   "outputs": [
    {
     "name": "stdout",
     "output_type": "stream",
     "text": [
      "scoping possibilities...\n",
      "  optimizing combinations...\n",
      "{'e-(aq)', 'Cu(s)', 'Cu+(aq)', 'Zn+2(aq)'}\n",
      "[('Cu(s)', 'Zn+2(aq)'), ('Cu+(aq)', 'Zn+2(aq)'), ('e-(aq)', 'Cu(s)', 'Zn+2(aq)'), ('e-(aq)', 'Cu+(aq)', 'Zn+2(aq)'), ('Cu(s)', 'Cu+(aq)', 'Zn+2(aq)'), ('e-(aq)', 'Cu(s)', 'Cu+(aq)', 'Zn+2(aq)')]\n",
      "    deriving equations...\n",
      "      calculating energies...\n",
      "Cu+2(aq) + Zn(s) -> Cu(s) + Zn+2(aq)\n",
      "delG = -212.6 kJ mol-1\n"
     ]
    },
    {
     "data": {
      "text/html": [
       "Cu+2(aq) + Zn(s) &rarr; Cu(s) + Zn+2(aq)"
      ],
      "text/plain": [
       "<chempy.chemistry.Reaction at 0x11794acf8>"
      ]
     },
     "execution_count": 66,
     "metadata": {},
     "output_type": "execute_result"
    }
   ],
   "source": [
    "reaction_predictor(['Cu+2(aq)', 'Zn(s)'])"
   ]
  },
  {
   "cell_type": "code",
   "execution_count": 73,
   "metadata": {},
   "outputs": [
    {
     "name": "stdout",
     "output_type": "stream",
     "text": [
      "scoping possibilities...\n",
      "  optimizing combinations...\n",
      "['H2O(l)' 'H3O+(aq)' 'OH-(aq)' 'HCO-3(aq)' 'HC2O-4(aq)' 'CO(g)'\n",
      " 'CH3OH(aq)' 'CO2(g)' 'HCHO(aq)' 'COOH-(aq)' 'HCO2-(aq)' 'H2CO2(aq)']\n",
      "[('CH3OH(aq)',), ('HCHO(aq)',), ('H2CO2(aq)',), ('H2O(l)', 'CO(g)'), ('H2O(l)', 'CH3OH(aq)'), ('H2O(l)', 'CO2(g)'), ('H2O(l)', 'HCHO(aq)'), ('H2O(l)', 'H2CO2(aq)'), ('CO(g)', 'CH3OH(aq)'), ('CO(g)', 'HCHO(aq)'), ('CO(g)', 'H2CO2(aq)'), ('CH3OH(aq)', 'CO2(g)'), ('CH3OH(aq)', 'HCHO(aq)'), ('CH3OH(aq)', 'H2CO2(aq)'), ('CO2(g)', 'HCHO(aq)'), ('CO2(g)', 'H2CO2(aq)'), ('HCHO(aq)', 'H2CO2(aq)'), ('H2O(l)', 'CO(g)', 'CH3OH(aq)'), ('H2O(l)', 'CO(g)', 'CO2(g)'), ('H2O(l)', 'CO(g)', 'HCHO(aq)'), ('H2O(l)', 'CO(g)', 'H2CO2(aq)'), ('H2O(l)', 'CH3OH(aq)', 'CO2(g)'), ('H2O(l)', 'CH3OH(aq)', 'HCHO(aq)'), ('H2O(l)', 'CH3OH(aq)', 'H2CO2(aq)'), ('H2O(l)', 'CO2(g)', 'HCHO(aq)'), ('H2O(l)', 'CO2(g)', 'H2CO2(aq)'), ('H2O(l)', 'HCHO(aq)', 'H2CO2(aq)'), ('CO(g)', 'CH3OH(aq)', 'CO2(g)'), ('CO(g)', 'CH3OH(aq)', 'HCHO(aq)'), ('CO(g)', 'CH3OH(aq)', 'H2CO2(aq)'), ('CO(g)', 'CO2(g)', 'HCHO(aq)'), ('CO(g)', 'CO2(g)', 'H2CO2(aq)'), ('CO(g)', 'HCHO(aq)', 'H2CO2(aq)'), ('CH3OH(aq)', 'CO2(g)', 'HCHO(aq)'), ('CH3OH(aq)', 'CO2(g)', 'H2CO2(aq)'), ('CH3OH(aq)', 'HCHO(aq)', 'H2CO2(aq)'), ('CO2(g)', 'HCHO(aq)', 'H2CO2(aq)'), ('H2O(l)', 'CO(g)', 'CH3OH(aq)', 'CO2(g)'), ('H2O(l)', 'CO(g)', 'CH3OH(aq)', 'HCHO(aq)'), ('H2O(l)', 'CO(g)', 'CH3OH(aq)', 'H2CO2(aq)'), ('H2O(l)', 'CO(g)', 'CO2(g)', 'HCHO(aq)'), ('H2O(l)', 'CO(g)', 'CO2(g)', 'H2CO2(aq)'), ('H2O(l)', 'CO(g)', 'HCHO(aq)', 'H2CO2(aq)'), ('H2O(l)', 'CH3OH(aq)', 'CO2(g)', 'HCHO(aq)'), ('H2O(l)', 'CH3OH(aq)', 'CO2(g)', 'H2CO2(aq)'), ('H2O(l)', 'CH3OH(aq)', 'HCHO(aq)', 'H2CO2(aq)'), ('H2O(l)', 'CO2(g)', 'HCHO(aq)', 'H2CO2(aq)'), ('CO(g)', 'CH3OH(aq)', 'CO2(g)', 'HCHO(aq)'), ('CO(g)', 'CH3OH(aq)', 'CO2(g)', 'H2CO2(aq)'), ('CO(g)', 'CH3OH(aq)', 'HCHO(aq)', 'H2CO2(aq)'), ('CO(g)', 'CO2(g)', 'HCHO(aq)', 'H2CO2(aq)'), ('CH3OH(aq)', 'CO2(g)', 'HCHO(aq)', 'H2CO2(aq)')]\n",
      "    deriving equations...\n",
      "      calculating energies...\n",
      "2 CH4(g) + 3 O2(g) -> 4 H2O(l) + 2 CO(g)\n",
      "delG = -1122 kJ mol-1\n"
     ]
    },
    {
     "data": {
      "text/html": [
       "2 CH4(g) + 3 O2(g) &rarr; 4 H2O(l) + 2 CO(g)"
      ],
      "text/plain": [
       "<chempy.chemistry.Reaction at 0x1198ef208>"
      ]
     },
     "execution_count": 73,
     "metadata": {},
     "output_type": "execute_result"
    }
   ],
   "source": [
    "reaction_predictor(['CH4', 'O2'])"
   ]
  },
  {
   "cell_type": "code",
   "execution_count": null,
   "metadata": {},
   "outputs": [],
   "source": []
  }
 ],
 "metadata": {
  "file_extension": ".py",
  "kernelspec": {
   "display_name": "Python 3",
   "language": "python",
   "name": "python3"
  },
  "language_info": {
   "codemirror_mode": {
    "name": "ipython",
    "version": 3
   },
   "file_extension": ".py",
   "mimetype": "text/x-python",
   "name": "python",
   "nbconvert_exporter": "python",
   "pygments_lexer": "ipython3",
   "version": "3.7.3"
  },
  "mimetype": "text/x-python",
  "name": "python",
  "npconvert_exporter": "python",
  "pygments_lexer": "ipython3",
  "version": 3
 },
 "nbformat": 4,
 "nbformat_minor": 2
}
