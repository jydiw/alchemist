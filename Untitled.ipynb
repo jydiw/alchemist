{
 "cells": [
  {
   "cell_type": "code",
   "execution_count": 1,
   "metadata": {},
   "outputs": [],
   "source": [
    "from alchemist.tools import formula_from_name, reaction_predictor, get_gibbs"
   ]
  },
  {
   "cell_type": "code",
   "execution_count": 2,
   "metadata": {},
   "outputs": [],
   "source": [
    "import chemdataextractor as cde"
   ]
  },
  {
   "cell_type": "code",
   "execution_count": 3,
   "metadata": {},
   "outputs": [
    {
     "data": {
      "text/plain": [
       "-50750.0"
      ]
     },
     "execution_count": 3,
     "metadata": {},
     "output_type": "execute_result"
    }
   ],
   "source": [
    "get_gibbs('CH4(g)')"
   ]
  },
  {
   "cell_type": "code",
   "execution_count": 4,
   "metadata": {},
   "outputs": [],
   "source": [
    "text = 'Na + H2O'"
   ]
  },
  {
   "cell_type": "code",
   "execution_count": 5,
   "metadata": {},
   "outputs": [],
   "source": [
    "processed = cde.doc.Paragraph(text)"
   ]
  },
  {
   "cell_type": "code",
   "execution_count": 6,
   "metadata": {},
   "outputs": [
    {
     "data": {
      "text/html": [
       "<p class=\"cde-paragraph\">Na + H2O</p>"
      ],
      "text/plain": [
       "Paragraph(id=None, references=[], text='Na + H2O')"
      ]
     },
     "execution_count": 6,
     "metadata": {},
     "output_type": "execute_result"
    }
   ],
   "source": [
    "processed"
   ]
  },
  {
   "cell_type": "code",
   "execution_count": 7,
   "metadata": {},
   "outputs": [
    {
     "data": {
      "text/plain": [
       "['Na', 'H2O']"
      ]
     },
     "execution_count": 7,
     "metadata": {},
     "output_type": "execute_result"
    }
   ],
   "source": [
    "names = [cem.text for cem in processed.cems]\n",
    "names"
   ]
  },
  {
   "cell_type": "code",
   "execution_count": 8,
   "metadata": {},
   "outputs": [
    {
     "data": {
      "text/plain": [
       "['Na', 'H2O']"
      ]
     },
     "execution_count": 8,
     "metadata": {},
     "output_type": "execute_result"
    }
   ],
   "source": [
    "formulas = [formula_from_name(n) for n in names]\n",
    "formulas"
   ]
  },
  {
   "cell_type": "code",
   "execution_count": 9,
   "metadata": {},
   "outputs": [
    {
     "name": "stdout",
     "output_type": "stream",
     "text": [
      "scoping possibilities...\n",
      "  optimizing combinations...\n",
      "['H3O+(aq)' 'OH-(aq)' 'Na+(aq)' 'NaOH(aq)' 'H2O2(aq)' 'HO2-(aq)' 'Na2O(s)'\n",
      " 'H+(aq)' 'e-(aq)' 'O2(g)' 'H2(g)' 'O3(g)']\n",
      "[('NaOH(aq)',), ('NaOH(aq)', 'H2O2(aq)'), ('NaOH(aq)', 'Na2O(s)'), ('NaOH(aq)', 'O2(g)'), ('NaOH(aq)', 'H2(g)'), ('NaOH(aq)', 'O3(g)'), ('H2O2(aq)', 'Na2O(s)'), ('Na2O(s)', 'H2(g)'), ('NaOH(aq)', 'H2O2(aq)', 'Na2O(s)'), ('NaOH(aq)', 'H2O2(aq)', 'O2(g)'), ('NaOH(aq)', 'H2O2(aq)', 'H2(g)'), ('NaOH(aq)', 'H2O2(aq)', 'O3(g)'), ('NaOH(aq)', 'Na2O(s)', 'O2(g)'), ('NaOH(aq)', 'Na2O(s)', 'H2(g)'), ('NaOH(aq)', 'Na2O(s)', 'O3(g)'), ('NaOH(aq)', 'O2(g)', 'H2(g)'), ('NaOH(aq)', 'O2(g)', 'O3(g)'), ('NaOH(aq)', 'H2(g)', 'O3(g)'), ('H2O2(aq)', 'Na2O(s)', 'O2(g)'), ('H2O2(aq)', 'Na2O(s)', 'H2(g)'), ('H2O2(aq)', 'Na2O(s)', 'O3(g)'), ('Na2O(s)', 'O2(g)', 'H2(g)'), ('Na2O(s)', 'H2(g)', 'O3(g)'), ('NaOH(aq)', 'H2O2(aq)', 'Na2O(s)', 'O2(g)'), ('NaOH(aq)', 'H2O2(aq)', 'Na2O(s)', 'H2(g)'), ('NaOH(aq)', 'H2O2(aq)', 'Na2O(s)', 'O3(g)'), ('NaOH(aq)', 'H2O2(aq)', 'O2(g)', 'H2(g)'), ('NaOH(aq)', 'H2O2(aq)', 'O2(g)', 'O3(g)'), ('NaOH(aq)', 'H2O2(aq)', 'H2(g)', 'O3(g)'), ('NaOH(aq)', 'Na2O(s)', 'O2(g)', 'H2(g)'), ('NaOH(aq)', 'Na2O(s)', 'O2(g)', 'O3(g)'), ('NaOH(aq)', 'Na2O(s)', 'H2(g)', 'O3(g)'), ('NaOH(aq)', 'O2(g)', 'H2(g)', 'O3(g)'), ('H2O2(aq)', 'Na2O(s)', 'O2(g)', 'H2(g)'), ('H2O2(aq)', 'Na2O(s)', 'O2(g)', 'O3(g)'), ('H2O2(aq)', 'Na2O(s)', 'H2(g)', 'O3(g)'), ('Na2O(s)', 'O2(g)', 'H2(g)', 'O3(g)')]\n",
      "    deriving equations...\n",
      "      calculating energies...\n",
      "2 Na(s) + 2 H2O(l) -> 2 NaOH(aq) + H2(g)\n",
      "delG = -361.6 kJ mol-1\n"
     ]
    }
   ],
   "source": [
    "reaction = reaction_predictor(formulas)"
   ]
  },
  {
   "cell_type": "code",
   "execution_count": null,
   "metadata": {},
   "outputs": [],
   "source": []
  },
  {
   "cell_type": "code",
   "execution_count": null,
   "metadata": {},
   "outputs": [],
   "source": []
  }
 ],
 "metadata": {
  "kernelspec": {
   "display_name": "Python 3",
   "language": "python",
   "name": "python3"
  },
  "language_info": {
   "codemirror_mode": {
    "name": "ipython",
    "version": 3
   },
   "file_extension": ".py",
   "mimetype": "text/x-python",
   "name": "python",
   "nbconvert_exporter": "python",
   "pygments_lexer": "ipython3",
   "version": "3.7.3"
  }
 },
 "nbformat": 4,
 "nbformat_minor": 2
}
